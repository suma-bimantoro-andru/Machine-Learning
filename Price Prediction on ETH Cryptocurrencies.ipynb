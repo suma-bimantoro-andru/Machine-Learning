{
  "nbformat": 4,
  "nbformat_minor": 0,
  "metadata": {
    "colab": {
      "provenance": [],
      "collapsed_sections": [],
      "toc_visible": true
    },
    "kernelspec": {
      "name": "python3",
      "display_name": "Python 3"
    },
    "language_info": {
      "name": "python"
    }
  },
  "cells": [
    {
      "cell_type": "markdown",
      "source": [
        "# 1 - Perkenalan"
      ],
      "metadata": {
        "id": "6z-q0uCx-Nzp"
      }
    },
    {
      "cell_type": "markdown",
      "source": [
        "Nama:Suma Bimantoro Andru\n",
        "\n",
        "Batch:FTDS-015\n",
        "\n",
        "Dataset: Ethereum Cryptocurrency Historical Data 09.2022\n",
        "\n",
        "Objective:<b>Membuat model prediksi harga close</b>"
      ],
      "metadata": {
        "id": "-QF_6wCu-Rmb"
      }
    },
    {
      "cell_type": "markdown",
      "source": [
        "# 2 - Import Libraries"
      ],
      "metadata": {
        "id": "JSCkINAH_XDo"
      }
    },
    {
      "cell_type": "code",
      "execution_count": 43,
      "metadata": {
        "id": "SjWU9REY9Wlu"
      },
      "outputs": [],
      "source": [
        "# Import Libraries\n",
        "\n",
        "import pandas as pd\n",
        "import numpy as np\n",
        "import matplotlib.pyplot as plt\n",
        "import seaborn as sns\n",
        "from sklearn.model_selection import train_test_split\n",
        "from sklearn.linear_model import LinearRegression\n",
        "from sklearn.preprocessing import StandardScaler\n",
        "from sklearn.preprocessing import OneHotEncoder\n",
        "from sklearn.preprocessing import PolynomialFeatures\n",
        "from sklearn.pipeline import make_pipeline\n",
        "from sklearn.metrics import mean_squared_error, mean_absolute_error\n",
        "from sklearn.svm import SVR\n",
        "from sklearn.preprocessing import MinMaxScaler\n",
        "from sklearn.linear_model import LogisticRegression\n",
        "from sklearn import preprocessing\n",
        "from sklearn.tree import DecisionTreeClassifier\n",
        "from sklearn.ensemble import RandomForestRegressor\n",
        "from sklearn.ensemble import RandomForestClassifier\n",
        "from sklearn.metrics import accuracy_score,classification_report,ConfusionMatrixDisplay,confusion_matrix\n",
        "from sklearn.svm import SVC\n",
        "from sklearn.ensemble import GradientBoostingClassifier\n",
        "from sklearn.neighbors import KNeighborsClassifier\n",
        "from sklearn.naive_bayes import GaussianNB\n",
        "from sklearn.model_selection import cross_val_score\n",
        "from sklearn.model_selection import GridSearchCV\n",
        "from sklearn.linear_model import Lasso\n",
        "from sklearn.linear_model import Ridge\n",
        "from sklearn.linear_model import LinearRegression\n",
        "from sklearn.pipeline import Pipeline\n",
        "from sklearn.compose import ColumnTransformer\n",
        "from sklearn.metrics import mean_absolute_error,mean_squared_error,r2_score\n"
      ]
    },
    {
      "cell_type": "markdown",
      "source": [
        "# 3 - Data Loading"
      ],
      "metadata": {
        "id": "CblzGn1h_ut1"
      }
    },
    {
      "cell_type": "code",
      "source": [
        "#load dataset\n",
        "from google.colab import drive\n",
        "drive.mount('/content/drive')"
      ],
      "metadata": {
        "colab": {
          "base_uri": "https://localhost:8080/"
        },
        "id": "pbM-ee3F_Xv-",
        "outputId": "0f2aea9c-0cea-4268-f5fe-1fe43c1f1fca"
      },
      "execution_count": 44,
      "outputs": [
        {
          "output_type": "stream",
          "name": "stdout",
          "text": [
            "Drive already mounted at /content/drive; to attempt to forcibly remount, call drive.mount(\"/content/drive\", force_remount=True).\n"
          ]
        }
      ]
    },
    {
      "cell_type": "code",
      "source": [
        "# Load Dataset\n",
        "\n",
        "data = pd.read_csv('/content/drive/MyDrive/Colab Notebooks/phase1/Milestone2/dataset/eth-usdt.csv')"
      ],
      "metadata": {
        "id": "hzPAz1jLAkus"
      },
      "execution_count": 45,
      "outputs": []
    },
    {
      "cell_type": "code",
      "source": [
        "#Tampilkan Head\n",
        "data.head(3)"
      ],
      "metadata": {
        "colab": {
          "base_uri": "https://localhost:8080/",
          "height": 294
        },
        "id": "I4kXSflBA8v0",
        "outputId": "e96ae1c8-0ec1-4be1-d688-81ed6a9f3968"
      },
      "execution_count": 46,
      "outputs": [
        {
          "output_type": "execute_result",
          "data": {
            "text/plain": [
              "                       Open Time    Open    High     Low   Close      Volume  \\\n",
              "0  2018-07-30 00:00:00.000000000  466.40  466.96  459.33  462.17  7243.89422   \n",
              "1  2018-07-30 00:30:00.000000000  462.18  463.73  460.80  463.25  5109.95379   \n",
              "2  2018-07-30 01:00:00.000000000  463.31  465.83  462.54  465.78  4246.39675   \n",
              "\n",
              "                      Close Time  Quote Asset Volume  Number of Trades  \\\n",
              "0  2018-07-30 00:29:59.999000064        3.346752e+06              4374   \n",
              "1  2018-07-30 00:59:59.999000064        2.362062e+06              1985   \n",
              "2  2018-07-30 01:29:59.999000064        1.968973e+06              1758   \n",
              "\n",
              "   TB Base Volume  TB Quote Volume  Ignore  \n",
              "0      2505.43960     1.157332e+06       0  \n",
              "1      3217.78863     1.487773e+06       0  \n",
              "2      2312.34703     1.072244e+06       0  "
            ],
            "text/html": [
              "\n",
              "  <div id=\"df-2d1255c3-a146-44f7-b0ce-047dc4c92225\">\n",
              "    <div class=\"colab-df-container\">\n",
              "      <div>\n",
              "<style scoped>\n",
              "    .dataframe tbody tr th:only-of-type {\n",
              "        vertical-align: middle;\n",
              "    }\n",
              "\n",
              "    .dataframe tbody tr th {\n",
              "        vertical-align: top;\n",
              "    }\n",
              "\n",
              "    .dataframe thead th {\n",
              "        text-align: right;\n",
              "    }\n",
              "</style>\n",
              "<table border=\"1\" class=\"dataframe\">\n",
              "  <thead>\n",
              "    <tr style=\"text-align: right;\">\n",
              "      <th></th>\n",
              "      <th>Open Time</th>\n",
              "      <th>Open</th>\n",
              "      <th>High</th>\n",
              "      <th>Low</th>\n",
              "      <th>Close</th>\n",
              "      <th>Volume</th>\n",
              "      <th>Close Time</th>\n",
              "      <th>Quote Asset Volume</th>\n",
              "      <th>Number of Trades</th>\n",
              "      <th>TB Base Volume</th>\n",
              "      <th>TB Quote Volume</th>\n",
              "      <th>Ignore</th>\n",
              "    </tr>\n",
              "  </thead>\n",
              "  <tbody>\n",
              "    <tr>\n",
              "      <th>0</th>\n",
              "      <td>2018-07-30 00:00:00.000000000</td>\n",
              "      <td>466.40</td>\n",
              "      <td>466.96</td>\n",
              "      <td>459.33</td>\n",
              "      <td>462.17</td>\n",
              "      <td>7243.89422</td>\n",
              "      <td>2018-07-30 00:29:59.999000064</td>\n",
              "      <td>3.346752e+06</td>\n",
              "      <td>4374</td>\n",
              "      <td>2505.43960</td>\n",
              "      <td>1.157332e+06</td>\n",
              "      <td>0</td>\n",
              "    </tr>\n",
              "    <tr>\n",
              "      <th>1</th>\n",
              "      <td>2018-07-30 00:30:00.000000000</td>\n",
              "      <td>462.18</td>\n",
              "      <td>463.73</td>\n",
              "      <td>460.80</td>\n",
              "      <td>463.25</td>\n",
              "      <td>5109.95379</td>\n",
              "      <td>2018-07-30 00:59:59.999000064</td>\n",
              "      <td>2.362062e+06</td>\n",
              "      <td>1985</td>\n",
              "      <td>3217.78863</td>\n",
              "      <td>1.487773e+06</td>\n",
              "      <td>0</td>\n",
              "    </tr>\n",
              "    <tr>\n",
              "      <th>2</th>\n",
              "      <td>2018-07-30 01:00:00.000000000</td>\n",
              "      <td>463.31</td>\n",
              "      <td>465.83</td>\n",
              "      <td>462.54</td>\n",
              "      <td>465.78</td>\n",
              "      <td>4246.39675</td>\n",
              "      <td>2018-07-30 01:29:59.999000064</td>\n",
              "      <td>1.968973e+06</td>\n",
              "      <td>1758</td>\n",
              "      <td>2312.34703</td>\n",
              "      <td>1.072244e+06</td>\n",
              "      <td>0</td>\n",
              "    </tr>\n",
              "  </tbody>\n",
              "</table>\n",
              "</div>\n",
              "      <button class=\"colab-df-convert\" onclick=\"convertToInteractive('df-2d1255c3-a146-44f7-b0ce-047dc4c92225')\"\n",
              "              title=\"Convert this dataframe to an interactive table.\"\n",
              "              style=\"display:none;\">\n",
              "        \n",
              "  <svg xmlns=\"http://www.w3.org/2000/svg\" height=\"24px\"viewBox=\"0 0 24 24\"\n",
              "       width=\"24px\">\n",
              "    <path d=\"M0 0h24v24H0V0z\" fill=\"none\"/>\n",
              "    <path d=\"M18.56 5.44l.94 2.06.94-2.06 2.06-.94-2.06-.94-.94-2.06-.94 2.06-2.06.94zm-11 1L8.5 8.5l.94-2.06 2.06-.94-2.06-.94L8.5 2.5l-.94 2.06-2.06.94zm10 10l.94 2.06.94-2.06 2.06-.94-2.06-.94-.94-2.06-.94 2.06-2.06.94z\"/><path d=\"M17.41 7.96l-1.37-1.37c-.4-.4-.92-.59-1.43-.59-.52 0-1.04.2-1.43.59L10.3 9.45l-7.72 7.72c-.78.78-.78 2.05 0 2.83L4 21.41c.39.39.9.59 1.41.59.51 0 1.02-.2 1.41-.59l7.78-7.78 2.81-2.81c.8-.78.8-2.07 0-2.86zM5.41 20L4 18.59l7.72-7.72 1.47 1.35L5.41 20z\"/>\n",
              "  </svg>\n",
              "      </button>\n",
              "      \n",
              "  <style>\n",
              "    .colab-df-container {\n",
              "      display:flex;\n",
              "      flex-wrap:wrap;\n",
              "      gap: 12px;\n",
              "    }\n",
              "\n",
              "    .colab-df-convert {\n",
              "      background-color: #E8F0FE;\n",
              "      border: none;\n",
              "      border-radius: 50%;\n",
              "      cursor: pointer;\n",
              "      display: none;\n",
              "      fill: #1967D2;\n",
              "      height: 32px;\n",
              "      padding: 0 0 0 0;\n",
              "      width: 32px;\n",
              "    }\n",
              "\n",
              "    .colab-df-convert:hover {\n",
              "      background-color: #E2EBFA;\n",
              "      box-shadow: 0px 1px 2px rgba(60, 64, 67, 0.3), 0px 1px 3px 1px rgba(60, 64, 67, 0.15);\n",
              "      fill: #174EA6;\n",
              "    }\n",
              "\n",
              "    [theme=dark] .colab-df-convert {\n",
              "      background-color: #3B4455;\n",
              "      fill: #D2E3FC;\n",
              "    }\n",
              "\n",
              "    [theme=dark] .colab-df-convert:hover {\n",
              "      background-color: #434B5C;\n",
              "      box-shadow: 0px 1px 3px 1px rgba(0, 0, 0, 0.15);\n",
              "      filter: drop-shadow(0px 1px 2px rgba(0, 0, 0, 0.3));\n",
              "      fill: #FFFFFF;\n",
              "    }\n",
              "  </style>\n",
              "\n",
              "      <script>\n",
              "        const buttonEl =\n",
              "          document.querySelector('#df-2d1255c3-a146-44f7-b0ce-047dc4c92225 button.colab-df-convert');\n",
              "        buttonEl.style.display =\n",
              "          google.colab.kernel.accessAllowed ? 'block' : 'none';\n",
              "\n",
              "        async function convertToInteractive(key) {\n",
              "          const element = document.querySelector('#df-2d1255c3-a146-44f7-b0ce-047dc4c92225');\n",
              "          const dataTable =\n",
              "            await google.colab.kernel.invokeFunction('convertToInteractive',\n",
              "                                                     [key], {});\n",
              "          if (!dataTable) return;\n",
              "\n",
              "          const docLinkHtml = 'Like what you see? Visit the ' +\n",
              "            '<a target=\"_blank\" href=https://colab.research.google.com/notebooks/data_table.ipynb>data table notebook</a>'\n",
              "            + ' to learn more about interactive tables.';\n",
              "          element.innerHTML = '';\n",
              "          dataTable['output_type'] = 'display_data';\n",
              "          await google.colab.output.renderOutput(dataTable, element);\n",
              "          const docLink = document.createElement('div');\n",
              "          docLink.innerHTML = docLinkHtml;\n",
              "          element.appendChild(docLink);\n",
              "        }\n",
              "      </script>\n",
              "    </div>\n",
              "  </div>\n",
              "  "
            ]
          },
          "metadata": {},
          "execution_count": 46
        }
      ]
    },
    {
      "cell_type": "code",
      "source": [
        "#Tampilkan Tail\n",
        "data.tail(3)"
      ],
      "metadata": {
        "colab": {
          "base_uri": "https://localhost:8080/",
          "height": 294
        },
        "id": "nrD0V4XsBB0k",
        "outputId": "20a7bafd-00ce-413b-9dc0-0ff697fb55ee"
      },
      "execution_count": 47,
      "outputs": [
        {
          "output_type": "execute_result",
          "data": {
            "text/plain": [
              "                           Open Time     Open     High      Low    Close  \\\n",
              "65716  2022-05-02 04:30:00.000000000  2836.73  2865.83  2835.79  2856.81   \n",
              "65717  2022-05-02 05:00:00.000000000  2856.82  2861.00  2849.41  2852.82   \n",
              "65718  2022-05-02 05:30:00.000000000  2852.81  2860.74  2852.70  2859.99   \n",
              "\n",
              "           Volume                     Close Time  Quote Asset Volume  \\\n",
              "65716  11939.5962  2022-05-02 04:59:59.999000064        3.404923e+07   \n",
              "65717   5185.0072  2022-05-02 05:29:59.999000064        1.480223e+07   \n",
              "65718   4661.5706  2022-05-02 05:59:59.999000064        1.331682e+07   \n",
              "\n",
              "       Number of Trades  TB Base Volume  TB Quote Volume  Ignore  \n",
              "65716             14476       6894.8556     1.966199e+07       0  \n",
              "65717              7277       2798.4998     7.988733e+06       0  \n",
              "65718              4663       2577.6783     7.363419e+06       0  "
            ],
            "text/html": [
              "\n",
              "  <div id=\"df-24250520-2dd3-479f-8605-9bb41bf7a27f\">\n",
              "    <div class=\"colab-df-container\">\n",
              "      <div>\n",
              "<style scoped>\n",
              "    .dataframe tbody tr th:only-of-type {\n",
              "        vertical-align: middle;\n",
              "    }\n",
              "\n",
              "    .dataframe tbody tr th {\n",
              "        vertical-align: top;\n",
              "    }\n",
              "\n",
              "    .dataframe thead th {\n",
              "        text-align: right;\n",
              "    }\n",
              "</style>\n",
              "<table border=\"1\" class=\"dataframe\">\n",
              "  <thead>\n",
              "    <tr style=\"text-align: right;\">\n",
              "      <th></th>\n",
              "      <th>Open Time</th>\n",
              "      <th>Open</th>\n",
              "      <th>High</th>\n",
              "      <th>Low</th>\n",
              "      <th>Close</th>\n",
              "      <th>Volume</th>\n",
              "      <th>Close Time</th>\n",
              "      <th>Quote Asset Volume</th>\n",
              "      <th>Number of Trades</th>\n",
              "      <th>TB Base Volume</th>\n",
              "      <th>TB Quote Volume</th>\n",
              "      <th>Ignore</th>\n",
              "    </tr>\n",
              "  </thead>\n",
              "  <tbody>\n",
              "    <tr>\n",
              "      <th>65716</th>\n",
              "      <td>2022-05-02 04:30:00.000000000</td>\n",
              "      <td>2836.73</td>\n",
              "      <td>2865.83</td>\n",
              "      <td>2835.79</td>\n",
              "      <td>2856.81</td>\n",
              "      <td>11939.5962</td>\n",
              "      <td>2022-05-02 04:59:59.999000064</td>\n",
              "      <td>3.404923e+07</td>\n",
              "      <td>14476</td>\n",
              "      <td>6894.8556</td>\n",
              "      <td>1.966199e+07</td>\n",
              "      <td>0</td>\n",
              "    </tr>\n",
              "    <tr>\n",
              "      <th>65717</th>\n",
              "      <td>2022-05-02 05:00:00.000000000</td>\n",
              "      <td>2856.82</td>\n",
              "      <td>2861.00</td>\n",
              "      <td>2849.41</td>\n",
              "      <td>2852.82</td>\n",
              "      <td>5185.0072</td>\n",
              "      <td>2022-05-02 05:29:59.999000064</td>\n",
              "      <td>1.480223e+07</td>\n",
              "      <td>7277</td>\n",
              "      <td>2798.4998</td>\n",
              "      <td>7.988733e+06</td>\n",
              "      <td>0</td>\n",
              "    </tr>\n",
              "    <tr>\n",
              "      <th>65718</th>\n",
              "      <td>2022-05-02 05:30:00.000000000</td>\n",
              "      <td>2852.81</td>\n",
              "      <td>2860.74</td>\n",
              "      <td>2852.70</td>\n",
              "      <td>2859.99</td>\n",
              "      <td>4661.5706</td>\n",
              "      <td>2022-05-02 05:59:59.999000064</td>\n",
              "      <td>1.331682e+07</td>\n",
              "      <td>4663</td>\n",
              "      <td>2577.6783</td>\n",
              "      <td>7.363419e+06</td>\n",
              "      <td>0</td>\n",
              "    </tr>\n",
              "  </tbody>\n",
              "</table>\n",
              "</div>\n",
              "      <button class=\"colab-df-convert\" onclick=\"convertToInteractive('df-24250520-2dd3-479f-8605-9bb41bf7a27f')\"\n",
              "              title=\"Convert this dataframe to an interactive table.\"\n",
              "              style=\"display:none;\">\n",
              "        \n",
              "  <svg xmlns=\"http://www.w3.org/2000/svg\" height=\"24px\"viewBox=\"0 0 24 24\"\n",
              "       width=\"24px\">\n",
              "    <path d=\"M0 0h24v24H0V0z\" fill=\"none\"/>\n",
              "    <path d=\"M18.56 5.44l.94 2.06.94-2.06 2.06-.94-2.06-.94-.94-2.06-.94 2.06-2.06.94zm-11 1L8.5 8.5l.94-2.06 2.06-.94-2.06-.94L8.5 2.5l-.94 2.06-2.06.94zm10 10l.94 2.06.94-2.06 2.06-.94-2.06-.94-.94-2.06-.94 2.06-2.06.94z\"/><path d=\"M17.41 7.96l-1.37-1.37c-.4-.4-.92-.59-1.43-.59-.52 0-1.04.2-1.43.59L10.3 9.45l-7.72 7.72c-.78.78-.78 2.05 0 2.83L4 21.41c.39.39.9.59 1.41.59.51 0 1.02-.2 1.41-.59l7.78-7.78 2.81-2.81c.8-.78.8-2.07 0-2.86zM5.41 20L4 18.59l7.72-7.72 1.47 1.35L5.41 20z\"/>\n",
              "  </svg>\n",
              "      </button>\n",
              "      \n",
              "  <style>\n",
              "    .colab-df-container {\n",
              "      display:flex;\n",
              "      flex-wrap:wrap;\n",
              "      gap: 12px;\n",
              "    }\n",
              "\n",
              "    .colab-df-convert {\n",
              "      background-color: #E8F0FE;\n",
              "      border: none;\n",
              "      border-radius: 50%;\n",
              "      cursor: pointer;\n",
              "      display: none;\n",
              "      fill: #1967D2;\n",
              "      height: 32px;\n",
              "      padding: 0 0 0 0;\n",
              "      width: 32px;\n",
              "    }\n",
              "\n",
              "    .colab-df-convert:hover {\n",
              "      background-color: #E2EBFA;\n",
              "      box-shadow: 0px 1px 2px rgba(60, 64, 67, 0.3), 0px 1px 3px 1px rgba(60, 64, 67, 0.15);\n",
              "      fill: #174EA6;\n",
              "    }\n",
              "\n",
              "    [theme=dark] .colab-df-convert {\n",
              "      background-color: #3B4455;\n",
              "      fill: #D2E3FC;\n",
              "    }\n",
              "\n",
              "    [theme=dark] .colab-df-convert:hover {\n",
              "      background-color: #434B5C;\n",
              "      box-shadow: 0px 1px 3px 1px rgba(0, 0, 0, 0.15);\n",
              "      filter: drop-shadow(0px 1px 2px rgba(0, 0, 0, 0.3));\n",
              "      fill: #FFFFFF;\n",
              "    }\n",
              "  </style>\n",
              "\n",
              "      <script>\n",
              "        const buttonEl =\n",
              "          document.querySelector('#df-24250520-2dd3-479f-8605-9bb41bf7a27f button.colab-df-convert');\n",
              "        buttonEl.style.display =\n",
              "          google.colab.kernel.accessAllowed ? 'block' : 'none';\n",
              "\n",
              "        async function convertToInteractive(key) {\n",
              "          const element = document.querySelector('#df-24250520-2dd3-479f-8605-9bb41bf7a27f');\n",
              "          const dataTable =\n",
              "            await google.colab.kernel.invokeFunction('convertToInteractive',\n",
              "                                                     [key], {});\n",
              "          if (!dataTable) return;\n",
              "\n",
              "          const docLinkHtml = 'Like what you see? Visit the ' +\n",
              "            '<a target=\"_blank\" href=https://colab.research.google.com/notebooks/data_table.ipynb>data table notebook</a>'\n",
              "            + ' to learn more about interactive tables.';\n",
              "          element.innerHTML = '';\n",
              "          dataTable['output_type'] = 'display_data';\n",
              "          await google.colab.output.renderOutput(dataTable, element);\n",
              "          const docLink = document.createElement('div');\n",
              "          docLink.innerHTML = docLinkHtml;\n",
              "          element.appendChild(docLink);\n",
              "        }\n",
              "      </script>\n",
              "    </div>\n",
              "  </div>\n",
              "  "
            ]
          },
          "metadata": {},
          "execution_count": 47
        }
      ]
    },
    {
      "cell_type": "code",
      "source": [
        "# Duplicate Dataset\n",
        "\n",
        "data_copy = data.copy()"
      ],
      "metadata": {
        "id": "_qP3h5_uBF3h"
      },
      "execution_count": 48,
      "outputs": []
    },
    {
      "cell_type": "code",
      "source": [
        "#tampilkan informasi untuk melihat field\n",
        "data.info()"
      ],
      "metadata": {
        "colab": {
          "base_uri": "https://localhost:8080/"
        },
        "id": "2lo8QUreBKw6",
        "outputId": "298fd1b7-066e-4fe9-cdd2-07729845db69"
      },
      "execution_count": 49,
      "outputs": [
        {
          "output_type": "stream",
          "name": "stdout",
          "text": [
            "<class 'pandas.core.frame.DataFrame'>\n",
            "RangeIndex: 65719 entries, 0 to 65718\n",
            "Data columns (total 12 columns):\n",
            " #   Column              Non-Null Count  Dtype  \n",
            "---  ------              --------------  -----  \n",
            " 0   Open Time           65719 non-null  object \n",
            " 1   Open                65719 non-null  float64\n",
            " 2   High                65719 non-null  float64\n",
            " 3   Low                 65719 non-null  float64\n",
            " 4   Close               65719 non-null  float64\n",
            " 5   Volume              65719 non-null  float64\n",
            " 6   Close Time          65719 non-null  object \n",
            " 7   Quote Asset Volume  65719 non-null  float64\n",
            " 8   Number of Trades    65719 non-null  int64  \n",
            " 9   TB Base Volume      65719 non-null  float64\n",
            " 10  TB Quote Volume     65719 non-null  float64\n",
            " 11  Ignore              65719 non-null  int64  \n",
            "dtypes: float64(8), int64(2), object(2)\n",
            "memory usage: 6.0+ MB\n"
          ]
        }
      ]
    },
    {
      "cell_type": "markdown",
      "source": [
        "<p>Di dataset ini ada <b>12</b> columns dan <b>65719</b> row, tipe data semua </b></p>"
      ],
      "metadata": {
        "id": "RdrPRuigBmcB"
      }
    },
    {
      "cell_type": "code",
      "source": [
        "#check dataset\n",
        "data.describe()"
      ],
      "metadata": {
        "colab": {
          "base_uri": "https://localhost:8080/",
          "height": 382
        },
        "id": "D5XWK_YxB4ow",
        "outputId": "e373bb75-efe3-4473-e858-f324ea02b08a"
      },
      "execution_count": 50,
      "outputs": [
        {
          "output_type": "execute_result",
          "data": {
            "text/plain": [
              "               Open         High           Low         Close         Volume  \\\n",
              "count  65719.000000  65719.00000  65719.000000  65719.000000   65719.000000   \n",
              "mean    1154.396924   1159.99188   1148.451672   1154.432044   13614.703689   \n",
              "std     1352.893440   1359.10125   1346.332762   1352.906963   15622.242670   \n",
              "min       82.160000     82.60000     81.790000     82.170000       0.000000   \n",
              "25%      182.405000    183.01000    181.700000    182.410000    4959.224700   \n",
              "50%      288.560000    289.90000    287.190000    288.560000    8964.049580   \n",
              "75%     2262.785000   2282.02500   2243.300000   2262.965000   16281.133560   \n",
              "max     4846.940000   4868.00000   4838.120000   4846.710000  310769.822340   \n",
              "\n",
              "       Quote Asset Volume  Number of Trades  TB Base Volume  TB Quote Volume  \\\n",
              "count        6.571900e+04      65719.000000    65719.000000     6.571900e+04   \n",
              "mean         1.634441e+07      11883.118489     6813.051691     8.148904e+06   \n",
              "std          2.900054e+07      16131.101106     7747.320816     1.438592e+07   \n",
              "min          0.000000e+00          0.000000        0.000000     0.000000e+00   \n",
              "25%          1.180512e+06       2639.000000     2490.201230     5.966405e+05   \n",
              "50%          3.971908e+06       5813.000000     4515.472240     2.001868e+06   \n",
              "75%          2.148663e+07      15063.500000     8158.576870     1.063659e+07   \n",
              "max          7.662081e+08     386378.000000   143798.787600     3.622547e+08   \n",
              "\n",
              "        Ignore  \n",
              "count  65719.0  \n",
              "mean       0.0  \n",
              "std        0.0  \n",
              "min        0.0  \n",
              "25%        0.0  \n",
              "50%        0.0  \n",
              "75%        0.0  \n",
              "max        0.0  "
            ],
            "text/html": [
              "\n",
              "  <div id=\"df-e53310ca-5242-4bcc-8ecd-e16a33da4037\">\n",
              "    <div class=\"colab-df-container\">\n",
              "      <div>\n",
              "<style scoped>\n",
              "    .dataframe tbody tr th:only-of-type {\n",
              "        vertical-align: middle;\n",
              "    }\n",
              "\n",
              "    .dataframe tbody tr th {\n",
              "        vertical-align: top;\n",
              "    }\n",
              "\n",
              "    .dataframe thead th {\n",
              "        text-align: right;\n",
              "    }\n",
              "</style>\n",
              "<table border=\"1\" class=\"dataframe\">\n",
              "  <thead>\n",
              "    <tr style=\"text-align: right;\">\n",
              "      <th></th>\n",
              "      <th>Open</th>\n",
              "      <th>High</th>\n",
              "      <th>Low</th>\n",
              "      <th>Close</th>\n",
              "      <th>Volume</th>\n",
              "      <th>Quote Asset Volume</th>\n",
              "      <th>Number of Trades</th>\n",
              "      <th>TB Base Volume</th>\n",
              "      <th>TB Quote Volume</th>\n",
              "      <th>Ignore</th>\n",
              "    </tr>\n",
              "  </thead>\n",
              "  <tbody>\n",
              "    <tr>\n",
              "      <th>count</th>\n",
              "      <td>65719.000000</td>\n",
              "      <td>65719.00000</td>\n",
              "      <td>65719.000000</td>\n",
              "      <td>65719.000000</td>\n",
              "      <td>65719.000000</td>\n",
              "      <td>6.571900e+04</td>\n",
              "      <td>65719.000000</td>\n",
              "      <td>65719.000000</td>\n",
              "      <td>6.571900e+04</td>\n",
              "      <td>65719.0</td>\n",
              "    </tr>\n",
              "    <tr>\n",
              "      <th>mean</th>\n",
              "      <td>1154.396924</td>\n",
              "      <td>1159.99188</td>\n",
              "      <td>1148.451672</td>\n",
              "      <td>1154.432044</td>\n",
              "      <td>13614.703689</td>\n",
              "      <td>1.634441e+07</td>\n",
              "      <td>11883.118489</td>\n",
              "      <td>6813.051691</td>\n",
              "      <td>8.148904e+06</td>\n",
              "      <td>0.0</td>\n",
              "    </tr>\n",
              "    <tr>\n",
              "      <th>std</th>\n",
              "      <td>1352.893440</td>\n",
              "      <td>1359.10125</td>\n",
              "      <td>1346.332762</td>\n",
              "      <td>1352.906963</td>\n",
              "      <td>15622.242670</td>\n",
              "      <td>2.900054e+07</td>\n",
              "      <td>16131.101106</td>\n",
              "      <td>7747.320816</td>\n",
              "      <td>1.438592e+07</td>\n",
              "      <td>0.0</td>\n",
              "    </tr>\n",
              "    <tr>\n",
              "      <th>min</th>\n",
              "      <td>82.160000</td>\n",
              "      <td>82.60000</td>\n",
              "      <td>81.790000</td>\n",
              "      <td>82.170000</td>\n",
              "      <td>0.000000</td>\n",
              "      <td>0.000000e+00</td>\n",
              "      <td>0.000000</td>\n",
              "      <td>0.000000</td>\n",
              "      <td>0.000000e+00</td>\n",
              "      <td>0.0</td>\n",
              "    </tr>\n",
              "    <tr>\n",
              "      <th>25%</th>\n",
              "      <td>182.405000</td>\n",
              "      <td>183.01000</td>\n",
              "      <td>181.700000</td>\n",
              "      <td>182.410000</td>\n",
              "      <td>4959.224700</td>\n",
              "      <td>1.180512e+06</td>\n",
              "      <td>2639.000000</td>\n",
              "      <td>2490.201230</td>\n",
              "      <td>5.966405e+05</td>\n",
              "      <td>0.0</td>\n",
              "    </tr>\n",
              "    <tr>\n",
              "      <th>50%</th>\n",
              "      <td>288.560000</td>\n",
              "      <td>289.90000</td>\n",
              "      <td>287.190000</td>\n",
              "      <td>288.560000</td>\n",
              "      <td>8964.049580</td>\n",
              "      <td>3.971908e+06</td>\n",
              "      <td>5813.000000</td>\n",
              "      <td>4515.472240</td>\n",
              "      <td>2.001868e+06</td>\n",
              "      <td>0.0</td>\n",
              "    </tr>\n",
              "    <tr>\n",
              "      <th>75%</th>\n",
              "      <td>2262.785000</td>\n",
              "      <td>2282.02500</td>\n",
              "      <td>2243.300000</td>\n",
              "      <td>2262.965000</td>\n",
              "      <td>16281.133560</td>\n",
              "      <td>2.148663e+07</td>\n",
              "      <td>15063.500000</td>\n",
              "      <td>8158.576870</td>\n",
              "      <td>1.063659e+07</td>\n",
              "      <td>0.0</td>\n",
              "    </tr>\n",
              "    <tr>\n",
              "      <th>max</th>\n",
              "      <td>4846.940000</td>\n",
              "      <td>4868.00000</td>\n",
              "      <td>4838.120000</td>\n",
              "      <td>4846.710000</td>\n",
              "      <td>310769.822340</td>\n",
              "      <td>7.662081e+08</td>\n",
              "      <td>386378.000000</td>\n",
              "      <td>143798.787600</td>\n",
              "      <td>3.622547e+08</td>\n",
              "      <td>0.0</td>\n",
              "    </tr>\n",
              "  </tbody>\n",
              "</table>\n",
              "</div>\n",
              "      <button class=\"colab-df-convert\" onclick=\"convertToInteractive('df-e53310ca-5242-4bcc-8ecd-e16a33da4037')\"\n",
              "              title=\"Convert this dataframe to an interactive table.\"\n",
              "              style=\"display:none;\">\n",
              "        \n",
              "  <svg xmlns=\"http://www.w3.org/2000/svg\" height=\"24px\"viewBox=\"0 0 24 24\"\n",
              "       width=\"24px\">\n",
              "    <path d=\"M0 0h24v24H0V0z\" fill=\"none\"/>\n",
              "    <path d=\"M18.56 5.44l.94 2.06.94-2.06 2.06-.94-2.06-.94-.94-2.06-.94 2.06-2.06.94zm-11 1L8.5 8.5l.94-2.06 2.06-.94-2.06-.94L8.5 2.5l-.94 2.06-2.06.94zm10 10l.94 2.06.94-2.06 2.06-.94-2.06-.94-.94-2.06-.94 2.06-2.06.94z\"/><path d=\"M17.41 7.96l-1.37-1.37c-.4-.4-.92-.59-1.43-.59-.52 0-1.04.2-1.43.59L10.3 9.45l-7.72 7.72c-.78.78-.78 2.05 0 2.83L4 21.41c.39.39.9.59 1.41.59.51 0 1.02-.2 1.41-.59l7.78-7.78 2.81-2.81c.8-.78.8-2.07 0-2.86zM5.41 20L4 18.59l7.72-7.72 1.47 1.35L5.41 20z\"/>\n",
              "  </svg>\n",
              "      </button>\n",
              "      \n",
              "  <style>\n",
              "    .colab-df-container {\n",
              "      display:flex;\n",
              "      flex-wrap:wrap;\n",
              "      gap: 12px;\n",
              "    }\n",
              "\n",
              "    .colab-df-convert {\n",
              "      background-color: #E8F0FE;\n",
              "      border: none;\n",
              "      border-radius: 50%;\n",
              "      cursor: pointer;\n",
              "      display: none;\n",
              "      fill: #1967D2;\n",
              "      height: 32px;\n",
              "      padding: 0 0 0 0;\n",
              "      width: 32px;\n",
              "    }\n",
              "\n",
              "    .colab-df-convert:hover {\n",
              "      background-color: #E2EBFA;\n",
              "      box-shadow: 0px 1px 2px rgba(60, 64, 67, 0.3), 0px 1px 3px 1px rgba(60, 64, 67, 0.15);\n",
              "      fill: #174EA6;\n",
              "    }\n",
              "\n",
              "    [theme=dark] .colab-df-convert {\n",
              "      background-color: #3B4455;\n",
              "      fill: #D2E3FC;\n",
              "    }\n",
              "\n",
              "    [theme=dark] .colab-df-convert:hover {\n",
              "      background-color: #434B5C;\n",
              "      box-shadow: 0px 1px 3px 1px rgba(0, 0, 0, 0.15);\n",
              "      filter: drop-shadow(0px 1px 2px rgba(0, 0, 0, 0.3));\n",
              "      fill: #FFFFFF;\n",
              "    }\n",
              "  </style>\n",
              "\n",
              "      <script>\n",
              "        const buttonEl =\n",
              "          document.querySelector('#df-e53310ca-5242-4bcc-8ecd-e16a33da4037 button.colab-df-convert');\n",
              "        buttonEl.style.display =\n",
              "          google.colab.kernel.accessAllowed ? 'block' : 'none';\n",
              "\n",
              "        async function convertToInteractive(key) {\n",
              "          const element = document.querySelector('#df-e53310ca-5242-4bcc-8ecd-e16a33da4037');\n",
              "          const dataTable =\n",
              "            await google.colab.kernel.invokeFunction('convertToInteractive',\n",
              "                                                     [key], {});\n",
              "          if (!dataTable) return;\n",
              "\n",
              "          const docLinkHtml = 'Like what you see? Visit the ' +\n",
              "            '<a target=\"_blank\" href=https://colab.research.google.com/notebooks/data_table.ipynb>data table notebook</a>'\n",
              "            + ' to learn more about interactive tables.';\n",
              "          element.innerHTML = '';\n",
              "          dataTable['output_type'] = 'display_data';\n",
              "          await google.colab.output.renderOutput(dataTable, element);\n",
              "          const docLink = document.createElement('div');\n",
              "          docLink.innerHTML = docLinkHtml;\n",
              "          element.appendChild(docLink);\n",
              "        }\n",
              "      </script>\n",
              "    </div>\n",
              "  </div>\n",
              "  "
            ]
          },
          "metadata": {},
          "execution_count": 50
        }
      ]
    },
    {
      "cell_type": "markdown",
      "source": [
        "<p>Terlihat dari <b>median</b> open dan close bernilai <b>sama</b>, yang artinya terjadi stagnan di coin eth</p>"
      ],
      "metadata": {
        "id": "OD7JtpFyDMZk"
      }
    },
    {
      "cell_type": "markdown",
      "source": [
        "# 4 - Exploratory Data Analysis (EDA)"
      ],
      "metadata": {
        "id": "3OasrBPzD1LO"
      }
    },
    {
      "cell_type": "markdown",
      "source": [
        "<h1><b>Close,Open,High,low</b></h1>"
      ],
      "metadata": {
        "id": "eEQ9ti0VEMkT"
      }
    },
    {
      "cell_type": "code",
      "source": [
        "#cek Feature\n",
        "data['Close'].unique()"
      ],
      "metadata": {
        "colab": {
          "base_uri": "https://localhost:8080/"
        },
        "id": "-KjIBfkVEF8W",
        "outputId": "828879bd-0d25-4258-f8d5-1877731544e0"
      },
      "execution_count": 51,
      "outputs": [
        {
          "output_type": "execute_result",
          "data": {
            "text/plain": [
              "array([ 462.17,  463.25,  465.78, ..., 2856.81, 2852.82, 2859.99])"
            ]
          },
          "metadata": {},
          "execution_count": 51
        }
      ]
    },
    {
      "cell_type": "code",
      "source": [
        "#cek Feature\n",
        "data['Open'].unique()"
      ],
      "metadata": {
        "colab": {
          "base_uri": "https://localhost:8080/"
        },
        "id": "pIB2MHN9AERj",
        "outputId": "c086fccd-7f1e-4284-fff2-6a64bd9e9e90"
      },
      "execution_count": 52,
      "outputs": [
        {
          "output_type": "execute_result",
          "data": {
            "text/plain": [
              "array([ 466.4 ,  462.18,  463.31, ..., 2836.73, 2856.82, 2852.81])"
            ]
          },
          "metadata": {},
          "execution_count": 52
        }
      ]
    },
    {
      "cell_type": "code",
      "source": [
        "#cek Feature\n",
        "data['High'].unique()"
      ],
      "metadata": {
        "colab": {
          "base_uri": "https://localhost:8080/"
        },
        "id": "so181ywTAH16",
        "outputId": "67433978-7958-47e7-cb3e-48eed26f8a6c"
      },
      "execution_count": 53,
      "outputs": [
        {
          "output_type": "execute_result",
          "data": {
            "text/plain": [
              "array([ 466.96,  463.73,  465.83, ..., 2865.83, 2861.  , 2860.74])"
            ]
          },
          "metadata": {},
          "execution_count": 53
        }
      ]
    },
    {
      "cell_type": "code",
      "source": [
        "#cek Feature\n",
        "data['Low'].unique()"
      ],
      "metadata": {
        "colab": {
          "base_uri": "https://localhost:8080/"
        },
        "id": "AUJJIHyBAOAS",
        "outputId": "40d1d6ae-8487-4960-e2cc-3157ff544f6e"
      },
      "execution_count": 54,
      "outputs": [
        {
          "output_type": "execute_result",
          "data": {
            "text/plain": [
              "array([ 459.33,  460.8 ,  462.54, ..., 2835.79, 2849.41, 2852.7 ])"
            ]
          },
          "metadata": {},
          "execution_count": 54
        }
      ]
    },
    {
      "cell_type": "markdown",
      "source": [
        "<p>lose (<b>data regresi dimana close,open,high dan low adalah berbentuk satuan dolar</b>)</p>"
      ],
      "metadata": {
        "id": "--EzR3CdEjh7"
      }
    },
    {
      "cell_type": "code",
      "source": [
        "#membuat count plot\n",
        "sns.scatterplot(data=data, x=\"Open\", y=\"Close\")"
      ],
      "metadata": {
        "colab": {
          "base_uri": "https://localhost:8080/",
          "height": 297
        },
        "id": "XaHbi9JXFRBP",
        "outputId": "59c84369-9f7b-46d0-d62b-69bdcf3721bc"
      },
      "execution_count": 55,
      "outputs": [
        {
          "output_type": "execute_result",
          "data": {
            "text/plain": [
              "<matplotlib.axes._subplots.AxesSubplot at 0x7f86335fd710>"
            ]
          },
          "metadata": {},
          "execution_count": 55
        },
        {
          "output_type": "display_data",
          "data": {
            "text/plain": [
              "<Figure size 432x288 with 1 Axes>"
            ],
            "image/png": "[encoded data removed]"
          },
          "metadata": {
            "needs_background": "light"
          }
        }
      ]
    },
    {
      "cell_type": "code",
      "source": [
        "#membuat count plot\n",
        "sns.scatterplot(data=data, x=\"High\", y=\"Close\", hue=\"Close\")"
      ],
      "metadata": {
        "colab": {
          "base_uri": "https://localhost:8080/",
          "height": 297
        },
        "id": "LHoT97zl-prQ",
        "outputId": "aab9ff2a-74f3-4e0e-cfa7-941c3eef5ea3"
      },
      "execution_count": 56,
      "outputs": [
        {
          "output_type": "execute_result",
          "data": {
            "text/plain": [
              "<matplotlib.axes._subplots.AxesSubplot at 0x7f86327a67d0>"
            ]
          },
          "metadata": {},
          "execution_count": 56
        },
        {
          "output_type": "display_data",
          "data": {
            "text/plain": [
              "<Figure size 432x288 with 1 Axes>"
            ],
            "image/png": "[encoded data removed]"
          },
          "metadata": {
            "needs_background": "light"
          }
        }
      ]
    },
    {
      "cell_type": "code",
      "source": [
        "#membuat count plot\n",
        "sns.scatterplot(data=data, x=\"Low\", y=\"Close\", hue=\"Close\")"
      ],
      "metadata": {
        "colab": {
          "base_uri": "https://localhost:8080/",
          "height": 297
        },
        "id": "Lnv8ZiV8_2cc",
        "outputId": "d0fd1767-b7f6-466f-f95e-ebd3a6657ed7"
      },
      "execution_count": 57,
      "outputs": [
        {
          "output_type": "execute_result",
          "data": {
            "text/plain": [
              "<matplotlib.axes._subplots.AxesSubplot at 0x7f863003f250>"
            ]
          },
          "metadata": {},
          "execution_count": 57
        },
        {
          "output_type": "display_data",
          "data": {
            "text/plain": [
              "<Figure size 432x288 with 1 Axes>"
            ],
            "image/png": "[encoded data removed]"
          },
          "metadata": {
            "needs_background": "light"
          }
        }
      ]
    },
    {
      "cell_type": "markdown",
      "source": [
        "<h1>dimana terlihat ada corelasi open,high dan low  terhadap closing dimana ada terlihat pergerakan liniear terhadap target close, dan <b>closing di angka yang tidak jauh dari angka feature tersebut.</b>"
      ],
      "metadata": {
        "id": "eHnad6uHAcYd"
      }
    },
    {
      "cell_type": "markdown",
      "source": [
        "<h1><b>Volume,Quote Asset Volume</b></h1>"
      ],
      "metadata": {
        "id": "zDxKvUyYM7xY"
      }
    },
    {
      "cell_type": "code",
      "source": [
        "#cek column volume\n",
        "data['Volume'].unique()"
      ],
      "metadata": {
        "colab": {
          "base_uri": "https://localhost:8080/"
        },
        "id": "_63x2ACQNEN2",
        "outputId": "2b51a941-36a3-45ec-b21c-4389ca25ffa9"
      },
      "execution_count": 58,
      "outputs": [
        {
          "output_type": "execute_result",
          "data": {
            "text/plain": [
              "array([ 7243.89422,  5109.95379,  4246.39675, ..., 11939.5962 ,\n",
              "        5185.0072 ,  4661.5706 ])"
            ]
          },
          "metadata": {},
          "execution_count": 58
        }
      ]
    },
    {
      "cell_type": "code",
      "source": [
        "#cek column Quote Asset Volume\n",
        "data['Quote Asset Volume'].unique()"
      ],
      "metadata": {
        "colab": {
          "base_uri": "https://localhost:8080/"
        },
        "id": "KqWYnOTYCybG",
        "outputId": "2a1baff0-cfa0-4644-a174-37ef8abb57d3"
      },
      "execution_count": 59,
      "outputs": [
        {
          "output_type": "execute_result",
          "data": {
            "text/plain": [
              "array([ 3346752.337381 ,  2362061.7148514,  1968973.3881544, ...,\n",
              "       34049230.061496 , 14802231.930602 , 13316823.158354 ])"
            ]
          },
          "metadata": {},
          "execution_count": 59
        }
      ]
    },
    {
      "cell_type": "markdown",
      "source": [
        "<p><b>Terlihat volume dan Quote Asset Volume adalah data regresi dimana satuan $</p>"
      ],
      "metadata": {
        "id": "Or-mjmelPD19"
      }
    },
    {
      "cell_type": "code",
      "source": [
        "#membuat plot untuk melihat berhubungan feature dengan target\n",
        "plt.figure(figsize=(20, 6))\n",
        "plt.subplot(1, 2, 2)\n",
        "sns.scatterplot(x='Volume', y='Close', data=data, hue='Quote Asset Volume')\n",
        "plt.title('Volume vs Close titik warna asset volume')\n",
        "plt.xlabel('Volume')\n",
        "plt.ylabel('Close')\n",
        "plt.show()"
      ],
      "metadata": {
        "colab": {
          "base_uri": "https://localhost:8080/",
          "height": 404
        },
        "id": "GFVOGfRtPvST",
        "outputId": "c96a8761-3630-4430-8a76-04e77cbfa624"
      },
      "execution_count": 60,
      "outputs": [
        {
          "output_type": "display_data",
          "data": {
            "text/plain": [
              "<Figure size 1440x432 with 1 Axes>"
            ],
            "image/png": "[encoded data removed]"
          },
          "metadata": {
            "needs_background": "light"
          }
        }
      ]
    },
    {
      "cell_type": "markdown",
      "source": [
        "<p>Bertumpuknya bins volume 0 sampai 50.000 dolar dan sama closing di angkat 5.000$ terlihat kecilnya korelasi antara volume dan close, jika dari warna Quate asset volume, terlihat ada perubahan warna makin volume tinggi dan closing tinggi, menandakan ada <b>korelasi di feature Quote Asset Volume</b></p>"
      ],
      "metadata": {
        "id": "cZy1kHo4RCag"
      }
    },
    {
      "cell_type": "markdown",
      "source": [
        "<h1><b>Number of Trades<b></h1>"
      ],
      "metadata": {
        "id": "qTnBkex0TTWL"
      }
    },
    {
      "cell_type": "code",
      "source": [
        "#cek column Number of Trades\n",
        "data['Number of Trades'].unique()"
      ],
      "metadata": {
        "colab": {
          "base_uri": "https://localhost:8080/"
        },
        "id": "F3a5wcjJDnAa",
        "outputId": "4461305e-82cc-4bf3-83ed-800fe17f8bb8"
      },
      "execution_count": 61,
      "outputs": [
        {
          "output_type": "execute_result",
          "data": {
            "text/plain": [
              "array([ 4374,  1985,  1758, ..., 14083, 21500,  7277])"
            ]
          },
          "metadata": {},
          "execution_count": 61
        }
      ]
    },
    {
      "cell_type": "code",
      "source": [
        "#membuat Plot\n",
        "plt.figure(figsize=(14, 6))\n",
        "\n",
        "plt.subplot(1, 2, 1)\n",
        "sns.scatterplot(x='Number of Trades',y='Close', data=data)\n",
        "plt.title('Number of Trades vs Close',fontweight=\"bold\", size=20)"
      ],
      "metadata": {
        "colab": {
          "base_uri": "https://localhost:8080/",
          "height": 426
        },
        "id": "nHbJfaMCSGit",
        "outputId": "2952a82b-560d-4108-e3c5-b2d4a1443afc"
      },
      "execution_count": 62,
      "outputs": [
        {
          "output_type": "execute_result",
          "data": {
            "text/plain": [
              "Text(0.5, 1.0, 'Number of Trades vs Close')"
            ]
          },
          "metadata": {},
          "execution_count": 62
        },
        {
          "output_type": "display_data",
          "data": {
            "text/plain": [
              "<Figure size 1008x432 with 1 Axes>"
            ],
            "image/png": "[encoded data removed]"
          },
          "metadata": {
            "needs_background": "light"
          }
        }
      ]
    },
    {
      "cell_type": "code",
      "source": [
        "#membuat Plot\n",
        "plt.figure(figsize=(14, 6))\n",
        "\n",
        "plt.subplot(1, 2, 1)\n",
        "sns.regplot(x='Number of Trades',y='Close', data=data)\n",
        "plt.title('Number of Trades vs Close',fontweight=\"bold\", size=20)"
      ],
      "metadata": {
        "colab": {
          "base_uri": "https://localhost:8080/",
          "height": 426
        },
        "id": "JyYhBD2sF8Yp",
        "outputId": "2a12d93e-a701-4db2-a987-a0a3d2e3c9c1"
      },
      "execution_count": 63,
      "outputs": [
        {
          "output_type": "execute_result",
          "data": {
            "text/plain": [
              "Text(0.5, 1.0, 'Number of Trades vs Close')"
            ]
          },
          "metadata": {},
          "execution_count": 63
        },
        {
          "output_type": "display_data",
          "data": {
            "text/plain": [
              "<Figure size 1008x432 with 1 Axes>"
            ],
            "image/png": "[encoded data removed]"
          },
          "metadata": {
            "needs_background": "light"
          }
        }
      ]
    },
    {
      "cell_type": "markdown",
      "source": [
        "Dengan menambahkan garis linear di atas, kita dapat melihat korelasi positif yang sangat samar antara Close dan Number of trade. Ada kemungkinan Closing diatas diangka 5000 untuk user trading langsung jual dan menunggu open kembali."
      ],
      "metadata": {
        "id": "CNytby74GVXb"
      }
    },
    {
      "cell_type": "markdown",
      "source": [
        "<h1><b>TB Base Volume</b></h1>\n",
        "<h1><b>TB Quote Volume</b></h1>"
      ],
      "metadata": {
        "id": "JnagyxOMVKoP"
      }
    },
    {
      "cell_type": "code",
      "source": [
        "#cek column Number of Trades\n",
        "data['TB Base Volume'].unique()"
      ],
      "metadata": {
        "colab": {
          "base_uri": "https://localhost:8080/"
        },
        "id": "se855bZVIabK",
        "outputId": "eaee7ff2-90a6-4ef4-dafc-eeae5d4961ec"
      },
      "execution_count": 64,
      "outputs": [
        {
          "output_type": "execute_result",
          "data": {
            "text/plain": [
              "array([2505.4396 , 3217.78863, 2312.34703, ..., 6894.8556 , 2798.4998 ,\n",
              "       2577.6783 ])"
            ]
          },
          "metadata": {},
          "execution_count": 64
        }
      ]
    },
    {
      "cell_type": "code",
      "source": [
        "#cek column TB Quote Volume\n",
        "data['TB Quote Volume'].unique()"
      ],
      "metadata": {
        "colab": {
          "base_uri": "https://localhost:8080/"
        },
        "id": "ijvvrwwIIfx9",
        "outputId": "76081824-b3cd-43b1-89bc-14bc9b5eb668"
      },
      "execution_count": 65,
      "outputs": [
        {
          "output_type": "execute_result",
          "data": {
            "text/plain": [
              "array([ 1157331.6327314,  1487772.7118348,  1072243.79187  , ...,\n",
              "       19661987.718161 ,  7988733.489845 ,  7363419.414468 ])"
            ]
          },
          "metadata": {},
          "execution_count": 65
        }
      ]
    },
    {
      "cell_type": "code",
      "source": [
        "#membuat Plot\n",
        "plt.figure(figsize=(14, 6))\n",
        "\n",
        "plt.subplot(1, 2, 1)\n",
        "sns.scatterplot(x='TB Base Volume',y='TB Quote Volume', data=data, hue='Close')\n",
        "plt.title('TB Base Volume vs TB Quote Volume',fontweight=\"bold\", size=20)"
      ],
      "metadata": {
        "colab": {
          "base_uri": "https://localhost:8080/",
          "height": 426
        },
        "id": "nyLLe9SlIXbk",
        "outputId": "0475fd8c-d3ac-4e24-aa8a-0ae2ce333b8c"
      },
      "execution_count": 66,
      "outputs": [
        {
          "output_type": "execute_result",
          "data": {
            "text/plain": [
              "Text(0.5, 1.0, 'TB Base Volume vs TB Quote Volume')"
            ]
          },
          "metadata": {},
          "execution_count": 66
        },
        {
          "output_type": "display_data",
          "data": {
            "text/plain": [
              "<Figure size 1008x432 with 1 Axes>"
            ],
            "image/png": "[encoded data removed]"
          },
          "metadata": {
            "needs_background": "light"
          }
        }
      ]
    },
    {
      "cell_type": "markdown",
      "source": [
        "<p>Terlihat banyak Bold bins di TB Quate Volume, yang artinnya<b> ada korelasi close dan TBQuate Volume</b> tetapi kecilnya korelasi kepadan tb Base Volume</p>"
      ],
      "metadata": {
        "id": "meSGNCCYJfPF"
      }
    },
    {
      "cell_type": "markdown",
      "source": [
        "<h1>Ignore</h1>"
      ],
      "metadata": {
        "id": "VVVSnhTXKAbx"
      }
    },
    {
      "cell_type": "code",
      "source": [
        "data['Ignore'].unique()"
      ],
      "metadata": {
        "colab": {
          "base_uri": "https://localhost:8080/"
        },
        "id": "pF7NaHIPKGCN",
        "outputId": "d8e9ae88-0be5-481a-ba47-3486213ca79b"
      },
      "execution_count": 67,
      "outputs": [
        {
          "output_type": "execute_result",
          "data": {
            "text/plain": [
              "array([0])"
            ]
          },
          "metadata": {},
          "execution_count": 67
        }
      ]
    },
    {
      "cell_type": "markdown",
      "source": [
        "data iqnore 0, dan hanya 0, yang artinnya tidak ada korelasi apa2 antara feature ini kepada target CLose kita"
      ],
      "metadata": {
        "id": "9IOp53KYKNqW"
      }
    },
    {
      "cell_type": "markdown",
      "source": [
        "<h1><b>C-MAP</b></h1>"
      ],
      "metadata": {
        "id": "w4yzuPnQFDuq"
      }
    },
    {
      "cell_type": "code",
      "source": [
        "#melihat corelasi dengan c-map\n",
        "cmap = cmap=sns.diverging_palette(5, 250, as_cmap=True)\n",
        "\n",
        "#Correlation Between Numeric Columns\n",
        "corr = data.corr()\n",
        "corr.style.background_gradient(cmap='coolwarm')"
      ],
      "metadata": {
        "colab": {
          "base_uri": "https://localhost:8080/",
          "height": 519
        },
        "id": "tLGZGzCeAJ-t",
        "outputId": "6fe462dd-3e59-4bd6-86ab-368c09efd011"
      },
      "execution_count": 68,
      "outputs": [
        {
          "output_type": "stream",
          "name": "stderr",
          "text": [
            "/usr/local/lib/python3.7/dist-packages/pandas/io/formats/style.py:2813: RuntimeWarning: All-NaN slice encountered\n",
            "  smin = np.nanmin(gmap) if vmin is None else vmin\n",
            "/usr/local/lib/python3.7/dist-packages/pandas/io/formats/style.py:2814: RuntimeWarning: All-NaN slice encountered\n",
            "  smax = np.nanmax(gmap) if vmax is None else vmax\n"
          ]
        },
        {
          "output_type": "execute_result",
          "data": {
            "text/plain": [
              "<pandas.io.formats.style.Styler at 0x7f863003f350>"
            ],
            "text/html": [
              "<style type=\"text/css\">\n",
              "#T_c9f98_row0_col0, #T_c9f98_row0_col1, #T_c9f98_row0_col2, #T_c9f98_row0_col3, #T_c9f98_row1_col0, #T_c9f98_row1_col1, #T_c9f98_row1_col2, #T_c9f98_row1_col3, #T_c9f98_row2_col0, #T_c9f98_row2_col1, #T_c9f98_row2_col2, #T_c9f98_row2_col3, #T_c9f98_row3_col0, #T_c9f98_row3_col1, #T_c9f98_row3_col2, #T_c9f98_row3_col3, #T_c9f98_row4_col4, #T_c9f98_row5_col5, #T_c9f98_row6_col6, #T_c9f98_row7_col7, #T_c9f98_row8_col8 {\n",
              "  background-color: #b40426;\n",
              "  color: #f1f1f1;\n",
              "}\n",
              "#T_c9f98_row0_col4, #T_c9f98_row0_col7, #T_c9f98_row2_col4, #T_c9f98_row2_col5, #T_c9f98_row2_col6, #T_c9f98_row2_col7, #T_c9f98_row2_col8, #T_c9f98_row3_col4, #T_c9f98_row3_col7, #T_c9f98_row4_col0, #T_c9f98_row4_col1, #T_c9f98_row4_col2, #T_c9f98_row4_col3, #T_c9f98_row7_col0, #T_c9f98_row7_col1, #T_c9f98_row7_col2, #T_c9f98_row7_col3 {\n",
              "  background-color: #3b4cc0;\n",
              "  color: #f1f1f1;\n",
              "}\n",
              "#T_c9f98_row0_col5, #T_c9f98_row0_col6, #T_c9f98_row0_col8, #T_c9f98_row3_col5, #T_c9f98_row3_col6, #T_c9f98_row3_col8 {\n",
              "  background-color: #3d50c3;\n",
              "  color: #f1f1f1;\n",
              "}\n",
              "#T_c9f98_row0_col9, #T_c9f98_row1_col9, #T_c9f98_row2_col9, #T_c9f98_row3_col9, #T_c9f98_row4_col9, #T_c9f98_row5_col9, #T_c9f98_row6_col9, #T_c9f98_row7_col9, #T_c9f98_row8_col9, #T_c9f98_row9_col0, #T_c9f98_row9_col1, #T_c9f98_row9_col2, #T_c9f98_row9_col3, #T_c9f98_row9_col4, #T_c9f98_row9_col5, #T_c9f98_row9_col6, #T_c9f98_row9_col7, #T_c9f98_row9_col8, #T_c9f98_row9_col9 {\n",
              "  background-color: #000000;\n",
              "  color: #f1f1f1;\n",
              "}\n",
              "#T_c9f98_row1_col4, #T_c9f98_row1_col7 {\n",
              "  background-color: #3c4ec2;\n",
              "  color: #f1f1f1;\n",
              "}\n",
              "#T_c9f98_row1_col5, #T_c9f98_row1_col8 {\n",
              "  background-color: #3f53c6;\n",
              "  color: #f1f1f1;\n",
              "}\n",
              "#T_c9f98_row1_col6 {\n",
              "  background-color: #3e51c5;\n",
              "  color: #f1f1f1;\n",
              "}\n",
              "#T_c9f98_row4_col5 {\n",
              "  background-color: #4e68d8;\n",
              "  color: #f1f1f1;\n",
              "}\n",
              "#T_c9f98_row4_col6 {\n",
              "  background-color: #84a7fc;\n",
              "  color: #f1f1f1;\n",
              "}\n",
              "#T_c9f98_row4_col7, #T_c9f98_row7_col4 {\n",
              "  background-color: #b70d28;\n",
              "  color: #f1f1f1;\n",
              "}\n",
              "#T_c9f98_row4_col8, #T_c9f98_row7_col5 {\n",
              "  background-color: #485fd1;\n",
              "  color: #f1f1f1;\n",
              "}\n",
              "#T_c9f98_row5_col0, #T_c9f98_row5_col3, #T_c9f98_row8_col2 {\n",
              "  background-color: #ead5c9;\n",
              "  color: #000000;\n",
              "}\n",
              "#T_c9f98_row5_col1, #T_c9f98_row8_col0, #T_c9f98_row8_col1, #T_c9f98_row8_col3 {\n",
              "  background-color: #ead4c8;\n",
              "  color: #000000;\n",
              "}\n",
              "#T_c9f98_row5_col2 {\n",
              "  background-color: #e9d5cb;\n",
              "  color: #000000;\n",
              "}\n",
              "#T_c9f98_row5_col4 {\n",
              "  background-color: #efcfbf;\n",
              "  color: #000000;\n",
              "}\n",
              "#T_c9f98_row5_col6 {\n",
              "  background-color: #d75445;\n",
              "  color: #f1f1f1;\n",
              "}\n",
              "#T_c9f98_row5_col7, #T_c9f98_row8_col4 {\n",
              "  background-color: #edd1c2;\n",
              "  color: #000000;\n",
              "}\n",
              "#T_c9f98_row5_col8, #T_c9f98_row8_col5 {\n",
              "  background-color: #ba162b;\n",
              "  color: #f1f1f1;\n",
              "}\n",
              "#T_c9f98_row6_col0, #T_c9f98_row6_col2, #T_c9f98_row6_col3 {\n",
              "  background-color: #e4d9d2;\n",
              "  color: #000000;\n",
              "}\n",
              "#T_c9f98_row6_col1 {\n",
              "  background-color: #e5d8d1;\n",
              "  color: #000000;\n",
              "}\n",
              "#T_c9f98_row6_col4 {\n",
              "  background-color: #f5c1a9;\n",
              "  color: #000000;\n",
              "}\n",
              "#T_c9f98_row6_col5 {\n",
              "  background-color: #d85646;\n",
              "  color: #f1f1f1;\n",
              "}\n",
              "#T_c9f98_row6_col7 {\n",
              "  background-color: #f5c4ac;\n",
              "  color: #000000;\n",
              "}\n",
              "#T_c9f98_row6_col8 {\n",
              "  background-color: #dc5d4a;\n",
              "  color: #f1f1f1;\n",
              "}\n",
              "#T_c9f98_row7_col6 {\n",
              "  background-color: #7ea1fa;\n",
              "  color: #f1f1f1;\n",
              "}\n",
              "#T_c9f98_row7_col8 {\n",
              "  background-color: #4a63d3;\n",
              "  color: #f1f1f1;\n",
              "}\n",
              "#T_c9f98_row8_col6 {\n",
              "  background-color: #d95847;\n",
              "  color: #f1f1f1;\n",
              "}\n",
              "#T_c9f98_row8_col7 {\n",
              "  background-color: #eed0c0;\n",
              "  color: #000000;\n",
              "}\n",
              "</style>\n",
              "<table id=\"T_c9f98_\" class=\"dataframe\">\n",
              "  <thead>\n",
              "    <tr>\n",
              "      <th class=\"blank level0\" >&nbsp;</th>\n",
              "      <th class=\"col_heading level0 col0\" >Open</th>\n",
              "      <th class=\"col_heading level0 col1\" >High</th>\n",
              "      <th class=\"col_heading level0 col2\" >Low</th>\n",
              "      <th class=\"col_heading level0 col3\" >Close</th>\n",
              "      <th class=\"col_heading level0 col4\" >Volume</th>\n",
              "      <th class=\"col_heading level0 col5\" >Quote Asset Volume</th>\n",
              "      <th class=\"col_heading level0 col6\" >Number of Trades</th>\n",
              "      <th class=\"col_heading level0 col7\" >TB Base Volume</th>\n",
              "      <th class=\"col_heading level0 col8\" >TB Quote Volume</th>\n",
              "      <th class=\"col_heading level0 col9\" >Ignore</th>\n",
              "    </tr>\n",
              "  </thead>\n",
              "  <tbody>\n",
              "    <tr>\n",
              "      <th id=\"T_c9f98_level0_row0\" class=\"row_heading level0 row0\" >Open</th>\n",
              "      <td id=\"T_c9f98_row0_col0\" class=\"data row0 col0\" >1.000000</td>\n",
              "      <td id=\"T_c9f98_row0_col1\" class=\"data row0 col1\" >0.999978</td>\n",
              "      <td id=\"T_c9f98_row0_col2\" class=\"data row0 col2\" >0.999965</td>\n",
              "      <td id=\"T_c9f98_row0_col3\" class=\"data row0 col3\" >0.999958</td>\n",
              "      <td id=\"T_c9f98_row0_col4\" class=\"data row0 col4\" >0.030232</td>\n",
              "      <td id=\"T_c9f98_row0_col5\" class=\"data row0 col5\" >0.565876</td>\n",
              "      <td id=\"T_c9f98_row0_col6\" class=\"data row0 col6\" >0.543603</td>\n",
              "      <td id=\"T_c9f98_row0_col7\" class=\"data row0 col7\" >0.027169</td>\n",
              "      <td id=\"T_c9f98_row0_col8\" class=\"data row0 col8\" >0.567495</td>\n",
              "      <td id=\"T_c9f98_row0_col9\" class=\"data row0 col9\" >nan</td>\n",
              "    </tr>\n",
              "    <tr>\n",
              "      <th id=\"T_c9f98_level0_row1\" class=\"row_heading level0 row1\" >High</th>\n",
              "      <td id=\"T_c9f98_row1_col0\" class=\"data row1 col0\" >0.999978</td>\n",
              "      <td id=\"T_c9f98_row1_col1\" class=\"data row1 col1\" >1.000000</td>\n",
              "      <td id=\"T_c9f98_row1_col2\" class=\"data row1 col2\" >0.999950</td>\n",
              "      <td id=\"T_c9f98_row1_col3\" class=\"data row1 col3\" >0.999977</td>\n",
              "      <td id=\"T_c9f98_row1_col4\" class=\"data row1 col4\" >0.032464</td>\n",
              "      <td id=\"T_c9f98_row1_col5\" class=\"data row1 col5\" >0.568676</td>\n",
              "      <td id=\"T_c9f98_row1_col6\" class=\"data row1 col6\" >0.546409</td>\n",
              "      <td id=\"T_c9f98_row1_col7\" class=\"data row1 col7\" >0.029645</td>\n",
              "      <td id=\"T_c9f98_row1_col8\" class=\"data row1 col8\" >0.570616</td>\n",
              "      <td id=\"T_c9f98_row1_col9\" class=\"data row1 col9\" >nan</td>\n",
              "    </tr>\n",
              "    <tr>\n",
              "      <th id=\"T_c9f98_level0_row2\" class=\"row_heading level0 row2\" >Low</th>\n",
              "      <td id=\"T_c9f98_row2_col0\" class=\"data row2 col0\" >0.999965</td>\n",
              "      <td id=\"T_c9f98_row2_col1\" class=\"data row2 col1\" >0.999950</td>\n",
              "      <td id=\"T_c9f98_row2_col2\" class=\"data row2 col2\" >1.000000</td>\n",
              "      <td id=\"T_c9f98_row2_col3\" class=\"data row2 col3\" >0.999973</td>\n",
              "      <td id=\"T_c9f98_row2_col4\" class=\"data row2 col4\" >0.026805</td>\n",
              "      <td id=\"T_c9f98_row2_col5\" class=\"data row2 col5\" >0.561537</td>\n",
              "      <td id=\"T_c9f98_row2_col6\" class=\"data row2 col6\" >0.539565</td>\n",
              "      <td id=\"T_c9f98_row2_col7\" class=\"data row2 col7\" >0.024141</td>\n",
              "      <td id=\"T_c9f98_row2_col8\" class=\"data row2 col8\" >0.563671</td>\n",
              "      <td id=\"T_c9f98_row2_col9\" class=\"data row2 col9\" >nan</td>\n",
              "    </tr>\n",
              "    <tr>\n",
              "      <th id=\"T_c9f98_level0_row3\" class=\"row_heading level0 row3\" >Close</th>\n",
              "      <td id=\"T_c9f98_row3_col0\" class=\"data row3 col0\" >0.999958</td>\n",
              "      <td id=\"T_c9f98_row3_col1\" class=\"data row3 col1\" >0.999977</td>\n",
              "      <td id=\"T_c9f98_row3_col2\" class=\"data row3 col2\" >0.999973</td>\n",
              "      <td id=\"T_c9f98_row3_col3\" class=\"data row3 col3\" >1.000000</td>\n",
              "      <td id=\"T_c9f98_row3_col4\" class=\"data row3 col4\" >0.029936</td>\n",
              "      <td id=\"T_c9f98_row3_col5\" class=\"data row3 col5\" >0.565480</td>\n",
              "      <td id=\"T_c9f98_row3_col6\" class=\"data row3 col6\" >0.543401</td>\n",
              "      <td id=\"T_c9f98_row3_col7\" class=\"data row3 col7\" >0.027357</td>\n",
              "      <td id=\"T_c9f98_row3_col8\" class=\"data row3 col8\" >0.567734</td>\n",
              "      <td id=\"T_c9f98_row3_col9\" class=\"data row3 col9\" >nan</td>\n",
              "    </tr>\n",
              "    <tr>\n",
              "      <th id=\"T_c9f98_level0_row4\" class=\"row_heading level0 row4\" >Volume</th>\n",
              "      <td id=\"T_c9f98_row4_col0\" class=\"data row4 col0\" >0.030232</td>\n",
              "      <td id=\"T_c9f98_row4_col1\" class=\"data row4 col1\" >0.032464</td>\n",
              "      <td id=\"T_c9f98_row4_col2\" class=\"data row4 col2\" >0.026805</td>\n",
              "      <td id=\"T_c9f98_row4_col3\" class=\"data row4 col3\" >0.029936</td>\n",
              "      <td id=\"T_c9f98_row4_col4\" class=\"data row4 col4\" >1.000000</td>\n",
              "      <td id=\"T_c9f98_row4_col5\" class=\"data row4 col5\" >0.590547</td>\n",
              "      <td id=\"T_c9f98_row4_col6\" class=\"data row4 col6\" >0.643489</td>\n",
              "      <td id=\"T_c9f98_row4_col7\" class=\"data row4 col7\" >0.989130</td>\n",
              "      <td id=\"T_c9f98_row4_col8\" class=\"data row4 col8\" >0.583685</td>\n",
              "      <td id=\"T_c9f98_row4_col9\" class=\"data row4 col9\" >nan</td>\n",
              "    </tr>\n",
              "    <tr>\n",
              "      <th id=\"T_c9f98_level0_row5\" class=\"row_heading level0 row5\" >Quote Asset Volume</th>\n",
              "      <td id=\"T_c9f98_row5_col0\" class=\"data row5 col0\" >0.565876</td>\n",
              "      <td id=\"T_c9f98_row5_col1\" class=\"data row5 col1\" >0.568676</td>\n",
              "      <td id=\"T_c9f98_row5_col2\" class=\"data row5 col2\" >0.561537</td>\n",
              "      <td id=\"T_c9f98_row5_col3\" class=\"data row5 col3\" >0.565480</td>\n",
              "      <td id=\"T_c9f98_row5_col4\" class=\"data row5 col4\" >0.590547</td>\n",
              "      <td id=\"T_c9f98_row5_col5\" class=\"data row5 col5\" >1.000000</td>\n",
              "      <td id=\"T_c9f98_row5_col6\" class=\"data row5 col6\" >0.952560</td>\n",
              "      <td id=\"T_c9f98_row5_col7\" class=\"data row5 col7\" >0.581652</td>\n",
              "      <td id=\"T_c9f98_row5_col8\" class=\"data row5 col8\" >0.992366</td>\n",
              "      <td id=\"T_c9f98_row5_col9\" class=\"data row5 col9\" >nan</td>\n",
              "    </tr>\n",
              "    <tr>\n",
              "      <th id=\"T_c9f98_level0_row6\" class=\"row_heading level0 row6\" >Number of Trades</th>\n",
              "      <td id=\"T_c9f98_row6_col0\" class=\"data row6 col0\" >0.543603</td>\n",
              "      <td id=\"T_c9f98_row6_col1\" class=\"data row6 col1\" >0.546409</td>\n",
              "      <td id=\"T_c9f98_row6_col2\" class=\"data row6 col2\" >0.539565</td>\n",
              "      <td id=\"T_c9f98_row6_col3\" class=\"data row6 col3\" >0.543401</td>\n",
              "      <td id=\"T_c9f98_row6_col4\" class=\"data row6 col4\" >0.643489</td>\n",
              "      <td id=\"T_c9f98_row6_col5\" class=\"data row6 col5\" >0.952560</td>\n",
              "      <td id=\"T_c9f98_row6_col6\" class=\"data row6 col6\" >1.000000</td>\n",
              "      <td id=\"T_c9f98_row6_col7\" class=\"data row6 col7\" >0.635667</td>\n",
              "      <td id=\"T_c9f98_row6_col8\" class=\"data row6 col8\" >0.948759</td>\n",
              "      <td id=\"T_c9f98_row6_col9\" class=\"data row6 col9\" >nan</td>\n",
              "    </tr>\n",
              "    <tr>\n",
              "      <th id=\"T_c9f98_level0_row7\" class=\"row_heading level0 row7\" >TB Base Volume</th>\n",
              "      <td id=\"T_c9f98_row7_col0\" class=\"data row7 col0\" >0.027169</td>\n",
              "      <td id=\"T_c9f98_row7_col1\" class=\"data row7 col1\" >0.029645</td>\n",
              "      <td id=\"T_c9f98_row7_col2\" class=\"data row7 col2\" >0.024141</td>\n",
              "      <td id=\"T_c9f98_row7_col3\" class=\"data row7 col3\" >0.027357</td>\n",
              "      <td id=\"T_c9f98_row7_col4\" class=\"data row7 col4\" >0.989130</td>\n",
              "      <td id=\"T_c9f98_row7_col5\" class=\"data row7 col5\" >0.581652</td>\n",
              "      <td id=\"T_c9f98_row7_col6\" class=\"data row7 col6\" >0.635667</td>\n",
              "      <td id=\"T_c9f98_row7_col7\" class=\"data row7 col7\" >1.000000</td>\n",
              "      <td id=\"T_c9f98_row7_col8\" class=\"data row7 col8\" >0.587105</td>\n",
              "      <td id=\"T_c9f98_row7_col9\" class=\"data row7 col9\" >nan</td>\n",
              "    </tr>\n",
              "    <tr>\n",
              "      <th id=\"T_c9f98_level0_row8\" class=\"row_heading level0 row8\" >TB Quote Volume</th>\n",
              "      <td id=\"T_c9f98_row8_col0\" class=\"data row8 col0\" >0.567495</td>\n",
              "      <td id=\"T_c9f98_row8_col1\" class=\"data row8 col1\" >0.570616</td>\n",
              "      <td id=\"T_c9f98_row8_col2\" class=\"data row8 col2\" >0.563671</td>\n",
              "      <td id=\"T_c9f98_row8_col3\" class=\"data row8 col3\" >0.567734</td>\n",
              "      <td id=\"T_c9f98_row8_col4\" class=\"data row8 col4\" >0.583685</td>\n",
              "      <td id=\"T_c9f98_row8_col5\" class=\"data row8 col5\" >0.992366</td>\n",
              "      <td id=\"T_c9f98_row8_col6\" class=\"data row8 col6\" >0.948759</td>\n",
              "      <td id=\"T_c9f98_row8_col7\" class=\"data row8 col7\" >0.587105</td>\n",
              "      <td id=\"T_c9f98_row8_col8\" class=\"data row8 col8\" >1.000000</td>\n",
              "      <td id=\"T_c9f98_row8_col9\" class=\"data row8 col9\" >nan</td>\n",
              "    </tr>\n",
              "    <tr>\n",
              "      <th id=\"T_c9f98_level0_row9\" class=\"row_heading level0 row9\" >Ignore</th>\n",
              "      <td id=\"T_c9f98_row9_col0\" class=\"data row9 col0\" >nan</td>\n",
              "      <td id=\"T_c9f98_row9_col1\" class=\"data row9 col1\" >nan</td>\n",
              "      <td id=\"T_c9f98_row9_col2\" class=\"data row9 col2\" >nan</td>\n",
              "      <td id=\"T_c9f98_row9_col3\" class=\"data row9 col3\" >nan</td>\n",
              "      <td id=\"T_c9f98_row9_col4\" class=\"data row9 col4\" >nan</td>\n",
              "      <td id=\"T_c9f98_row9_col5\" class=\"data row9 col5\" >nan</td>\n",
              "      <td id=\"T_c9f98_row9_col6\" class=\"data row9 col6\" >nan</td>\n",
              "      <td id=\"T_c9f98_row9_col7\" class=\"data row9 col7\" >nan</td>\n",
              "      <td id=\"T_c9f98_row9_col8\" class=\"data row9 col8\" >nan</td>\n",
              "      <td id=\"T_c9f98_row9_col9\" class=\"data row9 col9\" >nan</td>\n",
              "    </tr>\n",
              "  </tbody>\n",
              "</table>\n"
            ]
          },
          "metadata": {},
          "execution_count": 68
        }
      ]
    },
    {
      "cell_type": "markdown",
      "source": [
        "<p>Setelah dilihat dari correlation , <b>peneliti akan memakai open,high dan low,</b> dengan pertimbangan, karena peneliti membuat model ini untuk masyarakat umum, jadi peneliti akan memasukan feature yang dimana masyarakat umum dapat tau informasi dari web trading tersebut</b>,</p>\n",
        "<li>Open=0.999958\n",
        "<li>High=0.999977\n",
        "<li>Low=0.999973\n"
      ],
      "metadata": {
        "id": "KWWE8asRD64U"
      }
    },
    {
      "cell_type": "markdown",
      "source": [
        "# 5 - Data Preprocessing"
      ],
      "metadata": {
        "id": "8TtTy8KPHYhI"
      }
    },
    {
      "cell_type": "markdown",
      "source": [
        "Bagian ini berisi proses penyiapan data untuk proses pelatihan model, seperti pembagian data menjadi train-dev-test, transformasi data (normalisasi, encoding, dll.), dan proses-proses lain yang dibutuhkan."
      ],
      "metadata": {
        "id": "WvuaqhdJHqXF"
      }
    },
    {
      "cell_type": "code",
      "source": [
        "#rubah object ke tanggal\n",
        "data['Open Time'] = pd.to_datetime(data['Open Time'])\n",
        "data['Close Time'] = pd.to_datetime(data['Close Time'])"
      ],
      "metadata": {
        "id": "WvIxLYjjXmYJ"
      },
      "execution_count": 69,
      "outputs": []
    },
    {
      "cell_type": "markdown",
      "source": [
        "## Get data for model inference"
      ],
      "metadata": {
        "id": "0i2Xb-ExHs3l"
      }
    },
    {
      "cell_type": "code",
      "source": [
        "## Get data for model inference\n",
        "data_inf = data.sample(20, random_state=17)\n",
        "data_inf"
      ],
      "metadata": {
        "colab": {
          "base_uri": "https://localhost:8080/",
          "height": 1000
        },
        "id": "6EGgBWNmH5lK",
        "outputId": "27d2fabc-fe43-459e-ac84-bc6524633600"
      },
      "execution_count": 70,
      "outputs": [
        {
          "output_type": "execute_result",
          "data": {
            "text/plain": [
              "                Open Time     Open     High      Low    Close       Volume  \\\n",
              "30999 2020-05-07 21:30:00   211.67   212.74   211.04   212.28   8430.03234   \n",
              "35151 2020-08-02 13:00:00   359.19   364.89   358.55   363.90  31341.75052   \n",
              "26068 2020-01-25 17:00:00   161.06   161.35   160.61   160.65   2725.35438   \n",
              "48722 2021-05-12 21:00:00  4098.96  4139.96  4076.31  4138.15  14485.86676   \n",
              "7091  2018-12-25 04:00:00   123.61   126.49   123.33   125.75  30608.44170   \n",
              "3202  2018-10-04 17:00:00   224.17   224.33   223.01   223.15   3155.32958   \n",
              "59842 2021-12-30 19:30:00  3758.06  3769.10  3748.70  3751.06   4060.88700   \n",
              "19559 2019-09-11 22:30:00   177.68   178.54   177.67   178.35   2461.50220   \n",
              "17712 2019-08-04 03:00:00   220.80   220.90   220.20   220.39   2922.40077   \n",
              "26522 2020-02-04 04:00:00   188.08   189.00   188.07   188.62   5641.94692   \n",
              "46904 2021-04-04 17:30:00  2079.36  2081.99  2075.73  2079.20   6544.67619   \n",
              "19446 2019-09-09 14:00:00   182.10   182.83   181.84   182.41   3394.65063   \n",
              "9592  2019-02-15 06:30:00   122.75   123.50   122.38   122.69   7787.89197   \n",
              "23691 2019-12-07 04:30:00   148.82   149.49   148.71   148.84   6543.52874   \n",
              "5912  2018-11-30 14:30:00   114.31   114.73   113.59   113.97   5942.43148   \n",
              "35066 2020-07-31 18:30:00   343.81   344.01   341.36   342.46   9841.94041   \n",
              "55180 2021-09-24 14:30:00  2923.89  2942.85  2887.51  2897.54  27816.53730   \n",
              "11095 2019-03-18 20:00:00   137.40   138.07   137.34   137.75   4006.52406   \n",
              "3950  2018-10-20 10:30:00   208.08   208.25   207.63   207.80   1025.60341   \n",
              "9040  2019-02-03 18:30:00   107.62   107.66   107.41   107.53   2515.87290   \n",
              "\n",
              "                         Close Time  Quote Asset Volume  Number of Trades  \\\n",
              "30999 2020-05-07 21:59:59.999000064        1.786312e+06              3138   \n",
              "35151 2020-08-02 13:29:59.999000064        1.136947e+07             13536   \n",
              "26068 2020-01-25 17:29:59.999000064        4.387203e+05              1285   \n",
              "48722 2021-05-12 21:29:59.999000064        5.947341e+07             36605   \n",
              "7091  2018-12-25 04:29:59.999000064        3.822828e+06              8391   \n",
              "3202  2018-10-04 17:29:59.999000064        7.053454e+05              3000   \n",
              "59842 2021-12-30 19:59:59.999000064        1.526765e+07              9644   \n",
              "19559 2019-09-11 22:59:59.999000064        4.386104e+05              1713   \n",
              "17712 2019-08-04 03:29:59.999000064        6.446054e+05              1605   \n",
              "26522 2020-02-04 04:29:59.999000064        1.064297e+06              3224   \n",
              "46904 2021-04-04 17:59:59.999000064        1.361154e+07             23031   \n",
              "19446 2019-09-09 14:29:59.999000064        6.193541e+05              2396   \n",
              "9592  2019-02-15 06:59:59.999000064        9.571361e+05              2989   \n",
              "23691 2019-12-07 04:59:59.999000064        9.750156e+05              2327   \n",
              "5912  2018-11-30 14:59:59.999000064        6.772448e+05              2573   \n",
              "35066 2020-07-31 18:59:59.999000064        3.372507e+06              6102   \n",
              "55180 2021-09-24 14:59:59.999000064        8.110337e+07             48281   \n",
              "11095 2019-03-18 20:29:59.999000064        5.522270e+05              1528   \n",
              "3950  2018-10-20 10:59:59.999000064        2.132080e+05               636   \n",
              "9040  2019-02-03 18:59:59.999000064        2.705259e+05              1244   \n",
              "\n",
              "       TB Base Volume  TB Quote Volume  Ignore  \n",
              "30999      4536.57083     9.613210e+05       0  \n",
              "35151     13407.87399     4.863080e+06       0  \n",
              "26068      1886.98892     3.037838e+05       0  \n",
              "48722      7107.41265     2.918371e+07       0  \n",
              "7091      16443.90439     2.053765e+06       0  \n",
              "3202       1176.33760     2.630684e+05       0  \n",
              "59842      1872.46140     7.039526e+06       0  \n",
              "19559      1376.51068     2.452705e+05       0  \n",
              "17712      1046.74853     2.308752e+05       0  \n",
              "26522      2970.74668     5.604470e+05       0  \n",
              "46904      3252.07918     6.763768e+06       0  \n",
              "19446      1429.83545     2.608182e+05       0  \n",
              "9592       4269.37966     5.249023e+05       0  \n",
              "23691      2828.07936     4.213444e+05       0  \n",
              "5912       2919.77598     3.327983e+05       0  \n",
              "35066      5043.47802     1.728554e+06       0  \n",
              "55180     12540.14760     3.657732e+07       0  \n",
              "11095      2220.42642     3.060571e+05       0  \n",
              "3950        409.10912     8.503145e+04       0  \n",
              "9040       1188.60654     1.278226e+05       0  "
            ],
            "text/html": [
              "\n",
              "  <div id=\"df-a14245e2-7087-465a-b7b6-3899e8e9b633\">\n",
              "    <div class=\"colab-df-container\">\n",
              "      <div>\n",
              "<style scoped>\n",
              "    .dataframe tbody tr th:only-of-type {\n",
              "        vertical-align: middle;\n",
              "    }\n",
              "\n",
              "    .dataframe tbody tr th {\n",
              "        vertical-align: top;\n",
              "    }\n",
              "\n",
              "    .dataframe thead th {\n",
              "        text-align: right;\n",
              "    }\n",
              "</style>\n",
              "<table border=\"1\" class=\"dataframe\">\n",
              "  <thead>\n",
              "    <tr style=\"text-align: right;\">\n",
              "      <th></th>\n",
              "      <th>Open Time</th>\n",
              "      <th>Open</th>\n",
              "      <th>High</th>\n",
              "      <th>Low</th>\n",
              "      <th>Close</th>\n",
              "      <th>Volume</th>\n",
              "      <th>Close Time</th>\n",
              "      <th>Quote Asset Volume</th>\n",
              "      <th>Number of Trades</th>\n",
              "      <th>TB Base Volume</th>\n",
              "      <th>TB Quote Volume</th>\n",
              "      <th>Ignore</th>\n",
              "    </tr>\n",
              "  </thead>\n",
              "  <tbody>\n",
              "    <tr>\n",
              "      <th>30999</th>\n",
              "      <td>2020-05-07 21:30:00</td>\n",
              "      <td>211.67</td>\n",
              "      <td>212.74</td>\n",
              "      <td>211.04</td>\n",
              "      <td>212.28</td>\n",
              "      <td>8430.03234</td>\n",
              "      <td>2020-05-07 21:59:59.999000064</td>\n",
              "      <td>1.786312e+06</td>\n",
              "      <td>3138</td>\n",
              "      <td>4536.57083</td>\n",
              "      <td>9.613210e+05</td>\n",
              "      <td>0</td>\n",
              "    </tr>\n",
              "    <tr>\n",
              "      <th>35151</th>\n",
              "      <td>2020-08-02 13:00:00</td>\n",
              "      <td>359.19</td>\n",
              "      <td>364.89</td>\n",
              "      <td>358.55</td>\n",
              "      <td>363.90</td>\n",
              "      <td>31341.75052</td>\n",
              "      <td>2020-08-02 13:29:59.999000064</td>\n",
              "      <td>1.136947e+07</td>\n",
              "      <td>13536</td>\n",
              "      <td>13407.87399</td>\n",
              "      <td>4.863080e+06</td>\n",
              "      <td>0</td>\n",
              "    </tr>\n",
              "    <tr>\n",
              "      <th>26068</th>\n",
              "      <td>2020-01-25 17:00:00</td>\n",
              "      <td>161.06</td>\n",
              "      <td>161.35</td>\n",
              "      <td>160.61</td>\n",
              "      <td>160.65</td>\n",
              "      <td>2725.35438</td>\n",
              "      <td>2020-01-25 17:29:59.999000064</td>\n",
              "      <td>4.387203e+05</td>\n",
              "      <td>1285</td>\n",
              "      <td>1886.98892</td>\n",
              "      <td>3.037838e+05</td>\n",
              "      <td>0</td>\n",
              "    </tr>\n",
              "    <tr>\n",
              "      <th>48722</th>\n",
              "      <td>2021-05-12 21:00:00</td>\n",
              "      <td>4098.96</td>\n",
              "      <td>4139.96</td>\n",
              "      <td>4076.31</td>\n",
              "      <td>4138.15</td>\n",
              "      <td>14485.86676</td>\n",
              "      <td>2021-05-12 21:29:59.999000064</td>\n",
              "      <td>5.947341e+07</td>\n",
              "      <td>36605</td>\n",
              "      <td>7107.41265</td>\n",
              "      <td>2.918371e+07</td>\n",
              "      <td>0</td>\n",
              "    </tr>\n",
              "    <tr>\n",
              "      <th>7091</th>\n",
              "      <td>2018-12-25 04:00:00</td>\n",
              "      <td>123.61</td>\n",
              "      <td>126.49</td>\n",
              "      <td>123.33</td>\n",
              "      <td>125.75</td>\n",
              "      <td>30608.44170</td>\n",
              "      <td>2018-12-25 04:29:59.999000064</td>\n",
              "      <td>3.822828e+06</td>\n",
              "      <td>8391</td>\n",
              "      <td>16443.90439</td>\n",
              "      <td>2.053765e+06</td>\n",
              "      <td>0</td>\n",
              "    </tr>\n",
              "    <tr>\n",
              "      <th>3202</th>\n",
              "      <td>2018-10-04 17:00:00</td>\n",
              "      <td>224.17</td>\n",
              "      <td>224.33</td>\n",
              "      <td>223.01</td>\n",
              "      <td>223.15</td>\n",
              "      <td>3155.32958</td>\n",
              "      <td>2018-10-04 17:29:59.999000064</td>\n",
              "      <td>7.053454e+05</td>\n",
              "      <td>3000</td>\n",
              "      <td>1176.33760</td>\n",
              "      <td>2.630684e+05</td>\n",
              "      <td>0</td>\n",
              "    </tr>\n",
              "    <tr>\n",
              "      <th>59842</th>\n",
              "      <td>2021-12-30 19:30:00</td>\n",
              "      <td>3758.06</td>\n",
              "      <td>3769.10</td>\n",
              "      <td>3748.70</td>\n",
              "      <td>3751.06</td>\n",
              "      <td>4060.88700</td>\n",
              "      <td>2021-12-30 19:59:59.999000064</td>\n",
              "      <td>1.526765e+07</td>\n",
              "      <td>9644</td>\n",
              "      <td>1872.46140</td>\n",
              "      <td>7.039526e+06</td>\n",
              "      <td>0</td>\n",
              "    </tr>\n",
              "    <tr>\n",
              "      <th>19559</th>\n",
              "      <td>2019-09-11 22:30:00</td>\n",
              "      <td>177.68</td>\n",
              "      <td>178.54</td>\n",
              "      <td>177.67</td>\n",
              "      <td>178.35</td>\n",
              "      <td>2461.50220</td>\n",
              "      <td>2019-09-11 22:59:59.999000064</td>\n",
              "      <td>4.386104e+05</td>\n",
              "      <td>1713</td>\n",
              "      <td>1376.51068</td>\n",
              "      <td>2.452705e+05</td>\n",
              "      <td>0</td>\n",
              "    </tr>\n",
              "    <tr>\n",
              "      <th>17712</th>\n",
              "      <td>2019-08-04 03:00:00</td>\n",
              "      <td>220.80</td>\n",
              "      <td>220.90</td>\n",
              "      <td>220.20</td>\n",
              "      <td>220.39</td>\n",
              "      <td>2922.40077</td>\n",
              "      <td>2019-08-04 03:29:59.999000064</td>\n",
              "      <td>6.446054e+05</td>\n",
              "      <td>1605</td>\n",
              "      <td>1046.74853</td>\n",
              "      <td>2.308752e+05</td>\n",
              "      <td>0</td>\n",
              "    </tr>\n",
              "    <tr>\n",
              "      <th>26522</th>\n",
              "      <td>2020-02-04 04:00:00</td>\n",
              "      <td>188.08</td>\n",
              "      <td>189.00</td>\n",
              "      <td>188.07</td>\n",
              "      <td>188.62</td>\n",
              "      <td>5641.94692</td>\n",
              "      <td>2020-02-04 04:29:59.999000064</td>\n",
              "      <td>1.064297e+06</td>\n",
              "      <td>3224</td>\n",
              "      <td>2970.74668</td>\n",
              "      <td>5.604470e+05</td>\n",
              "      <td>0</td>\n",
              "    </tr>\n",
              "    <tr>\n",
              "      <th>46904</th>\n",
              "      <td>2021-04-04 17:30:00</td>\n",
              "      <td>2079.36</td>\n",
              "      <td>2081.99</td>\n",
              "      <td>2075.73</td>\n",
              "      <td>2079.20</td>\n",
              "      <td>6544.67619</td>\n",
              "      <td>2021-04-04 17:59:59.999000064</td>\n",
              "      <td>1.361154e+07</td>\n",
              "      <td>23031</td>\n",
              "      <td>3252.07918</td>\n",
              "      <td>6.763768e+06</td>\n",
              "      <td>0</td>\n",
              "    </tr>\n",
              "    <tr>\n",
              "      <th>19446</th>\n",
              "      <td>2019-09-09 14:00:00</td>\n",
              "      <td>182.10</td>\n",
              "      <td>182.83</td>\n",
              "      <td>181.84</td>\n",
              "      <td>182.41</td>\n",
              "      <td>3394.65063</td>\n",
              "      <td>2019-09-09 14:29:59.999000064</td>\n",
              "      <td>6.193541e+05</td>\n",
              "      <td>2396</td>\n",
              "      <td>1429.83545</td>\n",
              "      <td>2.608182e+05</td>\n",
              "      <td>0</td>\n",
              "    </tr>\n",
              "    <tr>\n",
              "      <th>9592</th>\n",
              "      <td>2019-02-15 06:30:00</td>\n",
              "      <td>122.75</td>\n",
              "      <td>123.50</td>\n",
              "      <td>122.38</td>\n",
              "      <td>122.69</td>\n",
              "      <td>7787.89197</td>\n",
              "      <td>2019-02-15 06:59:59.999000064</td>\n",
              "      <td>9.571361e+05</td>\n",
              "      <td>2989</td>\n",
              "      <td>4269.37966</td>\n",
              "      <td>5.249023e+05</td>\n",
              "      <td>0</td>\n",
              "    </tr>\n",
              "    <tr>\n",
              "      <th>23691</th>\n",
              "      <td>2019-12-07 04:30:00</td>\n",
              "      <td>148.82</td>\n",
              "      <td>149.49</td>\n",
              "      <td>148.71</td>\n",
              "      <td>148.84</td>\n",
              "      <td>6543.52874</td>\n",
              "      <td>2019-12-07 04:59:59.999000064</td>\n",
              "      <td>9.750156e+05</td>\n",
              "      <td>2327</td>\n",
              "      <td>2828.07936</td>\n",
              "      <td>4.213444e+05</td>\n",
              "      <td>0</td>\n",
              "    </tr>\n",
              "    <tr>\n",
              "      <th>5912</th>\n",
              "      <td>2018-11-30 14:30:00</td>\n",
              "      <td>114.31</td>\n",
              "      <td>114.73</td>\n",
              "      <td>113.59</td>\n",
              "      <td>113.97</td>\n",
              "      <td>5942.43148</td>\n",
              "      <td>2018-11-30 14:59:59.999000064</td>\n",
              "      <td>6.772448e+05</td>\n",
              "      <td>2573</td>\n",
              "      <td>2919.77598</td>\n",
              "      <td>3.327983e+05</td>\n",
              "      <td>0</td>\n",
              "    </tr>\n",
              "    <tr>\n",
              "      <th>35066</th>\n",
              "      <td>2020-07-31 18:30:00</td>\n",
              "      <td>343.81</td>\n",
              "      <td>344.01</td>\n",
              "      <td>341.36</td>\n",
              "      <td>342.46</td>\n",
              "      <td>9841.94041</td>\n",
              "      <td>2020-07-31 18:59:59.999000064</td>\n",
              "      <td>3.372507e+06</td>\n",
              "      <td>6102</td>\n",
              "      <td>5043.47802</td>\n",
              "      <td>1.728554e+06</td>\n",
              "      <td>0</td>\n",
              "    </tr>\n",
              "    <tr>\n",
              "      <th>55180</th>\n",
              "      <td>2021-09-24 14:30:00</td>\n",
              "      <td>2923.89</td>\n",
              "      <td>2942.85</td>\n",
              "      <td>2887.51</td>\n",
              "      <td>2897.54</td>\n",
              "      <td>27816.53730</td>\n",
              "      <td>2021-09-24 14:59:59.999000064</td>\n",
              "      <td>8.110337e+07</td>\n",
              "      <td>48281</td>\n",
              "      <td>12540.14760</td>\n",
              "      <td>3.657732e+07</td>\n",
              "      <td>0</td>\n",
              "    </tr>\n",
              "    <tr>\n",
              "      <th>11095</th>\n",
              "      <td>2019-03-18 20:00:00</td>\n",
              "      <td>137.40</td>\n",
              "      <td>138.07</td>\n",
              "      <td>137.34</td>\n",
              "      <td>137.75</td>\n",
              "      <td>4006.52406</td>\n",
              "      <td>2019-03-18 20:29:59.999000064</td>\n",
              "      <td>5.522270e+05</td>\n",
              "      <td>1528</td>\n",
              "      <td>2220.42642</td>\n",
              "      <td>3.060571e+05</td>\n",
              "      <td>0</td>\n",
              "    </tr>\n",
              "    <tr>\n",
              "      <th>3950</th>\n",
              "      <td>2018-10-20 10:30:00</td>\n",
              "      <td>208.08</td>\n",
              "      <td>208.25</td>\n",
              "      <td>207.63</td>\n",
              "      <td>207.80</td>\n",
              "      <td>1025.60341</td>\n",
              "      <td>2018-10-20 10:59:59.999000064</td>\n",
              "      <td>2.132080e+05</td>\n",
              "      <td>636</td>\n",
              "      <td>409.10912</td>\n",
              "      <td>8.503145e+04</td>\n",
              "      <td>0</td>\n",
              "    </tr>\n",
              "    <tr>\n",
              "      <th>9040</th>\n",
              "      <td>2019-02-03 18:30:00</td>\n",
              "      <td>107.62</td>\n",
              "      <td>107.66</td>\n",
              "      <td>107.41</td>\n",
              "      <td>107.53</td>\n",
              "      <td>2515.87290</td>\n",
              "      <td>2019-02-03 18:59:59.999000064</td>\n",
              "      <td>2.705259e+05</td>\n",
              "      <td>1244</td>\n",
              "      <td>1188.60654</td>\n",
              "      <td>1.278226e+05</td>\n",
              "      <td>0</td>\n",
              "    </tr>\n",
              "  </tbody>\n",
              "</table>\n",
              "</div>\n",
              "      <button class=\"colab-df-convert\" onclick=\"convertToInteractive('df-a14245e2-7087-465a-b7b6-3899e8e9b633')\"\n",
              "              title=\"Convert this dataframe to an interactive table.\"\n",
              "              style=\"display:none;\">\n",
              "        \n",
              "  <svg xmlns=\"http://www.w3.org/2000/svg\" height=\"24px\"viewBox=\"0 0 24 24\"\n",
              "       width=\"24px\">\n",
              "    <path d=\"M0 0h24v24H0V0z\" fill=\"none\"/>\n",
              "    <path d=\"M18.56 5.44l.94 2.06.94-2.06 2.06-.94-2.06-.94-.94-2.06-.94 2.06-2.06.94zm-11 1L8.5 8.5l.94-2.06 2.06-.94-2.06-.94L8.5 2.5l-.94 2.06-2.06.94zm10 10l.94 2.06.94-2.06 2.06-.94-2.06-.94-.94-2.06-.94 2.06-2.06.94z\"/><path d=\"M17.41 7.96l-1.37-1.37c-.4-.4-.92-.59-1.43-.59-.52 0-1.04.2-1.43.59L10.3 9.45l-7.72 7.72c-.78.78-.78 2.05 0 2.83L4 21.41c.39.39.9.59 1.41.59.51 0 1.02-.2 1.41-.59l7.78-7.78 2.81-2.81c.8-.78.8-2.07 0-2.86zM5.41 20L4 18.59l7.72-7.72 1.47 1.35L5.41 20z\"/>\n",
              "  </svg>\n",
              "      </button>\n",
              "      \n",
              "  <style>\n",
              "    .colab-df-container {\n",
              "      display:flex;\n",
              "      flex-wrap:wrap;\n",
              "      gap: 12px;\n",
              "    }\n",
              "\n",
              "    .colab-df-convert {\n",
              "      background-color: #E8F0FE;\n",
              "      border: none;\n",
              "      border-radius: 50%;\n",
              "      cursor: pointer;\n",
              "      display: none;\n",
              "      fill: #1967D2;\n",
              "      height: 32px;\n",
              "      padding: 0 0 0 0;\n",
              "      width: 32px;\n",
              "    }\n",
              "\n",
              "    .colab-df-convert:hover {\n",
              "      background-color: #E2EBFA;\n",
              "      box-shadow: 0px 1px 2px rgba(60, 64, 67, 0.3), 0px 1px 3px 1px rgba(60, 64, 67, 0.15);\n",
              "      fill: #174EA6;\n",
              "    }\n",
              "\n",
              "    [theme=dark] .colab-df-convert {\n",
              "      background-color: #3B4455;\n",
              "      fill: #D2E3FC;\n",
              "    }\n",
              "\n",
              "    [theme=dark] .colab-df-convert:hover {\n",
              "      background-color: #434B5C;\n",
              "      box-shadow: 0px 1px 3px 1px rgba(0, 0, 0, 0.15);\n",
              "      filter: drop-shadow(0px 1px 2px rgba(0, 0, 0, 0.3));\n",
              "      fill: #FFFFFF;\n",
              "    }\n",
              "  </style>\n",
              "\n",
              "      <script>\n",
              "        const buttonEl =\n",
              "          document.querySelector('#df-a14245e2-7087-465a-b7b6-3899e8e9b633 button.colab-df-convert');\n",
              "        buttonEl.style.display =\n",
              "          google.colab.kernel.accessAllowed ? 'block' : 'none';\n",
              "\n",
              "        async function convertToInteractive(key) {\n",
              "          const element = document.querySelector('#df-a14245e2-7087-465a-b7b6-3899e8e9b633');\n",
              "          const dataTable =\n",
              "            await google.colab.kernel.invokeFunction('convertToInteractive',\n",
              "                                                     [key], {});\n",
              "          if (!dataTable) return;\n",
              "\n",
              "          const docLinkHtml = 'Like what you see? Visit the ' +\n",
              "            '<a target=\"_blank\" href=https://colab.research.google.com/notebooks/data_table.ipynb>data table notebook</a>'\n",
              "            + ' to learn more about interactive tables.';\n",
              "          element.innerHTML = '';\n",
              "          dataTable['output_type'] = 'display_data';\n",
              "          await google.colab.output.renderOutput(dataTable, element);\n",
              "          const docLink = document.createElement('div');\n",
              "          docLink.innerHTML = docLinkHtml;\n",
              "          element.appendChild(docLink);\n",
              "        }\n",
              "      </script>\n",
              "    </div>\n",
              "  </div>\n",
              "  "
            ]
          },
          "metadata": {},
          "execution_count": 70
        }
      ]
    },
    {
      "cell_type": "code",
      "source": [
        "# remove inference set from data set\n",
        "data_train_test = data.drop(data_inf.index)\n",
        "data_train_test"
      ],
      "metadata": {
        "colab": {
          "base_uri": "https://localhost:8080/",
          "height": 870
        },
        "id": "-_a2uv25INNl",
        "outputId": "ccfdaab6-7bb1-4964-e422-e1f4882b2596"
      },
      "execution_count": 71,
      "outputs": [
        {
          "output_type": "execute_result",
          "data": {
            "text/plain": [
              "                Open Time     Open     High      Low    Close       Volume  \\\n",
              "0     2018-07-30 00:00:00   466.40   466.96   459.33   462.17   7243.89422   \n",
              "1     2018-07-30 00:30:00   462.18   463.73   460.80   463.25   5109.95379   \n",
              "2     2018-07-30 01:00:00   463.31   465.83   462.54   465.78   4246.39675   \n",
              "3     2018-07-30 01:30:00   465.83   469.79   465.59   467.07   4739.69169   \n",
              "4     2018-07-30 02:00:00   467.00   467.06   465.00   465.57   1285.96761   \n",
              "...                   ...      ...      ...      ...      ...          ...   \n",
              "65714 2022-05-02 03:30:00  2835.99  2845.87  2835.25  2840.72   6154.79540   \n",
              "65715 2022-05-02 04:00:00  2840.72  2845.39  2832.10  2836.72   5452.19620   \n",
              "65716 2022-05-02 04:30:00  2836.73  2865.83  2835.79  2856.81  11939.59620   \n",
              "65717 2022-05-02 05:00:00  2856.82  2861.00  2849.41  2852.82   5185.00720   \n",
              "65718 2022-05-02 05:30:00  2852.81  2860.74  2852.70  2859.99   4661.57060   \n",
              "\n",
              "                         Close Time  Quote Asset Volume  Number of Trades  \\\n",
              "0     2018-07-30 00:29:59.999000064        3.346752e+06              4374   \n",
              "1     2018-07-30 00:59:59.999000064        2.362062e+06              1985   \n",
              "2     2018-07-30 01:29:59.999000064        1.968973e+06              1758   \n",
              "3     2018-07-30 01:59:59.999000064        2.213044e+06              2743   \n",
              "4     2018-07-30 02:29:59.999000064        5.991792e+05              1476   \n",
              "...                             ...                 ...               ...   \n",
              "65714 2022-05-02 03:59:59.999000064        1.749037e+07              7448   \n",
              "65715 2022-05-02 04:29:59.999000064        1.547552e+07              6670   \n",
              "65716 2022-05-02 04:59:59.999000064        3.404923e+07             14476   \n",
              "65717 2022-05-02 05:29:59.999000064        1.480223e+07              7277   \n",
              "65718 2022-05-02 05:59:59.999000064        1.331682e+07              4663   \n",
              "\n",
              "       TB Base Volume  TB Quote Volume  Ignore  \n",
              "0          2505.43960     1.157332e+06       0  \n",
              "1          3217.78863     1.487773e+06       0  \n",
              "2          2312.34703     1.072244e+06       0  \n",
              "3          3453.32561     1.612223e+06       0  \n",
              "4           810.74776     3.777827e+05       0  \n",
              "...               ...              ...     ...  \n",
              "65714      3899.76570     1.108108e+07       0  \n",
              "65715      2814.16580     7.987077e+06       0  \n",
              "65716      6894.85560     1.966199e+07       0  \n",
              "65717      2798.49980     7.988733e+06       0  \n",
              "65718      2577.67830     7.363419e+06       0  \n",
              "\n",
              "[65699 rows x 12 columns]"
            ],
            "text/html": [
              "\n",
              "  <div id=\"df-41dc10e8-a1f6-427f-a881-d22d034c05af\">\n",
              "    <div class=\"colab-df-container\">\n",
              "      <div>\n",
              "<style scoped>\n",
              "    .dataframe tbody tr th:only-of-type {\n",
              "        vertical-align: middle;\n",
              "    }\n",
              "\n",
              "    .dataframe tbody tr th {\n",
              "        vertical-align: top;\n",
              "    }\n",
              "\n",
              "    .dataframe thead th {\n",
              "        text-align: right;\n",
              "    }\n",
              "</style>\n",
              "<table border=\"1\" class=\"dataframe\">\n",
              "  <thead>\n",
              "    <tr style=\"text-align: right;\">\n",
              "      <th></th>\n",
              "      <th>Open Time</th>\n",
              "      <th>Open</th>\n",
              "      <th>High</th>\n",
              "      <th>Low</th>\n",
              "      <th>Close</th>\n",
              "      <th>Volume</th>\n",
              "      <th>Close Time</th>\n",
              "      <th>Quote Asset Volume</th>\n",
              "      <th>Number of Trades</th>\n",
              "      <th>TB Base Volume</th>\n",
              "      <th>TB Quote Volume</th>\n",
              "      <th>Ignore</th>\n",
              "    </tr>\n",
              "  </thead>\n",
              "  <tbody>\n",
              "    <tr>\n",
              "      <th>0</th>\n",
              "      <td>2018-07-30 00:00:00</td>\n",
              "      <td>466.40</td>\n",
              "      <td>466.96</td>\n",
              "      <td>459.33</td>\n",
              "      <td>462.17</td>\n",
              "      <td>7243.89422</td>\n",
              "      <td>2018-07-30 00:29:59.999000064</td>\n",
              "      <td>3.346752e+06</td>\n",
              "      <td>4374</td>\n",
              "      <td>2505.43960</td>\n",
              "      <td>1.157332e+06</td>\n",
              "      <td>0</td>\n",
              "    </tr>\n",
              "    <tr>\n",
              "      <th>1</th>\n",
              "      <td>2018-07-30 00:30:00</td>\n",
              "      <td>462.18</td>\n",
              "      <td>463.73</td>\n",
              "      <td>460.80</td>\n",
              "      <td>463.25</td>\n",
              "      <td>5109.95379</td>\n",
              "      <td>2018-07-30 00:59:59.999000064</td>\n",
              "      <td>2.362062e+06</td>\n",
              "      <td>1985</td>\n",
              "      <td>3217.78863</td>\n",
              "      <td>1.487773e+06</td>\n",
              "      <td>0</td>\n",
              "    </tr>\n",
              "    <tr>\n",
              "      <th>2</th>\n",
              "      <td>2018-07-30 01:00:00</td>\n",
              "      <td>463.31</td>\n",
              "      <td>465.83</td>\n",
              "      <td>462.54</td>\n",
              "      <td>465.78</td>\n",
              "      <td>4246.39675</td>\n",
              "      <td>2018-07-30 01:29:59.999000064</td>\n",
              "      <td>1.968973e+06</td>\n",
              "      <td>1758</td>\n",
              "      <td>2312.34703</td>\n",
              "      <td>1.072244e+06</td>\n",
              "      <td>0</td>\n",
              "    </tr>\n",
              "    <tr>\n",
              "      <th>3</th>\n",
              "      <td>2018-07-30 01:30:00</td>\n",
              "      <td>465.83</td>\n",
              "      <td>469.79</td>\n",
              "      <td>465.59</td>\n",
              "      <td>467.07</td>\n",
              "      <td>4739.69169</td>\n",
              "      <td>2018-07-30 01:59:59.999000064</td>\n",
              "      <td>2.213044e+06</td>\n",
              "      <td>2743</td>\n",
              "      <td>3453.32561</td>\n",
              "      <td>1.612223e+06</td>\n",
              "      <td>0</td>\n",
              "    </tr>\n",
              "    <tr>\n",
              "      <th>4</th>\n",
              "      <td>2018-07-30 02:00:00</td>\n",
              "      <td>467.00</td>\n",
              "      <td>467.06</td>\n",
              "      <td>465.00</td>\n",
              "      <td>465.57</td>\n",
              "      <td>1285.96761</td>\n",
              "      <td>2018-07-30 02:29:59.999000064</td>\n",
              "      <td>5.991792e+05</td>\n",
              "      <td>1476</td>\n",
              "      <td>810.74776</td>\n",
              "      <td>3.777827e+05</td>\n",
              "      <td>0</td>\n",
              "    </tr>\n",
              "    <tr>\n",
              "      <th>...</th>\n",
              "      <td>...</td>\n",
              "      <td>...</td>\n",
              "      <td>...</td>\n",
              "      <td>...</td>\n",
              "      <td>...</td>\n",
              "      <td>...</td>\n",
              "      <td>...</td>\n",
              "      <td>...</td>\n",
              "      <td>...</td>\n",
              "      <td>...</td>\n",
              "      <td>...</td>\n",
              "      <td>...</td>\n",
              "    </tr>\n",
              "    <tr>\n",
              "      <th>65714</th>\n",
              "      <td>2022-05-02 03:30:00</td>\n",
              "      <td>2835.99</td>\n",
              "      <td>2845.87</td>\n",
              "      <td>2835.25</td>\n",
              "      <td>2840.72</td>\n",
              "      <td>6154.79540</td>\n",
              "      <td>2022-05-02 03:59:59.999000064</td>\n",
              "      <td>1.749037e+07</td>\n",
              "      <td>7448</td>\n",
              "      <td>3899.76570</td>\n",
              "      <td>1.108108e+07</td>\n",
              "      <td>0</td>\n",
              "    </tr>\n",
              "    <tr>\n",
              "      <th>65715</th>\n",
              "      <td>2022-05-02 04:00:00</td>\n",
              "      <td>2840.72</td>\n",
              "      <td>2845.39</td>\n",
              "      <td>2832.10</td>\n",
              "      <td>2836.72</td>\n",
              "      <td>5452.19620</td>\n",
              "      <td>2022-05-02 04:29:59.999000064</td>\n",
              "      <td>1.547552e+07</td>\n",
              "      <td>6670</td>\n",
              "      <td>2814.16580</td>\n",
              "      <td>7.987077e+06</td>\n",
              "      <td>0</td>\n",
              "    </tr>\n",
              "    <tr>\n",
              "      <th>65716</th>\n",
              "      <td>2022-05-02 04:30:00</td>\n",
              "      <td>2836.73</td>\n",
              "      <td>2865.83</td>\n",
              "      <td>2835.79</td>\n",
              "      <td>2856.81</td>\n",
              "      <td>11939.59620</td>\n",
              "      <td>2022-05-02 04:59:59.999000064</td>\n",
              "      <td>3.404923e+07</td>\n",
              "      <td>14476</td>\n",
              "      <td>6894.85560</td>\n",
              "      <td>1.966199e+07</td>\n",
              "      <td>0</td>\n",
              "    </tr>\n",
              "    <tr>\n",
              "      <th>65717</th>\n",
              "      <td>2022-05-02 05:00:00</td>\n",
              "      <td>2856.82</td>\n",
              "      <td>2861.00</td>\n",
              "      <td>2849.41</td>\n",
              "      <td>2852.82</td>\n",
              "      <td>5185.00720</td>\n",
              "      <td>2022-05-02 05:29:59.999000064</td>\n",
              "      <td>1.480223e+07</td>\n",
              "      <td>7277</td>\n",
              "      <td>2798.49980</td>\n",
              "      <td>7.988733e+06</td>\n",
              "      <td>0</td>\n",
              "    </tr>\n",
              "    <tr>\n",
              "      <th>65718</th>\n",
              "      <td>2022-05-02 05:30:00</td>\n",
              "      <td>2852.81</td>\n",
              "      <td>2860.74</td>\n",
              "      <td>2852.70</td>\n",
              "      <td>2859.99</td>\n",
              "      <td>4661.57060</td>\n",
              "      <td>2022-05-02 05:59:59.999000064</td>\n",
              "      <td>1.331682e+07</td>\n",
              "      <td>4663</td>\n",
              "      <td>2577.67830</td>\n",
              "      <td>7.363419e+06</td>\n",
              "      <td>0</td>\n",
              "    </tr>\n",
              "  </tbody>\n",
              "</table>\n",
              "<p>65699 rows × 12 columns</p>\n",
              "</div>\n",
              "      <button class=\"colab-df-convert\" onclick=\"convertToInteractive('df-41dc10e8-a1f6-427f-a881-d22d034c05af')\"\n",
              "              title=\"Convert this dataframe to an interactive table.\"\n",
              "              style=\"display:none;\">\n",
              "        \n",
              "  <svg xmlns=\"http://www.w3.org/2000/svg\" height=\"24px\"viewBox=\"0 0 24 24\"\n",
              "       width=\"24px\">\n",
              "    <path d=\"M0 0h24v24H0V0z\" fill=\"none\"/>\n",
              "    <path d=\"M18.56 5.44l.94 2.06.94-2.06 2.06-.94-2.06-.94-.94-2.06-.94 2.06-2.06.94zm-11 1L8.5 8.5l.94-2.06 2.06-.94-2.06-.94L8.5 2.5l-.94 2.06-2.06.94zm10 10l.94 2.06.94-2.06 2.06-.94-2.06-.94-.94-2.06-.94 2.06-2.06.94z\"/><path d=\"M17.41 7.96l-1.37-1.37c-.4-.4-.92-.59-1.43-.59-.52 0-1.04.2-1.43.59L10.3 9.45l-7.72 7.72c-.78.78-.78 2.05 0 2.83L4 21.41c.39.39.9.59 1.41.59.51 0 1.02-.2 1.41-.59l7.78-7.78 2.81-2.81c.8-.78.8-2.07 0-2.86zM5.41 20L4 18.59l7.72-7.72 1.47 1.35L5.41 20z\"/>\n",
              "  </svg>\n",
              "      </button>\n",
              "      \n",
              "  <style>\n",
              "    .colab-df-container {\n",
              "      display:flex;\n",
              "      flex-wrap:wrap;\n",
              "      gap: 12px;\n",
              "    }\n",
              "\n",
              "    .colab-df-convert {\n",
              "      background-color: #E8F0FE;\n",
              "      border: none;\n",
              "      border-radius: 50%;\n",
              "      cursor: pointer;\n",
              "      display: none;\n",
              "      fill: #1967D2;\n",
              "      height: 32px;\n",
              "      padding: 0 0 0 0;\n",
              "      width: 32px;\n",
              "    }\n",
              "\n",
              "    .colab-df-convert:hover {\n",
              "      background-color: #E2EBFA;\n",
              "      box-shadow: 0px 1px 2px rgba(60, 64, 67, 0.3), 0px 1px 3px 1px rgba(60, 64, 67, 0.15);\n",
              "      fill: #174EA6;\n",
              "    }\n",
              "\n",
              "    [theme=dark] .colab-df-convert {\n",
              "      background-color: #3B4455;\n",
              "      fill: #D2E3FC;\n",
              "    }\n",
              "\n",
              "    [theme=dark] .colab-df-convert:hover {\n",
              "      background-color: #434B5C;\n",
              "      box-shadow: 0px 1px 3px 1px rgba(0, 0, 0, 0.15);\n",
              "      filter: drop-shadow(0px 1px 2px rgba(0, 0, 0, 0.3));\n",
              "      fill: #FFFFFF;\n",
              "    }\n",
              "  </style>\n",
              "\n",
              "      <script>\n",
              "        const buttonEl =\n",
              "          document.querySelector('#df-41dc10e8-a1f6-427f-a881-d22d034c05af button.colab-df-convert');\n",
              "        buttonEl.style.display =\n",
              "          google.colab.kernel.accessAllowed ? 'block' : 'none';\n",
              "\n",
              "        async function convertToInteractive(key) {\n",
              "          const element = document.querySelector('#df-41dc10e8-a1f6-427f-a881-d22d034c05af');\n",
              "          const dataTable =\n",
              "            await google.colab.kernel.invokeFunction('convertToInteractive',\n",
              "                                                     [key], {});\n",
              "          if (!dataTable) return;\n",
              "\n",
              "          const docLinkHtml = 'Like what you see? Visit the ' +\n",
              "            '<a target=\"_blank\" href=https://colab.research.google.com/notebooks/data_table.ipynb>data table notebook</a>'\n",
              "            + ' to learn more about interactive tables.';\n",
              "          element.innerHTML = '';\n",
              "          dataTable['output_type'] = 'display_data';\n",
              "          await google.colab.output.renderOutput(dataTable, element);\n",
              "          const docLink = document.createElement('div');\n",
              "          docLink.innerHTML = docLinkHtml;\n",
              "          element.appendChild(docLink);\n",
              "        }\n",
              "      </script>\n",
              "    </div>\n",
              "  </div>\n",
              "  "
            ]
          },
          "metadata": {},
          "execution_count": 71
        }
      ]
    },
    {
      "cell_type": "code",
      "source": [
        "#reset index to reduce error\n",
        "data_train_test.reset_index(drop= True, inplace=True)\n",
        "data_inf.reset_index(drop=True, inplace=True)\n",
        "data_inf"
      ],
      "metadata": {
        "colab": {
          "base_uri": "https://localhost:8080/",
          "height": 1000
        },
        "id": "yfwbCXBaIWPL",
        "outputId": "2a96c6f4-5429-4350-ca6e-354d9a0ed198"
      },
      "execution_count": 72,
      "outputs": [
        {
          "output_type": "execute_result",
          "data": {
            "text/plain": [
              "             Open Time     Open     High      Low    Close       Volume  \\\n",
              "0  2020-05-07 21:30:00   211.67   212.74   211.04   212.28   8430.03234   \n",
              "1  2020-08-02 13:00:00   359.19   364.89   358.55   363.90  31341.75052   \n",
              "2  2020-01-25 17:00:00   161.06   161.35   160.61   160.65   2725.35438   \n",
              "3  2021-05-12 21:00:00  4098.96  4139.96  4076.31  4138.15  14485.86676   \n",
              "4  2018-12-25 04:00:00   123.61   126.49   123.33   125.75  30608.44170   \n",
              "5  2018-10-04 17:00:00   224.17   224.33   223.01   223.15   3155.32958   \n",
              "6  2021-12-30 19:30:00  3758.06  3769.10  3748.70  3751.06   4060.88700   \n",
              "7  2019-09-11 22:30:00   177.68   178.54   177.67   178.35   2461.50220   \n",
              "8  2019-08-04 03:00:00   220.80   220.90   220.20   220.39   2922.40077   \n",
              "9  2020-02-04 04:00:00   188.08   189.00   188.07   188.62   5641.94692   \n",
              "10 2021-04-04 17:30:00  2079.36  2081.99  2075.73  2079.20   6544.67619   \n",
              "11 2019-09-09 14:00:00   182.10   182.83   181.84   182.41   3394.65063   \n",
              "12 2019-02-15 06:30:00   122.75   123.50   122.38   122.69   7787.89197   \n",
              "13 2019-12-07 04:30:00   148.82   149.49   148.71   148.84   6543.52874   \n",
              "14 2018-11-30 14:30:00   114.31   114.73   113.59   113.97   5942.43148   \n",
              "15 2020-07-31 18:30:00   343.81   344.01   341.36   342.46   9841.94041   \n",
              "16 2021-09-24 14:30:00  2923.89  2942.85  2887.51  2897.54  27816.53730   \n",
              "17 2019-03-18 20:00:00   137.40   138.07   137.34   137.75   4006.52406   \n",
              "18 2018-10-20 10:30:00   208.08   208.25   207.63   207.80   1025.60341   \n",
              "19 2019-02-03 18:30:00   107.62   107.66   107.41   107.53   2515.87290   \n",
              "\n",
              "                      Close Time  Quote Asset Volume  Number of Trades  \\\n",
              "0  2020-05-07 21:59:59.999000064        1.786312e+06              3138   \n",
              "1  2020-08-02 13:29:59.999000064        1.136947e+07             13536   \n",
              "2  2020-01-25 17:29:59.999000064        4.387203e+05              1285   \n",
              "3  2021-05-12 21:29:59.999000064        5.947341e+07             36605   \n",
              "4  2018-12-25 04:29:59.999000064        3.822828e+06              8391   \n",
              "5  2018-10-04 17:29:59.999000064        7.053454e+05              3000   \n",
              "6  2021-12-30 19:59:59.999000064        1.526765e+07              9644   \n",
              "7  2019-09-11 22:59:59.999000064        4.386104e+05              1713   \n",
              "8  2019-08-04 03:29:59.999000064        6.446054e+05              1605   \n",
              "9  2020-02-04 04:29:59.999000064        1.064297e+06              3224   \n",
              "10 2021-04-04 17:59:59.999000064        1.361154e+07             23031   \n",
              "11 2019-09-09 14:29:59.999000064        6.193541e+05              2396   \n",
              "12 2019-02-15 06:59:59.999000064        9.571361e+05              2989   \n",
              "13 2019-12-07 04:59:59.999000064        9.750156e+05              2327   \n",
              "14 2018-11-30 14:59:59.999000064        6.772448e+05              2573   \n",
              "15 2020-07-31 18:59:59.999000064        3.372507e+06              6102   \n",
              "16 2021-09-24 14:59:59.999000064        8.110337e+07             48281   \n",
              "17 2019-03-18 20:29:59.999000064        5.522270e+05              1528   \n",
              "18 2018-10-20 10:59:59.999000064        2.132080e+05               636   \n",
              "19 2019-02-03 18:59:59.999000064        2.705259e+05              1244   \n",
              "\n",
              "    TB Base Volume  TB Quote Volume  Ignore  \n",
              "0       4536.57083     9.613210e+05       0  \n",
              "1      13407.87399     4.863080e+06       0  \n",
              "2       1886.98892     3.037838e+05       0  \n",
              "3       7107.41265     2.918371e+07       0  \n",
              "4      16443.90439     2.053765e+06       0  \n",
              "5       1176.33760     2.630684e+05       0  \n",
              "6       1872.46140     7.039526e+06       0  \n",
              "7       1376.51068     2.452705e+05       0  \n",
              "8       1046.74853     2.308752e+05       0  \n",
              "9       2970.74668     5.604470e+05       0  \n",
              "10      3252.07918     6.763768e+06       0  \n",
              "11      1429.83545     2.608182e+05       0  \n",
              "12      4269.37966     5.249023e+05       0  \n",
              "13      2828.07936     4.213444e+05       0  \n",
              "14      2919.77598     3.327983e+05       0  \n",
              "15      5043.47802     1.728554e+06       0  \n",
              "16     12540.14760     3.657732e+07       0  \n",
              "17      2220.42642     3.060571e+05       0  \n",
              "18       409.10912     8.503145e+04       0  \n",
              "19      1188.60654     1.278226e+05       0  "
            ],
            "text/html": [
              "\n",
              "  <div id=\"df-9d740a27-c423-4188-8087-98dfabd618fe\">\n",
              "    <div class=\"colab-df-container\">\n",
              "      <div>\n",
              "<style scoped>\n",
              "    .dataframe tbody tr th:only-of-type {\n",
              "        vertical-align: middle;\n",
              "    }\n",
              "\n",
              "    .dataframe tbody tr th {\n",
              "        vertical-align: top;\n",
              "    }\n",
              "\n",
              "    .dataframe thead th {\n",
              "        text-align: right;\n",
              "    }\n",
              "</style>\n",
              "<table border=\"1\" class=\"dataframe\">\n",
              "  <thead>\n",
              "    <tr style=\"text-align: right;\">\n",
              "      <th></th>\n",
              "      <th>Open Time</th>\n",
              "      <th>Open</th>\n",
              "      <th>High</th>\n",
              "      <th>Low</th>\n",
              "      <th>Close</th>\n",
              "      <th>Volume</th>\n",
              "      <th>Close Time</th>\n",
              "      <th>Quote Asset Volume</th>\n",
              "      <th>Number of Trades</th>\n",
              "      <th>TB Base Volume</th>\n",
              "      <th>TB Quote Volume</th>\n",
              "      <th>Ignore</th>\n",
              "    </tr>\n",
              "  </thead>\n",
              "  <tbody>\n",
              "    <tr>\n",
              "      <th>0</th>\n",
              "      <td>2020-05-07 21:30:00</td>\n",
              "      <td>211.67</td>\n",
              "      <td>212.74</td>\n",
              "      <td>211.04</td>\n",
              "      <td>212.28</td>\n",
              "      <td>8430.03234</td>\n",
              "      <td>2020-05-07 21:59:59.999000064</td>\n",
              "      <td>1.786312e+06</td>\n",
              "      <td>3138</td>\n",
              "      <td>4536.57083</td>\n",
              "      <td>9.613210e+05</td>\n",
              "      <td>0</td>\n",
              "    </tr>\n",
              "    <tr>\n",
              "      <th>1</th>\n",
              "      <td>2020-08-02 13:00:00</td>\n",
              "      <td>359.19</td>\n",
              "      <td>364.89</td>\n",
              "      <td>358.55</td>\n",
              "      <td>363.90</td>\n",
              "      <td>31341.75052</td>\n",
              "      <td>2020-08-02 13:29:59.999000064</td>\n",
              "      <td>1.136947e+07</td>\n",
              "      <td>13536</td>\n",
              "      <td>13407.87399</td>\n",
              "      <td>4.863080e+06</td>\n",
              "      <td>0</td>\n",
              "    </tr>\n",
              "    <tr>\n",
              "      <th>2</th>\n",
              "      <td>2020-01-25 17:00:00</td>\n",
              "      <td>161.06</td>\n",
              "      <td>161.35</td>\n",
              "      <td>160.61</td>\n",
              "      <td>160.65</td>\n",
              "      <td>2725.35438</td>\n",
              "      <td>2020-01-25 17:29:59.999000064</td>\n",
              "      <td>4.387203e+05</td>\n",
              "      <td>1285</td>\n",
              "      <td>1886.98892</td>\n",
              "      <td>3.037838e+05</td>\n",
              "      <td>0</td>\n",
              "    </tr>\n",
              "    <tr>\n",
              "      <th>3</th>\n",
              "      <td>2021-05-12 21:00:00</td>\n",
              "      <td>4098.96</td>\n",
              "      <td>4139.96</td>\n",
              "      <td>4076.31</td>\n",
              "      <td>4138.15</td>\n",
              "      <td>14485.86676</td>\n",
              "      <td>2021-05-12 21:29:59.999000064</td>\n",
              "      <td>5.947341e+07</td>\n",
              "      <td>36605</td>\n",
              "      <td>7107.41265</td>\n",
              "      <td>2.918371e+07</td>\n",
              "      <td>0</td>\n",
              "    </tr>\n",
              "    <tr>\n",
              "      <th>4</th>\n",
              "      <td>2018-12-25 04:00:00</td>\n",
              "      <td>123.61</td>\n",
              "      <td>126.49</td>\n",
              "      <td>123.33</td>\n",
              "      <td>125.75</td>\n",
              "      <td>30608.44170</td>\n",
              "      <td>2018-12-25 04:29:59.999000064</td>\n",
              "      <td>3.822828e+06</td>\n",
              "      <td>8391</td>\n",
              "      <td>16443.90439</td>\n",
              "      <td>2.053765e+06</td>\n",
              "      <td>0</td>\n",
              "    </tr>\n",
              "    <tr>\n",
              "      <th>5</th>\n",
              "      <td>2018-10-04 17:00:00</td>\n",
              "      <td>224.17</td>\n",
              "      <td>224.33</td>\n",
              "      <td>223.01</td>\n",
              "      <td>223.15</td>\n",
              "      <td>3155.32958</td>\n",
              "      <td>2018-10-04 17:29:59.999000064</td>\n",
              "      <td>7.053454e+05</td>\n",
              "      <td>3000</td>\n",
              "      <td>1176.33760</td>\n",
              "      <td>2.630684e+05</td>\n",
              "      <td>0</td>\n",
              "    </tr>\n",
              "    <tr>\n",
              "      <th>6</th>\n",
              "      <td>2021-12-30 19:30:00</td>\n",
              "      <td>3758.06</td>\n",
              "      <td>3769.10</td>\n",
              "      <td>3748.70</td>\n",
              "      <td>3751.06</td>\n",
              "      <td>4060.88700</td>\n",
              "      <td>2021-12-30 19:59:59.999000064</td>\n",
              "      <td>1.526765e+07</td>\n",
              "      <td>9644</td>\n",
              "      <td>1872.46140</td>\n",
              "      <td>7.039526e+06</td>\n",
              "      <td>0</td>\n",
              "    </tr>\n",
              "    <tr>\n",
              "      <th>7</th>\n",
              "      <td>2019-09-11 22:30:00</td>\n",
              "      <td>177.68</td>\n",
              "      <td>178.54</td>\n",
              "      <td>177.67</td>\n",
              "      <td>178.35</td>\n",
              "      <td>2461.50220</td>\n",
              "      <td>2019-09-11 22:59:59.999000064</td>\n",
              "      <td>4.386104e+05</td>\n",
              "      <td>1713</td>\n",
              "      <td>1376.51068</td>\n",
              "      <td>2.452705e+05</td>\n",
              "      <td>0</td>\n",
              "    </tr>\n",
              "    <tr>\n",
              "      <th>8</th>\n",
              "      <td>2019-08-04 03:00:00</td>\n",
              "      <td>220.80</td>\n",
              "      <td>220.90</td>\n",
              "      <td>220.20</td>\n",
              "      <td>220.39</td>\n",
              "      <td>2922.40077</td>\n",
              "      <td>2019-08-04 03:29:59.999000064</td>\n",
              "      <td>6.446054e+05</td>\n",
              "      <td>1605</td>\n",
              "      <td>1046.74853</td>\n",
              "      <td>2.308752e+05</td>\n",
              "      <td>0</td>\n",
              "    </tr>\n",
              "    <tr>\n",
              "      <th>9</th>\n",
              "      <td>2020-02-04 04:00:00</td>\n",
              "      <td>188.08</td>\n",
              "      <td>189.00</td>\n",
              "      <td>188.07</td>\n",
              "      <td>188.62</td>\n",
              "      <td>5641.94692</td>\n",
              "      <td>2020-02-04 04:29:59.999000064</td>\n",
              "      <td>1.064297e+06</td>\n",
              "      <td>3224</td>\n",
              "      <td>2970.74668</td>\n",
              "      <td>5.604470e+05</td>\n",
              "      <td>0</td>\n",
              "    </tr>\n",
              "    <tr>\n",
              "      <th>10</th>\n",
              "      <td>2021-04-04 17:30:00</td>\n",
              "      <td>2079.36</td>\n",
              "      <td>2081.99</td>\n",
              "      <td>2075.73</td>\n",
              "      <td>2079.20</td>\n",
              "      <td>6544.67619</td>\n",
              "      <td>2021-04-04 17:59:59.999000064</td>\n",
              "      <td>1.361154e+07</td>\n",
              "      <td>23031</td>\n",
              "      <td>3252.07918</td>\n",
              "      <td>6.763768e+06</td>\n",
              "      <td>0</td>\n",
              "    </tr>\n",
              "    <tr>\n",
              "      <th>11</th>\n",
              "      <td>2019-09-09 14:00:00</td>\n",
              "      <td>182.10</td>\n",
              "      <td>182.83</td>\n",
              "      <td>181.84</td>\n",
              "      <td>182.41</td>\n",
              "      <td>3394.65063</td>\n",
              "      <td>2019-09-09 14:29:59.999000064</td>\n",
              "      <td>6.193541e+05</td>\n",
              "      <td>2396</td>\n",
              "      <td>1429.83545</td>\n",
              "      <td>2.608182e+05</td>\n",
              "      <td>0</td>\n",
              "    </tr>\n",
              "    <tr>\n",
              "      <th>12</th>\n",
              "      <td>2019-02-15 06:30:00</td>\n",
              "      <td>122.75</td>\n",
              "      <td>123.50</td>\n",
              "      <td>122.38</td>\n",
              "      <td>122.69</td>\n",
              "      <td>7787.89197</td>\n",
              "      <td>2019-02-15 06:59:59.999000064</td>\n",
              "      <td>9.571361e+05</td>\n",
              "      <td>2989</td>\n",
              "      <td>4269.37966</td>\n",
              "      <td>5.249023e+05</td>\n",
              "      <td>0</td>\n",
              "    </tr>\n",
              "    <tr>\n",
              "      <th>13</th>\n",
              "      <td>2019-12-07 04:30:00</td>\n",
              "      <td>148.82</td>\n",
              "      <td>149.49</td>\n",
              "      <td>148.71</td>\n",
              "      <td>148.84</td>\n",
              "      <td>6543.52874</td>\n",
              "      <td>2019-12-07 04:59:59.999000064</td>\n",
              "      <td>9.750156e+05</td>\n",
              "      <td>2327</td>\n",
              "      <td>2828.07936</td>\n",
              "      <td>4.213444e+05</td>\n",
              "      <td>0</td>\n",
              "    </tr>\n",
              "    <tr>\n",
              "      <th>14</th>\n",
              "      <td>2018-11-30 14:30:00</td>\n",
              "      <td>114.31</td>\n",
              "      <td>114.73</td>\n",
              "      <td>113.59</td>\n",
              "      <td>113.97</td>\n",
              "      <td>5942.43148</td>\n",
              "      <td>2018-11-30 14:59:59.999000064</td>\n",
              "      <td>6.772448e+05</td>\n",
              "      <td>2573</td>\n",
              "      <td>2919.77598</td>\n",
              "      <td>3.327983e+05</td>\n",
              "      <td>0</td>\n",
              "    </tr>\n",
              "    <tr>\n",
              "      <th>15</th>\n",
              "      <td>2020-07-31 18:30:00</td>\n",
              "      <td>343.81</td>\n",
              "      <td>344.01</td>\n",
              "      <td>341.36</td>\n",
              "      <td>342.46</td>\n",
              "      <td>9841.94041</td>\n",
              "      <td>2020-07-31 18:59:59.999000064</td>\n",
              "      <td>3.372507e+06</td>\n",
              "      <td>6102</td>\n",
              "      <td>5043.47802</td>\n",
              "      <td>1.728554e+06</td>\n",
              "      <td>0</td>\n",
              "    </tr>\n",
              "    <tr>\n",
              "      <th>16</th>\n",
              "      <td>2021-09-24 14:30:00</td>\n",
              "      <td>2923.89</td>\n",
              "      <td>2942.85</td>\n",
              "      <td>2887.51</td>\n",
              "      <td>2897.54</td>\n",
              "      <td>27816.53730</td>\n",
              "      <td>2021-09-24 14:59:59.999000064</td>\n",
              "      <td>8.110337e+07</td>\n",
              "      <td>48281</td>\n",
              "      <td>12540.14760</td>\n",
              "      <td>3.657732e+07</td>\n",
              "      <td>0</td>\n",
              "    </tr>\n",
              "    <tr>\n",
              "      <th>17</th>\n",
              "      <td>2019-03-18 20:00:00</td>\n",
              "      <td>137.40</td>\n",
              "      <td>138.07</td>\n",
              "      <td>137.34</td>\n",
              "      <td>137.75</td>\n",
              "      <td>4006.52406</td>\n",
              "      <td>2019-03-18 20:29:59.999000064</td>\n",
              "      <td>5.522270e+05</td>\n",
              "      <td>1528</td>\n",
              "      <td>2220.42642</td>\n",
              "      <td>3.060571e+05</td>\n",
              "      <td>0</td>\n",
              "    </tr>\n",
              "    <tr>\n",
              "      <th>18</th>\n",
              "      <td>2018-10-20 10:30:00</td>\n",
              "      <td>208.08</td>\n",
              "      <td>208.25</td>\n",
              "      <td>207.63</td>\n",
              "      <td>207.80</td>\n",
              "      <td>1025.60341</td>\n",
              "      <td>2018-10-20 10:59:59.999000064</td>\n",
              "      <td>2.132080e+05</td>\n",
              "      <td>636</td>\n",
              "      <td>409.10912</td>\n",
              "      <td>8.503145e+04</td>\n",
              "      <td>0</td>\n",
              "    </tr>\n",
              "    <tr>\n",
              "      <th>19</th>\n",
              "      <td>2019-02-03 18:30:00</td>\n",
              "      <td>107.62</td>\n",
              "      <td>107.66</td>\n",
              "      <td>107.41</td>\n",
              "      <td>107.53</td>\n",
              "      <td>2515.87290</td>\n",
              "      <td>2019-02-03 18:59:59.999000064</td>\n",
              "      <td>2.705259e+05</td>\n",
              "      <td>1244</td>\n",
              "      <td>1188.60654</td>\n",
              "      <td>1.278226e+05</td>\n",
              "      <td>0</td>\n",
              "    </tr>\n",
              "  </tbody>\n",
              "</table>\n",
              "</div>\n",
              "      <button class=\"colab-df-convert\" onclick=\"convertToInteractive('df-9d740a27-c423-4188-8087-98dfabd618fe')\"\n",
              "              title=\"Convert this dataframe to an interactive table.\"\n",
              "              style=\"display:none;\">\n",
              "        \n",
              "  <svg xmlns=\"http://www.w3.org/2000/svg\" height=\"24px\"viewBox=\"0 0 24 24\"\n",
              "       width=\"24px\">\n",
              "    <path d=\"M0 0h24v24H0V0z\" fill=\"none\"/>\n",
              "    <path d=\"M18.56 5.44l.94 2.06.94-2.06 2.06-.94-2.06-.94-.94-2.06-.94 2.06-2.06.94zm-11 1L8.5 8.5l.94-2.06 2.06-.94-2.06-.94L8.5 2.5l-.94 2.06-2.06.94zm10 10l.94 2.06.94-2.06 2.06-.94-2.06-.94-.94-2.06-.94 2.06-2.06.94z\"/><path d=\"M17.41 7.96l-1.37-1.37c-.4-.4-.92-.59-1.43-.59-.52 0-1.04.2-1.43.59L10.3 9.45l-7.72 7.72c-.78.78-.78 2.05 0 2.83L4 21.41c.39.39.9.59 1.41.59.51 0 1.02-.2 1.41-.59l7.78-7.78 2.81-2.81c.8-.78.8-2.07 0-2.86zM5.41 20L4 18.59l7.72-7.72 1.47 1.35L5.41 20z\"/>\n",
              "  </svg>\n",
              "      </button>\n",
              "      \n",
              "  <style>\n",
              "    .colab-df-container {\n",
              "      display:flex;\n",
              "      flex-wrap:wrap;\n",
              "      gap: 12px;\n",
              "    }\n",
              "\n",
              "    .colab-df-convert {\n",
              "      background-color: #E8F0FE;\n",
              "      border: none;\n",
              "      border-radius: 50%;\n",
              "      cursor: pointer;\n",
              "      display: none;\n",
              "      fill: #1967D2;\n",
              "      height: 32px;\n",
              "      padding: 0 0 0 0;\n",
              "      width: 32px;\n",
              "    }\n",
              "\n",
              "    .colab-df-convert:hover {\n",
              "      background-color: #E2EBFA;\n",
              "      box-shadow: 0px 1px 2px rgba(60, 64, 67, 0.3), 0px 1px 3px 1px rgba(60, 64, 67, 0.15);\n",
              "      fill: #174EA6;\n",
              "    }\n",
              "\n",
              "    [theme=dark] .colab-df-convert {\n",
              "      background-color: #3B4455;\n",
              "      fill: #D2E3FC;\n",
              "    }\n",
              "\n",
              "    [theme=dark] .colab-df-convert:hover {\n",
              "      background-color: #434B5C;\n",
              "      box-shadow: 0px 1px 3px 1px rgba(0, 0, 0, 0.15);\n",
              "      filter: drop-shadow(0px 1px 2px rgba(0, 0, 0, 0.3));\n",
              "      fill: #FFFFFF;\n",
              "    }\n",
              "  </style>\n",
              "\n",
              "      <script>\n",
              "        const buttonEl =\n",
              "          document.querySelector('#df-9d740a27-c423-4188-8087-98dfabd618fe button.colab-df-convert');\n",
              "        buttonEl.style.display =\n",
              "          google.colab.kernel.accessAllowed ? 'block' : 'none';\n",
              "\n",
              "        async function convertToInteractive(key) {\n",
              "          const element = document.querySelector('#df-9d740a27-c423-4188-8087-98dfabd618fe');\n",
              "          const dataTable =\n",
              "            await google.colab.kernel.invokeFunction('convertToInteractive',\n",
              "                                                     [key], {});\n",
              "          if (!dataTable) return;\n",
              "\n",
              "          const docLinkHtml = 'Like what you see? Visit the ' +\n",
              "            '<a target=\"_blank\" href=https://colab.research.google.com/notebooks/data_table.ipynb>data table notebook</a>'\n",
              "            + ' to learn more about interactive tables.';\n",
              "          element.innerHTML = '';\n",
              "          dataTable['output_type'] = 'display_data';\n",
              "          await google.colab.output.renderOutput(dataTable, element);\n",
              "          const docLink = document.createElement('div');\n",
              "          docLink.innerHTML = docLinkHtml;\n",
              "          element.appendChild(docLink);\n",
              "        }\n",
              "      </script>\n",
              "    </div>\n",
              "  </div>\n",
              "  "
            ]
          },
          "metadata": {},
          "execution_count": 72
        }
      ]
    },
    {
      "cell_type": "markdown",
      "source": [
        "## Splitting between `X` (Features) and `y` (Target)"
      ],
      "metadata": {
        "id": "k1qLMhxTJrSW"
      }
    },
    {
      "cell_type": "code",
      "source": [
        "# Split between `X` (Features) and `y` (Target)\n",
        "\n",
        "X = data_train_test.drop('Close', axis=1)\n",
        "y = data_train_test['Close']\n",
        "X"
      ],
      "metadata": {
        "colab": {
          "base_uri": "https://localhost:8080/",
          "height": 870
        },
        "id": "hLnzh8l4Jtmx",
        "outputId": "b3f1e44a-935e-434b-cc65-2f80d0424f8f"
      },
      "execution_count": 73,
      "outputs": [
        {
          "output_type": "execute_result",
          "data": {
            "text/plain": [
              "                Open Time     Open     High      Low       Volume  \\\n",
              "0     2018-07-30 00:00:00   466.40   466.96   459.33   7243.89422   \n",
              "1     2018-07-30 00:30:00   462.18   463.73   460.80   5109.95379   \n",
              "2     2018-07-30 01:00:00   463.31   465.83   462.54   4246.39675   \n",
              "3     2018-07-30 01:30:00   465.83   469.79   465.59   4739.69169   \n",
              "4     2018-07-30 02:00:00   467.00   467.06   465.00   1285.96761   \n",
              "...                   ...      ...      ...      ...          ...   \n",
              "65694 2022-05-02 03:30:00  2835.99  2845.87  2835.25   6154.79540   \n",
              "65695 2022-05-02 04:00:00  2840.72  2845.39  2832.10   5452.19620   \n",
              "65696 2022-05-02 04:30:00  2836.73  2865.83  2835.79  11939.59620   \n",
              "65697 2022-05-02 05:00:00  2856.82  2861.00  2849.41   5185.00720   \n",
              "65698 2022-05-02 05:30:00  2852.81  2860.74  2852.70   4661.57060   \n",
              "\n",
              "                         Close Time  Quote Asset Volume  Number of Trades  \\\n",
              "0     2018-07-30 00:29:59.999000064        3.346752e+06              4374   \n",
              "1     2018-07-30 00:59:59.999000064        2.362062e+06              1985   \n",
              "2     2018-07-30 01:29:59.999000064        1.968973e+06              1758   \n",
              "3     2018-07-30 01:59:59.999000064        2.213044e+06              2743   \n",
              "4     2018-07-30 02:29:59.999000064        5.991792e+05              1476   \n",
              "...                             ...                 ...               ...   \n",
              "65694 2022-05-02 03:59:59.999000064        1.749037e+07              7448   \n",
              "65695 2022-05-02 04:29:59.999000064        1.547552e+07              6670   \n",
              "65696 2022-05-02 04:59:59.999000064        3.404923e+07             14476   \n",
              "65697 2022-05-02 05:29:59.999000064        1.480223e+07              7277   \n",
              "65698 2022-05-02 05:59:59.999000064        1.331682e+07              4663   \n",
              "\n",
              "       TB Base Volume  TB Quote Volume  Ignore  \n",
              "0          2505.43960     1.157332e+06       0  \n",
              "1          3217.78863     1.487773e+06       0  \n",
              "2          2312.34703     1.072244e+06       0  \n",
              "3          3453.32561     1.612223e+06       0  \n",
              "4           810.74776     3.777827e+05       0  \n",
              "...               ...              ...     ...  \n",
              "65694      3899.76570     1.108108e+07       0  \n",
              "65695      2814.16580     7.987077e+06       0  \n",
              "65696      6894.85560     1.966199e+07       0  \n",
              "65697      2798.49980     7.988733e+06       0  \n",
              "65698      2577.67830     7.363419e+06       0  \n",
              "\n",
              "[65699 rows x 11 columns]"
            ],
            "text/html": [
              "\n",
              "  <div id=\"df-75459ec3-35d5-4634-a8fe-6d1180e7393a\">\n",
              "    <div class=\"colab-df-container\">\n",
              "      <div>\n",
              "<style scoped>\n",
              "    .dataframe tbody tr th:only-of-type {\n",
              "        vertical-align: middle;\n",
              "    }\n",
              "\n",
              "    .dataframe tbody tr th {\n",
              "        vertical-align: top;\n",
              "    }\n",
              "\n",
              "    .dataframe thead th {\n",
              "        text-align: right;\n",
              "    }\n",
              "</style>\n",
              "<table border=\"1\" class=\"dataframe\">\n",
              "  <thead>\n",
              "    <tr style=\"text-align: right;\">\n",
              "      <th></th>\n",
              "      <th>Open Time</th>\n",
              "      <th>Open</th>\n",
              "      <th>High</th>\n",
              "      <th>Low</th>\n",
              "      <th>Volume</th>\n",
              "      <th>Close Time</th>\n",
              "      <th>Quote Asset Volume</th>\n",
              "      <th>Number of Trades</th>\n",
              "      <th>TB Base Volume</th>\n",
              "      <th>TB Quote Volume</th>\n",
              "      <th>Ignore</th>\n",
              "    </tr>\n",
              "  </thead>\n",
              "  <tbody>\n",
              "    <tr>\n",
              "      <th>0</th>\n",
              "      <td>2018-07-30 00:00:00</td>\n",
              "      <td>466.40</td>\n",
              "      <td>466.96</td>\n",
              "      <td>459.33</td>\n",
              "      <td>7243.89422</td>\n",
              "      <td>2018-07-30 00:29:59.999000064</td>\n",
              "      <td>3.346752e+06</td>\n",
              "      <td>4374</td>\n",
              "      <td>2505.43960</td>\n",
              "      <td>1.157332e+06</td>\n",
              "      <td>0</td>\n",
              "    </tr>\n",
              "    <tr>\n",
              "      <th>1</th>\n",
              "      <td>2018-07-30 00:30:00</td>\n",
              "      <td>462.18</td>\n",
              "      <td>463.73</td>\n",
              "      <td>460.80</td>\n",
              "      <td>5109.95379</td>\n",
              "      <td>2018-07-30 00:59:59.999000064</td>\n",
              "      <td>2.362062e+06</td>\n",
              "      <td>1985</td>\n",
              "      <td>3217.78863</td>\n",
              "      <td>1.487773e+06</td>\n",
              "      <td>0</td>\n",
              "    </tr>\n",
              "    <tr>\n",
              "      <th>2</th>\n",
              "      <td>2018-07-30 01:00:00</td>\n",
              "      <td>463.31</td>\n",
              "      <td>465.83</td>\n",
              "      <td>462.54</td>\n",
              "      <td>4246.39675</td>\n",
              "      <td>2018-07-30 01:29:59.999000064</td>\n",
              "      <td>1.968973e+06</td>\n",
              "      <td>1758</td>\n",
              "      <td>2312.34703</td>\n",
              "      <td>1.072244e+06</td>\n",
              "      <td>0</td>\n",
              "    </tr>\n",
              "    <tr>\n",
              "      <th>3</th>\n",
              "      <td>2018-07-30 01:30:00</td>\n",
              "      <td>465.83</td>\n",
              "      <td>469.79</td>\n",
              "      <td>465.59</td>\n",
              "      <td>4739.69169</td>\n",
              "      <td>2018-07-30 01:59:59.999000064</td>\n",
              "      <td>2.213044e+06</td>\n",
              "      <td>2743</td>\n",
              "      <td>3453.32561</td>\n",
              "      <td>1.612223e+06</td>\n",
              "      <td>0</td>\n",
              "    </tr>\n",
              "    <tr>\n",
              "      <th>4</th>\n",
              "      <td>2018-07-30 02:00:00</td>\n",
              "      <td>467.00</td>\n",
              "      <td>467.06</td>\n",
              "      <td>465.00</td>\n",
              "      <td>1285.96761</td>\n",
              "      <td>2018-07-30 02:29:59.999000064</td>\n",
              "      <td>5.991792e+05</td>\n",
              "      <td>1476</td>\n",
              "      <td>810.74776</td>\n",
              "      <td>3.777827e+05</td>\n",
              "      <td>0</td>\n",
              "    </tr>\n",
              "    <tr>\n",
              "      <th>...</th>\n",
              "      <td>...</td>\n",
              "      <td>...</td>\n",
              "      <td>...</td>\n",
              "      <td>...</td>\n",
              "      <td>...</td>\n",
              "      <td>...</td>\n",
              "      <td>...</td>\n",
              "      <td>...</td>\n",
              "      <td>...</td>\n",
              "      <td>...</td>\n",
              "      <td>...</td>\n",
              "    </tr>\n",
              "    <tr>\n",
              "      <th>65694</th>\n",
              "      <td>2022-05-02 03:30:00</td>\n",
              "      <td>2835.99</td>\n",
              "      <td>2845.87</td>\n",
              "      <td>2835.25</td>\n",
              "      <td>6154.79540</td>\n",
              "      <td>2022-05-02 03:59:59.999000064</td>\n",
              "      <td>1.749037e+07</td>\n",
              "      <td>7448</td>\n",
              "      <td>3899.76570</td>\n",
              "      <td>1.108108e+07</td>\n",
              "      <td>0</td>\n",
              "    </tr>\n",
              "    <tr>\n",
              "      <th>65695</th>\n",
              "      <td>2022-05-02 04:00:00</td>\n",
              "      <td>2840.72</td>\n",
              "      <td>2845.39</td>\n",
              "      <td>2832.10</td>\n",
              "      <td>5452.19620</td>\n",
              "      <td>2022-05-02 04:29:59.999000064</td>\n",
              "      <td>1.547552e+07</td>\n",
              "      <td>6670</td>\n",
              "      <td>2814.16580</td>\n",
              "      <td>7.987077e+06</td>\n",
              "      <td>0</td>\n",
              "    </tr>\n",
              "    <tr>\n",
              "      <th>65696</th>\n",
              "      <td>2022-05-02 04:30:00</td>\n",
              "      <td>2836.73</td>\n",
              "      <td>2865.83</td>\n",
              "      <td>2835.79</td>\n",
              "      <td>11939.59620</td>\n",
              "      <td>2022-05-02 04:59:59.999000064</td>\n",
              "      <td>3.404923e+07</td>\n",
              "      <td>14476</td>\n",
              "      <td>6894.85560</td>\n",
              "      <td>1.966199e+07</td>\n",
              "      <td>0</td>\n",
              "    </tr>\n",
              "    <tr>\n",
              "      <th>65697</th>\n",
              "      <td>2022-05-02 05:00:00</td>\n",
              "      <td>2856.82</td>\n",
              "      <td>2861.00</td>\n",
              "      <td>2849.41</td>\n",
              "      <td>5185.00720</td>\n",
              "      <td>2022-05-02 05:29:59.999000064</td>\n",
              "      <td>1.480223e+07</td>\n",
              "      <td>7277</td>\n",
              "      <td>2798.49980</td>\n",
              "      <td>7.988733e+06</td>\n",
              "      <td>0</td>\n",
              "    </tr>\n",
              "    <tr>\n",
              "      <th>65698</th>\n",
              "      <td>2022-05-02 05:30:00</td>\n",
              "      <td>2852.81</td>\n",
              "      <td>2860.74</td>\n",
              "      <td>2852.70</td>\n",
              "      <td>4661.57060</td>\n",
              "      <td>2022-05-02 05:59:59.999000064</td>\n",
              "      <td>1.331682e+07</td>\n",
              "      <td>4663</td>\n",
              "      <td>2577.67830</td>\n",
              "      <td>7.363419e+06</td>\n",
              "      <td>0</td>\n",
              "    </tr>\n",
              "  </tbody>\n",
              "</table>\n",
              "<p>65699 rows × 11 columns</p>\n",
              "</div>\n",
              "      <button class=\"colab-df-convert\" onclick=\"convertToInteractive('df-75459ec3-35d5-4634-a8fe-6d1180e7393a')\"\n",
              "              title=\"Convert this dataframe to an interactive table.\"\n",
              "              style=\"display:none;\">\n",
              "        \n",
              "  <svg xmlns=\"http://www.w3.org/2000/svg\" height=\"24px\"viewBox=\"0 0 24 24\"\n",
              "       width=\"24px\">\n",
              "    <path d=\"M0 0h24v24H0V0z\" fill=\"none\"/>\n",
              "    <path d=\"M18.56 5.44l.94 2.06.94-2.06 2.06-.94-2.06-.94-.94-2.06-.94 2.06-2.06.94zm-11 1L8.5 8.5l.94-2.06 2.06-.94-2.06-.94L8.5 2.5l-.94 2.06-2.06.94zm10 10l.94 2.06.94-2.06 2.06-.94-2.06-.94-.94-2.06-.94 2.06-2.06.94z\"/><path d=\"M17.41 7.96l-1.37-1.37c-.4-.4-.92-.59-1.43-.59-.52 0-1.04.2-1.43.59L10.3 9.45l-7.72 7.72c-.78.78-.78 2.05 0 2.83L4 21.41c.39.39.9.59 1.41.59.51 0 1.02-.2 1.41-.59l7.78-7.78 2.81-2.81c.8-.78.8-2.07 0-2.86zM5.41 20L4 18.59l7.72-7.72 1.47 1.35L5.41 20z\"/>\n",
              "  </svg>\n",
              "      </button>\n",
              "      \n",
              "  <style>\n",
              "    .colab-df-container {\n",
              "      display:flex;\n",
              "      flex-wrap:wrap;\n",
              "      gap: 12px;\n",
              "    }\n",
              "\n",
              "    .colab-df-convert {\n",
              "      background-color: #E8F0FE;\n",
              "      border: none;\n",
              "      border-radius: 50%;\n",
              "      cursor: pointer;\n",
              "      display: none;\n",
              "      fill: #1967D2;\n",
              "      height: 32px;\n",
              "      padding: 0 0 0 0;\n",
              "      width: 32px;\n",
              "    }\n",
              "\n",
              "    .colab-df-convert:hover {\n",
              "      background-color: #E2EBFA;\n",
              "      box-shadow: 0px 1px 2px rgba(60, 64, 67, 0.3), 0px 1px 3px 1px rgba(60, 64, 67, 0.15);\n",
              "      fill: #174EA6;\n",
              "    }\n",
              "\n",
              "    [theme=dark] .colab-df-convert {\n",
              "      background-color: #3B4455;\n",
              "      fill: #D2E3FC;\n",
              "    }\n",
              "\n",
              "    [theme=dark] .colab-df-convert:hover {\n",
              "      background-color: #434B5C;\n",
              "      box-shadow: 0px 1px 3px 1px rgba(0, 0, 0, 0.15);\n",
              "      filter: drop-shadow(0px 1px 2px rgba(0, 0, 0, 0.3));\n",
              "      fill: #FFFFFF;\n",
              "    }\n",
              "  </style>\n",
              "\n",
              "      <script>\n",
              "        const buttonEl =\n",
              "          document.querySelector('#df-75459ec3-35d5-4634-a8fe-6d1180e7393a button.colab-df-convert');\n",
              "        buttonEl.style.display =\n",
              "          google.colab.kernel.accessAllowed ? 'block' : 'none';\n",
              "\n",
              "        async function convertToInteractive(key) {\n",
              "          const element = document.querySelector('#df-75459ec3-35d5-4634-a8fe-6d1180e7393a');\n",
              "          const dataTable =\n",
              "            await google.colab.kernel.invokeFunction('convertToInteractive',\n",
              "                                                     [key], {});\n",
              "          if (!dataTable) return;\n",
              "\n",
              "          const docLinkHtml = 'Like what you see? Visit the ' +\n",
              "            '<a target=\"_blank\" href=https://colab.research.google.com/notebooks/data_table.ipynb>data table notebook</a>'\n",
              "            + ' to learn more about interactive tables.';\n",
              "          element.innerHTML = '';\n",
              "          dataTable['output_type'] = 'display_data';\n",
              "          await google.colab.output.renderOutput(dataTable, element);\n",
              "          const docLink = document.createElement('div');\n",
              "          docLink.innerHTML = docLinkHtml;\n",
              "          element.appendChild(docLink);\n",
              "        }\n",
              "      </script>\n",
              "    </div>\n",
              "  </div>\n",
              "  "
            ]
          },
          "metadata": {},
          "execution_count": 73
        }
      ]
    },
    {
      "cell_type": "code",
      "source": [
        "# Split between Train-Set and Test-Set 80% dan 20%\n",
        "X_train, X_test, y_train, y_test = train_test_split(X, y, test_size=0.2, random_state=17)\n",
        "\n",
        "print('Train Size : ', X_train.shape)\n",
        "print('Test Size  : ', X_test.shape)"
      ],
      "metadata": {
        "colab": {
          "base_uri": "https://localhost:8080/"
        },
        "id": "IILl3AgbJ4rQ",
        "outputId": "79135644-c9d0-44ca-925f-87ad1b519719"
      },
      "execution_count": 74,
      "outputs": [
        {
          "output_type": "stream",
          "name": "stdout",
          "text": [
            "Train Size :  (52559, 11)\n",
            "Test Size  :  (13140, 11)\n"
          ]
        }
      ]
    },
    {
      "cell_type": "markdown",
      "source": [
        "## Handling outliers"
      ],
      "metadata": {
        "id": "0glFL5BjKABx"
      }
    },
    {
      "cell_type": "code",
      "source": [
        "# Plot outlier for target\n",
        "\n",
        "def outlier_plot(features):\n",
        "    # Define figure size\n",
        "    plt.figure(figsize=(16, 6))\n",
        "\n",
        "    # Histogram\n",
        "    plt.subplot(1, 2, 1)\n",
        "    sns.histplot(features, bins=30, kde=True)\n",
        "    plt.title('Histogram')\n",
        "\n",
        "    # Boxplot\n",
        "    plt.subplot(1, 2, 2)\n",
        "    sns.boxplot(y=features)\n",
        "    plt.title('Boxplot')\n",
        "\n",
        "    plt.show()"
      ],
      "metadata": {
        "id": "0vznx-I68BMd"
      },
      "execution_count": 75,
      "outputs": []
    },
    {
      "cell_type": "code",
      "source": [
        "# make function to see histogram distribusion data dan box plot outliers\n",
        "def diagnostic_plots(df_train, variable):\n",
        "    # Define figure size\n",
        "    plt.figure(figsize=(16, 4))\n",
        "\n",
        "    # Histogram\n",
        "    plt.subplot(1, 2, 1)\n",
        "    sns.histplot(df_train[variable], bins=30)\n",
        "    plt.title('Histogram')\n",
        "\n",
        "    # Boxplot\n",
        "    plt.subplot(1, 2, 2)\n",
        "    sns.boxplot(y=df_train[variable])\n",
        "    plt.title('Boxplot')\n",
        "\n",
        "    plt.show()\n",
        "    \n",
        "    print('skewness:', df_train[variable].skew())\n",
        "    if (df_train[variable].skew() >= -0.5 ) | (df_train[variable].skew() <= 0.5 ) :\n",
        "      print('the distribution is skewed')\n",
        "    else:\n",
        "      print('the distribution is normal')"
      ],
      "metadata": {
        "id": "CTdgf59QhvK9"
      },
      "execution_count": 76,
      "outputs": []
    },
    {
      "cell_type": "code",
      "source": [
        "# make boundary function\n",
        "def iqr_calc(feature):\n",
        "    skew_value = feature.skew()\n",
        "    if -0.5 > skew_value < 0.5:\n",
        "        upper_boundary = feature.mean() + 3 * feature.std()\n",
        "        lower_boundary = feature.mean() - 3 * feature.std()\n",
        "    else:\n",
        "        IQR= feature.quantile(0.75) - feature.quantile(0.25)\n",
        "        lower_boundary= feature.quantile(0.25)-(IQR*1.5)\n",
        "        upper_boundary= feature.quantile(0.75)+(IQR*1.5)\n",
        "    return lower_boundary, upper_boundary"
      ],
      "metadata": {
        "id": "q-JhTNkihwx9"
      },
      "execution_count": 77,
      "outputs": []
    },
    {
      "cell_type": "code",
      "source": [
        "# make capping function\n",
        "def capping_data(dataset, column):\n",
        "  lower_bound, upper_bound = iqr_calc(dataset[column])\n",
        "  dataset.loc[dataset[column] > upper_bound, column] = upper_bound\n",
        "  dataset.loc[dataset[column] < lower_bound, column] = lower_bound\n",
        "  return dataset"
      ],
      "metadata": {
        "id": "sLLJ0y0Lh0mX"
      },
      "execution_count": 78,
      "outputs": []
    },
    {
      "cell_type": "code",
      "source": [
        "# diagram open\n",
        "diagnostic_plots(X_train, 'Open')\n"
      ],
      "metadata": {
        "colab": {
          "base_uri": "https://localhost:8080/",
          "height": 325
        },
        "id": "-FcUfTX9h23j",
        "outputId": "a602ffd8-19f5-44b7-8cdb-3f65f6cd5fc5"
      },
      "execution_count": 79,
      "outputs": [
        {
          "output_type": "display_data",
          "data": {
            "text/plain": [
              "<Figure size 1152x288 with 2 Axes>"
            ],
            "image/png": "[encoded data removed]"
          },
          "metadata": {
            "needs_background": "light"
          }
        },
        {
          "output_type": "stream",
          "name": "stdout",
          "text": [
            "skewness: 1.0525615887031563\n",
            "the distribution is skewed\n"
          ]
        }
      ]
    },
    {
      "cell_type": "code",
      "source": [
        "# diagram high\n",
        "diagnostic_plots(X_train, 'High')\n"
      ],
      "metadata": {
        "colab": {
          "base_uri": "https://localhost:8080/",
          "height": 325
        },
        "id": "1_SZ_jGhjzsv",
        "outputId": "808843dc-1338-4af9-e29f-c5e155b69aee"
      },
      "execution_count": 80,
      "outputs": [
        {
          "output_type": "display_data",
          "data": {
            "text/plain": [
              "<Figure size 1152x288 with 2 Axes>"
            ],
            "image/png": "[encoded data removed]"
          },
          "metadata": {
            "needs_background": "light"
          }
        },
        {
          "output_type": "stream",
          "name": "stdout",
          "text": [
            "skewness: 1.0507728699590893\n",
            "the distribution is skewed\n"
          ]
        }
      ]
    },
    {
      "cell_type": "code",
      "source": [
        "# diagram low\n",
        "diagnostic_plots(X_train, 'Low')\n"
      ],
      "metadata": {
        "colab": {
          "base_uri": "https://localhost:8080/",
          "height": 325
        },
        "id": "sTKJZ7NCj56P",
        "outputId": "eccff60e-2073-4662-afab-d1df3ddce8d5"
      },
      "execution_count": 81,
      "outputs": [
        {
          "output_type": "display_data",
          "data": {
            "text/plain": [
              "<Figure size 1152x288 with 2 Axes>"
            ],
            "image/png": "[encoded data removed]"
          },
          "metadata": {
            "needs_background": "light"
          }
        },
        {
          "output_type": "stream",
          "name": "stdout",
          "text": [
            "skewness: 1.0546202845912593\n",
            "the distribution is skewed\n"
          ]
        }
      ]
    },
    {
      "cell_type": "markdown",
      "source": [
        "<b><h1>Setelah peneliti lihat tidak ada outlier, tetapi data <i>skew</i></h1></b>"
      ],
      "metadata": {
        "id": "zOfdYzCiacHJ"
      }
    },
    {
      "cell_type": "markdown",
      "source": [
        "## Handling missing Value"
      ],
      "metadata": {
        "id": "TUFcD_WEbsQc"
      }
    },
    {
      "cell_type": "code",
      "source": [
        "# Check Missing Values in `X_train`\n",
        "X_train.isnull().sum()"
      ],
      "metadata": {
        "colab": {
          "base_uri": "https://localhost:8080/"
        },
        "id": "ePN7E0TQbuOD",
        "outputId": "197c84db-5ea8-443a-dd6e-c35007d5d137"
      },
      "execution_count": 82,
      "outputs": [
        {
          "output_type": "execute_result",
          "data": {
            "text/plain": [
              "Open Time             0\n",
              "Open                  0\n",
              "High                  0\n",
              "Low                   0\n",
              "Volume                0\n",
              "Close Time            0\n",
              "Quote Asset Volume    0\n",
              "Number of Trades      0\n",
              "TB Base Volume        0\n",
              "TB Quote Volume       0\n",
              "Ignore                0\n",
              "dtype: int64"
            ]
          },
          "metadata": {},
          "execution_count": 82
        }
      ]
    },
    {
      "cell_type": "code",
      "source": [
        "# Check Missing Values in `X_test`\n",
        "\n",
        "X_test.isnull().sum()"
      ],
      "metadata": {
        "colab": {
          "base_uri": "https://localhost:8080/"
        },
        "id": "ep7jmIWSbxcU",
        "outputId": "6a5eae91-0f06-4f22-bc2e-895433493514"
      },
      "execution_count": 83,
      "outputs": [
        {
          "output_type": "execute_result",
          "data": {
            "text/plain": [
              "Open Time             0\n",
              "Open                  0\n",
              "High                  0\n",
              "Low                   0\n",
              "Volume                0\n",
              "Close Time            0\n",
              "Quote Asset Volume    0\n",
              "Number of Trades      0\n",
              "TB Base Volume        0\n",
              "TB Quote Volume       0\n",
              "Ignore                0\n",
              "dtype: int64"
            ]
          },
          "metadata": {},
          "execution_count": 83
        }
      ]
    },
    {
      "cell_type": "code",
      "source": [
        "# Check Missing Values in `y_train`\n",
        "\n",
        "y_train.isnull().sum()"
      ],
      "metadata": {
        "colab": {
          "base_uri": "https://localhost:8080/"
        },
        "id": "V32hv6dGb1Ry",
        "outputId": "20469dfc-76a8-48f9-87f3-749c3ff41db7"
      },
      "execution_count": 84,
      "outputs": [
        {
          "output_type": "execute_result",
          "data": {
            "text/plain": [
              "0"
            ]
          },
          "metadata": {},
          "execution_count": 84
        }
      ]
    },
    {
      "cell_type": "code",
      "source": [
        "# Check Missing Values in `y_test`\n",
        "\n",
        "y_test.isna().sum()"
      ],
      "metadata": {
        "colab": {
          "base_uri": "https://localhost:8080/"
        },
        "id": "5lrHN-GFb4RJ",
        "outputId": "ddb2fdf7-2648-476e-e3d8-b45bd4ded432"
      },
      "execution_count": 85,
      "outputs": [
        {
          "output_type": "execute_result",
          "data": {
            "text/plain": [
              "0"
            ]
          },
          "metadata": {},
          "execution_count": 85
        }
      ]
    },
    {
      "cell_type": "markdown",
      "source": [
        "<b><h1>Tidak ada missing value di X ataupun y</h1></b>"
      ],
      "metadata": {
        "id": "nVHTXRPPb6Me"
      }
    },
    {
      "cell_type": "markdown",
      "source": [
        "## Feature Selection"
      ],
      "metadata": {
        "id": "ANYfmTHBcKLy"
      }
    },
    {
      "cell_type": "code",
      "source": [
        "#display Xtrain\n",
        "X_train"
      ],
      "metadata": {
        "colab": {
          "base_uri": "https://localhost:8080/",
          "height": 870
        },
        "id": "aO3TG2YWdHQY",
        "outputId": "7641f08b-7fe4-48c6-de23-1dffe7c5e341"
      },
      "execution_count": 86,
      "outputs": [
        {
          "output_type": "execute_result",
          "data": {
            "text/plain": [
              "                Open Time     Open     High      Low       Volume  \\\n",
              "35291 2020-08-05 19:00:00   397.45   400.00   397.43  22282.87915   \n",
              "55548 2021-10-02 18:00:00  3429.82  3444.51  3411.37   7879.73990   \n",
              "18256 2019-08-15 23:00:00   187.89   188.73   186.26   7958.22526   \n",
              "45685 2021-03-10 16:00:00  1831.04  1841.46  1820.75  19416.58066   \n",
              "27291 2020-02-20 17:30:00   253.09   254.52   250.76  22248.86886   \n",
              "...                   ...      ...      ...      ...          ...   \n",
              "37332 2020-09-17 07:30:00   381.05   381.11   378.61  21168.42207   \n",
              "25631 2020-01-16 20:00:00   163.56   164.25   163.50   3432.12448   \n",
              "42297 2020-12-29 23:30:00   729.64   737.30   729.48  25026.20028   \n",
              "34959 2020-07-29 20:00:00   321.68   322.96   321.49  10904.15756   \n",
              "64753 2022-04-12 13:00:00  3079.75  3085.00  3060.68  24445.05410   \n",
              "\n",
              "                         Close Time  Quote Asset Volume  Number of Trades  \\\n",
              "35291 2020-08-05 19:29:59.999000064        8.888336e+06              8429   \n",
              "55548 2021-10-02 18:29:59.999000064        2.698801e+07             17073   \n",
              "18256 2019-08-15 23:29:59.999000064        1.491950e+06              3933   \n",
              "45685 2021-03-10 16:29:59.999000064        3.557054e+07             20983   \n",
              "27291 2020-02-20 17:59:59.999000064        5.620705e+06              9058   \n",
              "...                             ...                 ...               ...   \n",
              "37332 2020-09-17 07:59:59.999000064        8.043622e+06              8777   \n",
              "25631 2020-01-16 20:29:59.999000064        5.625737e+05              2383   \n",
              "42297 2020-12-29 23:59:59.999000064        1.837053e+07             14632   \n",
              "34959 2020-07-29 20:29:59.999000064        3.513458e+06              4985   \n",
              "64753 2022-04-12 13:29:59.999000064        7.509880e+07             27721   \n",
              "\n",
              "       TB Base Volume  TB Quote Volume  Ignore  \n",
              "35291     12807.60618     5.109187e+06       0  \n",
              "55548      3525.05080     1.207561e+07       0  \n",
              "18256      3072.80317     5.764441e+05       0  \n",
              "45685      9324.14449     1.708125e+07       0  \n",
              "27291     11573.03169     2.924113e+06       0  \n",
              "...               ...              ...     ...  \n",
              "37332      9481.09487     3.602480e+06       0  \n",
              "25631      1748.66764     2.866654e+05       0  \n",
              "42297     13934.34553     1.022808e+07       0  \n",
              "34959      5756.67820     1.854660e+06       0  \n",
              "64753     11839.42750     3.637001e+07       0  \n",
              "\n",
              "[52559 rows x 11 columns]"
            ],
            "text/html": [
              "\n",
              "  <div id=\"df-8c16d28c-e217-4931-b267-69b0e4ad0aea\">\n",
              "    <div class=\"colab-df-container\">\n",
              "      <div>\n",
              "<style scoped>\n",
              "    .dataframe tbody tr th:only-of-type {\n",
              "        vertical-align: middle;\n",
              "    }\n",
              "\n",
              "    .dataframe tbody tr th {\n",
              "        vertical-align: top;\n",
              "    }\n",
              "\n",
              "    .dataframe thead th {\n",
              "        text-align: right;\n",
              "    }\n",
              "</style>\n",
              "<table border=\"1\" class=\"dataframe\">\n",
              "  <thead>\n",
              "    <tr style=\"text-align: right;\">\n",
              "      <th></th>\n",
              "      <th>Open Time</th>\n",
              "      <th>Open</th>\n",
              "      <th>High</th>\n",
              "      <th>Low</th>\n",
              "      <th>Volume</th>\n",
              "      <th>Close Time</th>\n",
              "      <th>Quote Asset Volume</th>\n",
              "      <th>Number of Trades</th>\n",
              "      <th>TB Base Volume</th>\n",
              "      <th>TB Quote Volume</th>\n",
              "      <th>Ignore</th>\n",
              "    </tr>\n",
              "  </thead>\n",
              "  <tbody>\n",
              "    <tr>\n",
              "      <th>35291</th>\n",
              "      <td>2020-08-05 19:00:00</td>\n",
              "      <td>397.45</td>\n",
              "      <td>400.00</td>\n",
              "      <td>397.43</td>\n",
              "      <td>22282.87915</td>\n",
              "      <td>2020-08-05 19:29:59.999000064</td>\n",
              "      <td>8.888336e+06</td>\n",
              "      <td>8429</td>\n",
              "      <td>12807.60618</td>\n",
              "      <td>5.109187e+06</td>\n",
              "      <td>0</td>\n",
              "    </tr>\n",
              "    <tr>\n",
              "      <th>55548</th>\n",
              "      <td>2021-10-02 18:00:00</td>\n",
              "      <td>3429.82</td>\n",
              "      <td>3444.51</td>\n",
              "      <td>3411.37</td>\n",
              "      <td>7879.73990</td>\n",
              "      <td>2021-10-02 18:29:59.999000064</td>\n",
              "      <td>2.698801e+07</td>\n",
              "      <td>17073</td>\n",
              "      <td>3525.05080</td>\n",
              "      <td>1.207561e+07</td>\n",
              "      <td>0</td>\n",
              "    </tr>\n",
              "    <tr>\n",
              "      <th>18256</th>\n",
              "      <td>2019-08-15 23:00:00</td>\n",
              "      <td>187.89</td>\n",
              "      <td>188.73</td>\n",
              "      <td>186.26</td>\n",
              "      <td>7958.22526</td>\n",
              "      <td>2019-08-15 23:29:59.999000064</td>\n",
              "      <td>1.491950e+06</td>\n",
              "      <td>3933</td>\n",
              "      <td>3072.80317</td>\n",
              "      <td>5.764441e+05</td>\n",
              "      <td>0</td>\n",
              "    </tr>\n",
              "    <tr>\n",
              "      <th>45685</th>\n",
              "      <td>2021-03-10 16:00:00</td>\n",
              "      <td>1831.04</td>\n",
              "      <td>1841.46</td>\n",
              "      <td>1820.75</td>\n",
              "      <td>19416.58066</td>\n",
              "      <td>2021-03-10 16:29:59.999000064</td>\n",
              "      <td>3.557054e+07</td>\n",
              "      <td>20983</td>\n",
              "      <td>9324.14449</td>\n",
              "      <td>1.708125e+07</td>\n",
              "      <td>0</td>\n",
              "    </tr>\n",
              "    <tr>\n",
              "      <th>27291</th>\n",
              "      <td>2020-02-20 17:30:00</td>\n",
              "      <td>253.09</td>\n",
              "      <td>254.52</td>\n",
              "      <td>250.76</td>\n",
              "      <td>22248.86886</td>\n",
              "      <td>2020-02-20 17:59:59.999000064</td>\n",
              "      <td>5.620705e+06</td>\n",
              "      <td>9058</td>\n",
              "      <td>11573.03169</td>\n",
              "      <td>2.924113e+06</td>\n",
              "      <td>0</td>\n",
              "    </tr>\n",
              "    <tr>\n",
              "      <th>...</th>\n",
              "      <td>...</td>\n",
              "      <td>...</td>\n",
              "      <td>...</td>\n",
              "      <td>...</td>\n",
              "      <td>...</td>\n",
              "      <td>...</td>\n",
              "      <td>...</td>\n",
              "      <td>...</td>\n",
              "      <td>...</td>\n",
              "      <td>...</td>\n",
              "      <td>...</td>\n",
              "    </tr>\n",
              "    <tr>\n",
              "      <th>37332</th>\n",
              "      <td>2020-09-17 07:30:00</td>\n",
              "      <td>381.05</td>\n",
              "      <td>381.11</td>\n",
              "      <td>378.61</td>\n",
              "      <td>21168.42207</td>\n",
              "      <td>2020-09-17 07:59:59.999000064</td>\n",
              "      <td>8.043622e+06</td>\n",
              "      <td>8777</td>\n",
              "      <td>9481.09487</td>\n",
              "      <td>3.602480e+06</td>\n",
              "      <td>0</td>\n",
              "    </tr>\n",
              "    <tr>\n",
              "      <th>25631</th>\n",
              "      <td>2020-01-16 20:00:00</td>\n",
              "      <td>163.56</td>\n",
              "      <td>164.25</td>\n",
              "      <td>163.50</td>\n",
              "      <td>3432.12448</td>\n",
              "      <td>2020-01-16 20:29:59.999000064</td>\n",
              "      <td>5.625737e+05</td>\n",
              "      <td>2383</td>\n",
              "      <td>1748.66764</td>\n",
              "      <td>2.866654e+05</td>\n",
              "      <td>0</td>\n",
              "    </tr>\n",
              "    <tr>\n",
              "      <th>42297</th>\n",
              "      <td>2020-12-29 23:30:00</td>\n",
              "      <td>729.64</td>\n",
              "      <td>737.30</td>\n",
              "      <td>729.48</td>\n",
              "      <td>25026.20028</td>\n",
              "      <td>2020-12-29 23:59:59.999000064</td>\n",
              "      <td>1.837053e+07</td>\n",
              "      <td>14632</td>\n",
              "      <td>13934.34553</td>\n",
              "      <td>1.022808e+07</td>\n",
              "      <td>0</td>\n",
              "    </tr>\n",
              "    <tr>\n",
              "      <th>34959</th>\n",
              "      <td>2020-07-29 20:00:00</td>\n",
              "      <td>321.68</td>\n",
              "      <td>322.96</td>\n",
              "      <td>321.49</td>\n",
              "      <td>10904.15756</td>\n",
              "      <td>2020-07-29 20:29:59.999000064</td>\n",
              "      <td>3.513458e+06</td>\n",
              "      <td>4985</td>\n",
              "      <td>5756.67820</td>\n",
              "      <td>1.854660e+06</td>\n",
              "      <td>0</td>\n",
              "    </tr>\n",
              "    <tr>\n",
              "      <th>64753</th>\n",
              "      <td>2022-04-12 13:00:00</td>\n",
              "      <td>3079.75</td>\n",
              "      <td>3085.00</td>\n",
              "      <td>3060.68</td>\n",
              "      <td>24445.05410</td>\n",
              "      <td>2022-04-12 13:29:59.999000064</td>\n",
              "      <td>7.509880e+07</td>\n",
              "      <td>27721</td>\n",
              "      <td>11839.42750</td>\n",
              "      <td>3.637001e+07</td>\n",
              "      <td>0</td>\n",
              "    </tr>\n",
              "  </tbody>\n",
              "</table>\n",
              "<p>52559 rows × 11 columns</p>\n",
              "</div>\n",
              "      <button class=\"colab-df-convert\" onclick=\"convertToInteractive('df-8c16d28c-e217-4931-b267-69b0e4ad0aea')\"\n",
              "              title=\"Convert this dataframe to an interactive table.\"\n",
              "              style=\"display:none;\">\n",
              "        \n",
              "  <svg xmlns=\"http://www.w3.org/2000/svg\" height=\"24px\"viewBox=\"0 0 24 24\"\n",
              "       width=\"24px\">\n",
              "    <path d=\"M0 0h24v24H0V0z\" fill=\"none\"/>\n",
              "    <path d=\"M18.56 5.44l.94 2.06.94-2.06 2.06-.94-2.06-.94-.94-2.06-.94 2.06-2.06.94zm-11 1L8.5 8.5l.94-2.06 2.06-.94-2.06-.94L8.5 2.5l-.94 2.06-2.06.94zm10 10l.94 2.06.94-2.06 2.06-.94-2.06-.94-.94-2.06-.94 2.06-2.06.94z\"/><path d=\"M17.41 7.96l-1.37-1.37c-.4-.4-.92-.59-1.43-.59-.52 0-1.04.2-1.43.59L10.3 9.45l-7.72 7.72c-.78.78-.78 2.05 0 2.83L4 21.41c.39.39.9.59 1.41.59.51 0 1.02-.2 1.41-.59l7.78-7.78 2.81-2.81c.8-.78.8-2.07 0-2.86zM5.41 20L4 18.59l7.72-7.72 1.47 1.35L5.41 20z\"/>\n",
              "  </svg>\n",
              "      </button>\n",
              "      \n",
              "  <style>\n",
              "    .colab-df-container {\n",
              "      display:flex;\n",
              "      flex-wrap:wrap;\n",
              "      gap: 12px;\n",
              "    }\n",
              "\n",
              "    .colab-df-convert {\n",
              "      background-color: #E8F0FE;\n",
              "      border: none;\n",
              "      border-radius: 50%;\n",
              "      cursor: pointer;\n",
              "      display: none;\n",
              "      fill: #1967D2;\n",
              "      height: 32px;\n",
              "      padding: 0 0 0 0;\n",
              "      width: 32px;\n",
              "    }\n",
              "\n",
              "    .colab-df-convert:hover {\n",
              "      background-color: #E2EBFA;\n",
              "      box-shadow: 0px 1px 2px rgba(60, 64, 67, 0.3), 0px 1px 3px 1px rgba(60, 64, 67, 0.15);\n",
              "      fill: #174EA6;\n",
              "    }\n",
              "\n",
              "    [theme=dark] .colab-df-convert {\n",
              "      background-color: #3B4455;\n",
              "      fill: #D2E3FC;\n",
              "    }\n",
              "\n",
              "    [theme=dark] .colab-df-convert:hover {\n",
              "      background-color: #434B5C;\n",
              "      box-shadow: 0px 1px 3px 1px rgba(0, 0, 0, 0.15);\n",
              "      filter: drop-shadow(0px 1px 2px rgba(0, 0, 0, 0.3));\n",
              "      fill: #FFFFFF;\n",
              "    }\n",
              "  </style>\n",
              "\n",
              "      <script>\n",
              "        const buttonEl =\n",
              "          document.querySelector('#df-8c16d28c-e217-4931-b267-69b0e4ad0aea button.colab-df-convert');\n",
              "        buttonEl.style.display =\n",
              "          google.colab.kernel.accessAllowed ? 'block' : 'none';\n",
              "\n",
              "        async function convertToInteractive(key) {\n",
              "          const element = document.querySelector('#df-8c16d28c-e217-4931-b267-69b0e4ad0aea');\n",
              "          const dataTable =\n",
              "            await google.colab.kernel.invokeFunction('convertToInteractive',\n",
              "                                                     [key], {});\n",
              "          if (!dataTable) return;\n",
              "\n",
              "          const docLinkHtml = 'Like what you see? Visit the ' +\n",
              "            '<a target=\"_blank\" href=https://colab.research.google.com/notebooks/data_table.ipynb>data table notebook</a>'\n",
              "            + ' to learn more about interactive tables.';\n",
              "          element.innerHTML = '';\n",
              "          dataTable['output_type'] = 'display_data';\n",
              "          await google.colab.output.renderOutput(dataTable, element);\n",
              "          const docLink = document.createElement('div');\n",
              "          docLink.innerHTML = docLinkHtml;\n",
              "          element.appendChild(docLink);\n",
              "        }\n",
              "      </script>\n",
              "    </div>\n",
              "  </div>\n",
              "  "
            ]
          },
          "metadata": {},
          "execution_count": 86
        }
      ]
    },
    {
      "cell_type": "code",
      "source": [
        "# membuat df bedasarkan Feature selection\n",
        "\n",
        "X_train_num=X_train[['Open','High','Low']]\n",
        "X_test_num=X_test[['Open','High','Low']]\n",
        "X_train_num"
      ],
      "metadata": {
        "colab": {
          "base_uri": "https://localhost:8080/",
          "height": 424
        },
        "id": "C62liA6VhRGY",
        "outputId": "ff156228-5cc1-4e21-c02a-a8cf4d1ebeb6"
      },
      "execution_count": 87,
      "outputs": [
        {
          "output_type": "execute_result",
          "data": {
            "text/plain": [
              "          Open     High      Low\n",
              "35291   397.45   400.00   397.43\n",
              "55548  3429.82  3444.51  3411.37\n",
              "18256   187.89   188.73   186.26\n",
              "45685  1831.04  1841.46  1820.75\n",
              "27291   253.09   254.52   250.76\n",
              "...        ...      ...      ...\n",
              "37332   381.05   381.11   378.61\n",
              "25631   163.56   164.25   163.50\n",
              "42297   729.64   737.30   729.48\n",
              "34959   321.68   322.96   321.49\n",
              "64753  3079.75  3085.00  3060.68\n",
              "\n",
              "[52559 rows x 3 columns]"
            ],
            "text/html": [
              "\n",
              "  <div id=\"df-d099abb4-0e92-4eff-ae3e-9542e189537b\">\n",
              "    <div class=\"colab-df-container\">\n",
              "      <div>\n",
              "<style scoped>\n",
              "    .dataframe tbody tr th:only-of-type {\n",
              "        vertical-align: middle;\n",
              "    }\n",
              "\n",
              "    .dataframe tbody tr th {\n",
              "        vertical-align: top;\n",
              "    }\n",
              "\n",
              "    .dataframe thead th {\n",
              "        text-align: right;\n",
              "    }\n",
              "</style>\n",
              "<table border=\"1\" class=\"dataframe\">\n",
              "  <thead>\n",
              "    <tr style=\"text-align: right;\">\n",
              "      <th></th>\n",
              "      <th>Open</th>\n",
              "      <th>High</th>\n",
              "      <th>Low</th>\n",
              "    </tr>\n",
              "  </thead>\n",
              "  <tbody>\n",
              "    <tr>\n",
              "      <th>35291</th>\n",
              "      <td>397.45</td>\n",
              "      <td>400.00</td>\n",
              "      <td>397.43</td>\n",
              "    </tr>\n",
              "    <tr>\n",
              "      <th>55548</th>\n",
              "      <td>3429.82</td>\n",
              "      <td>3444.51</td>\n",
              "      <td>3411.37</td>\n",
              "    </tr>\n",
              "    <tr>\n",
              "      <th>18256</th>\n",
              "      <td>187.89</td>\n",
              "      <td>188.73</td>\n",
              "      <td>186.26</td>\n",
              "    </tr>\n",
              "    <tr>\n",
              "      <th>45685</th>\n",
              "      <td>1831.04</td>\n",
              "      <td>1841.46</td>\n",
              "      <td>1820.75</td>\n",
              "    </tr>\n",
              "    <tr>\n",
              "      <th>27291</th>\n",
              "      <td>253.09</td>\n",
              "      <td>254.52</td>\n",
              "      <td>250.76</td>\n",
              "    </tr>\n",
              "    <tr>\n",
              "      <th>...</th>\n",
              "      <td>...</td>\n",
              "      <td>...</td>\n",
              "      <td>...</td>\n",
              "    </tr>\n",
              "    <tr>\n",
              "      <th>37332</th>\n",
              "      <td>381.05</td>\n",
              "      <td>381.11</td>\n",
              "      <td>378.61</td>\n",
              "    </tr>\n",
              "    <tr>\n",
              "      <th>25631</th>\n",
              "      <td>163.56</td>\n",
              "      <td>164.25</td>\n",
              "      <td>163.50</td>\n",
              "    </tr>\n",
              "    <tr>\n",
              "      <th>42297</th>\n",
              "      <td>729.64</td>\n",
              "      <td>737.30</td>\n",
              "      <td>729.48</td>\n",
              "    </tr>\n",
              "    <tr>\n",
              "      <th>34959</th>\n",
              "      <td>321.68</td>\n",
              "      <td>322.96</td>\n",
              "      <td>321.49</td>\n",
              "    </tr>\n",
              "    <tr>\n",
              "      <th>64753</th>\n",
              "      <td>3079.75</td>\n",
              "      <td>3085.00</td>\n",
              "      <td>3060.68</td>\n",
              "    </tr>\n",
              "  </tbody>\n",
              "</table>\n",
              "<p>52559 rows × 3 columns</p>\n",
              "</div>\n",
              "      <button class=\"colab-df-convert\" onclick=\"convertToInteractive('df-d099abb4-0e92-4eff-ae3e-9542e189537b')\"\n",
              "              title=\"Convert this dataframe to an interactive table.\"\n",
              "              style=\"display:none;\">\n",
              "        \n",
              "  <svg xmlns=\"http://www.w3.org/2000/svg\" height=\"24px\"viewBox=\"0 0 24 24\"\n",
              "       width=\"24px\">\n",
              "    <path d=\"M0 0h24v24H0V0z\" fill=\"none\"/>\n",
              "    <path d=\"M18.56 5.44l.94 2.06.94-2.06 2.06-.94-2.06-.94-.94-2.06-.94 2.06-2.06.94zm-11 1L8.5 8.5l.94-2.06 2.06-.94-2.06-.94L8.5 2.5l-.94 2.06-2.06.94zm10 10l.94 2.06.94-2.06 2.06-.94-2.06-.94-.94-2.06-.94 2.06-2.06.94z\"/><path d=\"M17.41 7.96l-1.37-1.37c-.4-.4-.92-.59-1.43-.59-.52 0-1.04.2-1.43.59L10.3 9.45l-7.72 7.72c-.78.78-.78 2.05 0 2.83L4 21.41c.39.39.9.59 1.41.59.51 0 1.02-.2 1.41-.59l7.78-7.78 2.81-2.81c.8-.78.8-2.07 0-2.86zM5.41 20L4 18.59l7.72-7.72 1.47 1.35L5.41 20z\"/>\n",
              "  </svg>\n",
              "      </button>\n",
              "      \n",
              "  <style>\n",
              "    .colab-df-container {\n",
              "      display:flex;\n",
              "      flex-wrap:wrap;\n",
              "      gap: 12px;\n",
              "    }\n",
              "\n",
              "    .colab-df-convert {\n",
              "      background-color: #E8F0FE;\n",
              "      border: none;\n",
              "      border-radius: 50%;\n",
              "      cursor: pointer;\n",
              "      display: none;\n",
              "      fill: #1967D2;\n",
              "      height: 32px;\n",
              "      padding: 0 0 0 0;\n",
              "      width: 32px;\n",
              "    }\n",
              "\n",
              "    .colab-df-convert:hover {\n",
              "      background-color: #E2EBFA;\n",
              "      box-shadow: 0px 1px 2px rgba(60, 64, 67, 0.3), 0px 1px 3px 1px rgba(60, 64, 67, 0.15);\n",
              "      fill: #174EA6;\n",
              "    }\n",
              "\n",
              "    [theme=dark] .colab-df-convert {\n",
              "      background-color: #3B4455;\n",
              "      fill: #D2E3FC;\n",
              "    }\n",
              "\n",
              "    [theme=dark] .colab-df-convert:hover {\n",
              "      background-color: #434B5C;\n",
              "      box-shadow: 0px 1px 3px 1px rgba(0, 0, 0, 0.15);\n",
              "      filter: drop-shadow(0px 1px 2px rgba(0, 0, 0, 0.3));\n",
              "      fill: #FFFFFF;\n",
              "    }\n",
              "  </style>\n",
              "\n",
              "      <script>\n",
              "        const buttonEl =\n",
              "          document.querySelector('#df-d099abb4-0e92-4eff-ae3e-9542e189537b button.colab-df-convert');\n",
              "        buttonEl.style.display =\n",
              "          google.colab.kernel.accessAllowed ? 'block' : 'none';\n",
              "\n",
              "        async function convertToInteractive(key) {\n",
              "          const element = document.querySelector('#df-d099abb4-0e92-4eff-ae3e-9542e189537b');\n",
              "          const dataTable =\n",
              "            await google.colab.kernel.invokeFunction('convertToInteractive',\n",
              "                                                     [key], {});\n",
              "          if (!dataTable) return;\n",
              "\n",
              "          const docLinkHtml = 'Like what you see? Visit the ' +\n",
              "            '<a target=\"_blank\" href=https://colab.research.google.com/notebooks/data_table.ipynb>data table notebook</a>'\n",
              "            + ' to learn more about interactive tables.';\n",
              "          element.innerHTML = '';\n",
              "          dataTable['output_type'] = 'display_data';\n",
              "          await google.colab.output.renderOutput(dataTable, element);\n",
              "          const docLink = document.createElement('div');\n",
              "          docLink.innerHTML = docLinkHtml;\n",
              "          element.appendChild(docLink);\n",
              "        }\n",
              "      </script>\n",
              "    </div>\n",
              "  </div>\n",
              "  "
            ]
          },
          "metadata": {},
          "execution_count": 87
        }
      ]
    },
    {
      "cell_type": "markdown",
      "source": [
        "## Split between Numerical Columns and Categorical Columns"
      ],
      "metadata": {
        "id": "iyzGQiBThvUm"
      }
    },
    {
      "cell_type": "markdown",
      "source": [
        "##<p>Peneliti tidak split numerical dan categorical dikarenakan peneliti akan memakai Pipline</p>"
      ],
      "metadata": {
        "id": "W_wLjjVAvwqW"
      }
    },
    {
      "cell_type": "markdown",
      "source": [
        "## Feature Scaling"
      ],
      "metadata": {
        "id": "R3YK1POciqn0"
      }
    },
    {
      "cell_type": "markdown",
      "source": [
        "##<p>Peneliti memakai pipline dan scaling minmax untuk feature <b>skew</b> dan standard scaler untuk yang tidak <b>skew</b></p>"
      ],
      "metadata": {
        "id": "ERl452wmjDfV"
      }
    },
    {
      "cell_type": "code",
      "source": [
        "numeric_skew = [\"Open\",\"High\",\"Low\"]\n",
        "\n",
        "numeric_transformer_mms = Pipeline([(\"scaler\", MinMaxScaler())])\n",
        "\n",
        "preprocessor = ColumnTransformer(\n",
        "    transformers=[\n",
        "        (\"num\", numeric_transformer_mms, numeric_skew)\n",
        "    ]\n",
        ")\n"
      ],
      "metadata": {
        "id": "iSyynSc906gj"
      },
      "execution_count": 88,
      "outputs": []
    },
    {
      "cell_type": "markdown",
      "source": [
        "## Feature Encoding"
      ],
      "metadata": {
        "id": "-bOcA2Mgls3u"
      }
    },
    {
      "cell_type": "markdown",
      "source": [
        "##Tidak Melakukan proses Encoding karena data Feature bertipe numerik semua"
      ],
      "metadata": {
        "id": "NcXTooJylw1u"
      }
    },
    {
      "cell_type": "markdown",
      "source": [
        "## Concate between Numerical Columns and Categorical Columns"
      ],
      "metadata": {
        "id": "TwdyMIkKl8jg"
      }
    },
    {
      "cell_type": "markdown",
      "source": [
        "###tidak ada concate, tetapi mendefinisikan menjadi X_train_final dan X_test_final"
      ],
      "metadata": {
        "id": "3AzKpS8JutAv"
      }
    },
    {
      "cell_type": "code",
      "source": [
        "# Mendefinisikan X_train ke X_train_final\n",
        "\n",
        "X_train_final = X_train_num\n",
        "X_test_final = X_test_num\n",
        "X_test_final"
      ],
      "metadata": {
        "colab": {
          "base_uri": "https://localhost:8080/",
          "height": 424
        },
        "id": "a4BWL4_NwWB-",
        "outputId": "b5f4d5f9-86b0-4ac7-f61c-f0ce2d80cc4c"
      },
      "execution_count": 89,
      "outputs": [
        {
          "output_type": "execute_result",
          "data": {
            "text/plain": [
              "          Open     High      Low\n",
              "52614  2617.75  2624.28  2577.57\n",
              "61359  2672.50  2684.57  2662.51\n",
              "18699   189.06   189.26   187.99\n",
              "56107  3627.08  3639.39  3625.00\n",
              "45267  1520.84  1547.63  1518.64\n",
              "...        ...      ...      ...\n",
              "60227  3215.66  3216.32  3204.43\n",
              "9392    120.45   120.50   119.37\n",
              "14687   265.21   268.25   265.11\n",
              "30616   223.41   223.81   222.19\n",
              "10815   132.67   133.09   132.40\n",
              "\n",
              "[13140 rows x 3 columns]"
            ],
            "text/html": [
              "\n",
              "  <div id=\"df-334e5657-941b-4b14-ac43-f0ccc63ee20a\">\n",
              "    <div class=\"colab-df-container\">\n",
              "      <div>\n",
              "<style scoped>\n",
              "    .dataframe tbody tr th:only-of-type {\n",
              "        vertical-align: middle;\n",
              "    }\n",
              "\n",
              "    .dataframe tbody tr th {\n",
              "        vertical-align: top;\n",
              "    }\n",
              "\n",
              "    .dataframe thead th {\n",
              "        text-align: right;\n",
              "    }\n",
              "</style>\n",
              "<table border=\"1\" class=\"dataframe\">\n",
              "  <thead>\n",
              "    <tr style=\"text-align: right;\">\n",
              "      <th></th>\n",
              "      <th>Open</th>\n",
              "      <th>High</th>\n",
              "      <th>Low</th>\n",
              "    </tr>\n",
              "  </thead>\n",
              "  <tbody>\n",
              "    <tr>\n",
              "      <th>52614</th>\n",
              "      <td>2617.75</td>\n",
              "      <td>2624.28</td>\n",
              "      <td>2577.57</td>\n",
              "    </tr>\n",
              "    <tr>\n",
              "      <th>61359</th>\n",
              "      <td>2672.50</td>\n",
              "      <td>2684.57</td>\n",
              "      <td>2662.51</td>\n",
              "    </tr>\n",
              "    <tr>\n",
              "      <th>18699</th>\n",
              "      <td>189.06</td>\n",
              "      <td>189.26</td>\n",
              "      <td>187.99</td>\n",
              "    </tr>\n",
              "    <tr>\n",
              "      <th>56107</th>\n",
              "      <td>3627.08</td>\n",
              "      <td>3639.39</td>\n",
              "      <td>3625.00</td>\n",
              "    </tr>\n",
              "    <tr>\n",
              "      <th>45267</th>\n",
              "      <td>1520.84</td>\n",
              "      <td>1547.63</td>\n",
              "      <td>1518.64</td>\n",
              "    </tr>\n",
              "    <tr>\n",
              "      <th>...</th>\n",
              "      <td>...</td>\n",
              "      <td>...</td>\n",
              "      <td>...</td>\n",
              "    </tr>\n",
              "    <tr>\n",
              "      <th>60227</th>\n",
              "      <td>3215.66</td>\n",
              "      <td>3216.32</td>\n",
              "      <td>3204.43</td>\n",
              "    </tr>\n",
              "    <tr>\n",
              "      <th>9392</th>\n",
              "      <td>120.45</td>\n",
              "      <td>120.50</td>\n",
              "      <td>119.37</td>\n",
              "    </tr>\n",
              "    <tr>\n",
              "      <th>14687</th>\n",
              "      <td>265.21</td>\n",
              "      <td>268.25</td>\n",
              "      <td>265.11</td>\n",
              "    </tr>\n",
              "    <tr>\n",
              "      <th>30616</th>\n",
              "      <td>223.41</td>\n",
              "      <td>223.81</td>\n",
              "      <td>222.19</td>\n",
              "    </tr>\n",
              "    <tr>\n",
              "      <th>10815</th>\n",
              "      <td>132.67</td>\n",
              "      <td>133.09</td>\n",
              "      <td>132.40</td>\n",
              "    </tr>\n",
              "  </tbody>\n",
              "</table>\n",
              "<p>13140 rows × 3 columns</p>\n",
              "</div>\n",
              "      <button class=\"colab-df-convert\" onclick=\"convertToInteractive('df-334e5657-941b-4b14-ac43-f0ccc63ee20a')\"\n",
              "              title=\"Convert this dataframe to an interactive table.\"\n",
              "              style=\"display:none;\">\n",
              "        \n",
              "  <svg xmlns=\"http://www.w3.org/2000/svg\" height=\"24px\"viewBox=\"0 0 24 24\"\n",
              "       width=\"24px\">\n",
              "    <path d=\"M0 0h24v24H0V0z\" fill=\"none\"/>\n",
              "    <path d=\"M18.56 5.44l.94 2.06.94-2.06 2.06-.94-2.06-.94-.94-2.06-.94 2.06-2.06.94zm-11 1L8.5 8.5l.94-2.06 2.06-.94-2.06-.94L8.5 2.5l-.94 2.06-2.06.94zm10 10l.94 2.06.94-2.06 2.06-.94-2.06-.94-.94-2.06-.94 2.06-2.06.94z\"/><path d=\"M17.41 7.96l-1.37-1.37c-.4-.4-.92-.59-1.43-.59-.52 0-1.04.2-1.43.59L10.3 9.45l-7.72 7.72c-.78.78-.78 2.05 0 2.83L4 21.41c.39.39.9.59 1.41.59.51 0 1.02-.2 1.41-.59l7.78-7.78 2.81-2.81c.8-.78.8-2.07 0-2.86zM5.41 20L4 18.59l7.72-7.72 1.47 1.35L5.41 20z\"/>\n",
              "  </svg>\n",
              "      </button>\n",
              "      \n",
              "  <style>\n",
              "    .colab-df-container {\n",
              "      display:flex;\n",
              "      flex-wrap:wrap;\n",
              "      gap: 12px;\n",
              "    }\n",
              "\n",
              "    .colab-df-convert {\n",
              "      background-color: #E8F0FE;\n",
              "      border: none;\n",
              "      border-radius: 50%;\n",
              "      cursor: pointer;\n",
              "      display: none;\n",
              "      fill: #1967D2;\n",
              "      height: 32px;\n",
              "      padding: 0 0 0 0;\n",
              "      width: 32px;\n",
              "    }\n",
              "\n",
              "    .colab-df-convert:hover {\n",
              "      background-color: #E2EBFA;\n",
              "      box-shadow: 0px 1px 2px rgba(60, 64, 67, 0.3), 0px 1px 3px 1px rgba(60, 64, 67, 0.15);\n",
              "      fill: #174EA6;\n",
              "    }\n",
              "\n",
              "    [theme=dark] .colab-df-convert {\n",
              "      background-color: #3B4455;\n",
              "      fill: #D2E3FC;\n",
              "    }\n",
              "\n",
              "    [theme=dark] .colab-df-convert:hover {\n",
              "      background-color: #434B5C;\n",
              "      box-shadow: 0px 1px 3px 1px rgba(0, 0, 0, 0.15);\n",
              "      filter: drop-shadow(0px 1px 2px rgba(0, 0, 0, 0.3));\n",
              "      fill: #FFFFFF;\n",
              "    }\n",
              "  </style>\n",
              "\n",
              "      <script>\n",
              "        const buttonEl =\n",
              "          document.querySelector('#df-334e5657-941b-4b14-ac43-f0ccc63ee20a button.colab-df-convert');\n",
              "        buttonEl.style.display =\n",
              "          google.colab.kernel.accessAllowed ? 'block' : 'none';\n",
              "\n",
              "        async function convertToInteractive(key) {\n",
              "          const element = document.querySelector('#df-334e5657-941b-4b14-ac43-f0ccc63ee20a');\n",
              "          const dataTable =\n",
              "            await google.colab.kernel.invokeFunction('convertToInteractive',\n",
              "                                                     [key], {});\n",
              "          if (!dataTable) return;\n",
              "\n",
              "          const docLinkHtml = 'Like what you see? Visit the ' +\n",
              "            '<a target=\"_blank\" href=https://colab.research.google.com/notebooks/data_table.ipynb>data table notebook</a>'\n",
              "            + ' to learn more about interactive tables.';\n",
              "          element.innerHTML = '';\n",
              "          dataTable['output_type'] = 'display_data';\n",
              "          await google.colab.output.renderOutput(dataTable, element);\n",
              "          const docLink = document.createElement('div');\n",
              "          docLink.innerHTML = docLinkHtml;\n",
              "          element.appendChild(docLink);\n",
              "        }\n",
              "      </script>\n",
              "    </div>\n",
              "  </div>\n",
              "  "
            ]
          },
          "metadata": {},
          "execution_count": 89
        }
      ]
    },
    {
      "cell_type": "markdown",
      "source": [
        "# 6 - Model Definition"
      ],
      "metadata": {
        "id": "BbWOCv6ymGy9"
      }
    },
    {
      "cell_type": "markdown",
      "source": [
        "Disini akan melakukan dengan model\n",
        "<li>LinearRegression\n",
        "<li>SVR()\n",
        "<li>Ridge()\n",
        "<li>Lasso()\n",
        "<li>RandomForestRegressor()"
      ],
      "metadata": {
        "id": "l5Rmr34PmTsj"
      }
    },
    {
      "cell_type": "code",
      "source": [
        "#mendefinisikan model\n",
        "lr = LinearRegression()\n",
        "SVR_model = SVR()\n",
        "ridge_model = Ridge()\n",
        "lasso_model = Lasso()\n",
        "rf=RandomForestRegressor()\n",
        "\n",
        "\n",
        "\n",
        "\n"
      ],
      "metadata": {
        "id": "42LJsgwmmIZY"
      },
      "execution_count": 90,
      "outputs": []
    },
    {
      "cell_type": "markdown",
      "source": [
        "# 7 - Model Training"
      ],
      "metadata": {
        "id": "gjyyo6lCy7xi"
      }
    },
    {
      "cell_type": "code",
      "source": [
        "#LinearRegression()\n",
        "pipelr = Pipeline([(\"prep\", preprocessor), (\"lr\", LinearRegression())])\n",
        "pipelr.fit(X_train,y_train)"
      ],
      "metadata": {
        "colab": {
          "base_uri": "https://localhost:8080/"
        },
        "id": "GY0O_Q8W7VRM",
        "outputId": "e184f6b2-e5b2-4730-f69a-4017fc32fa8a"
      },
      "execution_count": 91,
      "outputs": [
        {
          "output_type": "execute_result",
          "data": {
            "text/plain": [
              "Pipeline(steps=[('prep',\n",
              "                 ColumnTransformer(transformers=[('num',\n",
              "                                                  Pipeline(steps=[('scaler',\n",
              "                                                                   MinMaxScaler())]),\n",
              "                                                  ['Open', 'High', 'Low'])])),\n",
              "                ('lr', LinearRegression())])"
            ]
          },
          "metadata": {},
          "execution_count": 91
        }
      ]
    },
    {
      "cell_type": "code",
      "source": [
        "#SVR()\n",
        "pipesvr = Pipeline([(\"prep\", preprocessor), (\"SVR_model\", SVR())])\n",
        "pipesvr.fit(X_train,y_train)"
      ],
      "metadata": {
        "colab": {
          "base_uri": "https://localhost:8080/"
        },
        "id": "xI9svtarzKXp",
        "outputId": "18ebef5c-8919-49aa-e131-9c7901a14b0d"
      },
      "execution_count": 92,
      "outputs": [
        {
          "output_type": "execute_result",
          "data": {
            "text/plain": [
              "Pipeline(steps=[('prep',\n",
              "                 ColumnTransformer(transformers=[('num',\n",
              "                                                  Pipeline(steps=[('scaler',\n",
              "                                                                   MinMaxScaler())]),\n",
              "                                                  ['Open', 'High', 'Low'])])),\n",
              "                ('SVR_model', SVR())])"
            ]
          },
          "metadata": {},
          "execution_count": 92
        }
      ]
    },
    {
      "cell_type": "code",
      "source": [
        "#Ridge()\n",
        "piperidge = Pipeline([(\"prep\", preprocessor), (\"ridge_model\", Ridge())])\n",
        "piperidge.fit(X_train,y_train)"
      ],
      "metadata": {
        "colab": {
          "base_uri": "https://localhost:8080/"
        },
        "id": "y9ZnfwidzmYQ",
        "outputId": "9a8461b0-9d1a-49c6-d36b-8b145c035759"
      },
      "execution_count": 93,
      "outputs": [
        {
          "output_type": "execute_result",
          "data": {
            "text/plain": [
              "Pipeline(steps=[('prep',\n",
              "                 ColumnTransformer(transformers=[('num',\n",
              "                                                  Pipeline(steps=[('scaler',\n",
              "                                                                   MinMaxScaler())]),\n",
              "                                                  ['Open', 'High', 'Low'])])),\n",
              "                ('ridge_model', Ridge())])"
            ]
          },
          "metadata": {},
          "execution_count": 93
        }
      ]
    },
    {
      "cell_type": "code",
      "source": [
        "#Lasso()\n",
        "pipelasso = Pipeline([(\"prep\", preprocessor), (\"lasso_model\", Lasso())])\n",
        "%timeit pipelasso.fit(X_train,y_train)"
      ],
      "metadata": {
        "colab": {
          "base_uri": "https://localhost:8080/"
        },
        "id": "-YBvciE_z6sQ",
        "outputId": "90619495-a712-4fb5-c3a9-3731b8f1f1a9"
      },
      "execution_count": 94,
      "outputs": [
        {
          "output_type": "stream",
          "name": "stdout",
          "text": [
            "14.7 ms ± 324 µs per loop (mean ± std. dev. of 7 runs, 100 loops each)\n"
          ]
        }
      ]
    },
    {
      "cell_type": "code",
      "source": [
        "#RandomForestRegressor\n",
        "piperf = Pipeline([(\"prep\", preprocessor), (\"RandomForestRegressor\", RandomForestRegressor())])\n",
        "%timeit piperf.fit(X_train,y_train)"
      ],
      "metadata": {
        "colab": {
          "base_uri": "https://localhost:8080/"
        },
        "id": "dopj03lw0MRS",
        "outputId": "67d8470b-b605-4d65-f0da-97b9bdb7d485"
      },
      "execution_count": 95,
      "outputs": [
        {
          "output_type": "stream",
          "name": "stdout",
          "text": [
            "21.7 s ± 2.08 s per loop (mean ± std. dev. of 7 runs, 1 loop each)\n"
          ]
        }
      ]
    },
    {
      "cell_type": "markdown",
      "source": [
        "# 8 - Model Evaluation"
      ],
      "metadata": {
        "id": "RSMiNhH01TCZ"
      }
    },
    {
      "cell_type": "markdown",
      "source": [
        "##LinearRegression"
      ],
      "metadata": {
        "id": "-xwB9HtA9lHM"
      }
    },
    {
      "cell_type": "code",
      "source": [
        "#Define variable untuk memakai Cross_val_score\n",
        "scoreslr = cross_val_score(pipelr, X_train_final, y_train,cv=5)\n"
      ],
      "metadata": {
        "id": "_5LlQD5b1UZ0"
      },
      "execution_count": 96,
      "outputs": []
    },
    {
      "cell_type": "code",
      "source": [
        "#memakai method mean() untuk mencari mean\n",
        "scoreslr.mean()"
      ],
      "metadata": {
        "colab": {
          "base_uri": "https://localhost:8080/"
        },
        "id": "z1oSsl0G6PX5",
        "outputId": "b037a3a6-6764-4cd5-94b0-480cf2a2445a"
      },
      "execution_count": 97,
      "outputs": [
        {
          "output_type": "execute_result",
          "data": {
            "text/plain": [
              "0.9999823629437387"
            ]
          },
          "metadata": {},
          "execution_count": 97
        }
      ]
    },
    {
      "cell_type": "code",
      "source": [
        "#memakai method std() untuk mencari std\n",
        "scoreslr.std()"
      ],
      "metadata": {
        "colab": {
          "base_uri": "https://localhost:8080/"
        },
        "id": "KTH2iA7U60Mp",
        "outputId": "f12aa34d-fee1-4bf1-c184-2223520110d5"
      },
      "execution_count": 98,
      "outputs": [
        {
          "output_type": "execute_result",
          "data": {
            "text/plain": [
              "6.689266190984511e-07"
            ]
          },
          "metadata": {},
          "execution_count": 98
        }
      ]
    },
    {
      "cell_type": "markdown",
      "source": [
        "##SVM SVR"
      ],
      "metadata": {
        "id": "14n_3_rk-Ebi"
      }
    },
    {
      "cell_type": "code",
      "source": [
        "#Define variable untuk memakai Cross_val_score\n",
        "scores_SVM = cross_val_score(pipesvr, X_train_final, y_train,cv=5)"
      ],
      "metadata": {
        "id": "LOewyOsW-KlJ"
      },
      "execution_count": 99,
      "outputs": []
    },
    {
      "cell_type": "code",
      "source": [
        "#memakai method mean() untuk mencari mean\n",
        "scores_SVM.mean()"
      ],
      "metadata": {
        "colab": {
          "base_uri": "https://localhost:8080/"
        },
        "id": "3-oSp9L1-V3a",
        "outputId": "ad684e5e-9598-4db9-ccd0-69cd4d694132"
      },
      "execution_count": 100,
      "outputs": [
        {
          "output_type": "execute_result",
          "data": {
            "text/plain": [
              "0.995617211773898"
            ]
          },
          "metadata": {},
          "execution_count": 100
        }
      ]
    },
    {
      "cell_type": "code",
      "source": [
        "#memakai method std() untuk mencari std\n",
        "scores_SVM.std()"
      ],
      "metadata": {
        "colab": {
          "base_uri": "https://localhost:8080/"
        },
        "id": "gy-k8LwB-bNp",
        "outputId": "909af339-67e9-4b50-82e5-045c07e4e65d"
      },
      "execution_count": 101,
      "outputs": [
        {
          "output_type": "execute_result",
          "data": {
            "text/plain": [
              "0.00036618549532707096"
            ]
          },
          "metadata": {},
          "execution_count": 101
        }
      ]
    },
    {
      "cell_type": "markdown",
      "source": [
        "##Ridge"
      ],
      "metadata": {
        "id": "2nI4E_3j-gSN"
      }
    },
    {
      "cell_type": "code",
      "source": [
        "#Define variable untuk memakai Cross_val_score\n",
        "scores_ridge = cross_val_score(piperidge, X_train_final, y_train,cv=5)"
      ],
      "metadata": {
        "id": "DSVsb-mf-kYs"
      },
      "execution_count": 102,
      "outputs": []
    },
    {
      "cell_type": "code",
      "source": [
        "#memakai method mean() untuk mencari mean\n",
        "scores_ridge.mean()"
      ],
      "metadata": {
        "colab": {
          "base_uri": "https://localhost:8080/"
        },
        "id": "64gkp4y2-tWh",
        "outputId": "0c16a0e1-8128-46c3-92fe-da7543ac5b48"
      },
      "execution_count": 103,
      "outputs": [
        {
          "output_type": "execute_result",
          "data": {
            "text/plain": [
              "0.9999644433998454"
            ]
          },
          "metadata": {},
          "execution_count": 103
        }
      ]
    },
    {
      "cell_type": "code",
      "source": [
        "#memakai method std() untuk mencari std\n",
        "scores_ridge.std()"
      ],
      "metadata": {
        "colab": {
          "base_uri": "https://localhost:8080/"
        },
        "id": "W-ruaupS-wgZ",
        "outputId": "2e1b091a-01e9-4c05-d3fd-636df3bfc5bb"
      },
      "execution_count": 104,
      "outputs": [
        {
          "output_type": "execute_result",
          "data": {
            "text/plain": [
              "2.096477815832798e-06"
            ]
          },
          "metadata": {},
          "execution_count": 104
        }
      ]
    },
    {
      "cell_type": "markdown",
      "source": [
        "##lasso"
      ],
      "metadata": {
        "id": "7THfqwNe-_aw"
      }
    },
    {
      "cell_type": "code",
      "source": [
        "#Define variable untuk memakai Cross_val_score\n",
        "scores_lasso = cross_val_score(pipelasso, X_train_final, y_train,cv=5)"
      ],
      "metadata": {
        "id": "jEiizPPX_B4c"
      },
      "execution_count": 105,
      "outputs": []
    },
    {
      "cell_type": "code",
      "source": [
        "#memakai method mean() untuk mencari mean\n",
        "scores_lasso.mean()"
      ],
      "metadata": {
        "colab": {
          "base_uri": "https://localhost:8080/"
        },
        "id": "HbxL2Snx_M-w",
        "outputId": "3db64257-518d-4e42-91dd-48955e923b12"
      },
      "execution_count": 106,
      "outputs": [
        {
          "output_type": "execute_result",
          "data": {
            "text/plain": [
              "0.9999082824295311"
            ]
          },
          "metadata": {},
          "execution_count": 106
        }
      ]
    },
    {
      "cell_type": "code",
      "source": [
        "#memakai method std() untuk mencari std\n",
        "scores_lasso.std()"
      ],
      "metadata": {
        "colab": {
          "base_uri": "https://localhost:8080/"
        },
        "id": "-DvH1LVD_SKw",
        "outputId": "e261f454-96c5-4f07-aced-bea75f3551f0"
      },
      "execution_count": 107,
      "outputs": [
        {
          "output_type": "execute_result",
          "data": {
            "text/plain": [
              "5.179226440194823e-06"
            ]
          },
          "metadata": {},
          "execution_count": 107
        }
      ]
    },
    {
      "cell_type": "markdown",
      "source": [
        "##RandomForestRegressor"
      ],
      "metadata": {
        "id": "hphmQNMO_WB3"
      }
    },
    {
      "cell_type": "code",
      "source": [
        "#Define variable untuk memakai Cross_val_score\n",
        "scores_rf = cross_val_score(piperf, X_train_final, y_train,cv=5)"
      ],
      "metadata": {
        "id": "2m1bUXaT_ar_"
      },
      "execution_count": 108,
      "outputs": []
    },
    {
      "cell_type": "code",
      "source": [
        "#memakai method mean() untuk mencari mean\n",
        "scores_rf.mean()"
      ],
      "metadata": {
        "colab": {
          "base_uri": "https://localhost:8080/"
        },
        "id": "hVXKNWP7_lA6",
        "outputId": "5424007c-2b34-4f45-b779-1355feafa582"
      },
      "execution_count": 109,
      "outputs": [
        {
          "output_type": "execute_result",
          "data": {
            "text/plain": [
              "0.9999769345647739"
            ]
          },
          "metadata": {},
          "execution_count": 109
        }
      ]
    },
    {
      "cell_type": "code",
      "source": [
        "#memakai method std() untuk mencari std\n",
        "scores_rf.std()"
      ],
      "metadata": {
        "colab": {
          "base_uri": "https://localhost:8080/"
        },
        "id": "htFBqVLQ_oGV",
        "outputId": "49fb607d-36e9-4389-9588-503fc05b37a3"
      },
      "execution_count": 110,
      "outputs": [
        {
          "output_type": "execute_result",
          "data": {
            "text/plain": [
              "2.194886288759733e-06"
            ]
          },
          "metadata": {},
          "execution_count": 110
        }
      ]
    },
    {
      "cell_type": "markdown",
      "source": [
        "<h1>setelah melakukan evaluasi dengan validation score peneliti akan menampilkan rekap di hasil scoring</h1>"
      ],
      "metadata": {
        "id": "2gqJfWAqGrsu"
      }
    },
    {
      "cell_type": "markdown",
      "source": [
        "##<b><h1>Hasil Scoring</h1></b>\n"
      ],
      "metadata": {
        "id": "WQb1K3j2GQba"
      }
    },
    {
      "cell_type": "code",
      "source": [
        "#define variable dan melakukan predict bagi data test dan data train\n",
        "#LinearRegression()\n",
        "y_pred_train_pipelr = pipelr.predict(X_train_final)\n",
        "y_pred_test_pipelr= pipelr.predict(X_test_final)\n",
        "\n",
        "#SVR()\n",
        "y_pred_train_pipesvr = pipesvr.predict(X_train_final)\n",
        "y_pred_test_pipesvr = pipesvr.predict(X_test_final)\n",
        "\n",
        "#Ridge()\n",
        "y_pred_train_piperidge = piperidge.predict(X_train_final)\n",
        "y_pred_test_piperidge = piperidge.predict(X_test_final)\n",
        "\n",
        "#Lasso()\n",
        "y_pred_train_pipelasso = pipelasso.predict(X_train_final)\n",
        "y_pred_test_pipelasso = pipelasso.predict(X_test_final)\n",
        "\n",
        "#RandomForestRegressor\n",
        "y_pred_train_piperf = piperf.predict(X_train_final)\n",
        "y_pred_test_piperf = piperf.predict(X_test_final)\n"
      ],
      "metadata": {
        "id": "834GZMT_JlDs"
      },
      "execution_count": 111,
      "outputs": []
    },
    {
      "cell_type": "code",
      "source": [
        "#tes score dan MAE\n",
        "print('----Training Set----')\n",
        "print(f'Training Score LinearRegression: {pipelr.score(X_train_final, y_train):.2f}')\n",
        "print(f'Training Mean Absolute Error (MAE): {mean_absolute_error(y_train, pipelr.predict(X_train_final))}')\n",
        "print('')\n",
        "print(f'Training Score SVR: {pipesvr.score(X_train_final, y_train):.2f}')\n",
        "print(f'Training Mean Absolute Error (MAE): {mean_absolute_error(y_train, pipesvr.predict(X_train_final))}')\n",
        "print('')\n",
        "print(f'Training Score Ridge: {piperidge.score(X_train_final, y_train):.2f}')\n",
        "print(f'Training Mean Absolute Error (MAE): {mean_absolute_error(y_train, piperidge.predict(X_train_final))}')\n",
        "print('')\n",
        "print(f'Training Score Lasso: {pipelasso.score(X_train_final, y_train):.2f}')\n",
        "print(f'Training Mean Absolute Error (MAE): {mean_absolute_error(y_train, pipelasso.predict(X_train_final))}')\n",
        "print('')\n",
        "print(f'Training Score RandomForestRegressor: {piperf.score(X_train_final, y_train):.2f}')\n",
        "print(f'Training Mean Absolute Error (MAE): {mean_absolute_error(y_train, piperf.predict(X_train_final))}')"
      ],
      "metadata": {
        "colab": {
          "base_uri": "https://localhost:8080/"
        },
        "id": "rpgr-ojnOu-q",
        "outputId": "a8d84758-e977-4a64-e83b-0df2dc31251b"
      },
      "execution_count": 112,
      "outputs": [
        {
          "output_type": "stream",
          "name": "stdout",
          "text": [
            "----Training Set----\n",
            "Training Score LinearRegression: 1.00\n",
            "Training Mean Absolute Error (MAE): 2.515328896494644\n",
            "\n",
            "Training Score SVR: 1.00\n",
            "Training Mean Absolute Error (MAE): 19.55076802014293\n",
            "\n",
            "Training Score Ridge: 1.00\n",
            "Training Mean Absolute Error (MAE): 3.612813778474873\n",
            "\n",
            "Training Score Lasso: 1.00\n",
            "Training Mean Absolute Error (MAE): 6.818866981050594\n",
            "\n",
            "Training Score RandomForestRegressor: 1.00\n",
            "Training Mean Absolute Error (MAE): 1.035344616526199\n"
          ]
        }
      ]
    },
    {
      "cell_type": "markdown",
      "source": [
        "dari score semua sama 100% predik dan MAE paling bagus di random forest dengan tingkat error 1 dolar"
      ],
      "metadata": {
        "id": "-QzY_ZMgG8Pv"
      }
    },
    {
      "cell_type": "code",
      "source": [
        "#Menampilkan semua perhitungan validation score di semua model algoritma yang sudah kita definisikan \n",
        "print (f'LinearRegression Mean :{scoreslr.mean()}')\n",
        "print (f'LinearRegression STD :{scoreslr.std()}')\n",
        "print('')\n",
        "print (f'Model SVR Mean :{scores_SVM.mean()}')\n",
        "print (f'Model SVR STD :{scores_SVM.std()}')\n",
        "print('')\n",
        "print (f'Model Ridge Mean :{scores_ridge.mean()}')\n",
        "print (f'Model Ridge STD:{scores_ridge.std()}')\n",
        "print('')\n",
        "print (f'Model Lasso Mean:{scores_lasso.mean()}')\n",
        "print (f'Model Lasso STD:{scores_lasso.std()}')\n",
        "print('')\n",
        "print (f'Model RandomForestRegressor Mean :{scores_rf.mean()}')\n",
        "print (f'Model RandomForestRegressor STD :{scores_rf.std()}')\n",
        "\n"
      ],
      "metadata": {
        "colab": {
          "base_uri": "https://localhost:8080/"
        },
        "id": "AK8KMzKKOfV_",
        "outputId": "e3b34269-2659-4911-c423-8246b62e8a42"
      },
      "execution_count": 113,
      "outputs": [
        {
          "output_type": "stream",
          "name": "stdout",
          "text": [
            "LinearRegression Mean :0.9999823629437387\n",
            "LinearRegression STD :6.689266190984511e-07\n",
            "\n",
            "Model SVR Mean :0.995617211773898\n",
            "Model SVR STD :0.00036618549532707096\n",
            "\n",
            "Model Ridge Mean :0.9999644433998454\n",
            "Model Ridge STD:2.096477815832798e-06\n",
            "\n",
            "Model Lasso Mean:0.9999082824295311\n",
            "Model Lasso STD:5.179226440194823e-06\n",
            "\n",
            "Model RandomForestRegressor Mean :0.9999769345647739\n",
            "Model RandomForestRegressor STD :2.194886288759733e-06\n"
          ]
        }
      ]
    },
    {
      "cell_type": "markdown",
      "source": [
        "Jika dilihat algoritma LinearRegression mendapatkan standar deviasi paling rendah\n",
        "<b>6.689266190984511e-07</b>"
      ],
      "metadata": {
        "id": "CmWziqMwSXTe"
      }
    },
    {
      "cell_type": "markdown",
      "source": [
        "##Hyperparameter Tuning"
      ],
      "metadata": {
        "id": "9UvaG1AhTud0"
      }
    },
    {
      "cell_type": "code",
      "source": [
        "from traitlets.traitlets import Int\n",
        "#define dari parameter yang ingin kita cari di gridsearch\n",
        "param_grid =  {'lr__fit_intercept':[True,False], 'lr__normalize':[True,False], 'lr__copy_X':[True,False]}"
      ],
      "metadata": {
        "id": "zMUOU283T13m"
      },
      "execution_count": 133,
      "outputs": []
    },
    {
      "cell_type": "code",
      "source": [
        "#define variable gridsearch\n",
        "grid_search = GridSearchCV(pipelr,param_grid,refit=True,verbose=2)"
      ],
      "metadata": {
        "id": "1_wfyMA3UF4M"
      },
      "execution_count": 134,
      "outputs": []
    },
    {
      "cell_type": "code",
      "source": [
        "#mencari parameter terbaik dengan grid search\n",
        "grid_search.fit(X_train_final,y_train)\n",
        "print(\"Best parameters: {}\".format(grid_search.best_params_))\n",
        "print(\"Best cross-validation score: {:.2f}\".format(grid_search.best_score_))"
      ],
      "metadata": {
        "colab": {
          "base_uri": "https://localhost:8080/"
        },
        "id": "dZuS14AvU0Zs",
        "outputId": "0be9c0bc-1a78-4edd-8205-43028571deb9"
      },
      "execution_count": 135,
      "outputs": [
        {
          "output_type": "stream",
          "name": "stdout",
          "text": [
            "Fitting 5 folds for each of 8 candidates, totalling 40 fits\n",
            "[CV] END lr__copy_X=True, lr__fit_intercept=True, lr__normalize=True; total time=   0.0s\n",
            "[CV] END lr__copy_X=True, lr__fit_intercept=True, lr__normalize=True; total time=   0.0s\n",
            "[CV] END lr__copy_X=True, lr__fit_intercept=True, lr__normalize=True; total time=   0.0s\n",
            "[CV] END lr__copy_X=True, lr__fit_intercept=True, lr__normalize=True; total time=   0.0s\n",
            "[CV] END lr__copy_X=True, lr__fit_intercept=True, lr__normalize=True; total time=   0.0s\n",
            "[CV] END lr__copy_X=True, lr__fit_intercept=True, lr__normalize=False; total time=   0.0s\n",
            "[CV] END lr__copy_X=True, lr__fit_intercept=True, lr__normalize=False; total time=   0.0s\n"
          ]
        },
        {
          "output_type": "stream",
          "name": "stderr",
          "text": [
            "/usr/local/lib/python3.7/dist-packages/sklearn/linear_model/_base.py:145: FutureWarning: 'normalize' was deprecated in version 1.0 and will be removed in 1.2.\n",
            "If you wish to scale the data, use Pipeline with a StandardScaler in a preprocessing stage. To reproduce the previous behavior:\n",
            "\n",
            "from sklearn.pipeline import make_pipeline\n",
            "\n",
            "model = make_pipeline(StandardScaler(with_mean=False), LinearRegression())\n",
            "\n",
            "If you wish to pass a sample_weight parameter, you need to pass it as a fit parameter to each step of the pipeline as follows:\n",
            "\n",
            "kwargs = {s[0] + '__sample_weight': sample_weight for s in model.steps}\n",
            "model.fit(X, y, **kwargs)\n",
            "\n",
            "\n",
            "  FutureWarning,\n",
            "/usr/local/lib/python3.7/dist-packages/sklearn/linear_model/_base.py:145: FutureWarning: 'normalize' was deprecated in version 1.0 and will be removed in 1.2.\n",
            "If you wish to scale the data, use Pipeline with a StandardScaler in a preprocessing stage. To reproduce the previous behavior:\n",
            "\n",
            "from sklearn.pipeline import make_pipeline\n",
            "\n",
            "model = make_pipeline(StandardScaler(with_mean=False), LinearRegression())\n",
            "\n",
            "If you wish to pass a sample_weight parameter, you need to pass it as a fit parameter to each step of the pipeline as follows:\n",
            "\n",
            "kwargs = {s[0] + '__sample_weight': sample_weight for s in model.steps}\n",
            "model.fit(X, y, **kwargs)\n",
            "\n",
            "\n",
            "  FutureWarning,\n",
            "/usr/local/lib/python3.7/dist-packages/sklearn/linear_model/_base.py:145: FutureWarning: 'normalize' was deprecated in version 1.0 and will be removed in 1.2.\n",
            "If you wish to scale the data, use Pipeline with a StandardScaler in a preprocessing stage. To reproduce the previous behavior:\n",
            "\n",
            "from sklearn.pipeline import make_pipeline\n",
            "\n",
            "model = make_pipeline(StandardScaler(with_mean=False), LinearRegression())\n",
            "\n",
            "If you wish to pass a sample_weight parameter, you need to pass it as a fit parameter to each step of the pipeline as follows:\n",
            "\n",
            "kwargs = {s[0] + '__sample_weight': sample_weight for s in model.steps}\n",
            "model.fit(X, y, **kwargs)\n",
            "\n",
            "\n",
            "  FutureWarning,\n",
            "/usr/local/lib/python3.7/dist-packages/sklearn/linear_model/_base.py:145: FutureWarning: 'normalize' was deprecated in version 1.0 and will be removed in 1.2.\n",
            "If you wish to scale the data, use Pipeline with a StandardScaler in a preprocessing stage. To reproduce the previous behavior:\n",
            "\n",
            "from sklearn.pipeline import make_pipeline\n",
            "\n",
            "model = make_pipeline(StandardScaler(with_mean=False), LinearRegression())\n",
            "\n",
            "If you wish to pass a sample_weight parameter, you need to pass it as a fit parameter to each step of the pipeline as follows:\n",
            "\n",
            "kwargs = {s[0] + '__sample_weight': sample_weight for s in model.steps}\n",
            "model.fit(X, y, **kwargs)\n",
            "\n",
            "\n",
            "  FutureWarning,\n",
            "/usr/local/lib/python3.7/dist-packages/sklearn/linear_model/_base.py:145: FutureWarning: 'normalize' was deprecated in version 1.0 and will be removed in 1.2.\n",
            "If you wish to scale the data, use Pipeline with a StandardScaler in a preprocessing stage. To reproduce the previous behavior:\n",
            "\n",
            "from sklearn.pipeline import make_pipeline\n",
            "\n",
            "model = make_pipeline(StandardScaler(with_mean=False), LinearRegression())\n",
            "\n",
            "If you wish to pass a sample_weight parameter, you need to pass it as a fit parameter to each step of the pipeline as follows:\n",
            "\n",
            "kwargs = {s[0] + '__sample_weight': sample_weight for s in model.steps}\n",
            "model.fit(X, y, **kwargs)\n",
            "\n",
            "\n",
            "  FutureWarning,\n",
            "/usr/local/lib/python3.7/dist-packages/sklearn/linear_model/_base.py:155: FutureWarning: 'normalize' was deprecated in version 1.0 and will be removed in 1.2. Please leave the normalize parameter to its default value to silence this warning. The default behavior of this estimator is to not do any normalization. If normalization is needed please use sklearn.preprocessing.StandardScaler instead.\n",
            "  FutureWarning,\n",
            "/usr/local/lib/python3.7/dist-packages/sklearn/linear_model/_base.py:155: FutureWarning: 'normalize' was deprecated in version 1.0 and will be removed in 1.2. Please leave the normalize parameter to its default value to silence this warning. The default behavior of this estimator is to not do any normalization. If normalization is needed please use sklearn.preprocessing.StandardScaler instead.\n",
            "  FutureWarning,\n"
          ]
        },
        {
          "output_type": "stream",
          "name": "stdout",
          "text": [
            "[CV] END lr__copy_X=True, lr__fit_intercept=True, lr__normalize=False; total time=   0.0s\n",
            "[CV] END lr__copy_X=True, lr__fit_intercept=True, lr__normalize=False; total time=   0.0s\n",
            "[CV] END lr__copy_X=True, lr__fit_intercept=True, lr__normalize=False; total time=   0.0s\n",
            "[CV] END lr__copy_X=True, lr__fit_intercept=False, lr__normalize=True; total time=   0.0s\n",
            "[CV] END lr__copy_X=True, lr__fit_intercept=False, lr__normalize=True; total time=   0.0s\n",
            "[CV] END lr__copy_X=True, lr__fit_intercept=False, lr__normalize=True; total time=   0.0s\n",
            "[CV] END lr__copy_X=True, lr__fit_intercept=False, lr__normalize=True; total time=   0.0s\n"
          ]
        },
        {
          "output_type": "stream",
          "name": "stderr",
          "text": [
            "/usr/local/lib/python3.7/dist-packages/sklearn/linear_model/_base.py:155: FutureWarning: 'normalize' was deprecated in version 1.0 and will be removed in 1.2. Please leave the normalize parameter to its default value to silence this warning. The default behavior of this estimator is to not do any normalization. If normalization is needed please use sklearn.preprocessing.StandardScaler instead.\n",
            "  FutureWarning,\n",
            "/usr/local/lib/python3.7/dist-packages/sklearn/linear_model/_base.py:155: FutureWarning: 'normalize' was deprecated in version 1.0 and will be removed in 1.2. Please leave the normalize parameter to its default value to silence this warning. The default behavior of this estimator is to not do any normalization. If normalization is needed please use sklearn.preprocessing.StandardScaler instead.\n",
            "  FutureWarning,\n",
            "/usr/local/lib/python3.7/dist-packages/sklearn/linear_model/_base.py:155: FutureWarning: 'normalize' was deprecated in version 1.0 and will be removed in 1.2. Please leave the normalize parameter to its default value to silence this warning. The default behavior of this estimator is to not do any normalization. If normalization is needed please use sklearn.preprocessing.StandardScaler instead.\n",
            "  FutureWarning,\n",
            "/usr/local/lib/python3.7/dist-packages/sklearn/linear_model/_base.py:145: FutureWarning: 'normalize' was deprecated in version 1.0 and will be removed in 1.2.\n",
            "If you wish to scale the data, use Pipeline with a StandardScaler in a preprocessing stage. To reproduce the previous behavior:\n",
            "\n",
            "from sklearn.pipeline import make_pipeline\n",
            "\n",
            "model = make_pipeline(StandardScaler(with_mean=False), LinearRegression())\n",
            "\n",
            "If you wish to pass a sample_weight parameter, you need to pass it as a fit parameter to each step of the pipeline as follows:\n",
            "\n",
            "kwargs = {s[0] + '__sample_weight': sample_weight for s in model.steps}\n",
            "model.fit(X, y, **kwargs)\n",
            "\n",
            "\n",
            "  FutureWarning,\n",
            "/usr/local/lib/python3.7/dist-packages/sklearn/linear_model/_base.py:145: FutureWarning: 'normalize' was deprecated in version 1.0 and will be removed in 1.2.\n",
            "If you wish to scale the data, use Pipeline with a StandardScaler in a preprocessing stage. To reproduce the previous behavior:\n",
            "\n",
            "from sklearn.pipeline import make_pipeline\n",
            "\n",
            "model = make_pipeline(StandardScaler(with_mean=False), LinearRegression())\n",
            "\n",
            "If you wish to pass a sample_weight parameter, you need to pass it as a fit parameter to each step of the pipeline as follows:\n",
            "\n",
            "kwargs = {s[0] + '__sample_weight': sample_weight for s in model.steps}\n",
            "model.fit(X, y, **kwargs)\n",
            "\n",
            "\n",
            "  FutureWarning,\n",
            "/usr/local/lib/python3.7/dist-packages/sklearn/linear_model/_base.py:145: FutureWarning: 'normalize' was deprecated in version 1.0 and will be removed in 1.2.\n",
            "If you wish to scale the data, use Pipeline with a StandardScaler in a preprocessing stage. To reproduce the previous behavior:\n",
            "\n",
            "from sklearn.pipeline import make_pipeline\n",
            "\n",
            "model = make_pipeline(StandardScaler(with_mean=False), LinearRegression())\n",
            "\n",
            "If you wish to pass a sample_weight parameter, you need to pass it as a fit parameter to each step of the pipeline as follows:\n",
            "\n",
            "kwargs = {s[0] + '__sample_weight': sample_weight for s in model.steps}\n",
            "model.fit(X, y, **kwargs)\n",
            "\n",
            "\n",
            "  FutureWarning,\n",
            "/usr/local/lib/python3.7/dist-packages/sklearn/linear_model/_base.py:145: FutureWarning: 'normalize' was deprecated in version 1.0 and will be removed in 1.2.\n",
            "If you wish to scale the data, use Pipeline with a StandardScaler in a preprocessing stage. To reproduce the previous behavior:\n",
            "\n",
            "from sklearn.pipeline import make_pipeline\n",
            "\n",
            "model = make_pipeline(StandardScaler(with_mean=False), LinearRegression())\n",
            "\n",
            "If you wish to pass a sample_weight parameter, you need to pass it as a fit parameter to each step of the pipeline as follows:\n",
            "\n",
            "kwargs = {s[0] + '__sample_weight': sample_weight for s in model.steps}\n",
            "model.fit(X, y, **kwargs)\n",
            "\n",
            "\n",
            "  FutureWarning,\n",
            "/usr/local/lib/python3.7/dist-packages/sklearn/linear_model/_base.py:145: FutureWarning: 'normalize' was deprecated in version 1.0 and will be removed in 1.2.\n",
            "If you wish to scale the data, use Pipeline with a StandardScaler in a preprocessing stage. To reproduce the previous behavior:\n",
            "\n",
            "from sklearn.pipeline import make_pipeline\n",
            "\n",
            "model = make_pipeline(StandardScaler(with_mean=False), LinearRegression())\n",
            "\n",
            "If you wish to pass a sample_weight parameter, you need to pass it as a fit parameter to each step of the pipeline as follows:\n",
            "\n",
            "kwargs = {s[0] + '__sample_weight': sample_weight for s in model.steps}\n",
            "model.fit(X, y, **kwargs)\n",
            "\n",
            "\n",
            "  FutureWarning,\n"
          ]
        },
        {
          "output_type": "stream",
          "name": "stdout",
          "text": [
            "[CV] END lr__copy_X=True, lr__fit_intercept=False, lr__normalize=True; total time=   0.0s\n",
            "[CV] END lr__copy_X=True, lr__fit_intercept=False, lr__normalize=False; total time=   0.0s\n",
            "[CV] END lr__copy_X=True, lr__fit_intercept=False, lr__normalize=False; total time=   0.0s\n",
            "[CV] END lr__copy_X=True, lr__fit_intercept=False, lr__normalize=False; total time=   0.0s\n",
            "[CV] END lr__copy_X=True, lr__fit_intercept=False, lr__normalize=False; total time=   0.0s\n",
            "[CV] END lr__copy_X=True, lr__fit_intercept=False, lr__normalize=False; total time=   0.0s\n",
            "[CV] END lr__copy_X=False, lr__fit_intercept=True, lr__normalize=True; total time=   0.0s\n",
            "[CV] END lr__copy_X=False, lr__fit_intercept=True, lr__normalize=True; total time=   0.0s\n"
          ]
        },
        {
          "output_type": "stream",
          "name": "stderr",
          "text": [
            "/usr/local/lib/python3.7/dist-packages/sklearn/linear_model/_base.py:155: FutureWarning: 'normalize' was deprecated in version 1.0 and will be removed in 1.2. Please leave the normalize parameter to its default value to silence this warning. The default behavior of this estimator is to not do any normalization. If normalization is needed please use sklearn.preprocessing.StandardScaler instead.\n",
            "  FutureWarning,\n",
            "/usr/local/lib/python3.7/dist-packages/sklearn/linear_model/_base.py:155: FutureWarning: 'normalize' was deprecated in version 1.0 and will be removed in 1.2. Please leave the normalize parameter to its default value to silence this warning. The default behavior of this estimator is to not do any normalization. If normalization is needed please use sklearn.preprocessing.StandardScaler instead.\n",
            "  FutureWarning,\n",
            "/usr/local/lib/python3.7/dist-packages/sklearn/linear_model/_base.py:155: FutureWarning: 'normalize' was deprecated in version 1.0 and will be removed in 1.2. Please leave the normalize parameter to its default value to silence this warning. The default behavior of this estimator is to not do any normalization. If normalization is needed please use sklearn.preprocessing.StandardScaler instead.\n",
            "  FutureWarning,\n",
            "/usr/local/lib/python3.7/dist-packages/sklearn/linear_model/_base.py:155: FutureWarning: 'normalize' was deprecated in version 1.0 and will be removed in 1.2. Please leave the normalize parameter to its default value to silence this warning. The default behavior of this estimator is to not do any normalization. If normalization is needed please use sklearn.preprocessing.StandardScaler instead.\n",
            "  FutureWarning,\n",
            "/usr/local/lib/python3.7/dist-packages/sklearn/linear_model/_base.py:155: FutureWarning: 'normalize' was deprecated in version 1.0 and will be removed in 1.2. Please leave the normalize parameter to its default value to silence this warning. The default behavior of this estimator is to not do any normalization. If normalization is needed please use sklearn.preprocessing.StandardScaler instead.\n",
            "  FutureWarning,\n",
            "/usr/local/lib/python3.7/dist-packages/sklearn/linear_model/_base.py:145: FutureWarning: 'normalize' was deprecated in version 1.0 and will be removed in 1.2.\n",
            "If you wish to scale the data, use Pipeline with a StandardScaler in a preprocessing stage. To reproduce the previous behavior:\n",
            "\n",
            "from sklearn.pipeline import make_pipeline\n",
            "\n",
            "model = make_pipeline(StandardScaler(with_mean=False), LinearRegression())\n",
            "\n",
            "If you wish to pass a sample_weight parameter, you need to pass it as a fit parameter to each step of the pipeline as follows:\n",
            "\n",
            "kwargs = {s[0] + '__sample_weight': sample_weight for s in model.steps}\n",
            "model.fit(X, y, **kwargs)\n",
            "\n",
            "\n",
            "  FutureWarning,\n",
            "/usr/local/lib/python3.7/dist-packages/sklearn/linear_model/_base.py:145: FutureWarning: 'normalize' was deprecated in version 1.0 and will be removed in 1.2.\n",
            "If you wish to scale the data, use Pipeline with a StandardScaler in a preprocessing stage. To reproduce the previous behavior:\n",
            "\n",
            "from sklearn.pipeline import make_pipeline\n",
            "\n",
            "model = make_pipeline(StandardScaler(with_mean=False), LinearRegression())\n",
            "\n",
            "If you wish to pass a sample_weight parameter, you need to pass it as a fit parameter to each step of the pipeline as follows:\n",
            "\n",
            "kwargs = {s[0] + '__sample_weight': sample_weight for s in model.steps}\n",
            "model.fit(X, y, **kwargs)\n",
            "\n",
            "\n",
            "  FutureWarning,\n",
            "/usr/local/lib/python3.7/dist-packages/sklearn/linear_model/_base.py:145: FutureWarning: 'normalize' was deprecated in version 1.0 and will be removed in 1.2.\n",
            "If you wish to scale the data, use Pipeline with a StandardScaler in a preprocessing stage. To reproduce the previous behavior:\n",
            "\n",
            "from sklearn.pipeline import make_pipeline\n",
            "\n",
            "model = make_pipeline(StandardScaler(with_mean=False), LinearRegression())\n",
            "\n",
            "If you wish to pass a sample_weight parameter, you need to pass it as a fit parameter to each step of the pipeline as follows:\n",
            "\n",
            "kwargs = {s[0] + '__sample_weight': sample_weight for s in model.steps}\n",
            "model.fit(X, y, **kwargs)\n",
            "\n",
            "\n",
            "  FutureWarning,\n",
            "/usr/local/lib/python3.7/dist-packages/sklearn/linear_model/_base.py:145: FutureWarning: 'normalize' was deprecated in version 1.0 and will be removed in 1.2.\n",
            "If you wish to scale the data, use Pipeline with a StandardScaler in a preprocessing stage. To reproduce the previous behavior:\n",
            "\n",
            "from sklearn.pipeline import make_pipeline\n",
            "\n",
            "model = make_pipeline(StandardScaler(with_mean=False), LinearRegression())\n",
            "\n",
            "If you wish to pass a sample_weight parameter, you need to pass it as a fit parameter to each step of the pipeline as follows:\n",
            "\n",
            "kwargs = {s[0] + '__sample_weight': sample_weight for s in model.steps}\n",
            "model.fit(X, y, **kwargs)\n",
            "\n",
            "\n",
            "  FutureWarning,\n",
            "/usr/local/lib/python3.7/dist-packages/sklearn/linear_model/_base.py:145: FutureWarning: 'normalize' was deprecated in version 1.0 and will be removed in 1.2.\n",
            "If you wish to scale the data, use Pipeline with a StandardScaler in a preprocessing stage. To reproduce the previous behavior:\n",
            "\n",
            "from sklearn.pipeline import make_pipeline\n",
            "\n",
            "model = make_pipeline(StandardScaler(with_mean=False), LinearRegression())\n",
            "\n",
            "If you wish to pass a sample_weight parameter, you need to pass it as a fit parameter to each step of the pipeline as follows:\n",
            "\n",
            "kwargs = {s[0] + '__sample_weight': sample_weight for s in model.steps}\n",
            "model.fit(X, y, **kwargs)\n",
            "\n",
            "\n",
            "  FutureWarning,\n",
            "/usr/local/lib/python3.7/dist-packages/sklearn/linear_model/_base.py:155: FutureWarning: 'normalize' was deprecated in version 1.0 and will be removed in 1.2. Please leave the normalize parameter to its default value to silence this warning. The default behavior of this estimator is to not do any normalization. If normalization is needed please use sklearn.preprocessing.StandardScaler instead.\n",
            "  FutureWarning,\n",
            "/usr/local/lib/python3.7/dist-packages/sklearn/linear_model/_base.py:155: FutureWarning: 'normalize' was deprecated in version 1.0 and will be removed in 1.2. Please leave the normalize parameter to its default value to silence this warning. The default behavior of this estimator is to not do any normalization. If normalization is needed please use sklearn.preprocessing.StandardScaler instead.\n",
            "  FutureWarning,\n",
            "/usr/local/lib/python3.7/dist-packages/sklearn/linear_model/_base.py:155: FutureWarning: 'normalize' was deprecated in version 1.0 and will be removed in 1.2. Please leave the normalize parameter to its default value to silence this warning. The default behavior of this estimator is to not do any normalization. If normalization is needed please use sklearn.preprocessing.StandardScaler instead.\n",
            "  FutureWarning,\n",
            "/usr/local/lib/python3.7/dist-packages/sklearn/linear_model/_base.py:155: FutureWarning: 'normalize' was deprecated in version 1.0 and will be removed in 1.2. Please leave the normalize parameter to its default value to silence this warning. The default behavior of this estimator is to not do any normalization. If normalization is needed please use sklearn.preprocessing.StandardScaler instead.\n",
            "  FutureWarning,\n",
            "/usr/local/lib/python3.7/dist-packages/sklearn/linear_model/_base.py:155: FutureWarning: 'normalize' was deprecated in version 1.0 and will be removed in 1.2. Please leave the normalize parameter to its default value to silence this warning. The default behavior of this estimator is to not do any normalization. If normalization is needed please use sklearn.preprocessing.StandardScaler instead.\n",
            "  FutureWarning,\n"
          ]
        },
        {
          "output_type": "stream",
          "name": "stdout",
          "text": [
            "[CV] END lr__copy_X=False, lr__fit_intercept=True, lr__normalize=True; total time=   0.0s\n",
            "[CV] END lr__copy_X=False, lr__fit_intercept=True, lr__normalize=True; total time=   0.0s\n",
            "[CV] END lr__copy_X=False, lr__fit_intercept=True, lr__normalize=True; total time=   0.0s\n",
            "[CV] END lr__copy_X=False, lr__fit_intercept=True, lr__normalize=False; total time=   0.0s\n",
            "[CV] END lr__copy_X=False, lr__fit_intercept=True, lr__normalize=False; total time=   0.0s\n",
            "[CV] END lr__copy_X=False, lr__fit_intercept=True, lr__normalize=False; total time=   0.0s\n",
            "[CV] END lr__copy_X=False, lr__fit_intercept=True, lr__normalize=False; total time=   0.0s\n",
            "[CV] END lr__copy_X=False, lr__fit_intercept=True, lr__normalize=False; total time=   0.0s\n",
            "[CV] END lr__copy_X=False, lr__fit_intercept=False, lr__normalize=True; total time=   0.0s\n",
            "[CV] END lr__copy_X=False, lr__fit_intercept=False, lr__normalize=True; total time=   0.0s\n",
            "[CV] END lr__copy_X=False, lr__fit_intercept=False, lr__normalize=True; total time=   0.0s\n",
            "[CV] END lr__copy_X=False, lr__fit_intercept=False, lr__normalize=True; total time=   0.0s\n",
            "[CV] END lr__copy_X=False, lr__fit_intercept=False, lr__normalize=True; total time=   0.0s\n",
            "[CV] END lr__copy_X=False, lr__fit_intercept=False, lr__normalize=False; total time=   0.0s\n"
          ]
        },
        {
          "output_type": "stream",
          "name": "stderr",
          "text": [
            "/usr/local/lib/python3.7/dist-packages/sklearn/linear_model/_base.py:145: FutureWarning: 'normalize' was deprecated in version 1.0 and will be removed in 1.2.\n",
            "If you wish to scale the data, use Pipeline with a StandardScaler in a preprocessing stage. To reproduce the previous behavior:\n",
            "\n",
            "from sklearn.pipeline import make_pipeline\n",
            "\n",
            "model = make_pipeline(StandardScaler(with_mean=False), LinearRegression())\n",
            "\n",
            "If you wish to pass a sample_weight parameter, you need to pass it as a fit parameter to each step of the pipeline as follows:\n",
            "\n",
            "kwargs = {s[0] + '__sample_weight': sample_weight for s in model.steps}\n",
            "model.fit(X, y, **kwargs)\n",
            "\n",
            "\n",
            "  FutureWarning,\n",
            "/usr/local/lib/python3.7/dist-packages/sklearn/linear_model/_base.py:145: FutureWarning: 'normalize' was deprecated in version 1.0 and will be removed in 1.2.\n",
            "If you wish to scale the data, use Pipeline with a StandardScaler in a preprocessing stage. To reproduce the previous behavior:\n",
            "\n",
            "from sklearn.pipeline import make_pipeline\n",
            "\n",
            "model = make_pipeline(StandardScaler(with_mean=False), LinearRegression())\n",
            "\n",
            "If you wish to pass a sample_weight parameter, you need to pass it as a fit parameter to each step of the pipeline as follows:\n",
            "\n",
            "kwargs = {s[0] + '__sample_weight': sample_weight for s in model.steps}\n",
            "model.fit(X, y, **kwargs)\n",
            "\n",
            "\n",
            "  FutureWarning,\n",
            "/usr/local/lib/python3.7/dist-packages/sklearn/linear_model/_base.py:145: FutureWarning: 'normalize' was deprecated in version 1.0 and will be removed in 1.2.\n",
            "If you wish to scale the data, use Pipeline with a StandardScaler in a preprocessing stage. To reproduce the previous behavior:\n",
            "\n",
            "from sklearn.pipeline import make_pipeline\n",
            "\n",
            "model = make_pipeline(StandardScaler(with_mean=False), LinearRegression())\n",
            "\n",
            "If you wish to pass a sample_weight parameter, you need to pass it as a fit parameter to each step of the pipeline as follows:\n",
            "\n",
            "kwargs = {s[0] + '__sample_weight': sample_weight for s in model.steps}\n",
            "model.fit(X, y, **kwargs)\n",
            "\n",
            "\n",
            "  FutureWarning,\n",
            "/usr/local/lib/python3.7/dist-packages/sklearn/linear_model/_base.py:145: FutureWarning: 'normalize' was deprecated in version 1.0 and will be removed in 1.2.\n",
            "If you wish to scale the data, use Pipeline with a StandardScaler in a preprocessing stage. To reproduce the previous behavior:\n",
            "\n",
            "from sklearn.pipeline import make_pipeline\n",
            "\n",
            "model = make_pipeline(StandardScaler(with_mean=False), LinearRegression())\n",
            "\n",
            "If you wish to pass a sample_weight parameter, you need to pass it as a fit parameter to each step of the pipeline as follows:\n",
            "\n",
            "kwargs = {s[0] + '__sample_weight': sample_weight for s in model.steps}\n",
            "model.fit(X, y, **kwargs)\n",
            "\n",
            "\n",
            "  FutureWarning,\n",
            "/usr/local/lib/python3.7/dist-packages/sklearn/linear_model/_base.py:145: FutureWarning: 'normalize' was deprecated in version 1.0 and will be removed in 1.2.\n",
            "If you wish to scale the data, use Pipeline with a StandardScaler in a preprocessing stage. To reproduce the previous behavior:\n",
            "\n",
            "from sklearn.pipeline import make_pipeline\n",
            "\n",
            "model = make_pipeline(StandardScaler(with_mean=False), LinearRegression())\n",
            "\n",
            "If you wish to pass a sample_weight parameter, you need to pass it as a fit parameter to each step of the pipeline as follows:\n",
            "\n",
            "kwargs = {s[0] + '__sample_weight': sample_weight for s in model.steps}\n",
            "model.fit(X, y, **kwargs)\n",
            "\n",
            "\n",
            "  FutureWarning,\n",
            "/usr/local/lib/python3.7/dist-packages/sklearn/linear_model/_base.py:155: FutureWarning: 'normalize' was deprecated in version 1.0 and will be removed in 1.2. Please leave the normalize parameter to its default value to silence this warning. The default behavior of this estimator is to not do any normalization. If normalization is needed please use sklearn.preprocessing.StandardScaler instead.\n",
            "  FutureWarning,\n",
            "/usr/local/lib/python3.7/dist-packages/sklearn/linear_model/_base.py:155: FutureWarning: 'normalize' was deprecated in version 1.0 and will be removed in 1.2. Please leave the normalize parameter to its default value to silence this warning. The default behavior of this estimator is to not do any normalization. If normalization is needed please use sklearn.preprocessing.StandardScaler instead.\n",
            "  FutureWarning,\n"
          ]
        },
        {
          "output_type": "stream",
          "name": "stdout",
          "text": [
            "[CV] END lr__copy_X=False, lr__fit_intercept=False, lr__normalize=False; total time=   0.0s\n",
            "[CV] END lr__copy_X=False, lr__fit_intercept=False, lr__normalize=False; total time=   0.0s\n",
            "[CV] END lr__copy_X=False, lr__fit_intercept=False, lr__normalize=False; total time=   0.0s\n",
            "[CV] END lr__copy_X=False, lr__fit_intercept=False, lr__normalize=False; total time=   0.0s\n",
            "Best parameters: {'lr__copy_X': True, 'lr__fit_intercept': True, 'lr__normalize': True}\n",
            "Best cross-validation score: 1.00\n"
          ]
        },
        {
          "output_type": "stream",
          "name": "stderr",
          "text": [
            "/usr/local/lib/python3.7/dist-packages/sklearn/linear_model/_base.py:155: FutureWarning: 'normalize' was deprecated in version 1.0 and will be removed in 1.2. Please leave the normalize parameter to its default value to silence this warning. The default behavior of this estimator is to not do any normalization. If normalization is needed please use sklearn.preprocessing.StandardScaler instead.\n",
            "  FutureWarning,\n",
            "/usr/local/lib/python3.7/dist-packages/sklearn/linear_model/_base.py:155: FutureWarning: 'normalize' was deprecated in version 1.0 and will be removed in 1.2. Please leave the normalize parameter to its default value to silence this warning. The default behavior of this estimator is to not do any normalization. If normalization is needed please use sklearn.preprocessing.StandardScaler instead.\n",
            "  FutureWarning,\n",
            "/usr/local/lib/python3.7/dist-packages/sklearn/linear_model/_base.py:155: FutureWarning: 'normalize' was deprecated in version 1.0 and will be removed in 1.2. Please leave the normalize parameter to its default value to silence this warning. The default behavior of this estimator is to not do any normalization. If normalization is needed please use sklearn.preprocessing.StandardScaler instead.\n",
            "  FutureWarning,\n",
            "/usr/local/lib/python3.7/dist-packages/sklearn/linear_model/_base.py:145: FutureWarning: 'normalize' was deprecated in version 1.0 and will be removed in 1.2.\n",
            "If you wish to scale the data, use Pipeline with a StandardScaler in a preprocessing stage. To reproduce the previous behavior:\n",
            "\n",
            "from sklearn.pipeline import make_pipeline\n",
            "\n",
            "model = make_pipeline(StandardScaler(with_mean=False), LinearRegression())\n",
            "\n",
            "If you wish to pass a sample_weight parameter, you need to pass it as a fit parameter to each step of the pipeline as follows:\n",
            "\n",
            "kwargs = {s[0] + '__sample_weight': sample_weight for s in model.steps}\n",
            "model.fit(X, y, **kwargs)\n",
            "\n",
            "\n",
            "  FutureWarning,\n"
          ]
        }
      ]
    },
    {
      "cell_type": "code",
      "source": [
        "#define model setelah dapat param dari grid search\n",
        "lr_tuning=grid_search.best_estimator_"
      ],
      "metadata": {
        "id": "SErWgsWFaQJF"
      },
      "execution_count": 136,
      "outputs": []
    },
    {
      "cell_type": "code",
      "source": [
        "#melihat isi parameter model\n",
        "lr_tuning"
      ],
      "metadata": {
        "id": "N3qfiyxWaS_N",
        "colab": {
          "base_uri": "https://localhost:8080/"
        },
        "outputId": "55d4f0ff-5837-443c-cf59-c3d63f544082"
      },
      "execution_count": 137,
      "outputs": [
        {
          "output_type": "execute_result",
          "data": {
            "text/plain": [
              "Pipeline(steps=[('prep',\n",
              "                 ColumnTransformer(transformers=[('num',\n",
              "                                                  Pipeline(steps=[('scaler',\n",
              "                                                                   MinMaxScaler())]),\n",
              "                                                  ['Open', 'High', 'Low'])])),\n",
              "                ('lr', LinearRegression(normalize=True))])"
            ]
          },
          "metadata": {},
          "execution_count": 137
        }
      ]
    },
    {
      "cell_type": "code",
      "source": [
        "#validation score setelah model di tuning\n",
        "scores_lr_tuning = cross_val_score(lr_tuning, X_train_final, y_train,cv=5)"
      ],
      "metadata": {
        "id": "4N_xQmBqaVES",
        "colab": {
          "base_uri": "https://localhost:8080/"
        },
        "outputId": "14ee889d-1436-479b-bdc4-d30bc12f914c"
      },
      "execution_count": 138,
      "outputs": [
        {
          "output_type": "stream",
          "name": "stderr",
          "text": [
            "/usr/local/lib/python3.7/dist-packages/sklearn/linear_model/_base.py:145: FutureWarning: 'normalize' was deprecated in version 1.0 and will be removed in 1.2.\n",
            "If you wish to scale the data, use Pipeline with a StandardScaler in a preprocessing stage. To reproduce the previous behavior:\n",
            "\n",
            "from sklearn.pipeline import make_pipeline\n",
            "\n",
            "model = make_pipeline(StandardScaler(with_mean=False), LinearRegression())\n",
            "\n",
            "If you wish to pass a sample_weight parameter, you need to pass it as a fit parameter to each step of the pipeline as follows:\n",
            "\n",
            "kwargs = {s[0] + '__sample_weight': sample_weight for s in model.steps}\n",
            "model.fit(X, y, **kwargs)\n",
            "\n",
            "\n",
            "  FutureWarning,\n",
            "/usr/local/lib/python3.7/dist-packages/sklearn/linear_model/_base.py:145: FutureWarning: 'normalize' was deprecated in version 1.0 and will be removed in 1.2.\n",
            "If you wish to scale the data, use Pipeline with a StandardScaler in a preprocessing stage. To reproduce the previous behavior:\n",
            "\n",
            "from sklearn.pipeline import make_pipeline\n",
            "\n",
            "model = make_pipeline(StandardScaler(with_mean=False), LinearRegression())\n",
            "\n",
            "If you wish to pass a sample_weight parameter, you need to pass it as a fit parameter to each step of the pipeline as follows:\n",
            "\n",
            "kwargs = {s[0] + '__sample_weight': sample_weight for s in model.steps}\n",
            "model.fit(X, y, **kwargs)\n",
            "\n",
            "\n",
            "  FutureWarning,\n",
            "/usr/local/lib/python3.7/dist-packages/sklearn/linear_model/_base.py:145: FutureWarning: 'normalize' was deprecated in version 1.0 and will be removed in 1.2.\n",
            "If you wish to scale the data, use Pipeline with a StandardScaler in a preprocessing stage. To reproduce the previous behavior:\n",
            "\n",
            "from sklearn.pipeline import make_pipeline\n",
            "\n",
            "model = make_pipeline(StandardScaler(with_mean=False), LinearRegression())\n",
            "\n",
            "If you wish to pass a sample_weight parameter, you need to pass it as a fit parameter to each step of the pipeline as follows:\n",
            "\n",
            "kwargs = {s[0] + '__sample_weight': sample_weight for s in model.steps}\n",
            "model.fit(X, y, **kwargs)\n",
            "\n",
            "\n",
            "  FutureWarning,\n",
            "/usr/local/lib/python3.7/dist-packages/sklearn/linear_model/_base.py:145: FutureWarning: 'normalize' was deprecated in version 1.0 and will be removed in 1.2.\n",
            "If you wish to scale the data, use Pipeline with a StandardScaler in a preprocessing stage. To reproduce the previous behavior:\n",
            "\n",
            "from sklearn.pipeline import make_pipeline\n",
            "\n",
            "model = make_pipeline(StandardScaler(with_mean=False), LinearRegression())\n",
            "\n",
            "If you wish to pass a sample_weight parameter, you need to pass it as a fit parameter to each step of the pipeline as follows:\n",
            "\n",
            "kwargs = {s[0] + '__sample_weight': sample_weight for s in model.steps}\n",
            "model.fit(X, y, **kwargs)\n",
            "\n",
            "\n",
            "  FutureWarning,\n",
            "/usr/local/lib/python3.7/dist-packages/sklearn/linear_model/_base.py:145: FutureWarning: 'normalize' was deprecated in version 1.0 and will be removed in 1.2.\n",
            "If you wish to scale the data, use Pipeline with a StandardScaler in a preprocessing stage. To reproduce the previous behavior:\n",
            "\n",
            "from sklearn.pipeline import make_pipeline\n",
            "\n",
            "model = make_pipeline(StandardScaler(with_mean=False), LinearRegression())\n",
            "\n",
            "If you wish to pass a sample_weight parameter, you need to pass it as a fit parameter to each step of the pipeline as follows:\n",
            "\n",
            "kwargs = {s[0] + '__sample_weight': sample_weight for s in model.steps}\n",
            "model.fit(X, y, **kwargs)\n",
            "\n",
            "\n",
            "  FutureWarning,\n"
          ]
        }
      ]
    },
    {
      "cell_type": "code",
      "source": [
        "#melihat mean dari hasil validation model setelah di tuning\n",
        "scores_lr_tuning.mean()"
      ],
      "metadata": {
        "id": "R2hMduD_bAxW",
        "colab": {
          "base_uri": "https://localhost:8080/"
        },
        "outputId": "719148ab-d64d-43b4-b3d6-cca095790564"
      },
      "execution_count": 139,
      "outputs": [
        {
          "output_type": "execute_result",
          "data": {
            "text/plain": [
              "0.9999823629437387"
            ]
          },
          "metadata": {},
          "execution_count": 139
        }
      ]
    },
    {
      "cell_type": "code",
      "source": [
        "#melihat std dari hasil validation model setelah di tuning\n",
        "scores_lr_tuning.std()"
      ],
      "metadata": {
        "id": "9-rhlsxWbF7k",
        "colab": {
          "base_uri": "https://localhost:8080/"
        },
        "outputId": "fcab7d47-2c6f-42fe-df5e-b43880be50cc"
      },
      "execution_count": 140,
      "outputs": [
        {
          "output_type": "execute_result",
          "data": {
            "text/plain": [
              "6.689266190984511e-07"
            ]
          },
          "metadata": {},
          "execution_count": 140
        }
      ]
    },
    {
      "cell_type": "code",
      "source": [
        "#tampilan model dengan validation score sebelum dan setelah di tuning\n",
        "print(f'score Mean model sebelum di tuning:{scoreslr.mean()}')\n",
        "print(f'score Mean model setelah di tuning:{scores_lr_tuning.mean()}')"
      ],
      "metadata": {
        "id": "iXtubz7nbN7z",
        "colab": {
          "base_uri": "https://localhost:8080/"
        },
        "outputId": "772f31ed-0739-447b-c44a-b7d50a341f39"
      },
      "execution_count": 141,
      "outputs": [
        {
          "output_type": "stream",
          "name": "stdout",
          "text": [
            "score Mean model sebelum di tuning:0.9999823629437387\n",
            "score Mean model setelah di tuning:0.9999823629437387\n"
          ]
        }
      ]
    },
    {
      "cell_type": "markdown",
      "source": [
        "dari validation score setelah di tuning dengan grid search hasil tetap sama saja"
      ],
      "metadata": {
        "id": "Cxntk7tSF8it"
      }
    },
    {
      "cell_type": "code",
      "source": [
        "#model tuning predict\n",
        "y_train_pred_lr=grid_search.best_estimator_.predict(X_train)\n",
        "y_test_pred_lr=grid_search.best_estimator_.predict(X_test)"
      ],
      "metadata": {
        "id": "x_qMEpvzbNxl"
      },
      "execution_count": 142,
      "outputs": []
    },
    {
      "cell_type": "code",
      "source": [
        "print(f'Training Score LinearRegression: {pipelr.score(X_train_final, y_train):.2f}')\n",
        "print(f'Training Mean Absolute Error (MAE): {mean_absolute_error(y_train, pipelr.predict(X_train_final))}')\n",
        "print('')\n",
        "print(f'Training Score LinearRegression: {lr_tuning.score(X_train_final, y_train):.2f}')\n",
        "print(f'Training Mean Absolute Error (MAE): {mean_absolute_error(y_train, pipelr.predict(X_train_final))}')"
      ],
      "metadata": {
        "colab": {
          "base_uri": "https://localhost:8080/"
        },
        "id": "CNwhk8irlaS8",
        "outputId": "fee9b599-4a95-40e1-ffa9-3f0567160ab7"
      },
      "execution_count": 143,
      "outputs": [
        {
          "output_type": "stream",
          "name": "stdout",
          "text": [
            "Training Score LinearRegression: 1.00\n",
            "Training Mean Absolute Error (MAE): 2.515328896494644\n",
            "\n",
            "Training Score LinearRegression: 1.00\n",
            "Training Mean Absolute Error (MAE): 2.515328896494644\n"
          ]
        }
      ]
    },
    {
      "cell_type": "markdown",
      "source": [
        "terlihat sama antara model setelah di tuning ataupun belum"
      ],
      "metadata": {
        "id": "GTI3L2z2nezU"
      }
    },
    {
      "cell_type": "markdown",
      "source": [
        "#9-Model Inference"
      ],
      "metadata": {
        "id": "kysz-9qVfpgG"
      }
    },
    {
      "cell_type": "code",
      "source": [
        "#reset index data inference\n",
        "data_inf = data_inf.reset_index(drop=True)\n",
        "data_inf"
      ],
      "metadata": {
        "id": "KDb3RUTzhZOx",
        "colab": {
          "base_uri": "https://localhost:8080/",
          "height": 1000
        },
        "outputId": "5914f619-ba76-48eb-bc7c-1a291c74e56e"
      },
      "execution_count": 126,
      "outputs": [
        {
          "output_type": "execute_result",
          "data": {
            "text/plain": [
              "             Open Time     Open     High      Low    Close       Volume  \\\n",
              "0  2020-05-07 21:30:00   211.67   212.74   211.04   212.28   8430.03234   \n",
              "1  2020-08-02 13:00:00   359.19   364.89   358.55   363.90  31341.75052   \n",
              "2  2020-01-25 17:00:00   161.06   161.35   160.61   160.65   2725.35438   \n",
              "3  2021-05-12 21:00:00  4098.96  4139.96  4076.31  4138.15  14485.86676   \n",
              "4  2018-12-25 04:00:00   123.61   126.49   123.33   125.75  30608.44170   \n",
              "5  2018-10-04 17:00:00   224.17   224.33   223.01   223.15   3155.32958   \n",
              "6  2021-12-30 19:30:00  3758.06  3769.10  3748.70  3751.06   4060.88700   \n",
              "7  2019-09-11 22:30:00   177.68   178.54   177.67   178.35   2461.50220   \n",
              "8  2019-08-04 03:00:00   220.80   220.90   220.20   220.39   2922.40077   \n",
              "9  2020-02-04 04:00:00   188.08   189.00   188.07   188.62   5641.94692   \n",
              "10 2021-04-04 17:30:00  2079.36  2081.99  2075.73  2079.20   6544.67619   \n",
              "11 2019-09-09 14:00:00   182.10   182.83   181.84   182.41   3394.65063   \n",
              "12 2019-02-15 06:30:00   122.75   123.50   122.38   122.69   7787.89197   \n",
              "13 2019-12-07 04:30:00   148.82   149.49   148.71   148.84   6543.52874   \n",
              "14 2018-11-30 14:30:00   114.31   114.73   113.59   113.97   5942.43148   \n",
              "15 2020-07-31 18:30:00   343.81   344.01   341.36   342.46   9841.94041   \n",
              "16 2021-09-24 14:30:00  2923.89  2942.85  2887.51  2897.54  27816.53730   \n",
              "17 2019-03-18 20:00:00   137.40   138.07   137.34   137.75   4006.52406   \n",
              "18 2018-10-20 10:30:00   208.08   208.25   207.63   207.80   1025.60341   \n",
              "19 2019-02-03 18:30:00   107.62   107.66   107.41   107.53   2515.87290   \n",
              "\n",
              "                      Close Time  Quote Asset Volume  Number of Trades  \\\n",
              "0  2020-05-07 21:59:59.999000064        1.786312e+06              3138   \n",
              "1  2020-08-02 13:29:59.999000064        1.136947e+07             13536   \n",
              "2  2020-01-25 17:29:59.999000064        4.387203e+05              1285   \n",
              "3  2021-05-12 21:29:59.999000064        5.947341e+07             36605   \n",
              "4  2018-12-25 04:29:59.999000064        3.822828e+06              8391   \n",
              "5  2018-10-04 17:29:59.999000064        7.053454e+05              3000   \n",
              "6  2021-12-30 19:59:59.999000064        1.526765e+07              9644   \n",
              "7  2019-09-11 22:59:59.999000064        4.386104e+05              1713   \n",
              "8  2019-08-04 03:29:59.999000064        6.446054e+05              1605   \n",
              "9  2020-02-04 04:29:59.999000064        1.064297e+06              3224   \n",
              "10 2021-04-04 17:59:59.999000064        1.361154e+07             23031   \n",
              "11 2019-09-09 14:29:59.999000064        6.193541e+05              2396   \n",
              "12 2019-02-15 06:59:59.999000064        9.571361e+05              2989   \n",
              "13 2019-12-07 04:59:59.999000064        9.750156e+05              2327   \n",
              "14 2018-11-30 14:59:59.999000064        6.772448e+05              2573   \n",
              "15 2020-07-31 18:59:59.999000064        3.372507e+06              6102   \n",
              "16 2021-09-24 14:59:59.999000064        8.110337e+07             48281   \n",
              "17 2019-03-18 20:29:59.999000064        5.522270e+05              1528   \n",
              "18 2018-10-20 10:59:59.999000064        2.132080e+05               636   \n",
              "19 2019-02-03 18:59:59.999000064        2.705259e+05              1244   \n",
              "\n",
              "    TB Base Volume  TB Quote Volume  Ignore  \n",
              "0       4536.57083     9.613210e+05       0  \n",
              "1      13407.87399     4.863080e+06       0  \n",
              "2       1886.98892     3.037838e+05       0  \n",
              "3       7107.41265     2.918371e+07       0  \n",
              "4      16443.90439     2.053765e+06       0  \n",
              "5       1176.33760     2.630684e+05       0  \n",
              "6       1872.46140     7.039526e+06       0  \n",
              "7       1376.51068     2.452705e+05       0  \n",
              "8       1046.74853     2.308752e+05       0  \n",
              "9       2970.74668     5.604470e+05       0  \n",
              "10      3252.07918     6.763768e+06       0  \n",
              "11      1429.83545     2.608182e+05       0  \n",
              "12      4269.37966     5.249023e+05       0  \n",
              "13      2828.07936     4.213444e+05       0  \n",
              "14      2919.77598     3.327983e+05       0  \n",
              "15      5043.47802     1.728554e+06       0  \n",
              "16     12540.14760     3.657732e+07       0  \n",
              "17      2220.42642     3.060571e+05       0  \n",
              "18       409.10912     8.503145e+04       0  \n",
              "19      1188.60654     1.278226e+05       0  "
            ],
            "text/html": [
              "\n",
              "  <div id=\"df-49f4296d-8b56-4ffd-b08c-bf1be97fa36d\">\n",
              "    <div class=\"colab-df-container\">\n",
              "      <div>\n",
              "<style scoped>\n",
              "    .dataframe tbody tr th:only-of-type {\n",
              "        vertical-align: middle;\n",
              "    }\n",
              "\n",
              "    .dataframe tbody tr th {\n",
              "        vertical-align: top;\n",
              "    }\n",
              "\n",
              "    .dataframe thead th {\n",
              "        text-align: right;\n",
              "    }\n",
              "</style>\n",
              "<table border=\"1\" class=\"dataframe\">\n",
              "  <thead>\n",
              "    <tr style=\"text-align: right;\">\n",
              "      <th></th>\n",
              "      <th>Open Time</th>\n",
              "      <th>Open</th>\n",
              "      <th>High</th>\n",
              "      <th>Low</th>\n",
              "      <th>Close</th>\n",
              "      <th>Volume</th>\n",
              "      <th>Close Time</th>\n",
              "      <th>Quote Asset Volume</th>\n",
              "      <th>Number of Trades</th>\n",
              "      <th>TB Base Volume</th>\n",
              "      <th>TB Quote Volume</th>\n",
              "      <th>Ignore</th>\n",
              "    </tr>\n",
              "  </thead>\n",
              "  <tbody>\n",
              "    <tr>\n",
              "      <th>0</th>\n",
              "      <td>2020-05-07 21:30:00</td>\n",
              "      <td>211.67</td>\n",
              "      <td>212.74</td>\n",
              "      <td>211.04</td>\n",
              "      <td>212.28</td>\n",
              "      <td>8430.03234</td>\n",
              "      <td>2020-05-07 21:59:59.999000064</td>\n",
              "      <td>1.786312e+06</td>\n",
              "      <td>3138</td>\n",
              "      <td>4536.57083</td>\n",
              "      <td>9.613210e+05</td>\n",
              "      <td>0</td>\n",
              "    </tr>\n",
              "    <tr>\n",
              "      <th>1</th>\n",
              "      <td>2020-08-02 13:00:00</td>\n",
              "      <td>359.19</td>\n",
              "      <td>364.89</td>\n",
              "      <td>358.55</td>\n",
              "      <td>363.90</td>\n",
              "      <td>31341.75052</td>\n",
              "      <td>2020-08-02 13:29:59.999000064</td>\n",
              "      <td>1.136947e+07</td>\n",
              "      <td>13536</td>\n",
              "      <td>13407.87399</td>\n",
              "      <td>4.863080e+06</td>\n",
              "      <td>0</td>\n",
              "    </tr>\n",
              "    <tr>\n",
              "      <th>2</th>\n",
              "      <td>2020-01-25 17:00:00</td>\n",
              "      <td>161.06</td>\n",
              "      <td>161.35</td>\n",
              "      <td>160.61</td>\n",
              "      <td>160.65</td>\n",
              "      <td>2725.35438</td>\n",
              "      <td>2020-01-25 17:29:59.999000064</td>\n",
              "      <td>4.387203e+05</td>\n",
              "      <td>1285</td>\n",
              "      <td>1886.98892</td>\n",
              "      <td>3.037838e+05</td>\n",
              "      <td>0</td>\n",
              "    </tr>\n",
              "    <tr>\n",
              "      <th>3</th>\n",
              "      <td>2021-05-12 21:00:00</td>\n",
              "      <td>4098.96</td>\n",
              "      <td>4139.96</td>\n",
              "      <td>4076.31</td>\n",
              "      <td>4138.15</td>\n",
              "      <td>14485.86676</td>\n",
              "      <td>2021-05-12 21:29:59.999000064</td>\n",
              "      <td>5.947341e+07</td>\n",
              "      <td>36605</td>\n",
              "      <td>7107.41265</td>\n",
              "      <td>2.918371e+07</td>\n",
              "      <td>0</td>\n",
              "    </tr>\n",
              "    <tr>\n",
              "      <th>4</th>\n",
              "      <td>2018-12-25 04:00:00</td>\n",
              "      <td>123.61</td>\n",
              "      <td>126.49</td>\n",
              "      <td>123.33</td>\n",
              "      <td>125.75</td>\n",
              "      <td>30608.44170</td>\n",
              "      <td>2018-12-25 04:29:59.999000064</td>\n",
              "      <td>3.822828e+06</td>\n",
              "      <td>8391</td>\n",
              "      <td>16443.90439</td>\n",
              "      <td>2.053765e+06</td>\n",
              "      <td>0</td>\n",
              "    </tr>\n",
              "    <tr>\n",
              "      <th>5</th>\n",
              "      <td>2018-10-04 17:00:00</td>\n",
              "      <td>224.17</td>\n",
              "      <td>224.33</td>\n",
              "      <td>223.01</td>\n",
              "      <td>223.15</td>\n",
              "      <td>3155.32958</td>\n",
              "      <td>2018-10-04 17:29:59.999000064</td>\n",
              "      <td>7.053454e+05</td>\n",
              "      <td>3000</td>\n",
              "      <td>1176.33760</td>\n",
              "      <td>2.630684e+05</td>\n",
              "      <td>0</td>\n",
              "    </tr>\n",
              "    <tr>\n",
              "      <th>6</th>\n",
              "      <td>2021-12-30 19:30:00</td>\n",
              "      <td>3758.06</td>\n",
              "      <td>3769.10</td>\n",
              "      <td>3748.70</td>\n",
              "      <td>3751.06</td>\n",
              "      <td>4060.88700</td>\n",
              "      <td>2021-12-30 19:59:59.999000064</td>\n",
              "      <td>1.526765e+07</td>\n",
              "      <td>9644</td>\n",
              "      <td>1872.46140</td>\n",
              "      <td>7.039526e+06</td>\n",
              "      <td>0</td>\n",
              "    </tr>\n",
              "    <tr>\n",
              "      <th>7</th>\n",
              "      <td>2019-09-11 22:30:00</td>\n",
              "      <td>177.68</td>\n",
              "      <td>178.54</td>\n",
              "      <td>177.67</td>\n",
              "      <td>178.35</td>\n",
              "      <td>2461.50220</td>\n",
              "      <td>2019-09-11 22:59:59.999000064</td>\n",
              "      <td>4.386104e+05</td>\n",
              "      <td>1713</td>\n",
              "      <td>1376.51068</td>\n",
              "      <td>2.452705e+05</td>\n",
              "      <td>0</td>\n",
              "    </tr>\n",
              "    <tr>\n",
              "      <th>8</th>\n",
              "      <td>2019-08-04 03:00:00</td>\n",
              "      <td>220.80</td>\n",
              "      <td>220.90</td>\n",
              "      <td>220.20</td>\n",
              "      <td>220.39</td>\n",
              "      <td>2922.40077</td>\n",
              "      <td>2019-08-04 03:29:59.999000064</td>\n",
              "      <td>6.446054e+05</td>\n",
              "      <td>1605</td>\n",
              "      <td>1046.74853</td>\n",
              "      <td>2.308752e+05</td>\n",
              "      <td>0</td>\n",
              "    </tr>\n",
              "    <tr>\n",
              "      <th>9</th>\n",
              "      <td>2020-02-04 04:00:00</td>\n",
              "      <td>188.08</td>\n",
              "      <td>189.00</td>\n",
              "      <td>188.07</td>\n",
              "      <td>188.62</td>\n",
              "      <td>5641.94692</td>\n",
              "      <td>2020-02-04 04:29:59.999000064</td>\n",
              "      <td>1.064297e+06</td>\n",
              "      <td>3224</td>\n",
              "      <td>2970.74668</td>\n",
              "      <td>5.604470e+05</td>\n",
              "      <td>0</td>\n",
              "    </tr>\n",
              "    <tr>\n",
              "      <th>10</th>\n",
              "      <td>2021-04-04 17:30:00</td>\n",
              "      <td>2079.36</td>\n",
              "      <td>2081.99</td>\n",
              "      <td>2075.73</td>\n",
              "      <td>2079.20</td>\n",
              "      <td>6544.67619</td>\n",
              "      <td>2021-04-04 17:59:59.999000064</td>\n",
              "      <td>1.361154e+07</td>\n",
              "      <td>23031</td>\n",
              "      <td>3252.07918</td>\n",
              "      <td>6.763768e+06</td>\n",
              "      <td>0</td>\n",
              "    </tr>\n",
              "    <tr>\n",
              "      <th>11</th>\n",
              "      <td>2019-09-09 14:00:00</td>\n",
              "      <td>182.10</td>\n",
              "      <td>182.83</td>\n",
              "      <td>181.84</td>\n",
              "      <td>182.41</td>\n",
              "      <td>3394.65063</td>\n",
              "      <td>2019-09-09 14:29:59.999000064</td>\n",
              "      <td>6.193541e+05</td>\n",
              "      <td>2396</td>\n",
              "      <td>1429.83545</td>\n",
              "      <td>2.608182e+05</td>\n",
              "      <td>0</td>\n",
              "    </tr>\n",
              "    <tr>\n",
              "      <th>12</th>\n",
              "      <td>2019-02-15 06:30:00</td>\n",
              "      <td>122.75</td>\n",
              "      <td>123.50</td>\n",
              "      <td>122.38</td>\n",
              "      <td>122.69</td>\n",
              "      <td>7787.89197</td>\n",
              "      <td>2019-02-15 06:59:59.999000064</td>\n",
              "      <td>9.571361e+05</td>\n",
              "      <td>2989</td>\n",
              "      <td>4269.37966</td>\n",
              "      <td>5.249023e+05</td>\n",
              "      <td>0</td>\n",
              "    </tr>\n",
              "    <tr>\n",
              "      <th>13</th>\n",
              "      <td>2019-12-07 04:30:00</td>\n",
              "      <td>148.82</td>\n",
              "      <td>149.49</td>\n",
              "      <td>148.71</td>\n",
              "      <td>148.84</td>\n",
              "      <td>6543.52874</td>\n",
              "      <td>2019-12-07 04:59:59.999000064</td>\n",
              "      <td>9.750156e+05</td>\n",
              "      <td>2327</td>\n",
              "      <td>2828.07936</td>\n",
              "      <td>4.213444e+05</td>\n",
              "      <td>0</td>\n",
              "    </tr>\n",
              "    <tr>\n",
              "      <th>14</th>\n",
              "      <td>2018-11-30 14:30:00</td>\n",
              "      <td>114.31</td>\n",
              "      <td>114.73</td>\n",
              "      <td>113.59</td>\n",
              "      <td>113.97</td>\n",
              "      <td>5942.43148</td>\n",
              "      <td>2018-11-30 14:59:59.999000064</td>\n",
              "      <td>6.772448e+05</td>\n",
              "      <td>2573</td>\n",
              "      <td>2919.77598</td>\n",
              "      <td>3.327983e+05</td>\n",
              "      <td>0</td>\n",
              "    </tr>\n",
              "    <tr>\n",
              "      <th>15</th>\n",
              "      <td>2020-07-31 18:30:00</td>\n",
              "      <td>343.81</td>\n",
              "      <td>344.01</td>\n",
              "      <td>341.36</td>\n",
              "      <td>342.46</td>\n",
              "      <td>9841.94041</td>\n",
              "      <td>2020-07-31 18:59:59.999000064</td>\n",
              "      <td>3.372507e+06</td>\n",
              "      <td>6102</td>\n",
              "      <td>5043.47802</td>\n",
              "      <td>1.728554e+06</td>\n",
              "      <td>0</td>\n",
              "    </tr>\n",
              "    <tr>\n",
              "      <th>16</th>\n",
              "      <td>2021-09-24 14:30:00</td>\n",
              "      <td>2923.89</td>\n",
              "      <td>2942.85</td>\n",
              "      <td>2887.51</td>\n",
              "      <td>2897.54</td>\n",
              "      <td>27816.53730</td>\n",
              "      <td>2021-09-24 14:59:59.999000064</td>\n",
              "      <td>8.110337e+07</td>\n",
              "      <td>48281</td>\n",
              "      <td>12540.14760</td>\n",
              "      <td>3.657732e+07</td>\n",
              "      <td>0</td>\n",
              "    </tr>\n",
              "    <tr>\n",
              "      <th>17</th>\n",
              "      <td>2019-03-18 20:00:00</td>\n",
              "      <td>137.40</td>\n",
              "      <td>138.07</td>\n",
              "      <td>137.34</td>\n",
              "      <td>137.75</td>\n",
              "      <td>4006.52406</td>\n",
              "      <td>2019-03-18 20:29:59.999000064</td>\n",
              "      <td>5.522270e+05</td>\n",
              "      <td>1528</td>\n",
              "      <td>2220.42642</td>\n",
              "      <td>3.060571e+05</td>\n",
              "      <td>0</td>\n",
              "    </tr>\n",
              "    <tr>\n",
              "      <th>18</th>\n",
              "      <td>2018-10-20 10:30:00</td>\n",
              "      <td>208.08</td>\n",
              "      <td>208.25</td>\n",
              "      <td>207.63</td>\n",
              "      <td>207.80</td>\n",
              "      <td>1025.60341</td>\n",
              "      <td>2018-10-20 10:59:59.999000064</td>\n",
              "      <td>2.132080e+05</td>\n",
              "      <td>636</td>\n",
              "      <td>409.10912</td>\n",
              "      <td>8.503145e+04</td>\n",
              "      <td>0</td>\n",
              "    </tr>\n",
              "    <tr>\n",
              "      <th>19</th>\n",
              "      <td>2019-02-03 18:30:00</td>\n",
              "      <td>107.62</td>\n",
              "      <td>107.66</td>\n",
              "      <td>107.41</td>\n",
              "      <td>107.53</td>\n",
              "      <td>2515.87290</td>\n",
              "      <td>2019-02-03 18:59:59.999000064</td>\n",
              "      <td>2.705259e+05</td>\n",
              "      <td>1244</td>\n",
              "      <td>1188.60654</td>\n",
              "      <td>1.278226e+05</td>\n",
              "      <td>0</td>\n",
              "    </tr>\n",
              "  </tbody>\n",
              "</table>\n",
              "</div>\n",
              "      <button class=\"colab-df-convert\" onclick=\"convertToInteractive('df-49f4296d-8b56-4ffd-b08c-bf1be97fa36d')\"\n",
              "              title=\"Convert this dataframe to an interactive table.\"\n",
              "              style=\"display:none;\">\n",
              "        \n",
              "  <svg xmlns=\"http://www.w3.org/2000/svg\" height=\"24px\"viewBox=\"0 0 24 24\"\n",
              "       width=\"24px\">\n",
              "    <path d=\"M0 0h24v24H0V0z\" fill=\"none\"/>\n",
              "    <path d=\"M18.56 5.44l.94 2.06.94-2.06 2.06-.94-2.06-.94-.94-2.06-.94 2.06-2.06.94zm-11 1L8.5 8.5l.94-2.06 2.06-.94-2.06-.94L8.5 2.5l-.94 2.06-2.06.94zm10 10l.94 2.06.94-2.06 2.06-.94-2.06-.94-.94-2.06-.94 2.06-2.06.94z\"/><path d=\"M17.41 7.96l-1.37-1.37c-.4-.4-.92-.59-1.43-.59-.52 0-1.04.2-1.43.59L10.3 9.45l-7.72 7.72c-.78.78-.78 2.05 0 2.83L4 21.41c.39.39.9.59 1.41.59.51 0 1.02-.2 1.41-.59l7.78-7.78 2.81-2.81c.8-.78.8-2.07 0-2.86zM5.41 20L4 18.59l7.72-7.72 1.47 1.35L5.41 20z\"/>\n",
              "  </svg>\n",
              "      </button>\n",
              "      \n",
              "  <style>\n",
              "    .colab-df-container {\n",
              "      display:flex;\n",
              "      flex-wrap:wrap;\n",
              "      gap: 12px;\n",
              "    }\n",
              "\n",
              "    .colab-df-convert {\n",
              "      background-color: #E8F0FE;\n",
              "      border: none;\n",
              "      border-radius: 50%;\n",
              "      cursor: pointer;\n",
              "      display: none;\n",
              "      fill: #1967D2;\n",
              "      height: 32px;\n",
              "      padding: 0 0 0 0;\n",
              "      width: 32px;\n",
              "    }\n",
              "\n",
              "    .colab-df-convert:hover {\n",
              "      background-color: #E2EBFA;\n",
              "      box-shadow: 0px 1px 2px rgba(60, 64, 67, 0.3), 0px 1px 3px 1px rgba(60, 64, 67, 0.15);\n",
              "      fill: #174EA6;\n",
              "    }\n",
              "\n",
              "    [theme=dark] .colab-df-convert {\n",
              "      background-color: #3B4455;\n",
              "      fill: #D2E3FC;\n",
              "    }\n",
              "\n",
              "    [theme=dark] .colab-df-convert:hover {\n",
              "      background-color: #434B5C;\n",
              "      box-shadow: 0px 1px 3px 1px rgba(0, 0, 0, 0.15);\n",
              "      filter: drop-shadow(0px 1px 2px rgba(0, 0, 0, 0.3));\n",
              "      fill: #FFFFFF;\n",
              "    }\n",
              "  </style>\n",
              "\n",
              "      <script>\n",
              "        const buttonEl =\n",
              "          document.querySelector('#df-49f4296d-8b56-4ffd-b08c-bf1be97fa36d button.colab-df-convert');\n",
              "        buttonEl.style.display =\n",
              "          google.colab.kernel.accessAllowed ? 'block' : 'none';\n",
              "\n",
              "        async function convertToInteractive(key) {\n",
              "          const element = document.querySelector('#df-49f4296d-8b56-4ffd-b08c-bf1be97fa36d');\n",
              "          const dataTable =\n",
              "            await google.colab.kernel.invokeFunction('convertToInteractive',\n",
              "                                                     [key], {});\n",
              "          if (!dataTable) return;\n",
              "\n",
              "          const docLinkHtml = 'Like what you see? Visit the ' +\n",
              "            '<a target=\"_blank\" href=https://colab.research.google.com/notebooks/data_table.ipynb>data table notebook</a>'\n",
              "            + ' to learn more about interactive tables.';\n",
              "          element.innerHTML = '';\n",
              "          dataTable['output_type'] = 'display_data';\n",
              "          await google.colab.output.renderOutput(dataTable, element);\n",
              "          const docLink = document.createElement('div');\n",
              "          docLink.innerHTML = docLinkHtml;\n",
              "          element.appendChild(docLink);\n",
              "        }\n",
              "      </script>\n",
              "    </div>\n",
              "  </div>\n",
              "  "
            ]
          },
          "metadata": {},
          "execution_count": 126
        }
      ]
    },
    {
      "cell_type": "markdown",
      "source": [
        "##Inference Preprocessing"
      ],
      "metadata": {
        "id": "COG-zRqwhsGA"
      }
    },
    {
      "cell_type": "markdown",
      "source": [
        "Tidak melakukan preprocessing karena memakai pipline"
      ],
      "metadata": {
        "id": "l4lDCuzsq00U"
      }
    },
    {
      "cell_type": "markdown",
      "source": [
        "##Infernce Prediction"
      ],
      "metadata": {
        "id": "Sam5d7HoiFsB"
      }
    },
    {
      "cell_type": "code",
      "source": [
        "inference=data_inf"
      ],
      "metadata": {
        "id": "0mv0-uayph_F"
      },
      "execution_count": 131,
      "outputs": []
    },
    {
      "cell_type": "code",
      "source": [
        "#buat predict\n",
        "y_pred_inf_tuning = grid_search.best_estimator_.predict(inference)\n",
        "y_pred_inf = pipelr.predict(inference)"
      ],
      "metadata": {
        "id": "wU3t3RwqiFGL"
      },
      "execution_count": 145,
      "outputs": []
    },
    {
      "cell_type": "code",
      "source": [
        "print('---------Ordinary Linear Regression---------')\n",
        "print(f\"Inference Mean Absolute Error (MAE): {mean_absolute_error(inference['Close'], y_pred_inf)}\")\n",
        "print(f\"Inference Score: {pipelr.score(inference, inference['Close']):.2f}\")\n",
        "print('')\n",
        "print('---------Ordinary Linear Regression setelah di tuning---------')\n",
        "print(f\"Inference Mean Absolute Error (MAE): {mean_absolute_error(inference['Close'], y_pred_inf_tuning)}\")\n",
        "print(f\"Inference Score: {grid_search.best_estimator_.score(inference, inference['Close']):.2f}\")"
      ],
      "metadata": {
        "colab": {
          "base_uri": "https://localhost:8080/"
        },
        "id": "qD-pMjsMri-J",
        "outputId": "d4260081-034d-4827-9de5-69021badfe2c"
      },
      "execution_count": 147,
      "outputs": [
        {
          "output_type": "stream",
          "name": "stdout",
          "text": [
            "---------Ordinary Linear Regression---------\n",
            "Inference Mean Absolute Error (MAE): 2.541884598244952\n",
            "Inference Score: 1.00\n",
            "\n",
            "---------Ordinary Linear Regression setelah di tuning---------\n",
            "Inference Mean Absolute Error (MAE): 2.541884598245204\n",
            "Inference Score: 1.00\n"
          ]
        }
      ]
    },
    {
      "cell_type": "markdown",
      "source": [
        "hasilnya MAE meningkat dari 2.54188459824<b>4952</b> ke <br>\n",
        "2.5418845982<b>45204</b> dan scoring sama 100%"
      ],
      "metadata": {
        "id": "MXd7miuvadsE"
      }
    },
    {
      "cell_type": "code",
      "source": [
        "#rubah ke dataframe\n",
        "y_pred_inf = pd.DataFrame(y_pred_inf, columns=['LR'])\n",
        "y_pred_inf_tuning = pd.DataFrame(y_pred_inf_tuning, columns=['LR_setelah_tuning'])"
      ],
      "metadata": {
        "id": "nKrhzf1vjbOa"
      },
      "execution_count": 148,
      "outputs": []
    },
    {
      "cell_type": "code",
      "source": [
        "y_pred_inf"
      ],
      "metadata": {
        "colab": {
          "base_uri": "https://localhost:8080/",
          "height": 677
        },
        "id": "FzRHvdcSteqy",
        "outputId": "58b472d7-13b6-4b60-b3c2-c6b4c5215085"
      },
      "execution_count": 149,
      "outputs": [
        {
          "output_type": "execute_result",
          "data": {
            "text/plain": [
              "             LR\n",
              "0    212.008941\n",
              "1    363.351803\n",
              "2    160.889791\n",
              "3   4116.117215\n",
              "4    125.786247\n",
              "5    223.383288\n",
              "6   3758.478516\n",
              "7    178.264761\n",
              "8    220.324142\n",
              "9    188.707642\n",
              "10  2077.620154\n",
              "11   182.410032\n",
              "12   123.053641\n",
              "13   149.201571\n",
              "14   114.114490\n",
              "15   342.134631\n",
              "16  2914.384697\n",
              "17   137.822724\n",
              "18   207.770158\n",
              "19   107.433142"
            ],
            "text/html": [
              "\n",
              "  <div id=\"df-4212dbc1-e7e8-41d3-9844-fb4ce836518b\">\n",
              "    <div class=\"colab-df-container\">\n",
              "      <div>\n",
              "<style scoped>\n",
              "    .dataframe tbody tr th:only-of-type {\n",
              "        vertical-align: middle;\n",
              "    }\n",
              "\n",
              "    .dataframe tbody tr th {\n",
              "        vertical-align: top;\n",
              "    }\n",
              "\n",
              "    .dataframe thead th {\n",
              "        text-align: right;\n",
              "    }\n",
              "</style>\n",
              "<table border=\"1\" class=\"dataframe\">\n",
              "  <thead>\n",
              "    <tr style=\"text-align: right;\">\n",
              "      <th></th>\n",
              "      <th>LR</th>\n",
              "    </tr>\n",
              "  </thead>\n",
              "  <tbody>\n",
              "    <tr>\n",
              "      <th>0</th>\n",
              "      <td>212.008941</td>\n",
              "    </tr>\n",
              "    <tr>\n",
              "      <th>1</th>\n",
              "      <td>363.351803</td>\n",
              "    </tr>\n",
              "    <tr>\n",
              "      <th>2</th>\n",
              "      <td>160.889791</td>\n",
              "    </tr>\n",
              "    <tr>\n",
              "      <th>3</th>\n",
              "      <td>4116.117215</td>\n",
              "    </tr>\n",
              "    <tr>\n",
              "      <th>4</th>\n",
              "      <td>125.786247</td>\n",
              "    </tr>\n",
              "    <tr>\n",
              "      <th>5</th>\n",
              "      <td>223.383288</td>\n",
              "    </tr>\n",
              "    <tr>\n",
              "      <th>6</th>\n",
              "      <td>3758.478516</td>\n",
              "    </tr>\n",
              "    <tr>\n",
              "      <th>7</th>\n",
              "      <td>178.264761</td>\n",
              "    </tr>\n",
              "    <tr>\n",
              "      <th>8</th>\n",
              "      <td>220.324142</td>\n",
              "    </tr>\n",
              "    <tr>\n",
              "      <th>9</th>\n",
              "      <td>188.707642</td>\n",
              "    </tr>\n",
              "    <tr>\n",
              "      <th>10</th>\n",
              "      <td>2077.620154</td>\n",
              "    </tr>\n",
              "    <tr>\n",
              "      <th>11</th>\n",
              "      <td>182.410032</td>\n",
              "    </tr>\n",
              "    <tr>\n",
              "      <th>12</th>\n",
              "      <td>123.053641</td>\n",
              "    </tr>\n",
              "    <tr>\n",
              "      <th>13</th>\n",
              "      <td>149.201571</td>\n",
              "    </tr>\n",
              "    <tr>\n",
              "      <th>14</th>\n",
              "      <td>114.114490</td>\n",
              "    </tr>\n",
              "    <tr>\n",
              "      <th>15</th>\n",
              "      <td>342.134631</td>\n",
              "    </tr>\n",
              "    <tr>\n",
              "      <th>16</th>\n",
              "      <td>2914.384697</td>\n",
              "    </tr>\n",
              "    <tr>\n",
              "      <th>17</th>\n",
              "      <td>137.822724</td>\n",
              "    </tr>\n",
              "    <tr>\n",
              "      <th>18</th>\n",
              "      <td>207.770158</td>\n",
              "    </tr>\n",
              "    <tr>\n",
              "      <th>19</th>\n",
              "      <td>107.433142</td>\n",
              "    </tr>\n",
              "  </tbody>\n",
              "</table>\n",
              "</div>\n",
              "      <button class=\"colab-df-convert\" onclick=\"convertToInteractive('df-4212dbc1-e7e8-41d3-9844-fb4ce836518b')\"\n",
              "              title=\"Convert this dataframe to an interactive table.\"\n",
              "              style=\"display:none;\">\n",
              "        \n",
              "  <svg xmlns=\"http://www.w3.org/2000/svg\" height=\"24px\"viewBox=\"0 0 24 24\"\n",
              "       width=\"24px\">\n",
              "    <path d=\"M0 0h24v24H0V0z\" fill=\"none\"/>\n",
              "    <path d=\"M18.56 5.44l.94 2.06.94-2.06 2.06-.94-2.06-.94-.94-2.06-.94 2.06-2.06.94zm-11 1L8.5 8.5l.94-2.06 2.06-.94-2.06-.94L8.5 2.5l-.94 2.06-2.06.94zm10 10l.94 2.06.94-2.06 2.06-.94-2.06-.94-.94-2.06-.94 2.06-2.06.94z\"/><path d=\"M17.41 7.96l-1.37-1.37c-.4-.4-.92-.59-1.43-.59-.52 0-1.04.2-1.43.59L10.3 9.45l-7.72 7.72c-.78.78-.78 2.05 0 2.83L4 21.41c.39.39.9.59 1.41.59.51 0 1.02-.2 1.41-.59l7.78-7.78 2.81-2.81c.8-.78.8-2.07 0-2.86zM5.41 20L4 18.59l7.72-7.72 1.47 1.35L5.41 20z\"/>\n",
              "  </svg>\n",
              "      </button>\n",
              "      \n",
              "  <style>\n",
              "    .colab-df-container {\n",
              "      display:flex;\n",
              "      flex-wrap:wrap;\n",
              "      gap: 12px;\n",
              "    }\n",
              "\n",
              "    .colab-df-convert {\n",
              "      background-color: #E8F0FE;\n",
              "      border: none;\n",
              "      border-radius: 50%;\n",
              "      cursor: pointer;\n",
              "      display: none;\n",
              "      fill: #1967D2;\n",
              "      height: 32px;\n",
              "      padding: 0 0 0 0;\n",
              "      width: 32px;\n",
              "    }\n",
              "\n",
              "    .colab-df-convert:hover {\n",
              "      background-color: #E2EBFA;\n",
              "      box-shadow: 0px 1px 2px rgba(60, 64, 67, 0.3), 0px 1px 3px 1px rgba(60, 64, 67, 0.15);\n",
              "      fill: #174EA6;\n",
              "    }\n",
              "\n",
              "    [theme=dark] .colab-df-convert {\n",
              "      background-color: #3B4455;\n",
              "      fill: #D2E3FC;\n",
              "    }\n",
              "\n",
              "    [theme=dark] .colab-df-convert:hover {\n",
              "      background-color: #434B5C;\n",
              "      box-shadow: 0px 1px 3px 1px rgba(0, 0, 0, 0.15);\n",
              "      filter: drop-shadow(0px 1px 2px rgba(0, 0, 0, 0.3));\n",
              "      fill: #FFFFFF;\n",
              "    }\n",
              "  </style>\n",
              "\n",
              "      <script>\n",
              "        const buttonEl =\n",
              "          document.querySelector('#df-4212dbc1-e7e8-41d3-9844-fb4ce836518b button.colab-df-convert');\n",
              "        buttonEl.style.display =\n",
              "          google.colab.kernel.accessAllowed ? 'block' : 'none';\n",
              "\n",
              "        async function convertToInteractive(key) {\n",
              "          const element = document.querySelector('#df-4212dbc1-e7e8-41d3-9844-fb4ce836518b');\n",
              "          const dataTable =\n",
              "            await google.colab.kernel.invokeFunction('convertToInteractive',\n",
              "                                                     [key], {});\n",
              "          if (!dataTable) return;\n",
              "\n",
              "          const docLinkHtml = 'Like what you see? Visit the ' +\n",
              "            '<a target=\"_blank\" href=https://colab.research.google.com/notebooks/data_table.ipynb>data table notebook</a>'\n",
              "            + ' to learn more about interactive tables.';\n",
              "          element.innerHTML = '';\n",
              "          dataTable['output_type'] = 'display_data';\n",
              "          await google.colab.output.renderOutput(dataTable, element);\n",
              "          const docLink = document.createElement('div');\n",
              "          docLink.innerHTML = docLinkHtml;\n",
              "          element.appendChild(docLink);\n",
              "        }\n",
              "      </script>\n",
              "    </div>\n",
              "  </div>\n",
              "  "
            ]
          },
          "metadata": {},
          "execution_count": 149
        }
      ]
    },
    {
      "cell_type": "code",
      "source": [
        "inference['Close']"
      ],
      "metadata": {
        "colab": {
          "base_uri": "https://localhost:8080/"
        },
        "id": "aW86GPlCtsXD",
        "outputId": "ffd5bce3-c42e-477f-ab15-7b49990a49d3"
      },
      "execution_count": 150,
      "outputs": [
        {
          "output_type": "execute_result",
          "data": {
            "text/plain": [
              "0      212.28\n",
              "1      363.90\n",
              "2      160.65\n",
              "3     4138.15\n",
              "4      125.75\n",
              "5      223.15\n",
              "6     3751.06\n",
              "7      178.35\n",
              "8      220.39\n",
              "9      188.62\n",
              "10    2079.20\n",
              "11     182.41\n",
              "12     122.69\n",
              "13     148.84\n",
              "14     113.97\n",
              "15     342.46\n",
              "16    2897.54\n",
              "17     137.75\n",
              "18     207.80\n",
              "19     107.53\n",
              "Name: Close, dtype: float64"
            ]
          },
          "metadata": {},
          "execution_count": 150
        }
      ]
    },
    {
      "cell_type": "code",
      "source": [
        "#Buat dataframe prediction\n",
        "predictions = pd.concat([data_inf['Close'], y_pred_inf, y_pred_inf_tuning], axis=1)\n",
        "predictions.columns = ['Actual','LR','LR_setelah_tuning']\n",
        "predictions"
      ],
      "metadata": {
        "id": "i_07NSFdkaKj",
        "colab": {
          "base_uri": "https://localhost:8080/",
          "height": 677
        },
        "outputId": "555f891d-7aa4-44a4-de23-18a505501f1b"
      },
      "execution_count": 151,
      "outputs": [
        {
          "output_type": "execute_result",
          "data": {
            "text/plain": [
              "     Actual           LR  LR_setelah_tuning\n",
              "0    212.28   212.008941         212.008941\n",
              "1    363.90   363.351803         363.351803\n",
              "2    160.65   160.889791         160.889791\n",
              "3   4138.15  4116.117215        4116.117215\n",
              "4    125.75   125.786247         125.786247\n",
              "5    223.15   223.383288         223.383288\n",
              "6   3751.06  3758.478516        3758.478516\n",
              "7    178.35   178.264761         178.264761\n",
              "8    220.39   220.324142         220.324142\n",
              "9    188.62   188.707642         188.707642\n",
              "10  2079.20  2077.620154        2077.620154\n",
              "11   182.41   182.410032         182.410032\n",
              "12   122.69   123.053641         123.053641\n",
              "13   148.84   149.201571         149.201571\n",
              "14   113.97   114.114490         114.114490\n",
              "15   342.46   342.134631         342.134631\n",
              "16  2897.54  2914.384697        2914.384697\n",
              "17   137.75   137.822724         137.822724\n",
              "18   207.80   207.770158         207.770158\n",
              "19   107.53   107.433142         107.433142"
            ],
            "text/html": [
              "\n",
              "  <div id=\"df-fddd03ba-f246-4e4c-b73a-fe0167ea7730\">\n",
              "    <div class=\"colab-df-container\">\n",
              "      <div>\n",
              "<style scoped>\n",
              "    .dataframe tbody tr th:only-of-type {\n",
              "        vertical-align: middle;\n",
              "    }\n",
              "\n",
              "    .dataframe tbody tr th {\n",
              "        vertical-align: top;\n",
              "    }\n",
              "\n",
              "    .dataframe thead th {\n",
              "        text-align: right;\n",
              "    }\n",
              "</style>\n",
              "<table border=\"1\" class=\"dataframe\">\n",
              "  <thead>\n",
              "    <tr style=\"text-align: right;\">\n",
              "      <th></th>\n",
              "      <th>Actual</th>\n",
              "      <th>LR</th>\n",
              "      <th>LR_setelah_tuning</th>\n",
              "    </tr>\n",
              "  </thead>\n",
              "  <tbody>\n",
              "    <tr>\n",
              "      <th>0</th>\n",
              "      <td>212.28</td>\n",
              "      <td>212.008941</td>\n",
              "      <td>212.008941</td>\n",
              "    </tr>\n",
              "    <tr>\n",
              "      <th>1</th>\n",
              "      <td>363.90</td>\n",
              "      <td>363.351803</td>\n",
              "      <td>363.351803</td>\n",
              "    </tr>\n",
              "    <tr>\n",
              "      <th>2</th>\n",
              "      <td>160.65</td>\n",
              "      <td>160.889791</td>\n",
              "      <td>160.889791</td>\n",
              "    </tr>\n",
              "    <tr>\n",
              "      <th>3</th>\n",
              "      <td>4138.15</td>\n",
              "      <td>4116.117215</td>\n",
              "      <td>4116.117215</td>\n",
              "    </tr>\n",
              "    <tr>\n",
              "      <th>4</th>\n",
              "      <td>125.75</td>\n",
              "      <td>125.786247</td>\n",
              "      <td>125.786247</td>\n",
              "    </tr>\n",
              "    <tr>\n",
              "      <th>5</th>\n",
              "      <td>223.15</td>\n",
              "      <td>223.383288</td>\n",
              "      <td>223.383288</td>\n",
              "    </tr>\n",
              "    <tr>\n",
              "      <th>6</th>\n",
              "      <td>3751.06</td>\n",
              "      <td>3758.478516</td>\n",
              "      <td>3758.478516</td>\n",
              "    </tr>\n",
              "    <tr>\n",
              "      <th>7</th>\n",
              "      <td>178.35</td>\n",
              "      <td>178.264761</td>\n",
              "      <td>178.264761</td>\n",
              "    </tr>\n",
              "    <tr>\n",
              "      <th>8</th>\n",
              "      <td>220.39</td>\n",
              "      <td>220.324142</td>\n",
              "      <td>220.324142</td>\n",
              "    </tr>\n",
              "    <tr>\n",
              "      <th>9</th>\n",
              "      <td>188.62</td>\n",
              "      <td>188.707642</td>\n",
              "      <td>188.707642</td>\n",
              "    </tr>\n",
              "    <tr>\n",
              "      <th>10</th>\n",
              "      <td>2079.20</td>\n",
              "      <td>2077.620154</td>\n",
              "      <td>2077.620154</td>\n",
              "    </tr>\n",
              "    <tr>\n",
              "      <th>11</th>\n",
              "      <td>182.41</td>\n",
              "      <td>182.410032</td>\n",
              "      <td>182.410032</td>\n",
              "    </tr>\n",
              "    <tr>\n",
              "      <th>12</th>\n",
              "      <td>122.69</td>\n",
              "      <td>123.053641</td>\n",
              "      <td>123.053641</td>\n",
              "    </tr>\n",
              "    <tr>\n",
              "      <th>13</th>\n",
              "      <td>148.84</td>\n",
              "      <td>149.201571</td>\n",
              "      <td>149.201571</td>\n",
              "    </tr>\n",
              "    <tr>\n",
              "      <th>14</th>\n",
              "      <td>113.97</td>\n",
              "      <td>114.114490</td>\n",
              "      <td>114.114490</td>\n",
              "    </tr>\n",
              "    <tr>\n",
              "      <th>15</th>\n",
              "      <td>342.46</td>\n",
              "      <td>342.134631</td>\n",
              "      <td>342.134631</td>\n",
              "    </tr>\n",
              "    <tr>\n",
              "      <th>16</th>\n",
              "      <td>2897.54</td>\n",
              "      <td>2914.384697</td>\n",
              "      <td>2914.384697</td>\n",
              "    </tr>\n",
              "    <tr>\n",
              "      <th>17</th>\n",
              "      <td>137.75</td>\n",
              "      <td>137.822724</td>\n",
              "      <td>137.822724</td>\n",
              "    </tr>\n",
              "    <tr>\n",
              "      <th>18</th>\n",
              "      <td>207.80</td>\n",
              "      <td>207.770158</td>\n",
              "      <td>207.770158</td>\n",
              "    </tr>\n",
              "    <tr>\n",
              "      <th>19</th>\n",
              "      <td>107.53</td>\n",
              "      <td>107.433142</td>\n",
              "      <td>107.433142</td>\n",
              "    </tr>\n",
              "  </tbody>\n",
              "</table>\n",
              "</div>\n",
              "      <button class=\"colab-df-convert\" onclick=\"convertToInteractive('df-fddd03ba-f246-4e4c-b73a-fe0167ea7730')\"\n",
              "              title=\"Convert this dataframe to an interactive table.\"\n",
              "              style=\"display:none;\">\n",
              "        \n",
              "  <svg xmlns=\"http://www.w3.org/2000/svg\" height=\"24px\"viewBox=\"0 0 24 24\"\n",
              "       width=\"24px\">\n",
              "    <path d=\"M0 0h24v24H0V0z\" fill=\"none\"/>\n",
              "    <path d=\"M18.56 5.44l.94 2.06.94-2.06 2.06-.94-2.06-.94-.94-2.06-.94 2.06-2.06.94zm-11 1L8.5 8.5l.94-2.06 2.06-.94-2.06-.94L8.5 2.5l-.94 2.06-2.06.94zm10 10l.94 2.06.94-2.06 2.06-.94-2.06-.94-.94-2.06-.94 2.06-2.06.94z\"/><path d=\"M17.41 7.96l-1.37-1.37c-.4-.4-.92-.59-1.43-.59-.52 0-1.04.2-1.43.59L10.3 9.45l-7.72 7.72c-.78.78-.78 2.05 0 2.83L4 21.41c.39.39.9.59 1.41.59.51 0 1.02-.2 1.41-.59l7.78-7.78 2.81-2.81c.8-.78.8-2.07 0-2.86zM5.41 20L4 18.59l7.72-7.72 1.47 1.35L5.41 20z\"/>\n",
              "  </svg>\n",
              "      </button>\n",
              "      \n",
              "  <style>\n",
              "    .colab-df-container {\n",
              "      display:flex;\n",
              "      flex-wrap:wrap;\n",
              "      gap: 12px;\n",
              "    }\n",
              "\n",
              "    .colab-df-convert {\n",
              "      background-color: #E8F0FE;\n",
              "      border: none;\n",
              "      border-radius: 50%;\n",
              "      cursor: pointer;\n",
              "      display: none;\n",
              "      fill: #1967D2;\n",
              "      height: 32px;\n",
              "      padding: 0 0 0 0;\n",
              "      width: 32px;\n",
              "    }\n",
              "\n",
              "    .colab-df-convert:hover {\n",
              "      background-color: #E2EBFA;\n",
              "      box-shadow: 0px 1px 2px rgba(60, 64, 67, 0.3), 0px 1px 3px 1px rgba(60, 64, 67, 0.15);\n",
              "      fill: #174EA6;\n",
              "    }\n",
              "\n",
              "    [theme=dark] .colab-df-convert {\n",
              "      background-color: #3B4455;\n",
              "      fill: #D2E3FC;\n",
              "    }\n",
              "\n",
              "    [theme=dark] .colab-df-convert:hover {\n",
              "      background-color: #434B5C;\n",
              "      box-shadow: 0px 1px 3px 1px rgba(0, 0, 0, 0.15);\n",
              "      filter: drop-shadow(0px 1px 2px rgba(0, 0, 0, 0.3));\n",
              "      fill: #FFFFFF;\n",
              "    }\n",
              "  </style>\n",
              "\n",
              "      <script>\n",
              "        const buttonEl =\n",
              "          document.querySelector('#df-fddd03ba-f246-4e4c-b73a-fe0167ea7730 button.colab-df-convert');\n",
              "        buttonEl.style.display =\n",
              "          google.colab.kernel.accessAllowed ? 'block' : 'none';\n",
              "\n",
              "        async function convertToInteractive(key) {\n",
              "          const element = document.querySelector('#df-fddd03ba-f246-4e4c-b73a-fe0167ea7730');\n",
              "          const dataTable =\n",
              "            await google.colab.kernel.invokeFunction('convertToInteractive',\n",
              "                                                     [key], {});\n",
              "          if (!dataTable) return;\n",
              "\n",
              "          const docLinkHtml = 'Like what you see? Visit the ' +\n",
              "            '<a target=\"_blank\" href=https://colab.research.google.com/notebooks/data_table.ipynb>data table notebook</a>'\n",
              "            + ' to learn more about interactive tables.';\n",
              "          element.innerHTML = '';\n",
              "          dataTable['output_type'] = 'display_data';\n",
              "          await google.colab.output.renderOutput(dataTable, element);\n",
              "          const docLink = document.createElement('div');\n",
              "          docLink.innerHTML = docLinkHtml;\n",
              "          element.appendChild(docLink);\n",
              "        }\n",
              "      </script>\n",
              "    </div>\n",
              "  </div>\n",
              "  "
            ]
          },
          "metadata": {},
          "execution_count": 151
        }
      ]
    },
    {
      "cell_type": "markdown",
      "source": [
        "dari data actual inference hanya kecil kesalahan di koma belakang, misal <b>index nomor 15</b>\n",
        "<li>Actual = 342.46\n",
        "<li>Prediksi= 342.134631\n",
        "<p>ada selisih tidak lebih dari 1$</p><b>dan ini sama percis sperti validation score dimana scorenya 99.9.. persen</b>"
      ],
      "metadata": {
        "id": "FIfoU_DqdovX"
      }
    },
    {
      "cell_type": "markdown",
      "source": [
        "#10-Pengambilan Kesimpulan"
      ],
      "metadata": {
        "id": "o2pxIAGoyidH"
      }
    },
    {
      "cell_type": "markdown",
      "source": [
        "Kesimpulan:\n",
        "\n",
        "Dari proses EDA ditemukan beberapa hal:\n",
        "lose (data regresi dimana close,open,high dan low adalah berbentuk satuan dolar),<br>\n",
        "dimana terlihat ada corelasi open,high dan low terhadap closing dimana ada terlihat pergerakan liniear terhadap target close, dan closing di angka yang tidak \n",
        "jauh dari angka feature tersebut.\n",
        "Terlihat volume dan Quote Asset Volume adalah data regresi dimana satuan dolar, Bertumpuknya bins volume 0 sampai 50.000 dolar dan sama closing di angkat 5.000 dolar\n",
        "terlihat kecilnya korelasi antara volume dan close, jika dari warna Quate asset volume, terlihat ada perubahan warna makin volume tinggi dan closing tinggi, menandakan ada korelasi di feature Quote Asset Volume, Dengan menambahkan garis linear di atas, kita dapat melihat korelasi positif yang sangat samar antara Close dan Number of trade. Ada kemungkinan Closing diatas diangka 5000, user trading langsung jual dan menunggu open kembali, Terlihat banyak Bold bins di TB Quate Volume, yang artinnya ada korelasi \n",
        "close dan TBQuate Volume tetapi kecilnya korelasi kepadan tb Base Volume data iqnore 0, dan hanya 0, yang artinnya tidak ada korelasi apa2 antara feature ini kepada target CLose kita\n",
        "Setelah dilihat dari correlation , <b>peneliti akan memakai open,high dan low, dengan pertimbangan, karena peneliti membuat model ini untuk masyarakat umum, jadi peneliti akan memasukan feature yang dimana masyarakat umum dapat tau informasi dari web trading tersebut.</b>\n",
        "\n",
        "Dari proses preprocessing didapatkan:\n",
        "1. Setelah peneliti lihat tidak ada outlier, tetapi data skew\n",
        "2. Tidak ada missing value\n",
        "3. Peneliti tidak split numerical dan categorical dikarenakan peneliti akan memakai Pipline.\n",
        "4.Peneliti memakai pipline dan scaling minmax untuk feature skew dan standard scaler untuk yang tidak skew.\n",
        "5.Tidak Melakukan proses Encoding karena data Feature bertipe numerik semua\n",
        "\n",
        "Dari proses model evaluation dan analysis didapatkan:\n",
        "1. Peneliti melakukan evaluasi dengan 5 model, LinearRegression, SVR/SVM, Ridge, Lasso,RandomForestRegressor.\n",
        "2. dari score semua sama 100% predik dan MAE paling bagus di random forest dengan tingkat error 1 dolar\n",
        "Jika dilihat algoritma LinearRegression mendapatkan standar deviasi paling rendah 6.689266190984511e-07\n",
        "dari validation score setelah di tuning dengan grid search hasil tetap sama saja terlihat sama antara model setelah di tuning ataupun belum.\n",
        "\n",
        "untu infrence:\n",
        "1. hasilnya MAE meningkat setelah di tuning dari 2.541884598244952 ke 541884598245204 dan scoring sama 100%\n",
        "dari data actual inference hanya kecil kesalahan di koma belakang,\n",
        "dan ini sama percis sperti validation score dimana scorenya 99.9.. persen\n",
        "<br>\n",
        "Insigth:\n",
        "1. Model ini sudah sangat bagus karena skoring diatas 99%,dan jika data ini valid, artinya eth tidak ada politic issue untuk price closing tetapi pure dari numerik, jika ada kesempatan peneliti akan gabung dengan unsupervised dan time series agar bisa prediksi seminggu kedepan bahkan bulan kedepan. \n"
      ],
      "metadata": {
        "id": "qOphU0hIym09"
      }
    },
    {
      "cell_type": "markdown",
      "source": [
        "#SAVE MODEL"
      ],
      "metadata": {
        "id": "U4ZOz0hhPacJ"
      }
    },
    {
      "cell_type": "code",
      "source": [
        "# Save the Files\n",
        "\n",
        "import joblib\n",
        "import json\n",
        "\n",
        "with open('pipelr.pkl', 'wb') as file_1:\n",
        "  joblib.dump(pipelr, file_1)"
      ],
      "metadata": {
        "id": "41pndKJSRPgf"
      },
      "execution_count": 152,
      "outputs": []
    }
  ]
}