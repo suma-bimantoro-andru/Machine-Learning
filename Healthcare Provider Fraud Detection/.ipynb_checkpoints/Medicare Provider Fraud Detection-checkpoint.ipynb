{
 "cells": [
  {
   "cell_type": "markdown",
   "id": "2fab116e",
   "metadata": {},
   "source": [
    "## 1. Perkenalan\n",
    "\n",
    "DS=Suma Bimantoro Andru"
   ]
  },
  {
   "cell_type": "markdown",
   "id": "d41c3a49",
   "metadata": {},
   "source": [
    "## 2.- Import Libraries"
   ]
  },
  {
   "cell_type": "code",
   "execution_count": 85,
   "id": "79fc424b",
   "metadata": {},
   "outputs": [],
   "source": [
    "# Import Libraries\n",
    "\n",
    "import pandas as pd\n",
    "import numpy as np\n",
    "from sklearn.model_selection import train_test_split\n",
    "from sklearn.pipeline import Pipeline, make_pipeline\n",
    "from sklearn.compose import ColumnTransformer\n",
    "from sklearn.impute import SimpleImputer\n",
    "from sklearn.preprocessing import StandardScaler, OneHotEncoder\n",
    "import matplotlib.pyplot as plt\n",
    "import seaborn as sns\n",
    "from sklearn.preprocessing import MinMaxScaler, StandardScaler,OrdinalEncoder\n",
    "from tensorflow.keras.models import Sequential\n",
    "from tensorflow.keras.layers import Dense\n",
    "from sklearn import preprocessing\n",
    "import plotly.express as px\n",
    "from tensorflow.keras.models import Sequential\n",
    "from tensorflow.keras.layers import Dense\n",
    "from tensorflow.keras.layers import Input\n",
    "from tensorflow.keras import Model \n",
    "import tensorflow as tf\n",
    "from tensorflow import keras\n",
    "import pickle\n",
    "import requests\n",
    "import json\n",
    "import requests"
   ]
  },
  {
   "cell_type": "markdown",
   "id": "ca5b9c8c",
   "metadata": {},
   "source": [
    "## 3 - Data Loading"
   ]
  },
  {
   "cell_type": "code",
   "execution_count": 86,
   "id": "b8972543",
   "metadata": {},
   "outputs": [],
   "source": [
    "#import data train\n",
    "data1=pd.read_csv('Train-1542865627584.csv') #label #done\n",
    "data2=pd.read_csv('Train_Beneficiarydata-1542865627584.csv')\n",
    "data3=pd.read_csv('Train_Inpatientdata-1542865627584.csv')\n",
    "data4=pd.read_csv('Train_Outpatientdata-1542865627584.csv')"
   ]
  },
  {
   "cell_type": "code",
   "execution_count": 87,
   "id": "e361a78c",
   "metadata": {},
   "outputs": [],
   "source": [
    "#import data test\n",
    "datates1=pd.read_csv('Test-1542969243754.csv') \n",
    "datates2=pd.read_csv('Test_Beneficiarydata-1542969243754.csv')\n",
    "datates3=pd.read_csv('Test_Inpatientdata-1542969243754.csv')\n",
    "datates4=pd.read_csv('Test_Outpatientdata-1542969243754.csv')"
   ]
  },
  {
   "cell_type": "markdown",
   "id": "60588e6a",
   "metadata": {},
   "source": [
    "## EDA\n"
   ]
  },
  {
   "cell_type": "code",
   "execution_count": null,
   "id": "eac6b184",
   "metadata": {},
   "outputs": [],
   "source": []
  },
  {
   "cell_type": "markdown",
   "id": "1db60cc3",
   "metadata": {},
   "source": [
    "## Feature Selection"
   ]
  },
  {
   "cell_type": "code",
   "execution_count": 88,
   "id": "08824c19",
   "metadata": {},
   "outputs": [],
   "source": [
    "#Pilih Feature yang berkorelasi dari Beneficiarydata\n",
    "data2new=data2[['Gender','RenalDiseaseIndicator','NoOfMonths_PartACov','NoOfMonths_PartBCov','ChronicCond_Alzheimer','ChronicCond_Heartfailure','ChronicCond_KidneyDisease','ChronicCond_Cancer','ChronicCond_ObstrPulmonary','ChronicCond_Depression','ChronicCond_Diabetes','ChronicCond_IschemicHeart','ChronicCond_Osteoporasis','ChronicCond_rheumatoidarthritis','ChronicCond_stroke','IPAnnualReimbursementAmt','IPAnnualDeductibleAmt','OPAnnualReimbursementAmt','OPAnnualDeductibleAmt']]\n",
    "data2tesnew=datates2[['Gender','RenalDiseaseIndicator','NoOfMonths_PartACov','NoOfMonths_PartBCov','ChronicCond_Alzheimer','ChronicCond_Heartfailure','ChronicCond_KidneyDisease','ChronicCond_Cancer','ChronicCond_ObstrPulmonary','ChronicCond_Depression','ChronicCond_Diabetes','ChronicCond_IschemicHeart','ChronicCond_Osteoporasis','ChronicCond_rheumatoidarthritis','ChronicCond_stroke','IPAnnualReimbursementAmt','IPAnnualDeductibleAmt','OPAnnualReimbursementAmt','OPAnnualDeductibleAmt']]"
   ]
  },
  {
   "cell_type": "code",
   "execution_count": 89,
   "id": "be8bc9fe",
   "metadata": {},
   "outputs": [],
   "source": [
    "#Pilih Feature yang berkorelasi dari Inpatientdata\n",
    "data3new=data3[['Provider','InscClaimAmtReimbursed','DeductibleAmtPaid']]\n",
    "data3tesnew=datates3[['Provider','InscClaimAmtReimbursed','DeductibleAmtPaid']]"
   ]
  },
  {
   "cell_type": "code",
   "execution_count": 90,
   "id": "82a38251",
   "metadata": {},
   "outputs": [],
   "source": [
    "#Pilih Feature yang berkorelasi dari Outpatientdata\n",
    "data4new=data4[['Provider','InscClaimAmtReimbursed','DeductibleAmtPaid']]\n",
    "data4tesnew=datates4[['Provider','InscClaimAmtReimbursed','DeductibleAmtPaid']]"
   ]
  },
  {
   "cell_type": "code",
   "execution_count": 91,
   "id": "e3036814",
   "metadata": {},
   "outputs": [
    {
     "data": {
      "text/html": [
       "<div>\n",
       "<style scoped>\n",
       "    .dataframe tbody tr th:only-of-type {\n",
       "        vertical-align: middle;\n",
       "    }\n",
       "\n",
       "    .dataframe tbody tr th {\n",
       "        vertical-align: top;\n",
       "    }\n",
       "\n",
       "    .dataframe thead th {\n",
       "        text-align: right;\n",
       "    }\n",
       "</style>\n",
       "<table border=\"1\" class=\"dataframe\">\n",
       "  <thead>\n",
       "    <tr style=\"text-align: right;\">\n",
       "      <th></th>\n",
       "      <th>Provider</th>\n",
       "      <th>InscClaimAmtReimbursed</th>\n",
       "      <th>DeductibleAmtPaid</th>\n",
       "    </tr>\n",
       "  </thead>\n",
       "  <tbody>\n",
       "    <tr>\n",
       "      <th>0</th>\n",
       "      <td>PRV55912</td>\n",
       "      <td>26000</td>\n",
       "      <td>1068.0</td>\n",
       "    </tr>\n",
       "    <tr>\n",
       "      <th>1</th>\n",
       "      <td>PRV55907</td>\n",
       "      <td>5000</td>\n",
       "      <td>1068.0</td>\n",
       "    </tr>\n",
       "    <tr>\n",
       "      <th>2</th>\n",
       "      <td>PRV56046</td>\n",
       "      <td>5000</td>\n",
       "      <td>1068.0</td>\n",
       "    </tr>\n",
       "  </tbody>\n",
       "</table>\n",
       "</div>"
      ],
      "text/plain": [
       "   Provider  InscClaimAmtReimbursed  DeductibleAmtPaid\n",
       "0  PRV55912                   26000             1068.0\n",
       "1  PRV55907                    5000             1068.0\n",
       "2  PRV56046                    5000             1068.0"
      ]
     },
     "execution_count": 91,
     "metadata": {},
     "output_type": "execute_result"
    }
   ],
   "source": [
    "#cek data\n",
    "data3new.head(3)"
   ]
  },
  {
   "cell_type": "code",
   "execution_count": 92,
   "id": "16ad9dbf",
   "metadata": {},
   "outputs": [
    {
     "data": {
      "text/html": [
       "<div>\n",
       "<style scoped>\n",
       "    .dataframe tbody tr th:only-of-type {\n",
       "        vertical-align: middle;\n",
       "    }\n",
       "\n",
       "    .dataframe tbody tr th {\n",
       "        vertical-align: top;\n",
       "    }\n",
       "\n",
       "    .dataframe thead th {\n",
       "        text-align: right;\n",
       "    }\n",
       "</style>\n",
       "<table border=\"1\" class=\"dataframe\">\n",
       "  <thead>\n",
       "    <tr style=\"text-align: right;\">\n",
       "      <th></th>\n",
       "      <th>Provider</th>\n",
       "      <th>InscClaimAmtReimbursed</th>\n",
       "      <th>DeductibleAmtPaid</th>\n",
       "    </tr>\n",
       "  </thead>\n",
       "  <tbody>\n",
       "    <tr>\n",
       "      <th>0</th>\n",
       "      <td>PRV56011</td>\n",
       "      <td>30</td>\n",
       "      <td>0</td>\n",
       "    </tr>\n",
       "    <tr>\n",
       "      <th>1</th>\n",
       "      <td>PRV57610</td>\n",
       "      <td>80</td>\n",
       "      <td>0</td>\n",
       "    </tr>\n",
       "    <tr>\n",
       "      <th>2</th>\n",
       "      <td>PRV57595</td>\n",
       "      <td>10</td>\n",
       "      <td>0</td>\n",
       "    </tr>\n",
       "  </tbody>\n",
       "</table>\n",
       "</div>"
      ],
      "text/plain": [
       "   Provider  InscClaimAmtReimbursed  DeductibleAmtPaid\n",
       "0  PRV56011                      30                  0\n",
       "1  PRV57610                      80                  0\n",
       "2  PRV57595                      10                  0"
      ]
     },
     "execution_count": 92,
     "metadata": {},
     "output_type": "execute_result"
    }
   ],
   "source": [
    "#cek data\n",
    "data4new.head(3)"
   ]
  },
  {
   "cell_type": "code",
   "execution_count": 93,
   "id": "72ea3dfc",
   "metadata": {},
   "outputs": [],
   "source": [
    "#penggabungan data untuk proses pembuatan model\n",
    "final_train = pd.concat([data1, data2new,data3new,data4new], axis=1)\n",
    "final_test = pd.concat([datates1, data2tesnew,data3tesnew,data4tesnew], axis=1)"
   ]
  },
  {
   "cell_type": "code",
   "execution_count": 94,
   "id": "4291f508",
   "metadata": {},
   "outputs": [
    {
     "data": {
      "text/html": [
       "<div>\n",
       "<style scoped>\n",
       "    .dataframe tbody tr th:only-of-type {\n",
       "        vertical-align: middle;\n",
       "    }\n",
       "\n",
       "    .dataframe tbody tr th {\n",
       "        vertical-align: top;\n",
       "    }\n",
       "\n",
       "    .dataframe thead th {\n",
       "        text-align: right;\n",
       "    }\n",
       "</style>\n",
       "<table border=\"1\" class=\"dataframe\">\n",
       "  <thead>\n",
       "    <tr style=\"text-align: right;\">\n",
       "      <th></th>\n",
       "      <th>Provider</th>\n",
       "      <th>Gender</th>\n",
       "      <th>RenalDiseaseIndicator</th>\n",
       "      <th>NoOfMonths_PartACov</th>\n",
       "      <th>NoOfMonths_PartBCov</th>\n",
       "      <th>ChronicCond_Alzheimer</th>\n",
       "      <th>ChronicCond_Heartfailure</th>\n",
       "      <th>ChronicCond_KidneyDisease</th>\n",
       "      <th>ChronicCond_Cancer</th>\n",
       "      <th>ChronicCond_ObstrPulmonary</th>\n",
       "      <th>...</th>\n",
       "      <th>IPAnnualReimbursementAmt</th>\n",
       "      <th>IPAnnualDeductibleAmt</th>\n",
       "      <th>OPAnnualReimbursementAmt</th>\n",
       "      <th>OPAnnualDeductibleAmt</th>\n",
       "      <th>Provider</th>\n",
       "      <th>InscClaimAmtReimbursed</th>\n",
       "      <th>DeductibleAmtPaid</th>\n",
       "      <th>Provider</th>\n",
       "      <th>InscClaimAmtReimbursed</th>\n",
       "      <th>DeductibleAmtPaid</th>\n",
       "    </tr>\n",
       "  </thead>\n",
       "  <tbody>\n",
       "    <tr>\n",
       "      <th>0</th>\n",
       "      <td>PRV51002</td>\n",
       "      <td>1.0</td>\n",
       "      <td>0</td>\n",
       "      <td>12.0</td>\n",
       "      <td>12.0</td>\n",
       "      <td>1.0</td>\n",
       "      <td>2.0</td>\n",
       "      <td>1.0</td>\n",
       "      <td>2.0</td>\n",
       "      <td>2.0</td>\n",
       "      <td>...</td>\n",
       "      <td>36000.0</td>\n",
       "      <td>3204.0</td>\n",
       "      <td>60.0</td>\n",
       "      <td>70.0</td>\n",
       "      <td>PRV57070</td>\n",
       "      <td>9000.0</td>\n",
       "      <td>1068.0</td>\n",
       "      <td>PRV55962</td>\n",
       "      <td>30</td>\n",
       "      <td>0</td>\n",
       "    </tr>\n",
       "    <tr>\n",
       "      <th>1</th>\n",
       "      <td>PRV51006</td>\n",
       "      <td>1.0</td>\n",
       "      <td>0</td>\n",
       "      <td>12.0</td>\n",
       "      <td>12.0</td>\n",
       "      <td>1.0</td>\n",
       "      <td>1.0</td>\n",
       "      <td>2.0</td>\n",
       "      <td>2.0</td>\n",
       "      <td>2.0</td>\n",
       "      <td>...</td>\n",
       "      <td>0.0</td>\n",
       "      <td>0.0</td>\n",
       "      <td>1490.0</td>\n",
       "      <td>160.0</td>\n",
       "      <td>PRV54750</td>\n",
       "      <td>14000.0</td>\n",
       "      <td>1068.0</td>\n",
       "      <td>PRV56112</td>\n",
       "      <td>30</td>\n",
       "      <td>0</td>\n",
       "    </tr>\n",
       "    <tr>\n",
       "      <th>2</th>\n",
       "      <td>PRV51009</td>\n",
       "      <td>2.0</td>\n",
       "      <td>0</td>\n",
       "      <td>12.0</td>\n",
       "      <td>12.0</td>\n",
       "      <td>2.0</td>\n",
       "      <td>1.0</td>\n",
       "      <td>2.0</td>\n",
       "      <td>1.0</td>\n",
       "      <td>1.0</td>\n",
       "      <td>...</td>\n",
       "      <td>0.0</td>\n",
       "      <td>0.0</td>\n",
       "      <td>1170.0</td>\n",
       "      <td>660.0</td>\n",
       "      <td>PRV53758</td>\n",
       "      <td>2000.0</td>\n",
       "      <td>1068.0</td>\n",
       "      <td>PRV56979</td>\n",
       "      <td>200</td>\n",
       "      <td>0</td>\n",
       "    </tr>\n",
       "    <tr>\n",
       "      <th>3</th>\n",
       "      <td>PRV51010</td>\n",
       "      <td>2.0</td>\n",
       "      <td>0</td>\n",
       "      <td>12.0</td>\n",
       "      <td>12.0</td>\n",
       "      <td>2.0</td>\n",
       "      <td>1.0</td>\n",
       "      <td>1.0</td>\n",
       "      <td>2.0</td>\n",
       "      <td>2.0</td>\n",
       "      <td>...</td>\n",
       "      <td>5000.0</td>\n",
       "      <td>1068.0</td>\n",
       "      <td>250.0</td>\n",
       "      <td>320.0</td>\n",
       "      <td>PRV55825</td>\n",
       "      <td>16000.0</td>\n",
       "      <td>1068.0</td>\n",
       "      <td>PRV56573</td>\n",
       "      <td>10</td>\n",
       "      <td>0</td>\n",
       "    </tr>\n",
       "    <tr>\n",
       "      <th>4</th>\n",
       "      <td>PRV51018</td>\n",
       "      <td>2.0</td>\n",
       "      <td>Y</td>\n",
       "      <td>12.0</td>\n",
       "      <td>12.0</td>\n",
       "      <td>2.0</td>\n",
       "      <td>1.0</td>\n",
       "      <td>1.0</td>\n",
       "      <td>2.0</td>\n",
       "      <td>1.0</td>\n",
       "      <td>...</td>\n",
       "      <td>21260.0</td>\n",
       "      <td>2136.0</td>\n",
       "      <td>120.0</td>\n",
       "      <td>100.0</td>\n",
       "      <td>PRV52338</td>\n",
       "      <td>19000.0</td>\n",
       "      <td>1068.0</td>\n",
       "      <td>PRV56573</td>\n",
       "      <td>10</td>\n",
       "      <td>0</td>\n",
       "    </tr>\n",
       "    <tr>\n",
       "      <th>...</th>\n",
       "      <td>...</td>\n",
       "      <td>...</td>\n",
       "      <td>...</td>\n",
       "      <td>...</td>\n",
       "      <td>...</td>\n",
       "      <td>...</td>\n",
       "      <td>...</td>\n",
       "      <td>...</td>\n",
       "      <td>...</td>\n",
       "      <td>...</td>\n",
       "      <td>...</td>\n",
       "      <td>...</td>\n",
       "      <td>...</td>\n",
       "      <td>...</td>\n",
       "      <td>...</td>\n",
       "      <td>...</td>\n",
       "      <td>...</td>\n",
       "      <td>...</td>\n",
       "      <td>...</td>\n",
       "      <td>...</td>\n",
       "      <td>...</td>\n",
       "    </tr>\n",
       "    <tr>\n",
       "      <th>125836</th>\n",
       "      <td>NaN</td>\n",
       "      <td>NaN</td>\n",
       "      <td>NaN</td>\n",
       "      <td>NaN</td>\n",
       "      <td>NaN</td>\n",
       "      <td>NaN</td>\n",
       "      <td>NaN</td>\n",
       "      <td>NaN</td>\n",
       "      <td>NaN</td>\n",
       "      <td>NaN</td>\n",
       "      <td>...</td>\n",
       "      <td>NaN</td>\n",
       "      <td>NaN</td>\n",
       "      <td>NaN</td>\n",
       "      <td>NaN</td>\n",
       "      <td>NaN</td>\n",
       "      <td>NaN</td>\n",
       "      <td>NaN</td>\n",
       "      <td>PRV55485</td>\n",
       "      <td>70</td>\n",
       "      <td>0</td>\n",
       "    </tr>\n",
       "    <tr>\n",
       "      <th>125837</th>\n",
       "      <td>NaN</td>\n",
       "      <td>NaN</td>\n",
       "      <td>NaN</td>\n",
       "      <td>NaN</td>\n",
       "      <td>NaN</td>\n",
       "      <td>NaN</td>\n",
       "      <td>NaN</td>\n",
       "      <td>NaN</td>\n",
       "      <td>NaN</td>\n",
       "      <td>NaN</td>\n",
       "      <td>...</td>\n",
       "      <td>NaN</td>\n",
       "      <td>NaN</td>\n",
       "      <td>NaN</td>\n",
       "      <td>NaN</td>\n",
       "      <td>NaN</td>\n",
       "      <td>NaN</td>\n",
       "      <td>NaN</td>\n",
       "      <td>PRV55485</td>\n",
       "      <td>10</td>\n",
       "      <td>0</td>\n",
       "    </tr>\n",
       "    <tr>\n",
       "      <th>125838</th>\n",
       "      <td>NaN</td>\n",
       "      <td>NaN</td>\n",
       "      <td>NaN</td>\n",
       "      <td>NaN</td>\n",
       "      <td>NaN</td>\n",
       "      <td>NaN</td>\n",
       "      <td>NaN</td>\n",
       "      <td>NaN</td>\n",
       "      <td>NaN</td>\n",
       "      <td>NaN</td>\n",
       "      <td>...</td>\n",
       "      <td>NaN</td>\n",
       "      <td>NaN</td>\n",
       "      <td>NaN</td>\n",
       "      <td>NaN</td>\n",
       "      <td>NaN</td>\n",
       "      <td>NaN</td>\n",
       "      <td>NaN</td>\n",
       "      <td>PRV55485</td>\n",
       "      <td>30</td>\n",
       "      <td>0</td>\n",
       "    </tr>\n",
       "    <tr>\n",
       "      <th>125839</th>\n",
       "      <td>NaN</td>\n",
       "      <td>NaN</td>\n",
       "      <td>NaN</td>\n",
       "      <td>NaN</td>\n",
       "      <td>NaN</td>\n",
       "      <td>NaN</td>\n",
       "      <td>NaN</td>\n",
       "      <td>NaN</td>\n",
       "      <td>NaN</td>\n",
       "      <td>NaN</td>\n",
       "      <td>...</td>\n",
       "      <td>NaN</td>\n",
       "      <td>NaN</td>\n",
       "      <td>NaN</td>\n",
       "      <td>NaN</td>\n",
       "      <td>NaN</td>\n",
       "      <td>NaN</td>\n",
       "      <td>NaN</td>\n",
       "      <td>PRV55889</td>\n",
       "      <td>30</td>\n",
       "      <td>0</td>\n",
       "    </tr>\n",
       "    <tr>\n",
       "      <th>125840</th>\n",
       "      <td>NaN</td>\n",
       "      <td>NaN</td>\n",
       "      <td>NaN</td>\n",
       "      <td>NaN</td>\n",
       "      <td>NaN</td>\n",
       "      <td>NaN</td>\n",
       "      <td>NaN</td>\n",
       "      <td>NaN</td>\n",
       "      <td>NaN</td>\n",
       "      <td>NaN</td>\n",
       "      <td>...</td>\n",
       "      <td>NaN</td>\n",
       "      <td>NaN</td>\n",
       "      <td>NaN</td>\n",
       "      <td>NaN</td>\n",
       "      <td>NaN</td>\n",
       "      <td>NaN</td>\n",
       "      <td>NaN</td>\n",
       "      <td>PRV52983</td>\n",
       "      <td>2500</td>\n",
       "      <td>0</td>\n",
       "    </tr>\n",
       "  </tbody>\n",
       "</table>\n",
       "<p>125841 rows × 26 columns</p>\n",
       "</div>"
      ],
      "text/plain": [
       "        Provider  Gender RenalDiseaseIndicator  NoOfMonths_PartACov  \\\n",
       "0       PRV51002     1.0                     0                 12.0   \n",
       "1       PRV51006     1.0                     0                 12.0   \n",
       "2       PRV51009     2.0                     0                 12.0   \n",
       "3       PRV51010     2.0                     0                 12.0   \n",
       "4       PRV51018     2.0                     Y                 12.0   \n",
       "...          ...     ...                   ...                  ...   \n",
       "125836       NaN     NaN                   NaN                  NaN   \n",
       "125837       NaN     NaN                   NaN                  NaN   \n",
       "125838       NaN     NaN                   NaN                  NaN   \n",
       "125839       NaN     NaN                   NaN                  NaN   \n",
       "125840       NaN     NaN                   NaN                  NaN   \n",
       "\n",
       "        NoOfMonths_PartBCov  ChronicCond_Alzheimer  ChronicCond_Heartfailure  \\\n",
       "0                      12.0                    1.0                       2.0   \n",
       "1                      12.0                    1.0                       1.0   \n",
       "2                      12.0                    2.0                       1.0   \n",
       "3                      12.0                    2.0                       1.0   \n",
       "4                      12.0                    2.0                       1.0   \n",
       "...                     ...                    ...                       ...   \n",
       "125836                  NaN                    NaN                       NaN   \n",
       "125837                  NaN                    NaN                       NaN   \n",
       "125838                  NaN                    NaN                       NaN   \n",
       "125839                  NaN                    NaN                       NaN   \n",
       "125840                  NaN                    NaN                       NaN   \n",
       "\n",
       "        ChronicCond_KidneyDisease  ChronicCond_Cancer  \\\n",
       "0                             1.0                 2.0   \n",
       "1                             2.0                 2.0   \n",
       "2                             2.0                 1.0   \n",
       "3                             1.0                 2.0   \n",
       "4                             1.0                 2.0   \n",
       "...                           ...                 ...   \n",
       "125836                        NaN                 NaN   \n",
       "125837                        NaN                 NaN   \n",
       "125838                        NaN                 NaN   \n",
       "125839                        NaN                 NaN   \n",
       "125840                        NaN                 NaN   \n",
       "\n",
       "        ChronicCond_ObstrPulmonary  ...  IPAnnualReimbursementAmt  \\\n",
       "0                              2.0  ...                   36000.0   \n",
       "1                              2.0  ...                       0.0   \n",
       "2                              1.0  ...                       0.0   \n",
       "3                              2.0  ...                    5000.0   \n",
       "4                              1.0  ...                   21260.0   \n",
       "...                            ...  ...                       ...   \n",
       "125836                         NaN  ...                       NaN   \n",
       "125837                         NaN  ...                       NaN   \n",
       "125838                         NaN  ...                       NaN   \n",
       "125839                         NaN  ...                       NaN   \n",
       "125840                         NaN  ...                       NaN   \n",
       "\n",
       "        IPAnnualDeductibleAmt  OPAnnualReimbursementAmt  \\\n",
       "0                      3204.0                      60.0   \n",
       "1                         0.0                    1490.0   \n",
       "2                         0.0                    1170.0   \n",
       "3                      1068.0                     250.0   \n",
       "4                      2136.0                     120.0   \n",
       "...                       ...                       ...   \n",
       "125836                    NaN                       NaN   \n",
       "125837                    NaN                       NaN   \n",
       "125838                    NaN                       NaN   \n",
       "125839                    NaN                       NaN   \n",
       "125840                    NaN                       NaN   \n",
       "\n",
       "        OPAnnualDeductibleAmt  Provider  InscClaimAmtReimbursed  \\\n",
       "0                        70.0  PRV57070                  9000.0   \n",
       "1                       160.0  PRV54750                 14000.0   \n",
       "2                       660.0  PRV53758                  2000.0   \n",
       "3                       320.0  PRV55825                 16000.0   \n",
       "4                       100.0  PRV52338                 19000.0   \n",
       "...                       ...       ...                     ...   \n",
       "125836                    NaN       NaN                     NaN   \n",
       "125837                    NaN       NaN                     NaN   \n",
       "125838                    NaN       NaN                     NaN   \n",
       "125839                    NaN       NaN                     NaN   \n",
       "125840                    NaN       NaN                     NaN   \n",
       "\n",
       "        DeductibleAmtPaid  Provider  InscClaimAmtReimbursed  DeductibleAmtPaid  \n",
       "0                  1068.0  PRV55962                      30                  0  \n",
       "1                  1068.0  PRV56112                      30                  0  \n",
       "2                  1068.0  PRV56979                     200                  0  \n",
       "3                  1068.0  PRV56573                      10                  0  \n",
       "4                  1068.0  PRV56573                      10                  0  \n",
       "...                   ...       ...                     ...                ...  \n",
       "125836                NaN  PRV55485                      70                  0  \n",
       "125837                NaN  PRV55485                      10                  0  \n",
       "125838                NaN  PRV55485                      30                  0  \n",
       "125839                NaN  PRV55889                      30                  0  \n",
       "125840                NaN  PRV52983                    2500                  0  \n",
       "\n",
       "[125841 rows x 26 columns]"
      ]
     },
     "execution_count": 94,
     "metadata": {},
     "output_type": "execute_result"
    }
   ],
   "source": [
    "final_test"
   ]
  },
  {
   "cell_type": "code",
   "execution_count": 95,
   "id": "412f6285",
   "metadata": {},
   "outputs": [
    {
     "data": {
      "text/plain": [
       "(517737, 27)"
      ]
     },
     "execution_count": 95,
     "metadata": {},
     "output_type": "execute_result"
    }
   ],
   "source": [
    "final_train.shape"
   ]
  },
  {
   "cell_type": "code",
   "execution_count": 96,
   "id": "4a614683",
   "metadata": {},
   "outputs": [
    {
     "data": {
      "text/plain": [
       "(125841, 26)"
      ]
     },
     "execution_count": 96,
     "metadata": {},
     "output_type": "execute_result"
    }
   ],
   "source": [
    "final_test.shape"
   ]
  },
  {
   "cell_type": "markdown",
   "id": "c49742a3",
   "metadata": {},
   "source": [
    "## handling Missing Value"
   ]
  },
  {
   "cell_type": "code",
   "execution_count": 97,
   "id": "4fefe240",
   "metadata": {},
   "outputs": [
    {
     "data": {
      "text/plain": [
       "Provider                           512327\n",
       "PotentialFraud                     512327\n",
       "Gender                             379181\n",
       "RenalDiseaseIndicator              379181\n",
       "NoOfMonths_PartACov                379181\n",
       "NoOfMonths_PartBCov                379181\n",
       "ChronicCond_Alzheimer              379181\n",
       "ChronicCond_Heartfailure           379181\n",
       "ChronicCond_KidneyDisease          379181\n",
       "ChronicCond_Cancer                 379181\n",
       "ChronicCond_ObstrPulmonary         379181\n",
       "ChronicCond_Depression             379181\n",
       "ChronicCond_Diabetes               379181\n",
       "ChronicCond_IschemicHeart          379181\n",
       "ChronicCond_Osteoporasis           379181\n",
       "ChronicCond_rheumatoidarthritis    379181\n",
       "ChronicCond_stroke                 379181\n",
       "IPAnnualReimbursementAmt           379181\n",
       "IPAnnualDeductibleAmt              379181\n",
       "OPAnnualReimbursementAmt           379181\n",
       "OPAnnualDeductibleAmt              379181\n",
       "Provider                           477263\n",
       "InscClaimAmtReimbursed             477263\n",
       "DeductibleAmtPaid                  478162\n",
       "Provider                                0\n",
       "InscClaimAmtReimbursed                  0\n",
       "DeductibleAmtPaid                       0\n",
       "dtype: int64"
      ]
     },
     "execution_count": 97,
     "metadata": {},
     "output_type": "execute_result"
    }
   ],
   "source": [
    "final_train.isnull().sum()"
   ]
  },
  {
   "cell_type": "code",
   "execution_count": 98,
   "id": "ef6c857a",
   "metadata": {},
   "outputs": [
    {
     "data": {
      "text/plain": [
       "Provider                           124488\n",
       "Gender                              61873\n",
       "RenalDiseaseIndicator               61873\n",
       "NoOfMonths_PartACov                 61873\n",
       "NoOfMonths_PartBCov                 61873\n",
       "ChronicCond_Alzheimer               61873\n",
       "ChronicCond_Heartfailure            61873\n",
       "ChronicCond_KidneyDisease           61873\n",
       "ChronicCond_Cancer                  61873\n",
       "ChronicCond_ObstrPulmonary          61873\n",
       "ChronicCond_Depression              61873\n",
       "ChronicCond_Diabetes                61873\n",
       "ChronicCond_IschemicHeart           61873\n",
       "ChronicCond_Osteoporasis            61873\n",
       "ChronicCond_rheumatoidarthritis     61873\n",
       "ChronicCond_stroke                  61873\n",
       "IPAnnualReimbursementAmt            61873\n",
       "IPAnnualDeductibleAmt               61873\n",
       "OPAnnualReimbursementAmt            61873\n",
       "OPAnnualDeductibleAmt               61873\n",
       "Provider                           116290\n",
       "InscClaimAmtReimbursed             116290\n",
       "DeductibleAmtPaid                  116486\n",
       "Provider                                0\n",
       "InscClaimAmtReimbursed                  0\n",
       "DeductibleAmtPaid                       0\n",
       "dtype: int64"
      ]
     },
     "execution_count": 98,
     "metadata": {},
     "output_type": "execute_result"
    }
   ],
   "source": [
    "final_test.isnull().sum()"
   ]
  },
  {
   "cell_type": "code",
   "execution_count": 99,
   "id": "8f915e23",
   "metadata": {},
   "outputs": [],
   "source": [
    "final_train.dropna(inplace=True)"
   ]
  },
  {
   "cell_type": "code",
   "execution_count": 100,
   "id": "728aa6ab",
   "metadata": {},
   "outputs": [],
   "source": [
    "final_test.dropna(inplace=True)"
   ]
  },
  {
   "cell_type": "code",
   "execution_count": 101,
   "id": "fdf8a0f5",
   "metadata": {},
   "outputs": [
    {
     "data": {
      "text/plain": [
       "Provider                           0\n",
       "PotentialFraud                     0\n",
       "Gender                             0\n",
       "RenalDiseaseIndicator              0\n",
       "NoOfMonths_PartACov                0\n",
       "NoOfMonths_PartBCov                0\n",
       "ChronicCond_Alzheimer              0\n",
       "ChronicCond_Heartfailure           0\n",
       "ChronicCond_KidneyDisease          0\n",
       "ChronicCond_Cancer                 0\n",
       "ChronicCond_ObstrPulmonary         0\n",
       "ChronicCond_Depression             0\n",
       "ChronicCond_Diabetes               0\n",
       "ChronicCond_IschemicHeart          0\n",
       "ChronicCond_Osteoporasis           0\n",
       "ChronicCond_rheumatoidarthritis    0\n",
       "ChronicCond_stroke                 0\n",
       "IPAnnualReimbursementAmt           0\n",
       "IPAnnualDeductibleAmt              0\n",
       "OPAnnualReimbursementAmt           0\n",
       "OPAnnualDeductibleAmt              0\n",
       "Provider                           0\n",
       "InscClaimAmtReimbursed             0\n",
       "DeductibleAmtPaid                  0\n",
       "Provider                           0\n",
       "InscClaimAmtReimbursed             0\n",
       "DeductibleAmtPaid                  0\n",
       "dtype: int64"
      ]
     },
     "execution_count": 101,
     "metadata": {},
     "output_type": "execute_result"
    }
   ],
   "source": [
    "final_train.isnull().sum()"
   ]
  },
  {
   "cell_type": "code",
   "execution_count": 102,
   "id": "99d224b2",
   "metadata": {},
   "outputs": [
    {
     "data": {
      "text/plain": [
       "Provider                           0\n",
       "Gender                             0\n",
       "RenalDiseaseIndicator              0\n",
       "NoOfMonths_PartACov                0\n",
       "NoOfMonths_PartBCov                0\n",
       "ChronicCond_Alzheimer              0\n",
       "ChronicCond_Heartfailure           0\n",
       "ChronicCond_KidneyDisease          0\n",
       "ChronicCond_Cancer                 0\n",
       "ChronicCond_ObstrPulmonary         0\n",
       "ChronicCond_Depression             0\n",
       "ChronicCond_Diabetes               0\n",
       "ChronicCond_IschemicHeart          0\n",
       "ChronicCond_Osteoporasis           0\n",
       "ChronicCond_rheumatoidarthritis    0\n",
       "ChronicCond_stroke                 0\n",
       "IPAnnualReimbursementAmt           0\n",
       "IPAnnualDeductibleAmt              0\n",
       "OPAnnualReimbursementAmt           0\n",
       "OPAnnualDeductibleAmt              0\n",
       "Provider                           0\n",
       "InscClaimAmtReimbursed             0\n",
       "DeductibleAmtPaid                  0\n",
       "Provider                           0\n",
       "InscClaimAmtReimbursed             0\n",
       "DeductibleAmtPaid                  0\n",
       "dtype: int64"
      ]
     },
     "execution_count": 102,
     "metadata": {},
     "output_type": "execute_result"
    }
   ],
   "source": [
    "final_test.isnull().sum()"
   ]
  },
  {
   "cell_type": "code",
   "execution_count": 103,
   "id": "c748d0fb",
   "metadata": {},
   "outputs": [
    {
     "data": {
      "text/plain": [
       "(5290, 27)"
      ]
     },
     "execution_count": 103,
     "metadata": {},
     "output_type": "execute_result"
    }
   ],
   "source": [
    "final_train.shape"
   ]
  },
  {
   "cell_type": "code",
   "execution_count": 104,
   "id": "8b8e55dd",
   "metadata": {},
   "outputs": [
    {
     "data": {
      "text/plain": [
       "(1337, 26)"
      ]
     },
     "execution_count": 104,
     "metadata": {},
     "output_type": "execute_result"
    }
   ],
   "source": [
    "final_test.shape"
   ]
  },
  {
   "cell_type": "markdown",
   "id": "527ebcc8",
   "metadata": {},
   "source": [
    "Peneliti Memutuskan untuk tidak mengambil `miss value` untuk pembuatan model prediksi, dan terlihat perbedaan shape dikarenakan label untuk tabel test tidak ada."
   ]
  },
  {
   "cell_type": "code",
   "execution_count": null,
   "id": "7d2a8bf3",
   "metadata": {},
   "outputs": [],
   "source": []
  },
  {
   "cell_type": "code",
   "execution_count": null,
   "id": "9b923c76",
   "metadata": {},
   "outputs": [],
   "source": []
  },
  {
   "cell_type": "code",
   "execution_count": null,
   "id": "40bd977d",
   "metadata": {},
   "outputs": [],
   "source": []
  },
  {
   "cell_type": "code",
   "execution_count": null,
   "id": "a6098f1a",
   "metadata": {},
   "outputs": [],
   "source": []
  }
 ],
 "metadata": {
  "kernelspec": {
   "display_name": "Python 3 (ipykernel)",
   "language": "python",
   "name": "python3"
  },
  "language_info": {
   "codemirror_mode": {
    "name": "ipython",
    "version": 3
   },
   "file_extension": ".py",
   "mimetype": "text/x-python",
   "name": "python",
   "nbconvert_exporter": "python",
   "pygments_lexer": "ipython3",
   "version": "3.9.12"
  }
 },
 "nbformat": 4,
 "nbformat_minor": 5
}
