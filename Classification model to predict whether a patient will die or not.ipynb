{
  "cells": [
    {
      "cell_type": "markdown",
      "metadata": {
        "id": "6z-q0uCx-Nzp"
      },
      "source": [
        "# 1 - Perkenalan"
      ]
    },
    {
      "cell_type": "markdown",
      "metadata": {
        "id": "-QF_6wCu-Rmb"
      },
      "source": [
        "Nama Peneliti :Suma Bimantoro Andru\n",
        "\n",
        "Dataset: phase1_ftds_015_rmt\n",
        "\n",
        "Objective:<b>model Classification untuk memprediksi apakah seorang pasien akan meninggal atau tidak </b>"
      ]
    },
    {
      "cell_type": "markdown",
      "metadata": {
        "id": "JSCkINAH_XDo"
      },
      "source": [
        "# 2 - Import Libraries"
      ]
    },
    {
      "cell_type": "code",
      "execution_count": 248,
      "metadata": {
        "id": "SjWU9REY9Wlu"
      },
      "outputs": [],
      "source": [
        "# Import Libraries\n",
        "\n",
        "import pandas as pd\n",
        "import numpy as np\n",
        "import matplotlib.pyplot as plt\n",
        "import seaborn as sns\n",
        "from sklearn.model_selection import train_test_split\n",
        "from sklearn.linear_model import LinearRegression\n",
        "from sklearn.preprocessing import StandardScaler\n",
        "from sklearn.preprocessing import OneHotEncoder\n",
        "from sklearn.preprocessing import PolynomialFeatures\n",
        "from sklearn.pipeline import make_pipeline\n",
        "from sklearn.metrics import mean_squared_error, mean_absolute_error\n",
        "from sklearn.svm import SVR\n",
        "from sklearn.preprocessing import MinMaxScaler\n",
        "from sklearn.linear_model import LogisticRegression\n",
        "from sklearn import preprocessing\n",
        "from sklearn.tree import DecisionTreeClassifier\n",
        "from sklearn.ensemble import RandomForestRegressor\n",
        "from sklearn.ensemble import RandomForestClassifier\n",
        "from sklearn.metrics import accuracy_score,classification_report,ConfusionMatrixDisplay,confusion_matrix\n",
        "from sklearn.svm import SVC\n",
        "from sklearn.ensemble import GradientBoostingClassifier\n",
        "from sklearn.neighbors import KNeighborsClassifier\n",
        "from sklearn.naive_bayes import GaussianNB\n",
        "from sklearn.model_selection import cross_val_score\n",
        "from sklearn.model_selection import GridSearchCV\n"
      ]
    },
    {
      "cell_type": "markdown",
      "metadata": {
        "id": "CblzGn1h_ut1"
      },
      "source": [
        "# 3 - Data Loading"
      ]
    },
    {
      "cell_type": "markdown",
      "metadata": {
        "id": "yNWnXyBZ_75s"
      },
      "source": [
        "<h1>Query dari BQ</h1>\n",
        "<b>select</b> * <b>from</b> `ftds-hacktiv8-project.phase1_ftds_015_rmt.heart-failure`"
      ]
    },
    {
      "cell_type": "code",
      "execution_count": 249,
      "metadata": {
        "colab": {
          "base_uri": "https://localhost:8080/"
        },
        "id": "pbM-ee3F_Xv-",
        "outputId": "74bb818d-59f3-442a-f313-a120eeaa48f1"
      },
      "outputs": [
        {
          "name": "stdout",
          "output_type": "stream",
          "text": [
            "Drive already mounted at /content/drive; to attempt to forcibly remount, call drive.mount(\"/content/drive\", force_remount=True).\n"
          ]
        }
      ],
      "source": [
        "#load dataset\n",
        "from google.colab import drive\n",
        "drive.mount('/content/drive')"
      ]
    },
    {
      "cell_type": "code",
      "execution_count": 250,
      "metadata": {
        "id": "hzPAz1jLAkus"
      },
      "outputs": [],
      "source": [
        "# Load Dataset\n",
        "\n",
        "data = pd.read_csv('/content/drive/MyDrive/Colab Notebooks/phase1/GC3/dataset/h8dsft_P1G3_Suma_Bimantoro_Andru.csv')"
      ]
    },
    {
      "cell_type": "code",
      "execution_count": 251,
      "metadata": {
        "colab": {
          "base_uri": "https://localhost:8080/",
          "height": 207
        },
        "id": "I4kXSflBA8v0",
        "outputId": "2d870767-6baa-4ec3-ec49-c280143fc97d"
      },
      "outputs": [
        {
          "data": {
            "text/html": [
              "\n",
              "  <div id=\"df-7b184247-7634-4e5a-8ccb-5e12c0cd7b7a\">\n",
              "    <div class=\"colab-df-container\">\n",
              "      <div>\n",
              "<style scoped>\n",
              "    .dataframe tbody tr th:only-of-type {\n",
              "        vertical-align: middle;\n",
              "    }\n",
              "\n",
              "    .dataframe tbody tr th {\n",
              "        vertical-align: top;\n",
              "    }\n",
              "\n",
              "    .dataframe thead th {\n",
              "        text-align: right;\n",
              "    }\n",
              "</style>\n",
              "<table border=\"1\" class=\"dataframe\">\n",
              "  <thead>\n",
              "    <tr style=\"text-align: right;\">\n",
              "      <th></th>\n",
              "      <th>age</th>\n",
              "      <th>anaemia</th>\n",
              "      <th>creatinine_phosphokinase</th>\n",
              "      <th>diabetes</th>\n",
              "      <th>ejection_fraction</th>\n",
              "      <th>high_blood_pressure</th>\n",
              "      <th>platelets</th>\n",
              "      <th>serum_creatinine</th>\n",
              "      <th>serum_sodium</th>\n",
              "      <th>sex</th>\n",
              "      <th>smoking</th>\n",
              "      <th>time</th>\n",
              "      <th>DEATH_EVENT</th>\n",
              "    </tr>\n",
              "  </thead>\n",
              "  <tbody>\n",
              "    <tr>\n",
              "      <th>0</th>\n",
              "      <td>42.0</td>\n",
              "      <td>1</td>\n",
              "      <td>250</td>\n",
              "      <td>1</td>\n",
              "      <td>15</td>\n",
              "      <td>0</td>\n",
              "      <td>213000.0</td>\n",
              "      <td>1.3</td>\n",
              "      <td>136</td>\n",
              "      <td>0</td>\n",
              "      <td>0</td>\n",
              "      <td>65</td>\n",
              "      <td>1</td>\n",
              "    </tr>\n",
              "    <tr>\n",
              "      <th>1</th>\n",
              "      <td>46.0</td>\n",
              "      <td>0</td>\n",
              "      <td>168</td>\n",
              "      <td>1</td>\n",
              "      <td>17</td>\n",
              "      <td>1</td>\n",
              "      <td>271000.0</td>\n",
              "      <td>2.1</td>\n",
              "      <td>124</td>\n",
              "      <td>0</td>\n",
              "      <td>0</td>\n",
              "      <td>100</td>\n",
              "      <td>1</td>\n",
              "    </tr>\n",
              "    <tr>\n",
              "      <th>2</th>\n",
              "      <td>65.0</td>\n",
              "      <td>1</td>\n",
              "      <td>160</td>\n",
              "      <td>1</td>\n",
              "      <td>20</td>\n",
              "      <td>0</td>\n",
              "      <td>327000.0</td>\n",
              "      <td>2.7</td>\n",
              "      <td>116</td>\n",
              "      <td>0</td>\n",
              "      <td>0</td>\n",
              "      <td>8</td>\n",
              "      <td>1</td>\n",
              "    </tr>\n",
              "  </tbody>\n",
              "</table>\n",
              "</div>\n",
              "      <button class=\"colab-df-convert\" onclick=\"convertToInteractive('df-7b184247-7634-4e5a-8ccb-5e12c0cd7b7a')\"\n",
              "              title=\"Convert this dataframe to an interactive table.\"\n",
              "              style=\"display:none;\">\n",
              "        \n",
              "  <svg xmlns=\"http://www.w3.org/2000/svg\" height=\"24px\"viewBox=\"0 0 24 24\"\n",
              "       width=\"24px\">\n",
              "    <path d=\"M0 0h24v24H0V0z\" fill=\"none\"/>\n",
              "    <path d=\"M18.56 5.44l.94 2.06.94-2.06 2.06-.94-2.06-.94-.94-2.06-.94 2.06-2.06.94zm-11 1L8.5 8.5l.94-2.06 2.06-.94-2.06-.94L8.5 2.5l-.94 2.06-2.06.94zm10 10l.94 2.06.94-2.06 2.06-.94-2.06-.94-.94-2.06-.94 2.06-2.06.94z\"/><path d=\"M17.41 7.96l-1.37-1.37c-.4-.4-.92-.59-1.43-.59-.52 0-1.04.2-1.43.59L10.3 9.45l-7.72 7.72c-.78.78-.78 2.05 0 2.83L4 21.41c.39.39.9.59 1.41.59.51 0 1.02-.2 1.41-.59l7.78-7.78 2.81-2.81c.8-.78.8-2.07 0-2.86zM5.41 20L4 18.59l7.72-7.72 1.47 1.35L5.41 20z\"/>\n",
              "  </svg>\n",
              "      </button>\n",
              "      \n",
              "  <style>\n",
              "    .colab-df-container {\n",
              "      display:flex;\n",
              "      flex-wrap:wrap;\n",
              "      gap: 12px;\n",
              "    }\n",
              "\n",
              "    .colab-df-convert {\n",
              "      background-color: #E8F0FE;\n",
              "      border: none;\n",
              "      border-radius: 50%;\n",
              "      cursor: pointer;\n",
              "      display: none;\n",
              "      fill: #1967D2;\n",
              "      height: 32px;\n",
              "      padding: 0 0 0 0;\n",
              "      width: 32px;\n",
              "    }\n",
              "\n",
              "    .colab-df-convert:hover {\n",
              "      background-color: #E2EBFA;\n",
              "      box-shadow: 0px 1px 2px rgba(60, 64, 67, 0.3), 0px 1px 3px 1px rgba(60, 64, 67, 0.15);\n",
              "      fill: #174EA6;\n",
              "    }\n",
              "\n",
              "    [theme=dark] .colab-df-convert {\n",
              "      background-color: #3B4455;\n",
              "      fill: #D2E3FC;\n",
              "    }\n",
              "\n",
              "    [theme=dark] .colab-df-convert:hover {\n",
              "      background-color: #434B5C;\n",
              "      box-shadow: 0px 1px 3px 1px rgba(0, 0, 0, 0.15);\n",
              "      filter: drop-shadow(0px 1px 2px rgba(0, 0, 0, 0.3));\n",
              "      fill: #FFFFFF;\n",
              "    }\n",
              "  </style>\n",
              "\n",
              "      <script>\n",
              "        const buttonEl =\n",
              "          document.querySelector('#df-7b184247-7634-4e5a-8ccb-5e12c0cd7b7a button.colab-df-convert');\n",
              "        buttonEl.style.display =\n",
              "          google.colab.kernel.accessAllowed ? 'block' : 'none';\n",
              "\n",
              "        async function convertToInteractive(key) {\n",
              "          const element = document.querySelector('#df-7b184247-7634-4e5a-8ccb-5e12c0cd7b7a');\n",
              "          const dataTable =\n",
              "            await google.colab.kernel.invokeFunction('convertToInteractive',\n",
              "                                                     [key], {});\n",
              "          if (!dataTable) return;\n",
              "\n",
              "          const docLinkHtml = 'Like what you see? Visit the ' +\n",
              "            '<a target=\"_blank\" href=https://colab.research.google.com/notebooks/data_table.ipynb>data table notebook</a>'\n",
              "            + ' to learn more about interactive tables.';\n",
              "          element.innerHTML = '';\n",
              "          dataTable['output_type'] = 'display_data';\n",
              "          await google.colab.output.renderOutput(dataTable, element);\n",
              "          const docLink = document.createElement('div');\n",
              "          docLink.innerHTML = docLinkHtml;\n",
              "          element.appendChild(docLink);\n",
              "        }\n",
              "      </script>\n",
              "    </div>\n",
              "  </div>\n",
              "  "
            ],
            "text/plain": [
              "    age  anaemia  creatinine_phosphokinase  diabetes  ejection_fraction  \\\n",
              "0  42.0        1                       250         1                 15   \n",
              "1  46.0        0                       168         1                 17   \n",
              "2  65.0        1                       160         1                 20   \n",
              "\n",
              "   high_blood_pressure  platelets  serum_creatinine  serum_sodium  sex  \\\n",
              "0                    0   213000.0               1.3           136    0   \n",
              "1                    1   271000.0               2.1           124    0   \n",
              "2                    0   327000.0               2.7           116    0   \n",
              "\n",
              "   smoking  time  DEATH_EVENT  \n",
              "0        0    65            1  \n",
              "1        0   100            1  \n",
              "2        0     8            1  "
            ]
          },
          "execution_count": 251,
          "metadata": {},
          "output_type": "execute_result"
        }
      ],
      "source": [
        "#Tampilkan Head\n",
        "data.head(3)"
      ]
    },
    {
      "cell_type": "code",
      "execution_count": 252,
      "metadata": {
        "colab": {
          "base_uri": "https://localhost:8080/",
          "height": 207
        },
        "id": "nrD0V4XsBB0k",
        "outputId": "a8b70287-17ad-43e3-c180-f0428919a396"
      },
      "outputs": [
        {
          "data": {
            "text/html": [
              "\n",
              "  <div id=\"df-3090dc50-113e-4164-aca8-914ef1cc2f59\">\n",
              "    <div class=\"colab-df-container\">\n",
              "      <div>\n",
              "<style scoped>\n",
              "    .dataframe tbody tr th:only-of-type {\n",
              "        vertical-align: middle;\n",
              "    }\n",
              "\n",
              "    .dataframe tbody tr th {\n",
              "        vertical-align: top;\n",
              "    }\n",
              "\n",
              "    .dataframe thead th {\n",
              "        text-align: right;\n",
              "    }\n",
              "</style>\n",
              "<table border=\"1\" class=\"dataframe\">\n",
              "  <thead>\n",
              "    <tr style=\"text-align: right;\">\n",
              "      <th></th>\n",
              "      <th>age</th>\n",
              "      <th>anaemia</th>\n",
              "      <th>creatinine_phosphokinase</th>\n",
              "      <th>diabetes</th>\n",
              "      <th>ejection_fraction</th>\n",
              "      <th>high_blood_pressure</th>\n",
              "      <th>platelets</th>\n",
              "      <th>serum_creatinine</th>\n",
              "      <th>serum_sodium</th>\n",
              "      <th>sex</th>\n",
              "      <th>smoking</th>\n",
              "      <th>time</th>\n",
              "      <th>DEATH_EVENT</th>\n",
              "    </tr>\n",
              "  </thead>\n",
              "  <tbody>\n",
              "    <tr>\n",
              "      <th>296</th>\n",
              "      <td>70.0</td>\n",
              "      <td>0</td>\n",
              "      <td>97</td>\n",
              "      <td>0</td>\n",
              "      <td>60</td>\n",
              "      <td>1</td>\n",
              "      <td>220000.00</td>\n",
              "      <td>0.9</td>\n",
              "      <td>138</td>\n",
              "      <td>1</td>\n",
              "      <td>0</td>\n",
              "      <td>186</td>\n",
              "      <td>0</td>\n",
              "    </tr>\n",
              "    <tr>\n",
              "      <th>297</th>\n",
              "      <td>53.0</td>\n",
              "      <td>1</td>\n",
              "      <td>446</td>\n",
              "      <td>0</td>\n",
              "      <td>60</td>\n",
              "      <td>1</td>\n",
              "      <td>263358.03</td>\n",
              "      <td>1.0</td>\n",
              "      <td>139</td>\n",
              "      <td>1</td>\n",
              "      <td>0</td>\n",
              "      <td>215</td>\n",
              "      <td>0</td>\n",
              "    </tr>\n",
              "    <tr>\n",
              "      <th>298</th>\n",
              "      <td>50.0</td>\n",
              "      <td>0</td>\n",
              "      <td>582</td>\n",
              "      <td>0</td>\n",
              "      <td>62</td>\n",
              "      <td>1</td>\n",
              "      <td>147000.00</td>\n",
              "      <td>0.8</td>\n",
              "      <td>140</td>\n",
              "      <td>1</td>\n",
              "      <td>1</td>\n",
              "      <td>192</td>\n",
              "      <td>0</td>\n",
              "    </tr>\n",
              "  </tbody>\n",
              "</table>\n",
              "</div>\n",
              "      <button class=\"colab-df-convert\" onclick=\"convertToInteractive('df-3090dc50-113e-4164-aca8-914ef1cc2f59')\"\n",
              "              title=\"Convert this dataframe to an interactive table.\"\n",
              "              style=\"display:none;\">\n",
              "        \n",
              "  <svg xmlns=\"http://www.w3.org/2000/svg\" height=\"24px\"viewBox=\"0 0 24 24\"\n",
              "       width=\"24px\">\n",
              "    <path d=\"M0 0h24v24H0V0z\" fill=\"none\"/>\n",
              "    <path d=\"M18.56 5.44l.94 2.06.94-2.06 2.06-.94-2.06-.94-.94-2.06-.94 2.06-2.06.94zm-11 1L8.5 8.5l.94-2.06 2.06-.94-2.06-.94L8.5 2.5l-.94 2.06-2.06.94zm10 10l.94 2.06.94-2.06 2.06-.94-2.06-.94-.94-2.06-.94 2.06-2.06.94z\"/><path d=\"M17.41 7.96l-1.37-1.37c-.4-.4-.92-.59-1.43-.59-.52 0-1.04.2-1.43.59L10.3 9.45l-7.72 7.72c-.78.78-.78 2.05 0 2.83L4 21.41c.39.39.9.59 1.41.59.51 0 1.02-.2 1.41-.59l7.78-7.78 2.81-2.81c.8-.78.8-2.07 0-2.86zM5.41 20L4 18.59l7.72-7.72 1.47 1.35L5.41 20z\"/>\n",
              "  </svg>\n",
              "      </button>\n",
              "      \n",
              "  <style>\n",
              "    .colab-df-container {\n",
              "      display:flex;\n",
              "      flex-wrap:wrap;\n",
              "      gap: 12px;\n",
              "    }\n",
              "\n",
              "    .colab-df-convert {\n",
              "      background-color: #E8F0FE;\n",
              "      border: none;\n",
              "      border-radius: 50%;\n",
              "      cursor: pointer;\n",
              "      display: none;\n",
              "      fill: #1967D2;\n",
              "      height: 32px;\n",
              "      padding: 0 0 0 0;\n",
              "      width: 32px;\n",
              "    }\n",
              "\n",
              "    .colab-df-convert:hover {\n",
              "      background-color: #E2EBFA;\n",
              "      box-shadow: 0px 1px 2px rgba(60, 64, 67, 0.3), 0px 1px 3px 1px rgba(60, 64, 67, 0.15);\n",
              "      fill: #174EA6;\n",
              "    }\n",
              "\n",
              "    [theme=dark] .colab-df-convert {\n",
              "      background-color: #3B4455;\n",
              "      fill: #D2E3FC;\n",
              "    }\n",
              "\n",
              "    [theme=dark] .colab-df-convert:hover {\n",
              "      background-color: #434B5C;\n",
              "      box-shadow: 0px 1px 3px 1px rgba(0, 0, 0, 0.15);\n",
              "      filter: drop-shadow(0px 1px 2px rgba(0, 0, 0, 0.3));\n",
              "      fill: #FFFFFF;\n",
              "    }\n",
              "  </style>\n",
              "\n",
              "      <script>\n",
              "        const buttonEl =\n",
              "          document.querySelector('#df-3090dc50-113e-4164-aca8-914ef1cc2f59 button.colab-df-convert');\n",
              "        buttonEl.style.display =\n",
              "          google.colab.kernel.accessAllowed ? 'block' : 'none';\n",
              "\n",
              "        async function convertToInteractive(key) {\n",
              "          const element = document.querySelector('#df-3090dc50-113e-4164-aca8-914ef1cc2f59');\n",
              "          const dataTable =\n",
              "            await google.colab.kernel.invokeFunction('convertToInteractive',\n",
              "                                                     [key], {});\n",
              "          if (!dataTable) return;\n",
              "\n",
              "          const docLinkHtml = 'Like what you see? Visit the ' +\n",
              "            '<a target=\"_blank\" href=https://colab.research.google.com/notebooks/data_table.ipynb>data table notebook</a>'\n",
              "            + ' to learn more about interactive tables.';\n",
              "          element.innerHTML = '';\n",
              "          dataTable['output_type'] = 'display_data';\n",
              "          await google.colab.output.renderOutput(dataTable, element);\n",
              "          const docLink = document.createElement('div');\n",
              "          docLink.innerHTML = docLinkHtml;\n",
              "          element.appendChild(docLink);\n",
              "        }\n",
              "      </script>\n",
              "    </div>\n",
              "  </div>\n",
              "  "
            ],
            "text/plain": [
              "      age  anaemia  creatinine_phosphokinase  diabetes  ejection_fraction  \\\n",
              "296  70.0        0                        97         0                 60   \n",
              "297  53.0        1                       446         0                 60   \n",
              "298  50.0        0                       582         0                 62   \n",
              "\n",
              "     high_blood_pressure  platelets  serum_creatinine  serum_sodium  sex  \\\n",
              "296                    1  220000.00               0.9           138    1   \n",
              "297                    1  263358.03               1.0           139    1   \n",
              "298                    1  147000.00               0.8           140    1   \n",
              "\n",
              "     smoking  time  DEATH_EVENT  \n",
              "296        0   186            0  \n",
              "297        0   215            0  \n",
              "298        1   192            0  "
            ]
          },
          "execution_count": 252,
          "metadata": {},
          "output_type": "execute_result"
        }
      ],
      "source": [
        "#Tampilkan Tail\n",
        "data.tail(3)"
      ]
    },
    {
      "cell_type": "code",
      "execution_count": 253,
      "metadata": {
        "id": "_qP3h5_uBF3h"
      },
      "outputs": [],
      "source": [
        "# Duplicate Dataset\n",
        "\n",
        "data_copy = data.copy()"
      ]
    },
    {
      "cell_type": "code",
      "execution_count": 254,
      "metadata": {
        "colab": {
          "base_uri": "https://localhost:8080/"
        },
        "id": "2lo8QUreBKw6",
        "outputId": "a017ab17-27e1-4977-8953-4301dfeda313"
      },
      "outputs": [
        {
          "name": "stdout",
          "output_type": "stream",
          "text": [
            "<class 'pandas.core.frame.DataFrame'>\n",
            "RangeIndex: 299 entries, 0 to 298\n",
            "Data columns (total 13 columns):\n",
            " #   Column                    Non-Null Count  Dtype  \n",
            "---  ------                    --------------  -----  \n",
            " 0   age                       299 non-null    float64\n",
            " 1   anaemia                   299 non-null    int64  \n",
            " 2   creatinine_phosphokinase  299 non-null    int64  \n",
            " 3   diabetes                  299 non-null    int64  \n",
            " 4   ejection_fraction         299 non-null    int64  \n",
            " 5   high_blood_pressure       299 non-null    int64  \n",
            " 6   platelets                 299 non-null    float64\n",
            " 7   serum_creatinine          299 non-null    float64\n",
            " 8   serum_sodium              299 non-null    int64  \n",
            " 9   sex                       299 non-null    int64  \n",
            " 10  smoking                   299 non-null    int64  \n",
            " 11  time                      299 non-null    int64  \n",
            " 12  DEATH_EVENT               299 non-null    int64  \n",
            "dtypes: float64(3), int64(10)\n",
            "memory usage: 30.5 KB\n"
          ]
        }
      ],
      "source": [
        "#tampilkan informasi untuk melihat field\n",
        "data.info()"
      ]
    },
    {
      "cell_type": "markdown",
      "metadata": {
        "id": "RdrPRuigBmcB"
      },
      "source": [
        "<p>Di dataset ini ada <b>13</b> columns dan <b>299</b> row, tipe data semua <b>numerik</b></p>"
      ]
    },
    {
      "cell_type": "code",
      "execution_count": 255,
      "metadata": {
        "colab": {
          "base_uri": "https://localhost:8080/",
          "height": 364
        },
        "id": "D5XWK_YxB4ow",
        "outputId": "e82444ab-a214-457f-acde-7723d7d142ca"
      },
      "outputs": [
        {
          "data": {
            "text/html": [
              "\n",
              "  <div id=\"df-52ae8c41-7e8e-4c75-98a4-acf26b84917b\">\n",
              "    <div class=\"colab-df-container\">\n",
              "      <div>\n",
              "<style scoped>\n",
              "    .dataframe tbody tr th:only-of-type {\n",
              "        vertical-align: middle;\n",
              "    }\n",
              "\n",
              "    .dataframe tbody tr th {\n",
              "        vertical-align: top;\n",
              "    }\n",
              "\n",
              "    .dataframe thead th {\n",
              "        text-align: right;\n",
              "    }\n",
              "</style>\n",
              "<table border=\"1\" class=\"dataframe\">\n",
              "  <thead>\n",
              "    <tr style=\"text-align: right;\">\n",
              "      <th></th>\n",
              "      <th>age</th>\n",
              "      <th>anaemia</th>\n",
              "      <th>creatinine_phosphokinase</th>\n",
              "      <th>diabetes</th>\n",
              "      <th>ejection_fraction</th>\n",
              "      <th>high_blood_pressure</th>\n",
              "      <th>platelets</th>\n",
              "      <th>serum_creatinine</th>\n",
              "      <th>serum_sodium</th>\n",
              "      <th>sex</th>\n",
              "      <th>smoking</th>\n",
              "      <th>time</th>\n",
              "      <th>DEATH_EVENT</th>\n",
              "    </tr>\n",
              "  </thead>\n",
              "  <tbody>\n",
              "    <tr>\n",
              "      <th>count</th>\n",
              "      <td>299.000000</td>\n",
              "      <td>299.000000</td>\n",
              "      <td>299.000000</td>\n",
              "      <td>299.000000</td>\n",
              "      <td>299.000000</td>\n",
              "      <td>299.000000</td>\n",
              "      <td>299.000000</td>\n",
              "      <td>299.00000</td>\n",
              "      <td>299.000000</td>\n",
              "      <td>299.000000</td>\n",
              "      <td>299.00000</td>\n",
              "      <td>299.000000</td>\n",
              "      <td>299.00000</td>\n",
              "    </tr>\n",
              "    <tr>\n",
              "      <th>mean</th>\n",
              "      <td>60.833893</td>\n",
              "      <td>0.431438</td>\n",
              "      <td>581.839465</td>\n",
              "      <td>0.418060</td>\n",
              "      <td>38.083612</td>\n",
              "      <td>0.351171</td>\n",
              "      <td>263358.029264</td>\n",
              "      <td>1.39388</td>\n",
              "      <td>136.625418</td>\n",
              "      <td>0.648829</td>\n",
              "      <td>0.32107</td>\n",
              "      <td>130.260870</td>\n",
              "      <td>0.32107</td>\n",
              "    </tr>\n",
              "    <tr>\n",
              "      <th>std</th>\n",
              "      <td>11.894809</td>\n",
              "      <td>0.496107</td>\n",
              "      <td>970.287881</td>\n",
              "      <td>0.494067</td>\n",
              "      <td>11.834841</td>\n",
              "      <td>0.478136</td>\n",
              "      <td>97804.236869</td>\n",
              "      <td>1.03451</td>\n",
              "      <td>4.412477</td>\n",
              "      <td>0.478136</td>\n",
              "      <td>0.46767</td>\n",
              "      <td>77.614208</td>\n",
              "      <td>0.46767</td>\n",
              "    </tr>\n",
              "    <tr>\n",
              "      <th>min</th>\n",
              "      <td>40.000000</td>\n",
              "      <td>0.000000</td>\n",
              "      <td>23.000000</td>\n",
              "      <td>0.000000</td>\n",
              "      <td>14.000000</td>\n",
              "      <td>0.000000</td>\n",
              "      <td>25100.000000</td>\n",
              "      <td>0.50000</td>\n",
              "      <td>113.000000</td>\n",
              "      <td>0.000000</td>\n",
              "      <td>0.00000</td>\n",
              "      <td>4.000000</td>\n",
              "      <td>0.00000</td>\n",
              "    </tr>\n",
              "    <tr>\n",
              "      <th>25%</th>\n",
              "      <td>51.000000</td>\n",
              "      <td>0.000000</td>\n",
              "      <td>116.500000</td>\n",
              "      <td>0.000000</td>\n",
              "      <td>30.000000</td>\n",
              "      <td>0.000000</td>\n",
              "      <td>212500.000000</td>\n",
              "      <td>0.90000</td>\n",
              "      <td>134.000000</td>\n",
              "      <td>0.000000</td>\n",
              "      <td>0.00000</td>\n",
              "      <td>73.000000</td>\n",
              "      <td>0.00000</td>\n",
              "    </tr>\n",
              "    <tr>\n",
              "      <th>50%</th>\n",
              "      <td>60.000000</td>\n",
              "      <td>0.000000</td>\n",
              "      <td>250.000000</td>\n",
              "      <td>0.000000</td>\n",
              "      <td>38.000000</td>\n",
              "      <td>0.000000</td>\n",
              "      <td>262000.000000</td>\n",
              "      <td>1.10000</td>\n",
              "      <td>137.000000</td>\n",
              "      <td>1.000000</td>\n",
              "      <td>0.00000</td>\n",
              "      <td>115.000000</td>\n",
              "      <td>0.00000</td>\n",
              "    </tr>\n",
              "    <tr>\n",
              "      <th>75%</th>\n",
              "      <td>70.000000</td>\n",
              "      <td>1.000000</td>\n",
              "      <td>582.000000</td>\n",
              "      <td>1.000000</td>\n",
              "      <td>45.000000</td>\n",
              "      <td>1.000000</td>\n",
              "      <td>303500.000000</td>\n",
              "      <td>1.40000</td>\n",
              "      <td>140.000000</td>\n",
              "      <td>1.000000</td>\n",
              "      <td>1.00000</td>\n",
              "      <td>203.000000</td>\n",
              "      <td>1.00000</td>\n",
              "    </tr>\n",
              "    <tr>\n",
              "      <th>max</th>\n",
              "      <td>95.000000</td>\n",
              "      <td>1.000000</td>\n",
              "      <td>7861.000000</td>\n",
              "      <td>1.000000</td>\n",
              "      <td>80.000000</td>\n",
              "      <td>1.000000</td>\n",
              "      <td>850000.000000</td>\n",
              "      <td>9.40000</td>\n",
              "      <td>148.000000</td>\n",
              "      <td>1.000000</td>\n",
              "      <td>1.00000</td>\n",
              "      <td>285.000000</td>\n",
              "      <td>1.00000</td>\n",
              "    </tr>\n",
              "  </tbody>\n",
              "</table>\n",
              "</div>\n",
              "      <button class=\"colab-df-convert\" onclick=\"convertToInteractive('df-52ae8c41-7e8e-4c75-98a4-acf26b84917b')\"\n",
              "              title=\"Convert this dataframe to an interactive table.\"\n",
              "              style=\"display:none;\">\n",
              "        \n",
              "  <svg xmlns=\"http://www.w3.org/2000/svg\" height=\"24px\"viewBox=\"0 0 24 24\"\n",
              "       width=\"24px\">\n",
              "    <path d=\"M0 0h24v24H0V0z\" fill=\"none\"/>\n",
              "    <path d=\"M18.56 5.44l.94 2.06.94-2.06 2.06-.94-2.06-.94-.94-2.06-.94 2.06-2.06.94zm-11 1L8.5 8.5l.94-2.06 2.06-.94-2.06-.94L8.5 2.5l-.94 2.06-2.06.94zm10 10l.94 2.06.94-2.06 2.06-.94-2.06-.94-.94-2.06-.94 2.06-2.06.94z\"/><path d=\"M17.41 7.96l-1.37-1.37c-.4-.4-.92-.59-1.43-.59-.52 0-1.04.2-1.43.59L10.3 9.45l-7.72 7.72c-.78.78-.78 2.05 0 2.83L4 21.41c.39.39.9.59 1.41.59.51 0 1.02-.2 1.41-.59l7.78-7.78 2.81-2.81c.8-.78.8-2.07 0-2.86zM5.41 20L4 18.59l7.72-7.72 1.47 1.35L5.41 20z\"/>\n",
              "  </svg>\n",
              "      </button>\n",
              "      \n",
              "  <style>\n",
              "    .colab-df-container {\n",
              "      display:flex;\n",
              "      flex-wrap:wrap;\n",
              "      gap: 12px;\n",
              "    }\n",
              "\n",
              "    .colab-df-convert {\n",
              "      background-color: #E8F0FE;\n",
              "      border: none;\n",
              "      border-radius: 50%;\n",
              "      cursor: pointer;\n",
              "      display: none;\n",
              "      fill: #1967D2;\n",
              "      height: 32px;\n",
              "      padding: 0 0 0 0;\n",
              "      width: 32px;\n",
              "    }\n",
              "\n",
              "    .colab-df-convert:hover {\n",
              "      background-color: #E2EBFA;\n",
              "      box-shadow: 0px 1px 2px rgba(60, 64, 67, 0.3), 0px 1px 3px 1px rgba(60, 64, 67, 0.15);\n",
              "      fill: #174EA6;\n",
              "    }\n",
              "\n",
              "    [theme=dark] .colab-df-convert {\n",
              "      background-color: #3B4455;\n",
              "      fill: #D2E3FC;\n",
              "    }\n",
              "\n",
              "    [theme=dark] .colab-df-convert:hover {\n",
              "      background-color: #434B5C;\n",
              "      box-shadow: 0px 1px 3px 1px rgba(0, 0, 0, 0.15);\n",
              "      filter: drop-shadow(0px 1px 2px rgba(0, 0, 0, 0.3));\n",
              "      fill: #FFFFFF;\n",
              "    }\n",
              "  </style>\n",
              "\n",
              "      <script>\n",
              "        const buttonEl =\n",
              "          document.querySelector('#df-52ae8c41-7e8e-4c75-98a4-acf26b84917b button.colab-df-convert');\n",
              "        buttonEl.style.display =\n",
              "          google.colab.kernel.accessAllowed ? 'block' : 'none';\n",
              "\n",
              "        async function convertToInteractive(key) {\n",
              "          const element = document.querySelector('#df-52ae8c41-7e8e-4c75-98a4-acf26b84917b');\n",
              "          const dataTable =\n",
              "            await google.colab.kernel.invokeFunction('convertToInteractive',\n",
              "                                                     [key], {});\n",
              "          if (!dataTable) return;\n",
              "\n",
              "          const docLinkHtml = 'Like what you see? Visit the ' +\n",
              "            '<a target=\"_blank\" href=https://colab.research.google.com/notebooks/data_table.ipynb>data table notebook</a>'\n",
              "            + ' to learn more about interactive tables.';\n",
              "          element.innerHTML = '';\n",
              "          dataTable['output_type'] = 'display_data';\n",
              "          await google.colab.output.renderOutput(dataTable, element);\n",
              "          const docLink = document.createElement('div');\n",
              "          docLink.innerHTML = docLinkHtml;\n",
              "          element.appendChild(docLink);\n",
              "        }\n",
              "      </script>\n",
              "    </div>\n",
              "  </div>\n",
              "  "
            ],
            "text/plain": [
              "              age     anaemia  creatinine_phosphokinase    diabetes  \\\n",
              "count  299.000000  299.000000                299.000000  299.000000   \n",
              "mean    60.833893    0.431438                581.839465    0.418060   \n",
              "std     11.894809    0.496107                970.287881    0.494067   \n",
              "min     40.000000    0.000000                 23.000000    0.000000   \n",
              "25%     51.000000    0.000000                116.500000    0.000000   \n",
              "50%     60.000000    0.000000                250.000000    0.000000   \n",
              "75%     70.000000    1.000000                582.000000    1.000000   \n",
              "max     95.000000    1.000000               7861.000000    1.000000   \n",
              "\n",
              "       ejection_fraction  high_blood_pressure      platelets  \\\n",
              "count         299.000000           299.000000     299.000000   \n",
              "mean           38.083612             0.351171  263358.029264   \n",
              "std            11.834841             0.478136   97804.236869   \n",
              "min            14.000000             0.000000   25100.000000   \n",
              "25%            30.000000             0.000000  212500.000000   \n",
              "50%            38.000000             0.000000  262000.000000   \n",
              "75%            45.000000             1.000000  303500.000000   \n",
              "max            80.000000             1.000000  850000.000000   \n",
              "\n",
              "       serum_creatinine  serum_sodium         sex    smoking        time  \\\n",
              "count         299.00000    299.000000  299.000000  299.00000  299.000000   \n",
              "mean            1.39388    136.625418    0.648829    0.32107  130.260870   \n",
              "std             1.03451      4.412477    0.478136    0.46767   77.614208   \n",
              "min             0.50000    113.000000    0.000000    0.00000    4.000000   \n",
              "25%             0.90000    134.000000    0.000000    0.00000   73.000000   \n",
              "50%             1.10000    137.000000    1.000000    0.00000  115.000000   \n",
              "75%             1.40000    140.000000    1.000000    1.00000  203.000000   \n",
              "max             9.40000    148.000000    1.000000    1.00000  285.000000   \n",
              "\n",
              "       DEATH_EVENT  \n",
              "count    299.00000  \n",
              "mean       0.32107  \n",
              "std        0.46767  \n",
              "min        0.00000  \n",
              "25%        0.00000  \n",
              "50%        0.00000  \n",
              "75%        1.00000  \n",
              "max        1.00000  "
            ]
          },
          "execution_count": 255,
          "metadata": {},
          "output_type": "execute_result"
        }
      ],
      "source": [
        "#check dataset\n",
        "data.describe()"
      ]
    },
    {
      "cell_type": "markdown",
      "metadata": {
        "id": "OD7JtpFyDMZk"
      },
      "source": [
        "<p>Terlihat dari <b>median</b> bernilai <b>60</b>, yang artinya banyak <b>umur 60</b> dan umur paling muda di umur <b>40</b></p>"
      ]
    },
    {
      "cell_type": "markdown",
      "metadata": {
        "id": "3OasrBPzD1LO"
      },
      "source": [
        "# 4 - Exploratory Data Analysis (EDA)"
      ]
    },
    {
      "cell_type": "markdown",
      "metadata": {
        "id": "eEQ9ti0VEMkT"
      },
      "source": [
        "<h1><b>DEATH_EVENT</b></h1>"
      ]
    },
    {
      "cell_type": "code",
      "execution_count": 256,
      "metadata": {
        "colab": {
          "base_uri": "https://localhost:8080/"
        },
        "id": "-KjIBfkVEF8W",
        "outputId": "5417b883-3acf-4eaf-ac38-fffb8650618e"
      },
      "outputs": [
        {
          "data": {
            "text/plain": [
              "array([1, 0])"
            ]
          },
          "execution_count": 256,
          "metadata": {},
          "output_type": "execute_result"
        }
      ],
      "source": [
        "#cek Feature\n",
        "data['DEATH_EVENT'].unique()"
      ]
    },
    {
      "cell_type": "markdown",
      "metadata": {
        "id": "--EzR3CdEjh7"
      },
      "source": [
        "<p>Kematian (<b>1=yes, 0=no</b>)</p>"
      ]
    },
    {
      "cell_type": "code",
      "execution_count": 257,
      "metadata": {
        "colab": {
          "base_uri": "https://localhost:8080/",
          "height": 425
        },
        "id": "XaHbi9JXFRBP",
        "outputId": "ea0c6481-108d-4ebc-9196-fae42cd7589e"
      },
      "outputs": [
        {
          "data": {
            "text/plain": [
              "(array([0, 1]), <a list of 2 Text major ticklabel objects>)"
            ]
          },
          "execution_count": 257,
          "metadata": {},
          "output_type": "execute_result"
        },
        {
          "data": {
            "image/png": "[encoded data removed]",
            "text/plain": [
              "<Figure size 1440x432 with 1 Axes>"
            ]
          },
          "metadata": {
            "needs_background": "light"
          },
          "output_type": "display_data"
        }
      ],
      "source": [
        "#membuat plot untuk cek DEATH_EVENT\n",
        "plt.figure(figsize=(20, 6))\n",
        "plt.subplot(1, 2, 1)\n",
        "DEATH_EVENT = sns.countplot(x='DEATH_EVENT', data=data, order=data.DEATH_EVENT.value_counts().index)\n",
        "for p in DEATH_EVENT.patches:\n",
        "    DEATH_EVENT.annotate(f'{p.get_height()}', (p.get_x() + p.get_width() / 2., p.get_height()), ha='center', va='center', xytext=(0, 10), textcoords='offset points')\n",
        "plt.title('DEATH_EVENT')\n",
        "plt.xlabel('DEATH_EVENT')\n",
        "plt.ylabel('count')\n",
        "plt.xticks(rotation=45)"
      ]
    },
    {
      "cell_type": "code",
      "execution_count": 258,
      "metadata": {
        "colab": {
          "base_uri": "https://localhost:8080/"
        },
        "id": "5vFFhdNuKP05",
        "outputId": "b12c1601-70fe-4f46-ad76-eaa6c6f8a68b"
      },
      "outputs": [
        {
          "data": {
            "text/plain": [
              "0    67.892977\n",
              "1    32.107023\n",
              "Name: DEATH_EVENT, dtype: float64"
            ]
          },
          "execution_count": 258,
          "metadata": {},
          "output_type": "execute_result"
        }
      ],
      "source": [
        "#melihat jumlah dan persen terhadap column DEATH_EVENT\n",
        "(data['DEATH_EVENT'].value_counts()/data['DEATH_EVENT'].count())*100"
      ]
    },
    {
      "cell_type": "markdown",
      "metadata": {
        "id": "aa2mSCnLJRjg"
      },
      "source": [
        "<p><b>Tidak meninggal</b> berjumlah <b>203</b> dan <b>Meninggal</b> berjumlah <b>96</b>,ada sekitar <b>67%</b> untuk tidak meninggal dan <b>32%</b> untuk user <b>meninggal</b></p>"
      ]
    },
    {
      "cell_type": "markdown",
      "metadata": {
        "id": "zDxKvUyYM7xY"
      },
      "source": [
        "<h1><b>age</b></h1>"
      ]
    },
    {
      "cell_type": "code",
      "execution_count": 259,
      "metadata": {
        "colab": {
          "base_uri": "https://localhost:8080/"
        },
        "id": "_63x2ACQNEN2",
        "outputId": "28456f75-2725-4613-86b2-a378a4903442"
      },
      "outputs": [
        {
          "data": {
            "text/plain": [
              "array([42.   , 46.   , 65.   , 53.   , 50.   , 70.   , 60.   , 59.   ,\n",
              "       72.   , 49.   , 75.   , 57.   , 48.   , 62.   , 52.   , 55.   ,\n",
              "       58.   , 86.   , 66.   , 80.   , 45.   , 67.   , 90.   , 95.   ,\n",
              "       63.   , 61.   , 60.667, 40.   , 73.   , 51.   , 82.   , 43.   ,\n",
              "       85.   , 64.   , 68.   , 54.   , 69.   , 47.   , 44.   , 81.   ,\n",
              "       87.   , 94.   , 56.   , 41.   , 78.   , 77.   , 79.   ])"
            ]
          },
          "execution_count": 259,
          "metadata": {},
          "output_type": "execute_result"
        }
      ],
      "source": [
        "#cek column age\n",
        "data['age'].unique()"
      ]
    },
    {
      "cell_type": "markdown",
      "metadata": {
        "id": "Or-mjmelPD19"
      },
      "source": [
        "<p><b>umur</b> yang paling muda <b>41</b> dan paling tua <b>94</b>, <b>peneliti</b> melihat colomn <b>ada umur 60.667 nanti akan replace ke 60, ada kemungkinan ada salah input</p>"
      ]
    },
    {
      "cell_type": "code",
      "execution_count": 260,
      "metadata": {
        "colab": {
          "base_uri": "https://localhost:8080/",
          "height": 404
        },
        "id": "GFVOGfRtPvST",
        "outputId": "4a2867d7-3b2b-48dd-db22-cc68582e1ee3"
      },
      "outputs": [
        {
          "data": {
            "image/png": "[encoded data removed]",
            "text/plain": [
              "<Figure size 1440x432 with 1 Axes>"
            ]
          },
          "metadata": {
            "needs_background": "light"
          },
          "output_type": "display_data"
        }
      ],
      "source": [
        "#membuat plot untuk melihat berhubungan feature dengan target\n",
        "plt.figure(figsize=(20, 6))\n",
        "plt.subplot(1, 2, 2)\n",
        "sns.scatterplot(x='age', y='age', data=data, hue='DEATH_EVENT')\n",
        "plt.title('age vs default_payment_next_month')\n",
        "plt.xlabel('age')\n",
        "plt.ylabel('age')\n",
        "plt.show()"
      ]
    },
    {
      "cell_type": "markdown",
      "metadata": {
        "id": "cZy1kHo4RCag"
      },
      "source": [
        "<p>Terlihat disini ada lebih banyak <b>potensi kematian dari besarnnya umur</b>terlihat korelasi antara umur dan kematian, feature ini akan dipakai nantinnya</p>"
      ]
    },
    {
      "cell_type": "markdown",
      "metadata": {
        "id": "qTnBkex0TTWL"
      },
      "source": [
        "<h1><b>anaemia<b></h1>"
      ]
    },
    {
      "cell_type": "code",
      "execution_count": 261,
      "metadata": {
        "colab": {
          "base_uri": "https://localhost:8080/"
        },
        "id": "ADTuQJCkrETc",
        "outputId": "8d4d3d19-2355-49c3-cab4-ca256a096ad0"
      },
      "outputs": [
        {
          "data": {
            "text/plain": [
              "array([1, 0])"
            ]
          },
          "execution_count": 261,
          "metadata": {},
          "output_type": "execute_result"
        }
      ],
      "source": [
        "#cek column\n",
        "data['anaemia'].unique()"
      ]
    },
    {
      "cell_type": "markdown",
      "metadata": {
        "id": "LLzb896DrNCG"
      },
      "source": [
        "<p>Terlihat disini untuk 1 pasien <b>artinya terkena anaemia</b></p>\n",
        "<p>Terlihat disini untuk 0 pasien <b>artinya tidak terkena anaemia</b></p>"
      ]
    },
    {
      "cell_type": "code",
      "execution_count": 262,
      "metadata": {
        "colab": {
          "base_uri": "https://localhost:8080/",
          "height": 1000
        },
        "id": "nHbJfaMCSGit",
        "outputId": "ad0ba4a5-a438-490e-cbbb-3a6e94e92b7a"
      },
      "outputs": [
        {
          "data": {
            "image/png": "[encoded data removed]",
            "text/plain": [
              "<Figure size 1800x432 with 1 Axes>"
            ]
          },
          "metadata": {
            "needs_background": "light"
          },
          "output_type": "display_data"
        },
        {
          "data": {
            "image/png": "[encoded data removed]",
            "text/plain": [
              "<Figure size 1800x432 with 1 Axes>"
            ]
          },
          "metadata": {
            "needs_background": "light"
          },
          "output_type": "display_data"
        },
        {
          "data": {
            "image/png": "[encoded data removed]",
            "text/plain": [
              "<Figure size 1800x432 with 1 Axes>"
            ]
          },
          "metadata": {
            "needs_background": "light"
          },
          "output_type": "display_data"
        }
      ],
      "source": [
        "#Membuat Plot hubungan dengan default_payment_next_month\n",
        "plt.figure(figsize=(25,6))\n",
        "plt.subplot(1, 3, 2)\n",
        "sns.countplot(x='DEATH_EVENT', data=data, hue='anaemia')\n",
        "plt.title('anaemia')\n",
        "plt.xlabel('DEATH_EVENT')\n",
        "plt.ylabel('Frequency')\n",
        "plt.xticks(rotation=90)\n",
        "plt.legend(loc='upper left')\n",
        "#Membuat Boxplot\n",
        "plt.figure(figsize=(25,6))\n",
        "plt.subplot(1, 2, 1)\n",
        "sns.boxplot(x='DEATH_EVENT', y='anaemia', data=data)\n",
        "plt.title('DEATH_EVENT Distribution per anaemia')\n",
        "plt.xlabel('DEATH_EVENT')\n",
        "plt.ylabel('anaemia')\n",
        "\n",
        "plt.figure(figsize=(25,6))\n",
        "plt.subplot(1, 3, 3)\n",
        "sns.boxplot(x='anaemia', y='age', data=data, hue='DEATH_EVENT')\n",
        "plt.title('Price Distribution per marital status')\n",
        "plt.xlabel('anaemia')\n",
        "plt.ylabel('age')\n",
        "plt.xticks(rotation=90)\n",
        "plt.show()\n"
      ]
    },
    {
      "cell_type": "markdown",
      "metadata": {
        "id": "u6rbAe8eTyIk"
      },
      "source": [
        "<p>Dilihat dari sini <b>anaemia tidak terlalu berhubungan dengan kematian</b>, walaupun ada yang terkena aneamia, <b>yang mengalami kematian dikarenakan di umur 60 keatas</b></p>"
      ]
    },
    {
      "cell_type": "markdown",
      "metadata": {
        "id": "Xx5cO9GTVZCv"
      },
      "source": [
        "Note:<b>sex</b>(1=male, 2=female)<br>\n",
        "Note:<b>Marital_status</b>(1=married, 2=single, 3=others)"
      ]
    },
    {
      "cell_type": "markdown",
      "metadata": {
        "id": "8C4JN5DDwxwf"
      },
      "source": [
        "-Note\n",
        "<p> untuk 1 pasien <b>artinya terkena anaemia</b></p> dan warna orange adalah kematian\n",
        "<p>disini untuk 0 pasien <b>artinya tidak terkena anaemia dan warna biru adalah tidak meninggal</b></p>"
      ]
    },
    {
      "cell_type": "markdown",
      "metadata": {
        "id": "JnagyxOMVKoP"
      },
      "source": [
        "<h1><b>creatinine_phosphokinase</b></h1>"
      ]
    },
    {
      "cell_type": "code",
      "execution_count": 263,
      "metadata": {
        "colab": {
          "base_uri": "https://localhost:8080/"
        },
        "id": "D_tidVvKVRoE",
        "outputId": "96c43712-8922-42de-a1d4-13209325d480"
      },
      "outputs": [
        {
          "data": {
            "text/plain": [
              "array([ 250,  168,  160,   91,  582,  125,   52,  161,   76,  280,  156,\n",
              "       1896,   56,  211,   80,  128,  159,  124,  129,  328,  482,  167,\n",
              "        131,  166, 2522, 1051,  249,  281,  291,  335,   58, 2334,  835,\n",
              "        972,   81,  572,   88,  618,  892,  235,  260,  144,   68,   96,\n",
              "        776,  326,  213,   84,  337, 1820,  112,  318,   69,   61,  400,\n",
              "        719,  151,  101, 2281,  720, 1185,  207,  655,  336,  233,  244,\n",
              "        855,   53,  358, 1202,  615,  588,   92,   59,  143,  102,  113,\n",
              "        200,   62,  675,  157, 2060, 3964,  427,  246,  212,  146,  111,\n",
              "        553,  789,  364,   47,   66,  115, 1199,  231, 1380,  577, 7702,\n",
              "        110,  154,  514,  305,  898,  369,  646,  943,  176,  395,  145,\n",
              "         57, 2017,  258,  981,   70, 2656,  371, 5209,  248, 1548,  185,\n",
              "        132, 2442,  478,  104,  232,  191,  257,   64,  123,  220,   75,\n",
              "        109, 5882, 1876,  292,   60,  270, 4540, 2261, 1846,  130,  198,\n",
              "       1211,  135, 1021,   86, 2794,   93,   90,  624,  298,  253,  320,\n",
              "        103, 7861,  149,  148,  203,  936,  805,   99,  707, 1688,  190,\n",
              "       2413,  607,  754,   72, 3966, 1419,  121, 2695,   54,  170,  122,\n",
              "         23,  571,  897,  748, 1082,  418, 1767,  180,  245,  196,  379,\n",
              "         94,  127,  224,   55,   78,  910,  118,  119,  315,   63,  133,\n",
              "        737, 1808,  193, 1610,   30,  171,   95,  308,   97,  446])"
            ]
          },
          "execution_count": 263,
          "metadata": {},
          "output_type": "execute_result"
        }
      ],
      "source": [
        "#cek dataset column\n",
        "data['creatinine_phosphokinase'].unique()"
      ]
    },
    {
      "cell_type": "markdown",
      "metadata": {
        "id": "5qnLT7FVxNwP"
      },
      "source": [
        "<p>Setelah peneliti lihat ini adalah <b>data jumlah kreatin</b></p>"
      ]
    },
    {
      "cell_type": "code",
      "execution_count": 264,
      "metadata": {
        "colab": {
          "base_uri": "https://localhost:8080/",
          "height": 296
        },
        "id": "AiBJgIqayawW",
        "outputId": "81154c5f-9346-418c-e940-4733c76ebef4"
      },
      "outputs": [
        {
          "data": {
            "image/png": "[encoded data removed]",
            "text/plain": [
              "<Figure size 432x288 with 1 Axes>"
            ]
          },
          "metadata": {
            "needs_background": "light"
          },
          "output_type": "display_data"
        }
      ],
      "source": [
        "#Mebuat violin plot\n",
        "sns.violinplot(x=\"DEATH_EVENT\", y=\"creatinine_phosphokinase\", data=data, size=4)\n",
        "plt.title(\"Jumlah creatinine_phosphokinase pada kematian\")\n",
        "plt.show()"
      ]
    },
    {
      "cell_type": "markdown",
      "metadata": {
        "id": "S79Gr8lOzI_C"
      },
      "source": [
        "<p><b>Adanya potensi kematian jika creatinine_phosphokinase makin tinggi</b> dilihat disini feature ini akan dipakai nanti</p>"
      ]
    },
    {
      "cell_type": "markdown",
      "metadata": {
        "id": "o9Dxa2Niy5za"
      },
      "source": [
        "<h1><b>Diabetes</b></h1>"
      ]
    },
    {
      "cell_type": "code",
      "execution_count": 265,
      "metadata": {
        "colab": {
          "base_uri": "https://localhost:8080/"
        },
        "id": "TBKU2YGqztqp",
        "outputId": "4983ebc8-970c-4a24-c554-e0ec188bf065"
      },
      "outputs": [
        {
          "data": {
            "text/plain": [
              "array([1, 0])"
            ]
          },
          "execution_count": 265,
          "metadata": {},
          "output_type": "execute_result"
        }
      ],
      "source": [
        "data['diabetes'].unique()"
      ]
    },
    {
      "cell_type": "markdown",
      "metadata": {
        "id": "HosWFWJlz0cP"
      },
      "source": [
        "Peneliti melihat column diabetes adalah column bersifat categori dimana <b>1 ada terkena diabetes</b> dan <b>0 tidak terkena diabetes</b>"
      ]
    },
    {
      "cell_type": "code",
      "execution_count": 266,
      "metadata": {
        "colab": {
          "base_uri": "https://localhost:8080/",
          "height": 639
        },
        "id": "r87CFBKPbKg7",
        "outputId": "fe4af199-4bf1-4dbd-cb22-52e05d491486"
      },
      "outputs": [
        {
          "data": {
            "text/plain": [
              "Text(0, 0.5, 'Frequency')"
            ]
          },
          "execution_count": 266,
          "metadata": {},
          "output_type": "execute_result"
        },
        {
          "data": {
            "image/png": "[encoded data removed]",
            "text/plain": [
              "<Figure size 3600x720 with 1 Axes>"
            ]
          },
          "metadata": {
            "needs_background": "light"
          },
          "output_type": "display_data"
        }
      ],
      "source": [
        "#membuat count plot\n",
        "plt.figure(figsize=(50,10))\n",
        "plt.subplot(1, 3, 1)\n",
        "sns.countplot(x='diabetes', data=data,hue='DEATH_EVENT')\n",
        "plt.title('kematian dan selamat terhadap diabetes')\n",
        "plt.xlabel('diabetes')\n",
        "plt.ylabel('Frequency')"
      ]
    },
    {
      "cell_type": "markdown",
      "metadata": {
        "id": "C-0CTQQubCGR"
      },
      "source": [
        "<p>Dilihat dari <b>visualisasi</b> pasien terkena diabetes lebih banyak yang tidak meninggal dari pada yang meninggal pada saat terkena diabetes"
      ]
    },
    {
      "cell_type": "markdown",
      "metadata": {
        "id": "I41ilUgB3O1R"
      },
      "source": [
        "<h1><b>ejection_fraction</h1></b>"
      ]
    },
    {
      "cell_type": "code",
      "execution_count": 267,
      "metadata": {
        "colab": {
          "base_uri": "https://localhost:8080/"
        },
        "id": "-yG77dh73w2Z",
        "outputId": "4cb1c5c2-8a70-4840-ba19-e71ccfbb6a48"
      },
      "outputs": [
        {
          "data": {
            "text/plain": [
              "array([15, 17, 20, 25, 30, 35, 38, 40, 45, 50, 55, 60, 62, 65, 70, 80, 14])"
            ]
          },
          "execution_count": 267,
          "metadata": {},
          "output_type": "execute_result"
        }
      ],
      "source": [
        "#cek column\n",
        "data['ejection_fraction'].unique()"
      ]
    },
    {
      "cell_type": "markdown",
      "metadata": {
        "id": "h7n5FLxI5XE9"
      },
      "source": [
        "Peneliti disini melihat sifat data agresion "
      ]
    },
    {
      "cell_type": "code",
      "execution_count": 268,
      "metadata": {
        "colab": {
          "base_uri": "https://localhost:8080/",
          "height": 298
        },
        "id": "iqtMPH624amI",
        "outputId": "6201dac8-7650-413e-a386-1cfb64794b52"
      },
      "outputs": [
        {
          "data": {
            "text/plain": [
              "<matplotlib.axes._subplots.AxesSubplot at 0x7f293f269c90>"
            ]
          },
          "execution_count": 268,
          "metadata": {},
          "output_type": "execute_result"
        },
        {
          "data": {
            "image/png": "[encoded data removed]",
            "text/plain": [
              "<Figure size 432x288 with 1 Axes>"
            ]
          },
          "metadata": {
            "needs_background": "light"
          },
          "output_type": "display_data"
        }
      ],
      "source": [
        "#membuat kde plot\n",
        "sns.kdeplot(data=data, x=\"ejection_fraction\", hue=\"DEATH_EVENT\", multiple=\"stack\")"
      ]
    },
    {
      "cell_type": "markdown",
      "metadata": {
        "id": "BlkzpXh45j9W"
      },
      "source": [
        "tingkat kematian kecil makin jumlah ejection_fraction membesar tetapi terlihat juga tingkat kesembuhan juga besar semakin ejection_fraction mengecil, <b>jadi peneliti melihat adannya bias disini</b>"
      ]
    },
    {
      "cell_type": "markdown",
      "metadata": {
        "id": "tgaFThxV48V1"
      },
      "source": [
        "<h1><b>high_blood_pressure</b></h1>"
      ]
    },
    {
      "cell_type": "code",
      "execution_count": 269,
      "metadata": {
        "colab": {
          "base_uri": "https://localhost:8080/"
        },
        "id": "5hogYd0e6fym",
        "outputId": "78840d5c-8bd3-4b97-86cf-5aaa25a441bf"
      },
      "outputs": [
        {
          "data": {
            "text/plain": [
              "array([0, 1])"
            ]
          },
          "execution_count": 269,
          "metadata": {},
          "output_type": "execute_result"
        }
      ],
      "source": [
        "#cek column\n",
        "data['high_blood_pressure'].unique()"
      ]
    },
    {
      "cell_type": "markdown",
      "metadata": {
        "id": "Bwp2jeBL6tEJ"
      },
      "source": [
        "Peneliti melihat column high_blood_pressure adalah column bersifat categori dimana <b>1 ada terkena high_blood_pressure</b> dan <b>0 tidak terkena high_blood_pressure</b>"
      ]
    },
    {
      "cell_type": "code",
      "execution_count": 270,
      "metadata": {
        "colab": {
          "base_uri": "https://localhost:8080/"
        },
        "id": "CucI2E3k6ybC",
        "outputId": "6c50f018-06d7-4184-e359-d3defe470598"
      },
      "outputs": [
        {
          "data": {
            "text/plain": [
              "array([213000.  , 271000.  , 327000.  , 418000.  , 279000.  , 237000.  ,\n",
              "       276000.  , 244000.  , 196000.  , 302000.  , 318000.  , 365000.  ,\n",
              "       274000.  , 427000.  , 297000.  , 263358.03, 153000.  , 395000.  ,\n",
              "       621000.  , 127000.  , 329000.  , 259000.  ,  62000.  , 404000.  ,\n",
              "       232000.  , 319000.  , 221000.  , 348000.  , 235000.  , 277000.  ,\n",
              "        75000.  , 305000.  , 268000.  , 371000.  , 533000.  , 231000.  ,\n",
              "       236000.  , 255000.  , 162000.  , 228000.  , 192000.  , 294000.  ,\n",
              "       215000.  , 422000.  , 451000.  , 390000.  , 270000.  , 216000.  ,\n",
              "       293000.  , 164000.  , 229000.  , 201000.  , 226000.  , 283000.  ,\n",
              "       257000.  , 220000.  , 223000.  , 324000.  , 275000.  , 362000.  ,\n",
              "       321000.  , 351000.  , 286000.  , 132000.  , 358000.  ,  87000.  ,\n",
              "       543000.  , 222000.  , 194000.  , 317000.  , 507000.  , 203000.  ,\n",
              "       300000.  , 172000.  , 309000.  , 265000.  , 208000.  , 742000.  ,\n",
              "       151000.  , 166000.  , 389000.  , 210000.  , 140000.  , 254000.  ,\n",
              "       119000.  , 266000.  , 204000.  ,  70000.  , 189000.  , 126000.  ,\n",
              "       253000.  , 497000.  , 181000.  , 298000.  , 149000.  , 252000.  ,\n",
              "       338000.  , 262000.  , 219000.  , 212000.  , 130000.  , 504000.  ,\n",
              "       314000.  , 246000.  , 233000.  , 198000.  , 136000.  , 200000.  ,\n",
              "       461000.  , 267000.  , 211000.  , 218000.  , 225000.  , 334000.  ,\n",
              "       303000.  , 160000.  , 173000.  , 249000.  , 150000.  , 388000.  ,\n",
              "       289000.  , 385000.  , 122000.  , 243000.  , 850000.  , 227000.  ,\n",
              "       174000.  , 281000.  , 350000.  , 290000.  , 141000.  , 185000.  ,\n",
              "       301000.  , 133000.  , 179000.  , 368000.  , 310000.  , 304000.  ,\n",
              "       224000.  , 186000.  , 330000.  , 264000.  , 282000.  , 147000.  ,\n",
              "        25100.  , 382000.  , 155000.  , 374000.  , 328000.  , 217000.  ,\n",
              "       242000.  , 448000.  , 325000.  , 105000.  , 260000.  , 241000.  ,\n",
              "        51000.  , 336000.  , 284000.  , 360000.  , 263000.  , 250000.  ,\n",
              "       184000.  ,  73000.  ,  47000.  , 188000.  , 406000.  , 481000.  ,\n",
              "       248000.  , 308000.  , 454000.  , 306000.  , 295000.  , 176000.  ,\n",
              "       337000.  , 377000.  ])"
            ]
          },
          "execution_count": 270,
          "metadata": {},
          "output_type": "execute_result"
        }
      ],
      "source": [
        "#cek column\n",
        "data['platelets'].unique()"
      ]
    },
    {
      "cell_type": "markdown",
      "metadata": {
        "id": "MB1Vx9Hz7IG5"
      },
      "source": [
        "<p>Setelah peneliti lihat ini adalah <b>data jumlah platelets</b></p>"
      ]
    },
    {
      "cell_type": "code",
      "execution_count": 271,
      "metadata": {
        "colab": {
          "base_uri": "https://localhost:8080/",
          "height": 407
        },
        "id": "SADD_A1pX5Ge",
        "outputId": "45f05306-2b58-4994-b6c1-10d8ca9f177b"
      },
      "outputs": [
        {
          "data": {
            "image/png": "[encoded data removed]",
            "text/plain": [
              "<Figure size 1440x432 with 1 Axes>"
            ]
          },
          "metadata": {
            "needs_background": "light"
          },
          "output_type": "display_data"
        }
      ],
      "source": [
        "#membuat bar dan boxplot\n",
        "plt.figure(figsize=(20, 6))\n",
        "plt.subplot(1, 2, 2)\n",
        "sns.boxplot(x='DEATH_EVENT', y='platelets', data=data, hue='DEATH_EVENT')\n",
        "plt.title('platelets Distribution per DEATH_EVENT')\n",
        "plt.xlabel('DEATH_EVENT')\n",
        "plt.ylabel('platelets')\n",
        "plt.xticks(rotation=45)\n",
        "plt.show()\n"
      ]
    },
    {
      "cell_type": "markdown",
      "metadata": {
        "id": "9ul3C94ZdwQv"
      },
      "source": [
        "Dari <b>boxplot</b> ini dapat diketahui bahwa <b>tidak ada hubungan linear</b> antara kolom <b>platelets</b> dengan kematian,karena di box terlihat sama sejajar dan kesembuhan lebih banyak"
      ]
    },
    {
      "cell_type": "markdown",
      "metadata": {
        "id": "RtB-6j96-kcT"
      },
      "source": []
    },
    {
      "cell_type": "code",
      "execution_count": 272,
      "metadata": {
        "colab": {
          "base_uri": "https://localhost:8080/",
          "height": 640
        },
        "id": "WUUzun_f-iXB",
        "outputId": "d94bc8fe-5f9d-433b-b195-0db749570db3"
      },
      "outputs": [
        {
          "data": {
            "text/plain": [
              "Text(0, 0.5, 'Frequency')"
            ]
          },
          "execution_count": 272,
          "metadata": {},
          "output_type": "execute_result"
        },
        {
          "data": {
            "image/png": "[encoded data removed]",
            "text/plain": [
              "<Figure size 3600x720 with 1 Axes>"
            ]
          },
          "metadata": {
            "needs_background": "light"
          },
          "output_type": "display_data"
        }
      ],
      "source": [
        "#membuat count plot\n",
        "plt.figure(figsize=(50,10))\n",
        "plt.subplot(1, 3, 1)\n",
        "sns.countplot(x='high_blood_pressure', data=data,hue='DEATH_EVENT')\n",
        "plt.title('kematian dan selamat terhadap high_blood_pressure')\n",
        "plt.xlabel('high_blood_pressure')\n",
        "plt.ylabel('Frequency')"
      ]
    },
    {
      "cell_type": "markdown",
      "metadata": {
        "id": "eZJo4O6QAurA"
      },
      "source": [
        "<p>Dilihat dari <b>visualisasi</b> pasien terkena high_blood_pressure lebih banyak yang tidak meninggal dari pada yang meninggal pada saat terkena high_blood_pressure"
      ]
    },
    {
      "cell_type": "markdown",
      "metadata": {
        "id": "i_ZMWfbje0IM"
      },
      "source": [
        "<h1><b>serum_creatinine</b></h1>"
      ]
    },
    {
      "cell_type": "code",
      "execution_count": 273,
      "metadata": {
        "colab": {
          "base_uri": "https://localhost:8080/"
        },
        "id": "juhaPI7HBEmM",
        "outputId": "09167fbc-ab2d-44f8-c6d8-3cfbacdc868b"
      },
      "outputs": [
        {
          "data": {
            "text/plain": [
              "array([1.3 , 2.1 , 2.7 , 1.4 , 1.  , 1.2 , 2.5 , 5.  , 1.6 , 1.83, 1.7 ,\n",
              "       0.9 , 0.8 , 0.5 , 0.7 , 1.1 , 3.  , 2.2 , 0.75, 1.18, 2.3 , 0.6 ,\n",
              "       1.9 , 3.2 , 1.5 , 6.8 , 9.  , 4.4 , 2.9 , 2.4 , 3.5 , 2.  , 3.8 ,\n",
              "       9.4 , 3.4 , 1.8 , 4.  , 5.8 , 3.7 , 6.1 ])"
            ]
          },
          "execution_count": 273,
          "metadata": {},
          "output_type": "execute_result"
        }
      ],
      "source": [
        "#cek isi kategori column serum_creatinine\n",
        "data['serum_creatinine'].unique()"
      ]
    },
    {
      "cell_type": "markdown",
      "metadata": {
        "id": "SYnaiobuBQX1"
      },
      "source": [
        "Setelah peneliti lihat ini adalah data jumlah serum_creatinine"
      ]
    },
    {
      "cell_type": "code",
      "execution_count": 274,
      "metadata": {
        "colab": {
          "base_uri": "https://localhost:8080/",
          "height": 395
        },
        "id": "R0b4qHpxifV-",
        "outputId": "55abcdd5-b079-4cab-c017-67a210f14b88"
      },
      "outputs": [
        {
          "data": {
            "image/png": "[encoded data removed]",
            "text/plain": [
              "<Figure size 1440x432 with 2 Axes>"
            ]
          },
          "metadata": {
            "needs_background": "light"
          },
          "output_type": "display_data"
        }
      ],
      "source": [
        "#membuat bar dan boxplot\n",
        "plt.figure(figsize=(20, 6))\n",
        "plt.subplot(1, 2, 1)\n",
        "te = sns.countplot(x='serum_creatinine', data=data, order=data.serum_creatinine.value_counts().index)\n",
        "for p in te.patches:\n",
        "    te.annotate(f'{p.get_height()}', (p.get_x() + p.get_width() / 2., p.get_height()), ha='center', va='center', xytext=(0, 10), textcoords='offset points')\n",
        "plt.title('Number of serum_creatinine')\n",
        "plt.xlabel('serum_creatinine')\n",
        "plt.ylabel('Frequency')\n",
        "plt.xticks(rotation=45)\n",
        "plt.subplot(1, 2, 2)\n",
        "sns.boxplot(x='DEATH_EVENT', y='serum_creatinine', data=data, hue='DEATH_EVENT')\n",
        "plt.title('serum_creatinine Distribution per DEATH_EVENT')\n",
        "plt.xlabel('DEATH_EVENT')\n",
        "plt.ylabel('serum_creatinine')\n",
        "plt.xticks(rotation=45)\n",
        "plt.show()"
      ]
    },
    {
      "cell_type": "markdown",
      "metadata": {
        "id": "O3VWXQDunI38"
      },
      "source": [
        "ada pergerakan di boxplot terhadap kematian, makin tinggi serum_creatinine makin tinggi kematian"
      ]
    },
    {
      "cell_type": "markdown",
      "metadata": {
        "id": "hdDtRt58sLB5"
      },
      "source": [
        "<h1><b>serum_sodium </b></h1>"
      ]
    },
    {
      "cell_type": "code",
      "execution_count": 275,
      "metadata": {
        "colab": {
          "base_uri": "https://localhost:8080/"
        },
        "id": "BpdPJl0SCquJ",
        "outputId": "add9dd5b-e5c0-424c-de53-a546db54a54a"
      },
      "outputs": [
        {
          "data": {
            "text/plain": [
              "0      136\n",
              "1      124\n",
              "2      116\n",
              "3      139\n",
              "4      134\n",
              "      ... \n",
              "294    145\n",
              "295    136\n",
              "296    138\n",
              "297    139\n",
              "298    140\n",
              "Name: serum_sodium, Length: 299, dtype: int64"
            ]
          },
          "execution_count": 275,
          "metadata": {},
          "output_type": "execute_result"
        }
      ],
      "source": [
        "#cek dataset\n",
        "data['serum_sodium']"
      ]
    },
    {
      "cell_type": "markdown",
      "metadata": {
        "id": "tOB3V9kNC67M"
      },
      "source": [
        "Setelah peneliti lihat ini adalah data jumlah serum_sodium"
      ]
    },
    {
      "cell_type": "code",
      "execution_count": 276,
      "metadata": {
        "colab": {
          "base_uri": "https://localhost:8080/",
          "height": 407
        },
        "id": "U9qNVTx3zdzn",
        "outputId": "920d1031-eb85-40a0-edc8-bba9a907b633"
      },
      "outputs": [
        {
          "data": {
            "image/png": "[encoded data removed]",
            "text/plain": [
              "<Figure size 2880x432 with 1 Axes>"
            ]
          },
          "metadata": {
            "needs_background": "light"
          },
          "output_type": "display_data"
        }
      ],
      "source": [
        "#membuat boxplot\n",
        "plt.figure(figsize=(40, 6))\n",
        "plt.subplot(1, 2, 2)\n",
        "sns.boxplot(x='DEATH_EVENT', y='serum_sodium', data=data, hue='DEATH_EVENT')\n",
        "plt.title('distribusi pemberian serum_sodium  kepada DEATH_EVENT')\n",
        "plt.xlabel('DEATH_EVENT')\n",
        "plt.ylabel('serum_sodium')\n",
        "plt.xticks(rotation=45)\n",
        "plt.show()\n",
        "\n"
      ]
    },
    {
      "cell_type": "markdown",
      "metadata": {
        "id": "vl1QB_g355IK"
      },
      "source": [
        "<p>dilihat dari <b>boxplot</b> pemberian banyak sodium terlihat banyak pasies selamat"
      ]
    },
    {
      "cell_type": "markdown",
      "metadata": {
        "id": "Lx-lBgVC6mZp"
      },
      "source": [
        "<b><h1>sex,smoking</h1></b>"
      ]
    },
    {
      "cell_type": "code",
      "execution_count": 277,
      "metadata": {
        "colab": {
          "base_uri": "https://localhost:8080/"
        },
        "id": "lqUVf5eMEfug",
        "outputId": "69d5847a-9e4e-4657-9ef9-1726fd29e800"
      },
      "outputs": [
        {
          "data": {
            "text/plain": [
              "array([0, 1])"
            ]
          },
          "execution_count": 277,
          "metadata": {},
          "output_type": "execute_result"
        }
      ],
      "source": [
        "#cek column\n",
        "data['sex'].unique()"
      ]
    },
    {
      "cell_type": "code",
      "execution_count": 278,
      "metadata": {
        "colab": {
          "base_uri": "https://localhost:8080/"
        },
        "id": "Y9tuJCguE0qD",
        "outputId": "2c137397-4b06-48f2-bd17-7c46880d1fa7"
      },
      "outputs": [
        {
          "data": {
            "text/plain": [
              "array([0, 1])"
            ]
          },
          "execution_count": 278,
          "metadata": {},
          "output_type": "execute_result"
        }
      ],
      "source": [
        "data['smoking'].unique()"
      ]
    },
    {
      "cell_type": "markdown",
      "metadata": {
        "id": "R2K689fEE2dr"
      },
      "source": [
        "untuk colum sex dan smoking bersifat kategori,\n",
        "<li>untuk sex , 1 adalah laki-laki\n",
        "<li>untuk sex , 0 adalah perempuan\n",
        "<li>untuk smoking,1 adalah smoking\n",
        "<li>untuk smoking,0 adalah tidak smoking"
      ]
    },
    {
      "cell_type": "code",
      "execution_count": 279,
      "metadata": {
        "colab": {
          "base_uri": "https://localhost:8080/",
          "height": 400
        },
        "id": "WFPeePFLIa5T",
        "outputId": "32e3e288-e186-4184-b5a0-10955d10d00f"
      },
      "outputs": [
        {
          "data": {
            "image/png": "[encoded data removed]",
            "text/plain": [
              "<Figure size 1800x432 with 1 Axes>"
            ]
          },
          "metadata": {
            "needs_background": "light"
          },
          "output_type": "display_data"
        }
      ],
      "source": [
        "#Membuat Plot hubungan dengan default_payment_next_month\n",
        "plt.figure(figsize=(25,6))\n",
        "plt.subplot(1, 3, 3)\n",
        "sns.boxplot(x='sex', y='smoking', data=data, hue='DEATH_EVENT')\n",
        "plt.title('DEATH_EVENT Distribution per marital status sex dan smokin')\n",
        "plt.xlabel('sex status')\n",
        "plt.ylabel('smoking')\n",
        "plt.xticks(rotation=90)\n",
        "plt.show()"
      ]
    },
    {
      "cell_type": "markdown",
      "metadata": {
        "id": "KLARVmgJJ5aC"
      },
      "source": [
        "tidak ada corelasi antara umur dan status merokok kepada kematian"
      ]
    },
    {
      "cell_type": "markdown",
      "metadata": {
        "id": "LlIk0_KvKB3K"
      },
      "source": [
        "<b><h1>Time</h1></b>"
      ]
    },
    {
      "cell_type": "code",
      "execution_count": 280,
      "metadata": {
        "colab": {
          "base_uri": "https://localhost:8080/"
        },
        "id": "MffmPmEDKJPq",
        "outputId": "d0e5f683-af30-4ecf-9598-e34350a3abe3"
      },
      "outputs": [
        {
          "data": {
            "text/plain": [
              "array([ 65, 100,   8,  43, 186,  15,  16,  66,  77,  78,  85, 172, 207,\n",
              "        12,  20,  23,  29,  32,  42,  88,  95, 109, 193, 214, 246,  28,\n",
              "       108, 120, 126, 145, 187, 197, 212, 215, 245, 256,  30,  45,  83,\n",
              "       130, 185, 220, 244, 271,  24,  60,  75,  86,  91, 107, 110, 140,\n",
              "       210, 213, 233,  74, 115, 174,  44,  87,  97, 147, 196, 250, 257,\n",
              "        33,  82,  90,  94, 104, 205, 237, 278,  10,  63,  14, 188,   4,\n",
              "         7,  31,  41,  55,  59,  64,  73, 135, 146, 180, 198, 241,  38,\n",
              "        67,  79, 111, 150, 154, 170, 201, 230, 235,  11,  26,  50, 112,\n",
              "       113, 129, 148, 171, 216,  54,  61,  71,  72, 105, 119, 121, 194,\n",
              "       195, 206, 208, 209, 240, 258, 270,   6,  27,  35,  40, 162, 280,\n",
              "        68,  96, 123, 175, 247,  80, 118, 211, 285,  13,  76, 192, 200,\n",
              "       231,  22, 106, 117, 134])"
            ]
          },
          "execution_count": 280,
          "metadata": {},
          "output_type": "execute_result"
        }
      ],
      "source": [
        "data['time'].unique()"
      ]
    },
    {
      "cell_type": "markdown",
      "metadata": {
        "id": "mOuW9xGRK0yg"
      },
      "source": [
        "<p>berikut adalah data periode dirawat</p>"
      ]
    },
    {
      "cell_type": "code",
      "execution_count": 281,
      "metadata": {
        "colab": {
          "base_uri": "https://localhost:8080/",
          "height": 407
        },
        "id": "XA9Gon5BK9YP",
        "outputId": "23a95e95-3d67-40a6-8011-f17028b64d8d"
      },
      "outputs": [
        {
          "data": {
            "image/png": "[encoded data removed]",
            "text/plain": [
              "<Figure size 2880x432 with 1 Axes>"
            ]
          },
          "metadata": {
            "needs_background": "light"
          },
          "output_type": "display_data"
        }
      ],
      "source": [
        "#membuat boxplot\n",
        "plt.figure(figsize=(40, 6))\n",
        "plt.subplot(1, 2, 2)\n",
        "sns.boxplot(x='DEATH_EVENT', y='time', data=data, hue='DEATH_EVENT')\n",
        "plt.title('distribusi perioder dirawat  kepada DEATH_EVENT')\n",
        "plt.xlabel('DEATH_EVENT')\n",
        "plt.ylabel('time')\n",
        "plt.xticks(rotation=45)\n",
        "plt.show()"
      ]
    },
    {
      "cell_type": "markdown",
      "metadata": {
        "id": "lVwVvYmVLIon"
      },
      "source": [
        "terlihat ada korelasi makin lama dirawat makin ada kesempatan untuk sembuh..feature ini akan dipakai nantinnya"
      ]
    },
    {
      "cell_type": "markdown",
      "metadata": {
        "id": "w4yzuPnQFDuq"
      },
      "source": [
        "<h1><b>C-MAP</b></h1>"
      ]
    },
    {
      "cell_type": "code",
      "execution_count": 282,
      "metadata": {
        "colab": {
          "base_uri": "https://localhost:8080/",
          "height": 477
        },
        "id": "tLGZGzCeAJ-t",
        "outputId": "b4f3c287-2843-4e81-fc3f-8e75d7da956e"
      },
      "outputs": [
        {
          "data": {
            "text/html": [
              "<style type=\"text/css\">\n",
              "#T_8edfa_row0_col0, #T_8edfa_row1_col1, #T_8edfa_row2_col2, #T_8edfa_row3_col3, #T_8edfa_row4_col4, #T_8edfa_row5_col5, #T_8edfa_row6_col6, #T_8edfa_row7_col7, #T_8edfa_row8_col8, #T_8edfa_row9_col9, #T_8edfa_row10_col10, #T_8edfa_row11_col11, #T_8edfa_row12_col12 {\n",
              "  background-color: #b40426;\n",
              "  color: #f1f1f1;\n",
              "}\n",
              "#T_8edfa_row0_col1, #T_8edfa_row4_col0, #T_8edfa_row5_col4, #T_8edfa_row12_col5 {\n",
              "  background-color: #86a9fc;\n",
              "  color: #f1f1f1;\n",
              "}\n",
              "#T_8edfa_row0_col2 {\n",
              "  background-color: #5673e0;\n",
              "  color: #f1f1f1;\n",
              "}\n",
              "#T_8edfa_row0_col3 {\n",
              "  background-color: #4961d2;\n",
              "  color: #f1f1f1;\n",
              "}\n",
              "#T_8edfa_row0_col4, #T_8edfa_row5_col0 {\n",
              "  background-color: #90b2fe;\n",
              "  color: #000000;\n",
              "}\n",
              "#T_8edfa_row0_col5 {\n",
              "  background-color: #89acfd;\n",
              "  color: #000000;\n",
              "}\n",
              "#T_8edfa_row0_col6 {\n",
              "  background-color: #4e68d8;\n",
              "  color: #f1f1f1;\n",
              "}\n",
              "#T_8edfa_row0_col7 {\n",
              "  background-color: #9bbcff;\n",
              "  color: #000000;\n",
              "}\n",
              "#T_8edfa_row0_col8, #T_8edfa_row4_col2, #T_8edfa_row6_col1, #T_8edfa_row6_col7, #T_8edfa_row11_col9 {\n",
              "  background-color: #6180e9;\n",
              "  color: #f1f1f1;\n",
              "}\n",
              "#T_8edfa_row0_col9, #T_8edfa_row3_col6, #T_8edfa_row5_col1, #T_8edfa_row5_col8, #T_8edfa_row8_col5 {\n",
              "  background-color: #799cf8;\n",
              "  color: #f1f1f1;\n",
              "}\n",
              "#T_8edfa_row0_col10, #T_8edfa_row2_col7, #T_8edfa_row7_col2, #T_8edfa_row8_col0 {\n",
              "  background-color: #688aef;\n",
              "  color: #f1f1f1;\n",
              "}\n",
              "#T_8edfa_row0_col11, #T_8edfa_row1_col5, #T_8edfa_row1_col8, #T_8edfa_row8_col1, #T_8edfa_row10_col0 {\n",
              "  background-color: #7a9df8;\n",
              "  color: #f1f1f1;\n",
              "}\n",
              "#T_8edfa_row0_col12 {\n",
              "  background-color: #dfdbd9;\n",
              "  color: #000000;\n",
              "}\n",
              "#T_8edfa_row1_col0 {\n",
              "  background-color: #8fb1fe;\n",
              "  color: #000000;\n",
              "}\n",
              "#T_8edfa_row1_col2, #T_8edfa_row2_col1, #T_8edfa_row3_col9, #T_8edfa_row3_col10, #T_8edfa_row8_col7, #T_8edfa_row9_col3, #T_8edfa_row9_col6, #T_8edfa_row11_col0, #T_8edfa_row11_col5, #T_8edfa_row11_col12, #T_8edfa_row12_col4, #T_8edfa_row12_col8, #T_8edfa_row12_col11 {\n",
              "  background-color: #3b4cc0;\n",
              "  color: #f1f1f1;\n",
              "}\n",
              "#T_8edfa_row1_col3, #T_8edfa_row2_col3, #T_8edfa_row5_col3 {\n",
              "  background-color: #6282ea;\n",
              "  color: #f1f1f1;\n",
              "}\n",
              "#T_8edfa_row1_col4, #T_8edfa_row9_col0, #T_8edfa_row11_col8 {\n",
              "  background-color: #88abfd;\n",
              "  color: #000000;\n",
              "}\n",
              "#T_8edfa_row1_col6 {\n",
              "  background-color: #506bda;\n",
              "  color: #f1f1f1;\n",
              "}\n",
              "#T_8edfa_row1_col7, #T_8edfa_row7_col4 {\n",
              "  background-color: #7b9ff9;\n",
              "  color: #f1f1f1;\n",
              "}\n",
              "#T_8edfa_row1_col9 {\n",
              "  background-color: #4a63d3;\n",
              "  color: #f1f1f1;\n",
              "}\n",
              "#T_8edfa_row1_col10, #T_8edfa_row11_col7 {\n",
              "  background-color: #445acc;\n",
              "  color: #f1f1f1;\n",
              "}\n",
              "#T_8edfa_row1_col11 {\n",
              "  background-color: #8db0fe;\n",
              "  color: #000000;\n",
              "}\n",
              "#T_8edfa_row1_col12, #T_8edfa_row12_col0 {\n",
              "  background-color: #bcd2f7;\n",
              "  color: #000000;\n",
              "}\n",
              "#T_8edfa_row2_col0 {\n",
              "  background-color: #5e7de7;\n",
              "  color: #f1f1f1;\n",
              "}\n",
              "#T_8edfa_row2_col4 {\n",
              "  background-color: #7396f5;\n",
              "  color: #f1f1f1;\n",
              "}\n",
              "#T_8edfa_row2_col5, #T_8edfa_row7_col10 {\n",
              "  background-color: #5a78e4;\n",
              "  color: #f1f1f1;\n",
              "}\n",
              "#T_8edfa_row2_col6, #T_8edfa_row10_col6, #T_8edfa_row10_col7, #T_8edfa_row12_col3 {\n",
              "  background-color: #6485ec;\n",
              "  color: #f1f1f1;\n",
              "}\n",
              "#T_8edfa_row2_col8, #T_8edfa_row12_col2 {\n",
              "  background-color: #80a3fa;\n",
              "  color: #f1f1f1;\n",
              "}\n",
              "#T_8edfa_row2_col9, #T_8edfa_row6_col5, #T_8edfa_row7_col1 {\n",
              "  background-color: #7da0f9;\n",
              "  color: #f1f1f1;\n",
              "}\n",
              "#T_8edfa_row2_col10, #T_8edfa_row4_col3, #T_8edfa_row8_col10, #T_8edfa_row12_col9 {\n",
              "  background-color: #6384eb;\n",
              "  color: #f1f1f1;\n",
              "}\n",
              "#T_8edfa_row2_col11, #T_8edfa_row10_col12 {\n",
              "  background-color: #abc8fd;\n",
              "  color: #000000;\n",
              "}\n",
              "#T_8edfa_row2_col12 {\n",
              "  background-color: #bbd1f8;\n",
              "  color: #000000;\n",
              "}\n",
              "#T_8edfa_row3_col0, #T_8edfa_row5_col2 {\n",
              "  background-color: #5977e3;\n",
              "  color: #f1f1f1;\n",
              "}\n",
              "#T_8edfa_row3_col1, #T_8edfa_row3_col2, #T_8edfa_row4_col7, #T_8edfa_row11_col2 {\n",
              "  background-color: #6a8bef;\n",
              "  color: #f1f1f1;\n",
              "}\n",
              "#T_8edfa_row3_col4, #T_8edfa_row8_col2 {\n",
              "  background-color: #7ea1fa;\n",
              "  color: #f1f1f1;\n",
              "}\n",
              "#T_8edfa_row3_col5, #T_8edfa_row5_col6, #T_8edfa_row5_col7, #T_8edfa_row6_col10 {\n",
              "  background-color: #6b8df0;\n",
              "  color: #f1f1f1;\n",
              "}\n",
              "#T_8edfa_row3_col7, #T_8edfa_row10_col5, #T_8edfa_row11_col6, #T_8edfa_row12_col10 {\n",
              "  background-color: #5f7fe8;\n",
              "  color: #f1f1f1;\n",
              "}\n",
              "#T_8edfa_row3_col8 {\n",
              "  background-color: #5572df;\n",
              "  color: #f1f1f1;\n",
              "}\n",
              "#T_8edfa_row3_col11 {\n",
              "  background-color: #b6cefa;\n",
              "  color: #000000;\n",
              "}\n",
              "#T_8edfa_row3_col12 {\n",
              "  background-color: #aec9fc;\n",
              "  color: #000000;\n",
              "}\n",
              "#T_8edfa_row4_col1, #T_8edfa_row4_col5 {\n",
              "  background-color: #7699f6;\n",
              "  color: #f1f1f1;\n",
              "}\n",
              "#T_8edfa_row4_col6 {\n",
              "  background-color: #7295f4;\n",
              "  color: #f1f1f1;\n",
              "}\n",
              "#T_8edfa_row4_col8 {\n",
              "  background-color: #a2c1ff;\n",
              "  color: #000000;\n",
              "}\n",
              "#T_8edfa_row4_col9, #T_8edfa_row10_col3 {\n",
              "  background-color: #3d50c3;\n",
              "  color: #f1f1f1;\n",
              "}\n",
              "#T_8edfa_row4_col10, #T_8edfa_row10_col1, #T_8edfa_row12_col6 {\n",
              "  background-color: #4f69d9;\n",
              "  color: #f1f1f1;\n",
              "}\n",
              "#T_8edfa_row4_col11 {\n",
              "  background-color: #b7cff9;\n",
              "  color: #000000;\n",
              "}\n",
              "#T_8edfa_row4_col12 {\n",
              "  background-color: #7093f3;\n",
              "  color: #f1f1f1;\n",
              "}\n",
              "#T_8edfa_row5_col9 {\n",
              "  background-color: #485fd1;\n",
              "  color: #f1f1f1;\n",
              "}\n",
              "#T_8edfa_row5_col10, #T_8edfa_row9_col1 {\n",
              "  background-color: #536edd;\n",
              "  color: #f1f1f1;\n",
              "}\n",
              "#T_8edfa_row5_col11, #T_8edfa_row6_col3, #T_8edfa_row6_col8, #T_8edfa_row8_col12, #T_8edfa_row12_col1 {\n",
              "  background-color: #81a4fb;\n",
              "  color: #f1f1f1;\n",
              "}\n",
              "#T_8edfa_row5_col12 {\n",
              "  background-color: #bfd3f6;\n",
              "  color: #000000;\n",
              "}\n",
              "#T_8edfa_row6_col0, #T_8edfa_row9_col8 {\n",
              "  background-color: #6687ed;\n",
              "  color: #f1f1f1;\n",
              "}\n",
              "#T_8edfa_row6_col2 {\n",
              "  background-color: #7597f6;\n",
              "  color: #f1f1f1;\n",
              "}\n",
              "#T_8edfa_row6_col4 {\n",
              "  background-color: #93b5fe;\n",
              "  color: #000000;\n",
              "}\n",
              "#T_8edfa_row6_col9 {\n",
              "  background-color: #4358cb;\n",
              "  color: #f1f1f1;\n",
              "}\n",
              "#T_8edfa_row6_col11 {\n",
              "  background-color: #b1cbfc;\n",
              "  color: #000000;\n",
              "}\n",
              "#T_8edfa_row6_col12, #T_8edfa_row7_col0 {\n",
              "  background-color: #a3c2fe;\n",
              "  color: #000000;\n",
              "}\n",
              "#T_8edfa_row7_col3, #T_8edfa_row9_col4 {\n",
              "  background-color: #5875e1;\n",
              "  color: #f1f1f1;\n",
              "}\n",
              "#T_8edfa_row7_col5, #T_8edfa_row10_col4 {\n",
              "  background-color: #6c8ff1;\n",
              "  color: #f1f1f1;\n",
              "}\n",
              "#T_8edfa_row7_col6, #T_8edfa_row9_col5 {\n",
              "  background-color: #516ddb;\n",
              "  color: #f1f1f1;\n",
              "}\n",
              "#T_8edfa_row7_col8 {\n",
              "  background-color: #3c4ec2;\n",
              "  color: #f1f1f1;\n",
              "}\n",
              "#T_8edfa_row7_col9 {\n",
              "  background-color: #6788ee;\n",
              "  color: #f1f1f1;\n",
              "}\n",
              "#T_8edfa_row7_col11 {\n",
              "  background-color: #8caffe;\n",
              "  color: #000000;\n",
              "}\n",
              "#T_8edfa_row7_col12 {\n",
              "  background-color: #e6d7cf;\n",
              "  color: #000000;\n",
              "}\n",
              "#T_8edfa_row8_col3 {\n",
              "  background-color: #4c66d6;\n",
              "  color: #f1f1f1;\n",
              "}\n",
              "#T_8edfa_row8_col4 {\n",
              "  background-color: #afcafc;\n",
              "  color: #000000;\n",
              "}\n",
              "#T_8edfa_row8_col6, #T_8edfa_row9_col7, #T_8edfa_row10_col8, #T_8edfa_row11_col3 {\n",
              "  background-color: #6f92f3;\n",
              "  color: #f1f1f1;\n",
              "}\n",
              "#T_8edfa_row8_col9 {\n",
              "  background-color: #5d7ce6;\n",
              "  color: #f1f1f1;\n",
              "}\n",
              "#T_8edfa_row8_col11 {\n",
              "  background-color: #c1d4f4;\n",
              "  color: #000000;\n",
              "}\n",
              "#T_8edfa_row9_col2 {\n",
              "  background-color: #85a8fc;\n",
              "  color: #f1f1f1;\n",
              "}\n",
              "#T_8edfa_row9_col10 {\n",
              "  background-color: #e1dad6;\n",
              "  color: #000000;\n",
              "}\n",
              "#T_8edfa_row9_col11 {\n",
              "  background-color: #aac7fd;\n",
              "  color: #000000;\n",
              "}\n",
              "#T_8edfa_row9_col12 {\n",
              "  background-color: #adc9fd;\n",
              "  color: #000000;\n",
              "}\n",
              "#T_8edfa_row10_col2 {\n",
              "  background-color: #6e90f2;\n",
              "  color: #f1f1f1;\n",
              "}\n",
              "#T_8edfa_row10_col9 {\n",
              "  background-color: #e2dad5;\n",
              "  color: #000000;\n",
              "}\n",
              "#T_8edfa_row10_col11 {\n",
              "  background-color: #a9c6fd;\n",
              "  color: #000000;\n",
              "}\n",
              "#T_8edfa_row11_col1 {\n",
              "  background-color: #465ecf;\n",
              "  color: #f1f1f1;\n",
              "}\n",
              "#T_8edfa_row11_col4 {\n",
              "  background-color: #8badfd;\n",
              "  color: #000000;\n",
              "}\n",
              "#T_8edfa_row11_col10 {\n",
              "  background-color: #5b7ae5;\n",
              "  color: #f1f1f1;\n",
              "}\n",
              "#T_8edfa_row12_col7 {\n",
              "  background-color: #c3d5f4;\n",
              "  color: #000000;\n",
              "}\n",
              "</style>\n",
              "<table id=\"T_8edfa_\" class=\"dataframe\">\n",
              "  <thead>\n",
              "    <tr>\n",
              "      <th class=\"blank level0\" >&nbsp;</th>\n",
              "      <th class=\"col_heading level0 col0\" >age</th>\n",
              "      <th class=\"col_heading level0 col1\" >anaemia</th>\n",
              "      <th class=\"col_heading level0 col2\" >creatinine_phosphokinase</th>\n",
              "      <th class=\"col_heading level0 col3\" >diabetes</th>\n",
              "      <th class=\"col_heading level0 col4\" >ejection_fraction</th>\n",
              "      <th class=\"col_heading level0 col5\" >high_blood_pressure</th>\n",
              "      <th class=\"col_heading level0 col6\" >platelets</th>\n",
              "      <th class=\"col_heading level0 col7\" >serum_creatinine</th>\n",
              "      <th class=\"col_heading level0 col8\" >serum_sodium</th>\n",
              "      <th class=\"col_heading level0 col9\" >sex</th>\n",
              "      <th class=\"col_heading level0 col10\" >smoking</th>\n",
              "      <th class=\"col_heading level0 col11\" >time</th>\n",
              "      <th class=\"col_heading level0 col12\" >DEATH_EVENT</th>\n",
              "    </tr>\n",
              "  </thead>\n",
              "  <tbody>\n",
              "    <tr>\n",
              "      <th id=\"T_8edfa_level0_row0\" class=\"row_heading level0 row0\" >age</th>\n",
              "      <td id=\"T_8edfa_row0_col0\" class=\"data row0 col0\" >1.000000</td>\n",
              "      <td id=\"T_8edfa_row0_col1\" class=\"data row0 col1\" >0.088006</td>\n",
              "      <td id=\"T_8edfa_row0_col2\" class=\"data row0 col2\" >-0.081584</td>\n",
              "      <td id=\"T_8edfa_row0_col3\" class=\"data row0 col3\" >-0.101012</td>\n",
              "      <td id=\"T_8edfa_row0_col4\" class=\"data row0 col4\" >0.060098</td>\n",
              "      <td id=\"T_8edfa_row0_col5\" class=\"data row0 col5\" >0.093289</td>\n",
              "      <td id=\"T_8edfa_row0_col6\" class=\"data row0 col6\" >-0.052354</td>\n",
              "      <td id=\"T_8edfa_row0_col7\" class=\"data row0 col7\" >0.159187</td>\n",
              "      <td id=\"T_8edfa_row0_col8\" class=\"data row0 col8\" >-0.045966</td>\n",
              "      <td id=\"T_8edfa_row0_col9\" class=\"data row0 col9\" >0.065430</td>\n",
              "      <td id=\"T_8edfa_row0_col10\" class=\"data row0 col10\" >0.018668</td>\n",
              "      <td id=\"T_8edfa_row0_col11\" class=\"data row0 col11\" >-0.224068</td>\n",
              "      <td id=\"T_8edfa_row0_col12\" class=\"data row0 col12\" >0.253729</td>\n",
              "    </tr>\n",
              "    <tr>\n",
              "      <th id=\"T_8edfa_level0_row1\" class=\"row_heading level0 row1\" >anaemia</th>\n",
              "      <td id=\"T_8edfa_row1_col0\" class=\"data row1 col0\" >0.088006</td>\n",
              "      <td id=\"T_8edfa_row1_col1\" class=\"data row1 col1\" >1.000000</td>\n",
              "      <td id=\"T_8edfa_row1_col2\" class=\"data row1 col2\" >-0.190741</td>\n",
              "      <td id=\"T_8edfa_row1_col3\" class=\"data row1 col3\" >-0.012729</td>\n",
              "      <td id=\"T_8edfa_row1_col4\" class=\"data row1 col4\" >0.031557</td>\n",
              "      <td id=\"T_8edfa_row1_col5\" class=\"data row1 col5\" >0.038182</td>\n",
              "      <td id=\"T_8edfa_row1_col6\" class=\"data row1 col6\" >-0.043786</td>\n",
              "      <td id=\"T_8edfa_row1_col7\" class=\"data row1 col7\" >0.052174</td>\n",
              "      <td id=\"T_8edfa_row1_col8\" class=\"data row1 col8\" >0.041882</td>\n",
              "      <td id=\"T_8edfa_row1_col9\" class=\"data row1 col9\" >-0.094769</td>\n",
              "      <td id=\"T_8edfa_row1_col10\" class=\"data row1 col10\" >-0.107290</td>\n",
              "      <td id=\"T_8edfa_row1_col11\" class=\"data row1 col11\" >-0.141414</td>\n",
              "      <td id=\"T_8edfa_row1_col12\" class=\"data row1 col12\" >0.066270</td>\n",
              "    </tr>\n",
              "    <tr>\n",
              "      <th id=\"T_8edfa_level0_row2\" class=\"row_heading level0 row2\" >creatinine_phosphokinase</th>\n",
              "      <td id=\"T_8edfa_row2_col0\" class=\"data row2 col0\" >-0.081584</td>\n",
              "      <td id=\"T_8edfa_row2_col1\" class=\"data row2 col1\" >-0.190741</td>\n",
              "      <td id=\"T_8edfa_row2_col2\" class=\"data row2 col2\" >1.000000</td>\n",
              "      <td id=\"T_8edfa_row2_col3\" class=\"data row2 col3\" >-0.009639</td>\n",
              "      <td id=\"T_8edfa_row2_col4\" class=\"data row2 col4\" >-0.044080</td>\n",
              "      <td id=\"T_8edfa_row2_col5\" class=\"data row2 col5\" >-0.070590</td>\n",
              "      <td id=\"T_8edfa_row2_col6\" class=\"data row2 col6\" >0.024463</td>\n",
              "      <td id=\"T_8edfa_row2_col7\" class=\"data row2 col7\" >-0.016408</td>\n",
              "      <td id=\"T_8edfa_row2_col8\" class=\"data row2 col8\" >0.059550</td>\n",
              "      <td id=\"T_8edfa_row2_col9\" class=\"data row2 col9\" >0.079791</td>\n",
              "      <td id=\"T_8edfa_row2_col10\" class=\"data row2 col10\" >0.002421</td>\n",
              "      <td id=\"T_8edfa_row2_col11\" class=\"data row2 col11\" >-0.009346</td>\n",
              "      <td id=\"T_8edfa_row2_col12\" class=\"data row2 col12\" >0.062728</td>\n",
              "    </tr>\n",
              "    <tr>\n",
              "      <th id=\"T_8edfa_level0_row3\" class=\"row_heading level0 row3\" >diabetes</th>\n",
              "      <td id=\"T_8edfa_row3_col0\" class=\"data row3 col0\" >-0.101012</td>\n",
              "      <td id=\"T_8edfa_row3_col1\" class=\"data row3 col1\" >-0.012729</td>\n",
              "      <td id=\"T_8edfa_row3_col2\" class=\"data row3 col2\" >-0.009639</td>\n",
              "      <td id=\"T_8edfa_row3_col3\" class=\"data row3 col3\" >1.000000</td>\n",
              "      <td id=\"T_8edfa_row3_col4\" class=\"data row3 col4\" >-0.004850</td>\n",
              "      <td id=\"T_8edfa_row3_col5\" class=\"data row3 col5\" >-0.012732</td>\n",
              "      <td id=\"T_8edfa_row3_col6\" class=\"data row3 col6\" >0.092193</td>\n",
              "      <td id=\"T_8edfa_row3_col7\" class=\"data row3 col7\" >-0.046975</td>\n",
              "      <td id=\"T_8edfa_row3_col8\" class=\"data row3 col8\" >-0.089551</td>\n",
              "      <td id=\"T_8edfa_row3_col9\" class=\"data row3 col9\" >-0.157730</td>\n",
              "      <td id=\"T_8edfa_row3_col10\" class=\"data row3 col10\" >-0.147173</td>\n",
              "      <td id=\"T_8edfa_row3_col11\" class=\"data row3 col11\" >0.033726</td>\n",
              "      <td id=\"T_8edfa_row3_col12\" class=\"data row3 col12\" >-0.001943</td>\n",
              "    </tr>\n",
              "    <tr>\n",
              "      <th id=\"T_8edfa_level0_row4\" class=\"row_heading level0 row4\" >ejection_fraction</th>\n",
              "      <td id=\"T_8edfa_row4_col0\" class=\"data row4 col0\" >0.060098</td>\n",
              "      <td id=\"T_8edfa_row4_col1\" class=\"data row4 col1\" >0.031557</td>\n",
              "      <td id=\"T_8edfa_row4_col2\" class=\"data row4 col2\" >-0.044080</td>\n",
              "      <td id=\"T_8edfa_row4_col3\" class=\"data row4 col3\" >-0.004850</td>\n",
              "      <td id=\"T_8edfa_row4_col4\" class=\"data row4 col4\" >1.000000</td>\n",
              "      <td id=\"T_8edfa_row4_col5\" class=\"data row4 col5\" >0.024445</td>\n",
              "      <td id=\"T_8edfa_row4_col6\" class=\"data row4 col6\" >0.072177</td>\n",
              "      <td id=\"T_8edfa_row4_col7\" class=\"data row4 col7\" >-0.011302</td>\n",
              "      <td id=\"T_8edfa_row4_col8\" class=\"data row4 col8\" >0.175902</td>\n",
              "      <td id=\"T_8edfa_row4_col9\" class=\"data row4 col9\" >-0.148386</td>\n",
              "      <td id=\"T_8edfa_row4_col10\" class=\"data row4 col10\" >-0.067315</td>\n",
              "      <td id=\"T_8edfa_row4_col11\" class=\"data row4 col11\" >0.041729</td>\n",
              "      <td id=\"T_8edfa_row4_col12\" class=\"data row4 col12\" >-0.268603</td>\n",
              "    </tr>\n",
              "    <tr>\n",
              "      <th id=\"T_8edfa_level0_row5\" class=\"row_heading level0 row5\" >high_blood_pressure</th>\n",
              "      <td id=\"T_8edfa_row5_col0\" class=\"data row5 col0\" >0.093289</td>\n",
              "      <td id=\"T_8edfa_row5_col1\" class=\"data row5 col1\" >0.038182</td>\n",
              "      <td id=\"T_8edfa_row5_col2\" class=\"data row5 col2\" >-0.070590</td>\n",
              "      <td id=\"T_8edfa_row5_col3\" class=\"data row5 col3\" >-0.012732</td>\n",
              "      <td id=\"T_8edfa_row5_col4\" class=\"data row5 col4\" >0.024445</td>\n",
              "      <td id=\"T_8edfa_row5_col5\" class=\"data row5 col5\" >1.000000</td>\n",
              "      <td id=\"T_8edfa_row5_col6\" class=\"data row5 col6\" >0.049963</td>\n",
              "      <td id=\"T_8edfa_row5_col7\" class=\"data row5 col7\" >-0.004935</td>\n",
              "      <td id=\"T_8edfa_row5_col8\" class=\"data row5 col8\" >0.037109</td>\n",
              "      <td id=\"T_8edfa_row5_col9\" class=\"data row5 col9\" >-0.104615</td>\n",
              "      <td id=\"T_8edfa_row5_col10\" class=\"data row5 col10\" >-0.055711</td>\n",
              "      <td id=\"T_8edfa_row5_col11\" class=\"data row5 col11\" >-0.196439</td>\n",
              "      <td id=\"T_8edfa_row5_col12\" class=\"data row5 col12\" >0.079351</td>\n",
              "    </tr>\n",
              "    <tr>\n",
              "      <th id=\"T_8edfa_level0_row6\" class=\"row_heading level0 row6\" >platelets</th>\n",
              "      <td id=\"T_8edfa_row6_col0\" class=\"data row6 col0\" >-0.052354</td>\n",
              "      <td id=\"T_8edfa_row6_col1\" class=\"data row6 col1\" >-0.043786</td>\n",
              "      <td id=\"T_8edfa_row6_col2\" class=\"data row6 col2\" >0.024463</td>\n",
              "      <td id=\"T_8edfa_row6_col3\" class=\"data row6 col3\" >0.092193</td>\n",
              "      <td id=\"T_8edfa_row6_col4\" class=\"data row6 col4\" >0.072177</td>\n",
              "      <td id=\"T_8edfa_row6_col5\" class=\"data row6 col5\" >0.049963</td>\n",
              "      <td id=\"T_8edfa_row6_col6\" class=\"data row6 col6\" >1.000000</td>\n",
              "      <td id=\"T_8edfa_row6_col7\" class=\"data row6 col7\" >-0.041198</td>\n",
              "      <td id=\"T_8edfa_row6_col8\" class=\"data row6 col8\" >0.062125</td>\n",
              "      <td id=\"T_8edfa_row6_col9\" class=\"data row6 col9\" >-0.125120</td>\n",
              "      <td id=\"T_8edfa_row6_col10\" class=\"data row6 col10\" >0.028234</td>\n",
              "      <td id=\"T_8edfa_row6_col11\" class=\"data row6 col11\" >0.010514</td>\n",
              "      <td id=\"T_8edfa_row6_col12\" class=\"data row6 col12\" >-0.049139</td>\n",
              "    </tr>\n",
              "    <tr>\n",
              "      <th id=\"T_8edfa_level0_row7\" class=\"row_heading level0 row7\" >serum_creatinine</th>\n",
              "      <td id=\"T_8edfa_row7_col0\" class=\"data row7 col0\" >0.159187</td>\n",
              "      <td id=\"T_8edfa_row7_col1\" class=\"data row7 col1\" >0.052174</td>\n",
              "      <td id=\"T_8edfa_row7_col2\" class=\"data row7 col2\" >-0.016408</td>\n",
              "      <td id=\"T_8edfa_row7_col3\" class=\"data row7 col3\" >-0.046975</td>\n",
              "      <td id=\"T_8edfa_row7_col4\" class=\"data row7 col4\" >-0.011302</td>\n",
              "      <td id=\"T_8edfa_row7_col5\" class=\"data row7 col5\" >-0.004935</td>\n",
              "      <td id=\"T_8edfa_row7_col6\" class=\"data row7 col6\" >-0.041198</td>\n",
              "      <td id=\"T_8edfa_row7_col7\" class=\"data row7 col7\" >1.000000</td>\n",
              "      <td id=\"T_8edfa_row7_col8\" class=\"data row7 col8\" >-0.189095</td>\n",
              "      <td id=\"T_8edfa_row7_col9\" class=\"data row7 col9\" >0.006970</td>\n",
              "      <td id=\"T_8edfa_row7_col10\" class=\"data row7 col10\" >-0.027414</td>\n",
              "      <td id=\"T_8edfa_row7_col11\" class=\"data row7 col11\" >-0.149315</td>\n",
              "      <td id=\"T_8edfa_row7_col12\" class=\"data row7 col12\" >0.294278</td>\n",
              "    </tr>\n",
              "    <tr>\n",
              "      <th id=\"T_8edfa_level0_row8\" class=\"row_heading level0 row8\" >serum_sodium</th>\n",
              "      <td id=\"T_8edfa_row8_col0\" class=\"data row8 col0\" >-0.045966</td>\n",
              "      <td id=\"T_8edfa_row8_col1\" class=\"data row8 col1\" >0.041882</td>\n",
              "      <td id=\"T_8edfa_row8_col2\" class=\"data row8 col2\" >0.059550</td>\n",
              "      <td id=\"T_8edfa_row8_col3\" class=\"data row8 col3\" >-0.089551</td>\n",
              "      <td id=\"T_8edfa_row8_col4\" class=\"data row8 col4\" >0.175902</td>\n",
              "      <td id=\"T_8edfa_row8_col5\" class=\"data row8 col5\" >0.037109</td>\n",
              "      <td id=\"T_8edfa_row8_col6\" class=\"data row8 col6\" >0.062125</td>\n",
              "      <td id=\"T_8edfa_row8_col7\" class=\"data row8 col7\" >-0.189095</td>\n",
              "      <td id=\"T_8edfa_row8_col8\" class=\"data row8 col8\" >1.000000</td>\n",
              "      <td id=\"T_8edfa_row8_col9\" class=\"data row8 col9\" >-0.027566</td>\n",
              "      <td id=\"T_8edfa_row8_col10\" class=\"data row8 col10\" >0.004813</td>\n",
              "      <td id=\"T_8edfa_row8_col11\" class=\"data row8 col11\" >0.087640</td>\n",
              "      <td id=\"T_8edfa_row8_col12\" class=\"data row8 col12\" >-0.195204</td>\n",
              "    </tr>\n",
              "    <tr>\n",
              "      <th id=\"T_8edfa_level0_row9\" class=\"row_heading level0 row9\" >sex</th>\n",
              "      <td id=\"T_8edfa_row9_col0\" class=\"data row9 col0\" >0.065430</td>\n",
              "      <td id=\"T_8edfa_row9_col1\" class=\"data row9 col1\" >-0.094769</td>\n",
              "      <td id=\"T_8edfa_row9_col2\" class=\"data row9 col2\" >0.079791</td>\n",
              "      <td id=\"T_8edfa_row9_col3\" class=\"data row9 col3\" >-0.157730</td>\n",
              "      <td id=\"T_8edfa_row9_col4\" class=\"data row9 col4\" >-0.148386</td>\n",
              "      <td id=\"T_8edfa_row9_col5\" class=\"data row9 col5\" >-0.104615</td>\n",
              "      <td id=\"T_8edfa_row9_col6\" class=\"data row9 col6\" >-0.125120</td>\n",
              "      <td id=\"T_8edfa_row9_col7\" class=\"data row9 col7\" >0.006970</td>\n",
              "      <td id=\"T_8edfa_row9_col8\" class=\"data row9 col8\" >-0.027566</td>\n",
              "      <td id=\"T_8edfa_row9_col9\" class=\"data row9 col9\" >1.000000</td>\n",
              "      <td id=\"T_8edfa_row9_col10\" class=\"data row9 col10\" >0.445892</td>\n",
              "      <td id=\"T_8edfa_row9_col11\" class=\"data row9 col11\" >-0.015608</td>\n",
              "      <td id=\"T_8edfa_row9_col12\" class=\"data row9 col12\" >-0.004316</td>\n",
              "    </tr>\n",
              "    <tr>\n",
              "      <th id=\"T_8edfa_level0_row10\" class=\"row_heading level0 row10\" >smoking</th>\n",
              "      <td id=\"T_8edfa_row10_col0\" class=\"data row10 col0\" >0.018668</td>\n",
              "      <td id=\"T_8edfa_row10_col1\" class=\"data row10 col1\" >-0.107290</td>\n",
              "      <td id=\"T_8edfa_row10_col2\" class=\"data row10 col2\" >0.002421</td>\n",
              "      <td id=\"T_8edfa_row10_col3\" class=\"data row10 col3\" >-0.147173</td>\n",
              "      <td id=\"T_8edfa_row10_col4\" class=\"data row10 col4\" >-0.067315</td>\n",
              "      <td id=\"T_8edfa_row10_col5\" class=\"data row10 col5\" >-0.055711</td>\n",
              "      <td id=\"T_8edfa_row10_col6\" class=\"data row10 col6\" >0.028234</td>\n",
              "      <td id=\"T_8edfa_row10_col7\" class=\"data row10 col7\" >-0.027414</td>\n",
              "      <td id=\"T_8edfa_row10_col8\" class=\"data row10 col8\" >0.004813</td>\n",
              "      <td id=\"T_8edfa_row10_col9\" class=\"data row10 col9\" >0.445892</td>\n",
              "      <td id=\"T_8edfa_row10_col10\" class=\"data row10 col10\" >1.000000</td>\n",
              "      <td id=\"T_8edfa_row10_col11\" class=\"data row10 col11\" >-0.022839</td>\n",
              "      <td id=\"T_8edfa_row10_col12\" class=\"data row10 col12\" >-0.012623</td>\n",
              "    </tr>\n",
              "    <tr>\n",
              "      <th id=\"T_8edfa_level0_row11\" class=\"row_heading level0 row11\" >time</th>\n",
              "      <td id=\"T_8edfa_row11_col0\" class=\"data row11 col0\" >-0.224068</td>\n",
              "      <td id=\"T_8edfa_row11_col1\" class=\"data row11 col1\" >-0.141414</td>\n",
              "      <td id=\"T_8edfa_row11_col2\" class=\"data row11 col2\" >-0.009346</td>\n",
              "      <td id=\"T_8edfa_row11_col3\" class=\"data row11 col3\" >0.033726</td>\n",
              "      <td id=\"T_8edfa_row11_col4\" class=\"data row11 col4\" >0.041729</td>\n",
              "      <td id=\"T_8edfa_row11_col5\" class=\"data row11 col5\" >-0.196439</td>\n",
              "      <td id=\"T_8edfa_row11_col6\" class=\"data row11 col6\" >0.010514</td>\n",
              "      <td id=\"T_8edfa_row11_col7\" class=\"data row11 col7\" >-0.149315</td>\n",
              "      <td id=\"T_8edfa_row11_col8\" class=\"data row11 col8\" >0.087640</td>\n",
              "      <td id=\"T_8edfa_row11_col9\" class=\"data row11 col9\" >-0.015608</td>\n",
              "      <td id=\"T_8edfa_row11_col10\" class=\"data row11 col10\" >-0.022839</td>\n",
              "      <td id=\"T_8edfa_row11_col11\" class=\"data row11 col11\" >1.000000</td>\n",
              "      <td id=\"T_8edfa_row11_col12\" class=\"data row11 col12\" >-0.526964</td>\n",
              "    </tr>\n",
              "    <tr>\n",
              "      <th id=\"T_8edfa_level0_row12\" class=\"row_heading level0 row12\" >DEATH_EVENT</th>\n",
              "      <td id=\"T_8edfa_row12_col0\" class=\"data row12 col0\" >0.253729</td>\n",
              "      <td id=\"T_8edfa_row12_col1\" class=\"data row12 col1\" >0.066270</td>\n",
              "      <td id=\"T_8edfa_row12_col2\" class=\"data row12 col2\" >0.062728</td>\n",
              "      <td id=\"T_8edfa_row12_col3\" class=\"data row12 col3\" >-0.001943</td>\n",
              "      <td id=\"T_8edfa_row12_col4\" class=\"data row12 col4\" >-0.268603</td>\n",
              "      <td id=\"T_8edfa_row12_col5\" class=\"data row12 col5\" >0.079351</td>\n",
              "      <td id=\"T_8edfa_row12_col6\" class=\"data row12 col6\" >-0.049139</td>\n",
              "      <td id=\"T_8edfa_row12_col7\" class=\"data row12 col7\" >0.294278</td>\n",
              "      <td id=\"T_8edfa_row12_col8\" class=\"data row12 col8\" >-0.195204</td>\n",
              "      <td id=\"T_8edfa_row12_col9\" class=\"data row12 col9\" >-0.004316</td>\n",
              "      <td id=\"T_8edfa_row12_col10\" class=\"data row12 col10\" >-0.012623</td>\n",
              "      <td id=\"T_8edfa_row12_col11\" class=\"data row12 col11\" >-0.526964</td>\n",
              "      <td id=\"T_8edfa_row12_col12\" class=\"data row12 col12\" >1.000000</td>\n",
              "    </tr>\n",
              "  </tbody>\n",
              "</table>\n"
            ],
            "text/plain": [
              "<pandas.io.formats.style.Styler at 0x7f293ef286d0>"
            ]
          },
          "execution_count": 282,
          "metadata": {},
          "output_type": "execute_result"
        }
      ],
      "source": [
        "#melihat corelasi dengan c-map\n",
        "cmap = cmap=sns.diverging_palette(5, 250, as_cmap=True)\n",
        "\n",
        "#Correlation Between Numeric Columns\n",
        "corr = data.corr()\n",
        "corr.style.background_gradient(cmap='coolwarm')"
      ]
    },
    {
      "cell_type": "markdown",
      "metadata": {
        "id": "KWWE8asRD64U"
      },
      "source": [
        "<p>Setelah dilihat dari correlation , sama seperti visualisasi peneliti terhadap kematian diatas pada saat pengenalan data,\n",
        "berikut feature nanti yang akan dipilih</p>\n",
        "<li>age 0.253729 \n",
        "<li>ejection_fraction -0.268603\n",
        "<li>serum_creatinine 0.294278\n",
        "<li>serum_sodium  -0.195204\n",
        "<li>time -0.526964\n",
        "<br>kategori\n",
        "<li>high_blood_pressure 0.079351"
      ]
    },
    {
      "cell_type": "markdown",
      "metadata": {
        "id": "8TtTy8KPHYhI"
      },
      "source": [
        "# 5 - Data Preprocessing"
      ]
    },
    {
      "cell_type": "markdown",
      "metadata": {
        "id": "WvuaqhdJHqXF"
      },
      "source": [
        "Bagian ini berisi proses penyiapan data untuk proses pelatihan model, seperti pembagian data menjadi train-dev-test, transformasi data (normalisasi, encoding, dll.), dan proses-proses lain yang dibutuhkan."
      ]
    },
    {
      "cell_type": "markdown",
      "metadata": {
        "id": "0i2Xb-ExHs3l"
      },
      "source": [
        "## Get data for model inference"
      ]
    },
    {
      "cell_type": "code",
      "execution_count": 283,
      "metadata": {
        "colab": {
          "base_uri": "https://localhost:8080/",
          "height": 740
        },
        "id": "6EGgBWNmH5lK",
        "outputId": "ebf14470-d3fd-4ebf-edeb-aa345f15c3f3"
      },
      "outputs": [
        {
          "data": {
            "text/html": [
              "\n",
              "  <div id=\"df-81d0f745-1704-4e3e-96ce-ec508fd61c71\">\n",
              "    <div class=\"colab-df-container\">\n",
              "      <div>\n",
              "<style scoped>\n",
              "    .dataframe tbody tr th:only-of-type {\n",
              "        vertical-align: middle;\n",
              "    }\n",
              "\n",
              "    .dataframe tbody tr th {\n",
              "        vertical-align: top;\n",
              "    }\n",
              "\n",
              "    .dataframe thead th {\n",
              "        text-align: right;\n",
              "    }\n",
              "</style>\n",
              "<table border=\"1\" class=\"dataframe\">\n",
              "  <thead>\n",
              "    <tr style=\"text-align: right;\">\n",
              "      <th></th>\n",
              "      <th>age</th>\n",
              "      <th>anaemia</th>\n",
              "      <th>creatinine_phosphokinase</th>\n",
              "      <th>diabetes</th>\n",
              "      <th>ejection_fraction</th>\n",
              "      <th>high_blood_pressure</th>\n",
              "      <th>platelets</th>\n",
              "      <th>serum_creatinine</th>\n",
              "      <th>serum_sodium</th>\n",
              "      <th>sex</th>\n",
              "      <th>smoking</th>\n",
              "      <th>time</th>\n",
              "      <th>DEATH_EVENT</th>\n",
              "    </tr>\n",
              "  </thead>\n",
              "  <tbody>\n",
              "    <tr>\n",
              "      <th>121</th>\n",
              "      <td>73.0</td>\n",
              "      <td>0</td>\n",
              "      <td>582</td>\n",
              "      <td>0</td>\n",
              "      <td>20</td>\n",
              "      <td>0</td>\n",
              "      <td>263358.03</td>\n",
              "      <td>1.83</td>\n",
              "      <td>134</td>\n",
              "      <td>1</td>\n",
              "      <td>0</td>\n",
              "      <td>198</td>\n",
              "      <td>1</td>\n",
              "    </tr>\n",
              "    <tr>\n",
              "      <th>94</th>\n",
              "      <td>65.0</td>\n",
              "      <td>1</td>\n",
              "      <td>113</td>\n",
              "      <td>1</td>\n",
              "      <td>60</td>\n",
              "      <td>1</td>\n",
              "      <td>203000.00</td>\n",
              "      <td>0.90</td>\n",
              "      <td>140</td>\n",
              "      <td>0</td>\n",
              "      <td>0</td>\n",
              "      <td>94</td>\n",
              "      <td>0</td>\n",
              "    </tr>\n",
              "    <tr>\n",
              "      <th>138</th>\n",
              "      <td>50.0</td>\n",
              "      <td>0</td>\n",
              "      <td>250</td>\n",
              "      <td>0</td>\n",
              "      <td>25</td>\n",
              "      <td>0</td>\n",
              "      <td>262000.00</td>\n",
              "      <td>1.00</td>\n",
              "      <td>136</td>\n",
              "      <td>1</td>\n",
              "      <td>1</td>\n",
              "      <td>120</td>\n",
              "      <td>0</td>\n",
              "    </tr>\n",
              "    <tr>\n",
              "      <th>288</th>\n",
              "      <td>63.0</td>\n",
              "      <td>0</td>\n",
              "      <td>193</td>\n",
              "      <td>0</td>\n",
              "      <td>60</td>\n",
              "      <td>1</td>\n",
              "      <td>295000.00</td>\n",
              "      <td>1.30</td>\n",
              "      <td>145</td>\n",
              "      <td>1</td>\n",
              "      <td>1</td>\n",
              "      <td>107</td>\n",
              "      <td>0</td>\n",
              "    </tr>\n",
              "    <tr>\n",
              "      <th>139</th>\n",
              "      <td>59.0</td>\n",
              "      <td>1</td>\n",
              "      <td>176</td>\n",
              "      <td>1</td>\n",
              "      <td>25</td>\n",
              "      <td>0</td>\n",
              "      <td>221000.00</td>\n",
              "      <td>1.00</td>\n",
              "      <td>136</td>\n",
              "      <td>1</td>\n",
              "      <td>1</td>\n",
              "      <td>150</td>\n",
              "      <td>1</td>\n",
              "    </tr>\n",
              "    <tr>\n",
              "      <th>13</th>\n",
              "      <td>72.0</td>\n",
              "      <td>0</td>\n",
              "      <td>211</td>\n",
              "      <td>0</td>\n",
              "      <td>25</td>\n",
              "      <td>0</td>\n",
              "      <td>274000.00</td>\n",
              "      <td>1.20</td>\n",
              "      <td>134</td>\n",
              "      <td>0</td>\n",
              "      <td>0</td>\n",
              "      <td>207</td>\n",
              "      <td>0</td>\n",
              "    </tr>\n",
              "    <tr>\n",
              "      <th>230</th>\n",
              "      <td>90.0</td>\n",
              "      <td>1</td>\n",
              "      <td>47</td>\n",
              "      <td>0</td>\n",
              "      <td>40</td>\n",
              "      <td>1</td>\n",
              "      <td>204000.00</td>\n",
              "      <td>2.10</td>\n",
              "      <td>132</td>\n",
              "      <td>1</td>\n",
              "      <td>1</td>\n",
              "      <td>8</td>\n",
              "      <td>1</td>\n",
              "    </tr>\n",
              "    <tr>\n",
              "      <th>165</th>\n",
              "      <td>65.0</td>\n",
              "      <td>0</td>\n",
              "      <td>582</td>\n",
              "      <td>1</td>\n",
              "      <td>30</td>\n",
              "      <td>0</td>\n",
              "      <td>249000.00</td>\n",
              "      <td>1.30</td>\n",
              "      <td>136</td>\n",
              "      <td>1</td>\n",
              "      <td>1</td>\n",
              "      <td>212</td>\n",
              "      <td>0</td>\n",
              "    </tr>\n",
              "    <tr>\n",
              "      <th>58</th>\n",
              "      <td>50.0</td>\n",
              "      <td>0</td>\n",
              "      <td>318</td>\n",
              "      <td>0</td>\n",
              "      <td>40</td>\n",
              "      <td>1</td>\n",
              "      <td>216000.00</td>\n",
              "      <td>2.30</td>\n",
              "      <td>131</td>\n",
              "      <td>0</td>\n",
              "      <td>0</td>\n",
              "      <td>60</td>\n",
              "      <td>1</td>\n",
              "    </tr>\n",
              "    <tr>\n",
              "      <th>122</th>\n",
              "      <td>55.0</td>\n",
              "      <td>0</td>\n",
              "      <td>1199</td>\n",
              "      <td>0</td>\n",
              "      <td>20</td>\n",
              "      <td>0</td>\n",
              "      <td>263358.03</td>\n",
              "      <td>1.83</td>\n",
              "      <td>134</td>\n",
              "      <td>1</td>\n",
              "      <td>1</td>\n",
              "      <td>241</td>\n",
              "      <td>1</td>\n",
              "    </tr>\n",
              "    <tr>\n",
              "      <th>254</th>\n",
              "      <td>70.0</td>\n",
              "      <td>0</td>\n",
              "      <td>66</td>\n",
              "      <td>1</td>\n",
              "      <td>45</td>\n",
              "      <td>0</td>\n",
              "      <td>249000.00</td>\n",
              "      <td>0.80</td>\n",
              "      <td>136</td>\n",
              "      <td>1</td>\n",
              "      <td>1</td>\n",
              "      <td>80</td>\n",
              "      <td>0</td>\n",
              "    </tr>\n",
              "    <tr>\n",
              "      <th>196</th>\n",
              "      <td>70.0</td>\n",
              "      <td>0</td>\n",
              "      <td>93</td>\n",
              "      <td>0</td>\n",
              "      <td>35</td>\n",
              "      <td>0</td>\n",
              "      <td>185000.00</td>\n",
              "      <td>1.10</td>\n",
              "      <td>134</td>\n",
              "      <td>1</td>\n",
              "      <td>1</td>\n",
              "      <td>208</td>\n",
              "      <td>0</td>\n",
              "    </tr>\n",
              "    <tr>\n",
              "      <th>289</th>\n",
              "      <td>64.0</td>\n",
              "      <td>0</td>\n",
              "      <td>1610</td>\n",
              "      <td>0</td>\n",
              "      <td>60</td>\n",
              "      <td>0</td>\n",
              "      <td>242000.00</td>\n",
              "      <td>1.00</td>\n",
              "      <td>137</td>\n",
              "      <td>1</td>\n",
              "      <td>0</td>\n",
              "      <td>113</td>\n",
              "      <td>0</td>\n",
              "    </tr>\n",
              "    <tr>\n",
              "      <th>147</th>\n",
              "      <td>64.0</td>\n",
              "      <td>0</td>\n",
              "      <td>143</td>\n",
              "      <td>0</td>\n",
              "      <td>25</td>\n",
              "      <td>0</td>\n",
              "      <td>246000.00</td>\n",
              "      <td>2.40</td>\n",
              "      <td>135</td>\n",
              "      <td>1</td>\n",
              "      <td>0</td>\n",
              "      <td>214</td>\n",
              "      <td>0</td>\n",
              "    </tr>\n",
              "    <tr>\n",
              "      <th>144</th>\n",
              "      <td>58.0</td>\n",
              "      <td>0</td>\n",
              "      <td>582</td>\n",
              "      <td>1</td>\n",
              "      <td>25</td>\n",
              "      <td>0</td>\n",
              "      <td>504000.00</td>\n",
              "      <td>1.00</td>\n",
              "      <td>138</td>\n",
              "      <td>1</td>\n",
              "      <td>0</td>\n",
              "      <td>205</td>\n",
              "      <td>0</td>\n",
              "    </tr>\n",
              "    <tr>\n",
              "      <th>11</th>\n",
              "      <td>60.0</td>\n",
              "      <td>0</td>\n",
              "      <td>1896</td>\n",
              "      <td>1</td>\n",
              "      <td>25</td>\n",
              "      <td>0</td>\n",
              "      <td>365000.00</td>\n",
              "      <td>2.10</td>\n",
              "      <td>144</td>\n",
              "      <td>0</td>\n",
              "      <td>0</td>\n",
              "      <td>172</td>\n",
              "      <td>1</td>\n",
              "    </tr>\n",
              "    <tr>\n",
              "      <th>133</th>\n",
              "      <td>80.0</td>\n",
              "      <td>0</td>\n",
              "      <td>898</td>\n",
              "      <td>0</td>\n",
              "      <td>25</td>\n",
              "      <td>0</td>\n",
              "      <td>149000.00</td>\n",
              "      <td>1.10</td>\n",
              "      <td>144</td>\n",
              "      <td>1</td>\n",
              "      <td>1</td>\n",
              "      <td>87</td>\n",
              "      <td>0</td>\n",
              "    </tr>\n",
              "    <tr>\n",
              "      <th>203</th>\n",
              "      <td>60.0</td>\n",
              "      <td>0</td>\n",
              "      <td>320</td>\n",
              "      <td>0</td>\n",
              "      <td>35</td>\n",
              "      <td>0</td>\n",
              "      <td>133000.00</td>\n",
              "      <td>1.40</td>\n",
              "      <td>139</td>\n",
              "      <td>1</td>\n",
              "      <td>0</td>\n",
              "      <td>258</td>\n",
              "      <td>0</td>\n",
              "    </tr>\n",
              "    <tr>\n",
              "      <th>112</th>\n",
              "      <td>80.0</td>\n",
              "      <td>1</td>\n",
              "      <td>553</td>\n",
              "      <td>0</td>\n",
              "      <td>20</td>\n",
              "      <td>1</td>\n",
              "      <td>140000.00</td>\n",
              "      <td>4.40</td>\n",
              "      <td>133</td>\n",
              "      <td>1</td>\n",
              "      <td>0</td>\n",
              "      <td>41</td>\n",
              "      <td>1</td>\n",
              "    </tr>\n",
              "    <tr>\n",
              "      <th>155</th>\n",
              "      <td>61.0</td>\n",
              "      <td>0</td>\n",
              "      <td>248</td>\n",
              "      <td>0</td>\n",
              "      <td>30</td>\n",
              "      <td>1</td>\n",
              "      <td>267000.00</td>\n",
              "      <td>0.70</td>\n",
              "      <td>136</td>\n",
              "      <td>1</td>\n",
              "      <td>1</td>\n",
              "      <td>104</td>\n",
              "      <td>0</td>\n",
              "    </tr>\n",
              "  </tbody>\n",
              "</table>\n",
              "</div>\n",
              "      <button class=\"colab-df-convert\" onclick=\"convertToInteractive('df-81d0f745-1704-4e3e-96ce-ec508fd61c71')\"\n",
              "              title=\"Convert this dataframe to an interactive table.\"\n",
              "              style=\"display:none;\">\n",
              "        \n",
              "  <svg xmlns=\"http://www.w3.org/2000/svg\" height=\"24px\"viewBox=\"0 0 24 24\"\n",
              "       width=\"24px\">\n",
              "    <path d=\"M0 0h24v24H0V0z\" fill=\"none\"/>\n",
              "    <path d=\"M18.56 5.44l.94 2.06.94-2.06 2.06-.94-2.06-.94-.94-2.06-.94 2.06-2.06.94zm-11 1L8.5 8.5l.94-2.06 2.06-.94-2.06-.94L8.5 2.5l-.94 2.06-2.06.94zm10 10l.94 2.06.94-2.06 2.06-.94-2.06-.94-.94-2.06-.94 2.06-2.06.94z\"/><path d=\"M17.41 7.96l-1.37-1.37c-.4-.4-.92-.59-1.43-.59-.52 0-1.04.2-1.43.59L10.3 9.45l-7.72 7.72c-.78.78-.78 2.05 0 2.83L4 21.41c.39.39.9.59 1.41.59.51 0 1.02-.2 1.41-.59l7.78-7.78 2.81-2.81c.8-.78.8-2.07 0-2.86zM5.41 20L4 18.59l7.72-7.72 1.47 1.35L5.41 20z\"/>\n",
              "  </svg>\n",
              "      </button>\n",
              "      \n",
              "  <style>\n",
              "    .colab-df-container {\n",
              "      display:flex;\n",
              "      flex-wrap:wrap;\n",
              "      gap: 12px;\n",
              "    }\n",
              "\n",
              "    .colab-df-convert {\n",
              "      background-color: #E8F0FE;\n",
              "      border: none;\n",
              "      border-radius: 50%;\n",
              "      cursor: pointer;\n",
              "      display: none;\n",
              "      fill: #1967D2;\n",
              "      height: 32px;\n",
              "      padding: 0 0 0 0;\n",
              "      width: 32px;\n",
              "    }\n",
              "\n",
              "    .colab-df-convert:hover {\n",
              "      background-color: #E2EBFA;\n",
              "      box-shadow: 0px 1px 2px rgba(60, 64, 67, 0.3), 0px 1px 3px 1px rgba(60, 64, 67, 0.15);\n",
              "      fill: #174EA6;\n",
              "    }\n",
              "\n",
              "    [theme=dark] .colab-df-convert {\n",
              "      background-color: #3B4455;\n",
              "      fill: #D2E3FC;\n",
              "    }\n",
              "\n",
              "    [theme=dark] .colab-df-convert:hover {\n",
              "      background-color: #434B5C;\n",
              "      box-shadow: 0px 1px 3px 1px rgba(0, 0, 0, 0.15);\n",
              "      filter: drop-shadow(0px 1px 2px rgba(0, 0, 0, 0.3));\n",
              "      fill: #FFFFFF;\n",
              "    }\n",
              "  </style>\n",
              "\n",
              "      <script>\n",
              "        const buttonEl =\n",
              "          document.querySelector('#df-81d0f745-1704-4e3e-96ce-ec508fd61c71 button.colab-df-convert');\n",
              "        buttonEl.style.display =\n",
              "          google.colab.kernel.accessAllowed ? 'block' : 'none';\n",
              "\n",
              "        async function convertToInteractive(key) {\n",
              "          const element = document.querySelector('#df-81d0f745-1704-4e3e-96ce-ec508fd61c71');\n",
              "          const dataTable =\n",
              "            await google.colab.kernel.invokeFunction('convertToInteractive',\n",
              "                                                     [key], {});\n",
              "          if (!dataTable) return;\n",
              "\n",
              "          const docLinkHtml = 'Like what you see? Visit the ' +\n",
              "            '<a target=\"_blank\" href=https://colab.research.google.com/notebooks/data_table.ipynb>data table notebook</a>'\n",
              "            + ' to learn more about interactive tables.';\n",
              "          element.innerHTML = '';\n",
              "          dataTable['output_type'] = 'display_data';\n",
              "          await google.colab.output.renderOutput(dataTable, element);\n",
              "          const docLink = document.createElement('div');\n",
              "          docLink.innerHTML = docLinkHtml;\n",
              "          element.appendChild(docLink);\n",
              "        }\n",
              "      </script>\n",
              "    </div>\n",
              "  </div>\n",
              "  "
            ],
            "text/plain": [
              "      age  anaemia  creatinine_phosphokinase  diabetes  ejection_fraction  \\\n",
              "121  73.0        0                       582         0                 20   \n",
              "94   65.0        1                       113         1                 60   \n",
              "138  50.0        0                       250         0                 25   \n",
              "288  63.0        0                       193         0                 60   \n",
              "139  59.0        1                       176         1                 25   \n",
              "13   72.0        0                       211         0                 25   \n",
              "230  90.0        1                        47         0                 40   \n",
              "165  65.0        0                       582         1                 30   \n",
              "58   50.0        0                       318         0                 40   \n",
              "122  55.0        0                      1199         0                 20   \n",
              "254  70.0        0                        66         1                 45   \n",
              "196  70.0        0                        93         0                 35   \n",
              "289  64.0        0                      1610         0                 60   \n",
              "147  64.0        0                       143         0                 25   \n",
              "144  58.0        0                       582         1                 25   \n",
              "11   60.0        0                      1896         1                 25   \n",
              "133  80.0        0                       898         0                 25   \n",
              "203  60.0        0                       320         0                 35   \n",
              "112  80.0        1                       553         0                 20   \n",
              "155  61.0        0                       248         0                 30   \n",
              "\n",
              "     high_blood_pressure  platelets  serum_creatinine  serum_sodium  sex  \\\n",
              "121                    0  263358.03              1.83           134    1   \n",
              "94                     1  203000.00              0.90           140    0   \n",
              "138                    0  262000.00              1.00           136    1   \n",
              "288                    1  295000.00              1.30           145    1   \n",
              "139                    0  221000.00              1.00           136    1   \n",
              "13                     0  274000.00              1.20           134    0   \n",
              "230                    1  204000.00              2.10           132    1   \n",
              "165                    0  249000.00              1.30           136    1   \n",
              "58                     1  216000.00              2.30           131    0   \n",
              "122                    0  263358.03              1.83           134    1   \n",
              "254                    0  249000.00              0.80           136    1   \n",
              "196                    0  185000.00              1.10           134    1   \n",
              "289                    0  242000.00              1.00           137    1   \n",
              "147                    0  246000.00              2.40           135    1   \n",
              "144                    0  504000.00              1.00           138    1   \n",
              "11                     0  365000.00              2.10           144    0   \n",
              "133                    0  149000.00              1.10           144    1   \n",
              "203                    0  133000.00              1.40           139    1   \n",
              "112                    1  140000.00              4.40           133    1   \n",
              "155                    1  267000.00              0.70           136    1   \n",
              "\n",
              "     smoking  time  DEATH_EVENT  \n",
              "121        0   198            1  \n",
              "94         0    94            0  \n",
              "138        1   120            0  \n",
              "288        1   107            0  \n",
              "139        1   150            1  \n",
              "13         0   207            0  \n",
              "230        1     8            1  \n",
              "165        1   212            0  \n",
              "58         0    60            1  \n",
              "122        1   241            1  \n",
              "254        1    80            0  \n",
              "196        1   208            0  \n",
              "289        0   113            0  \n",
              "147        0   214            0  \n",
              "144        0   205            0  \n",
              "11         0   172            1  \n",
              "133        1    87            0  \n",
              "203        0   258            0  \n",
              "112        0    41            1  \n",
              "155        1   104            0  "
            ]
          },
          "execution_count": 283,
          "metadata": {},
          "output_type": "execute_result"
        }
      ],
      "source": [
        "## Get data for model inference\n",
        "data_inf = data.sample(20, random_state=17)\n",
        "data_inf"
      ]
    },
    {
      "cell_type": "code",
      "execution_count": 284,
      "metadata": {
        "colab": {
          "base_uri": "https://localhost:8080/",
          "height": 487
        },
        "id": "-_a2uv25INNl",
        "outputId": "2c00a576-df4c-4552-90d4-7272808ea8ba"
      },
      "outputs": [
        {
          "data": {
            "text/html": [
              "\n",
              "  <div id=\"df-128b205a-b906-48ea-8227-97007eb81576\">\n",
              "    <div class=\"colab-df-container\">\n",
              "      <div>\n",
              "<style scoped>\n",
              "    .dataframe tbody tr th:only-of-type {\n",
              "        vertical-align: middle;\n",
              "    }\n",
              "\n",
              "    .dataframe tbody tr th {\n",
              "        vertical-align: top;\n",
              "    }\n",
              "\n",
              "    .dataframe thead th {\n",
              "        text-align: right;\n",
              "    }\n",
              "</style>\n",
              "<table border=\"1\" class=\"dataframe\">\n",
              "  <thead>\n",
              "    <tr style=\"text-align: right;\">\n",
              "      <th></th>\n",
              "      <th>age</th>\n",
              "      <th>anaemia</th>\n",
              "      <th>creatinine_phosphokinase</th>\n",
              "      <th>diabetes</th>\n",
              "      <th>ejection_fraction</th>\n",
              "      <th>high_blood_pressure</th>\n",
              "      <th>platelets</th>\n",
              "      <th>serum_creatinine</th>\n",
              "      <th>serum_sodium</th>\n",
              "      <th>sex</th>\n",
              "      <th>smoking</th>\n",
              "      <th>time</th>\n",
              "      <th>DEATH_EVENT</th>\n",
              "    </tr>\n",
              "  </thead>\n",
              "  <tbody>\n",
              "    <tr>\n",
              "      <th>0</th>\n",
              "      <td>42.0</td>\n",
              "      <td>1</td>\n",
              "      <td>250</td>\n",
              "      <td>1</td>\n",
              "      <td>15</td>\n",
              "      <td>0</td>\n",
              "      <td>213000.00</td>\n",
              "      <td>1.3</td>\n",
              "      <td>136</td>\n",
              "      <td>0</td>\n",
              "      <td>0</td>\n",
              "      <td>65</td>\n",
              "      <td>1</td>\n",
              "    </tr>\n",
              "    <tr>\n",
              "      <th>1</th>\n",
              "      <td>46.0</td>\n",
              "      <td>0</td>\n",
              "      <td>168</td>\n",
              "      <td>1</td>\n",
              "      <td>17</td>\n",
              "      <td>1</td>\n",
              "      <td>271000.00</td>\n",
              "      <td>2.1</td>\n",
              "      <td>124</td>\n",
              "      <td>0</td>\n",
              "      <td>0</td>\n",
              "      <td>100</td>\n",
              "      <td>1</td>\n",
              "    </tr>\n",
              "    <tr>\n",
              "      <th>2</th>\n",
              "      <td>65.0</td>\n",
              "      <td>1</td>\n",
              "      <td>160</td>\n",
              "      <td>1</td>\n",
              "      <td>20</td>\n",
              "      <td>0</td>\n",
              "      <td>327000.00</td>\n",
              "      <td>2.7</td>\n",
              "      <td>116</td>\n",
              "      <td>0</td>\n",
              "      <td>0</td>\n",
              "      <td>8</td>\n",
              "      <td>1</td>\n",
              "    </tr>\n",
              "    <tr>\n",
              "      <th>3</th>\n",
              "      <td>53.0</td>\n",
              "      <td>1</td>\n",
              "      <td>91</td>\n",
              "      <td>0</td>\n",
              "      <td>20</td>\n",
              "      <td>1</td>\n",
              "      <td>418000.00</td>\n",
              "      <td>1.4</td>\n",
              "      <td>139</td>\n",
              "      <td>0</td>\n",
              "      <td>0</td>\n",
              "      <td>43</td>\n",
              "      <td>1</td>\n",
              "    </tr>\n",
              "    <tr>\n",
              "      <th>4</th>\n",
              "      <td>50.0</td>\n",
              "      <td>1</td>\n",
              "      <td>582</td>\n",
              "      <td>1</td>\n",
              "      <td>20</td>\n",
              "      <td>1</td>\n",
              "      <td>279000.00</td>\n",
              "      <td>1.0</td>\n",
              "      <td>134</td>\n",
              "      <td>0</td>\n",
              "      <td>0</td>\n",
              "      <td>186</td>\n",
              "      <td>0</td>\n",
              "    </tr>\n",
              "    <tr>\n",
              "      <th>...</th>\n",
              "      <td>...</td>\n",
              "      <td>...</td>\n",
              "      <td>...</td>\n",
              "      <td>...</td>\n",
              "      <td>...</td>\n",
              "      <td>...</td>\n",
              "      <td>...</td>\n",
              "      <td>...</td>\n",
              "      <td>...</td>\n",
              "      <td>...</td>\n",
              "      <td>...</td>\n",
              "      <td>...</td>\n",
              "      <td>...</td>\n",
              "    </tr>\n",
              "    <tr>\n",
              "      <th>294</th>\n",
              "      <td>63.0</td>\n",
              "      <td>1</td>\n",
              "      <td>122</td>\n",
              "      <td>1</td>\n",
              "      <td>60</td>\n",
              "      <td>0</td>\n",
              "      <td>267000.00</td>\n",
              "      <td>1.2</td>\n",
              "      <td>145</td>\n",
              "      <td>1</td>\n",
              "      <td>0</td>\n",
              "      <td>147</td>\n",
              "      <td>0</td>\n",
              "    </tr>\n",
              "    <tr>\n",
              "      <th>295</th>\n",
              "      <td>45.0</td>\n",
              "      <td>0</td>\n",
              "      <td>308</td>\n",
              "      <td>1</td>\n",
              "      <td>60</td>\n",
              "      <td>1</td>\n",
              "      <td>377000.00</td>\n",
              "      <td>1.0</td>\n",
              "      <td>136</td>\n",
              "      <td>1</td>\n",
              "      <td>0</td>\n",
              "      <td>186</td>\n",
              "      <td>0</td>\n",
              "    </tr>\n",
              "    <tr>\n",
              "      <th>296</th>\n",
              "      <td>70.0</td>\n",
              "      <td>0</td>\n",
              "      <td>97</td>\n",
              "      <td>0</td>\n",
              "      <td>60</td>\n",
              "      <td>1</td>\n",
              "      <td>220000.00</td>\n",
              "      <td>0.9</td>\n",
              "      <td>138</td>\n",
              "      <td>1</td>\n",
              "      <td>0</td>\n",
              "      <td>186</td>\n",
              "      <td>0</td>\n",
              "    </tr>\n",
              "    <tr>\n",
              "      <th>297</th>\n",
              "      <td>53.0</td>\n",
              "      <td>1</td>\n",
              "      <td>446</td>\n",
              "      <td>0</td>\n",
              "      <td>60</td>\n",
              "      <td>1</td>\n",
              "      <td>263358.03</td>\n",
              "      <td>1.0</td>\n",
              "      <td>139</td>\n",
              "      <td>1</td>\n",
              "      <td>0</td>\n",
              "      <td>215</td>\n",
              "      <td>0</td>\n",
              "    </tr>\n",
              "    <tr>\n",
              "      <th>298</th>\n",
              "      <td>50.0</td>\n",
              "      <td>0</td>\n",
              "      <td>582</td>\n",
              "      <td>0</td>\n",
              "      <td>62</td>\n",
              "      <td>1</td>\n",
              "      <td>147000.00</td>\n",
              "      <td>0.8</td>\n",
              "      <td>140</td>\n",
              "      <td>1</td>\n",
              "      <td>1</td>\n",
              "      <td>192</td>\n",
              "      <td>0</td>\n",
              "    </tr>\n",
              "  </tbody>\n",
              "</table>\n",
              "<p>279 rows × 13 columns</p>\n",
              "</div>\n",
              "      <button class=\"colab-df-convert\" onclick=\"convertToInteractive('df-128b205a-b906-48ea-8227-97007eb81576')\"\n",
              "              title=\"Convert this dataframe to an interactive table.\"\n",
              "              style=\"display:none;\">\n",
              "        \n",
              "  <svg xmlns=\"http://www.w3.org/2000/svg\" height=\"24px\"viewBox=\"0 0 24 24\"\n",
              "       width=\"24px\">\n",
              "    <path d=\"M0 0h24v24H0V0z\" fill=\"none\"/>\n",
              "    <path d=\"M18.56 5.44l.94 2.06.94-2.06 2.06-.94-2.06-.94-.94-2.06-.94 2.06-2.06.94zm-11 1L8.5 8.5l.94-2.06 2.06-.94-2.06-.94L8.5 2.5l-.94 2.06-2.06.94zm10 10l.94 2.06.94-2.06 2.06-.94-2.06-.94-.94-2.06-.94 2.06-2.06.94z\"/><path d=\"M17.41 7.96l-1.37-1.37c-.4-.4-.92-.59-1.43-.59-.52 0-1.04.2-1.43.59L10.3 9.45l-7.72 7.72c-.78.78-.78 2.05 0 2.83L4 21.41c.39.39.9.59 1.41.59.51 0 1.02-.2 1.41-.59l7.78-7.78 2.81-2.81c.8-.78.8-2.07 0-2.86zM5.41 20L4 18.59l7.72-7.72 1.47 1.35L5.41 20z\"/>\n",
              "  </svg>\n",
              "      </button>\n",
              "      \n",
              "  <style>\n",
              "    .colab-df-container {\n",
              "      display:flex;\n",
              "      flex-wrap:wrap;\n",
              "      gap: 12px;\n",
              "    }\n",
              "\n",
              "    .colab-df-convert {\n",
              "      background-color: #E8F0FE;\n",
              "      border: none;\n",
              "      border-radius: 50%;\n",
              "      cursor: pointer;\n",
              "      display: none;\n",
              "      fill: #1967D2;\n",
              "      height: 32px;\n",
              "      padding: 0 0 0 0;\n",
              "      width: 32px;\n",
              "    }\n",
              "\n",
              "    .colab-df-convert:hover {\n",
              "      background-color: #E2EBFA;\n",
              "      box-shadow: 0px 1px 2px rgba(60, 64, 67, 0.3), 0px 1px 3px 1px rgba(60, 64, 67, 0.15);\n",
              "      fill: #174EA6;\n",
              "    }\n",
              "\n",
              "    [theme=dark] .colab-df-convert {\n",
              "      background-color: #3B4455;\n",
              "      fill: #D2E3FC;\n",
              "    }\n",
              "\n",
              "    [theme=dark] .colab-df-convert:hover {\n",
              "      background-color: #434B5C;\n",
              "      box-shadow: 0px 1px 3px 1px rgba(0, 0, 0, 0.15);\n",
              "      filter: drop-shadow(0px 1px 2px rgba(0, 0, 0, 0.3));\n",
              "      fill: #FFFFFF;\n",
              "    }\n",
              "  </style>\n",
              "\n",
              "      <script>\n",
              "        const buttonEl =\n",
              "          document.querySelector('#df-128b205a-b906-48ea-8227-97007eb81576 button.colab-df-convert');\n",
              "        buttonEl.style.display =\n",
              "          google.colab.kernel.accessAllowed ? 'block' : 'none';\n",
              "\n",
              "        async function convertToInteractive(key) {\n",
              "          const element = document.querySelector('#df-128b205a-b906-48ea-8227-97007eb81576');\n",
              "          const dataTable =\n",
              "            await google.colab.kernel.invokeFunction('convertToInteractive',\n",
              "                                                     [key], {});\n",
              "          if (!dataTable) return;\n",
              "\n",
              "          const docLinkHtml = 'Like what you see? Visit the ' +\n",
              "            '<a target=\"_blank\" href=https://colab.research.google.com/notebooks/data_table.ipynb>data table notebook</a>'\n",
              "            + ' to learn more about interactive tables.';\n",
              "          element.innerHTML = '';\n",
              "          dataTable['output_type'] = 'display_data';\n",
              "          await google.colab.output.renderOutput(dataTable, element);\n",
              "          const docLink = document.createElement('div');\n",
              "          docLink.innerHTML = docLinkHtml;\n",
              "          element.appendChild(docLink);\n",
              "        }\n",
              "      </script>\n",
              "    </div>\n",
              "  </div>\n",
              "  "
            ],
            "text/plain": [
              "      age  anaemia  creatinine_phosphokinase  diabetes  ejection_fraction  \\\n",
              "0    42.0        1                       250         1                 15   \n",
              "1    46.0        0                       168         1                 17   \n",
              "2    65.0        1                       160         1                 20   \n",
              "3    53.0        1                        91         0                 20   \n",
              "4    50.0        1                       582         1                 20   \n",
              "..    ...      ...                       ...       ...                ...   \n",
              "294  63.0        1                       122         1                 60   \n",
              "295  45.0        0                       308         1                 60   \n",
              "296  70.0        0                        97         0                 60   \n",
              "297  53.0        1                       446         0                 60   \n",
              "298  50.0        0                       582         0                 62   \n",
              "\n",
              "     high_blood_pressure  platelets  serum_creatinine  serum_sodium  sex  \\\n",
              "0                      0  213000.00               1.3           136    0   \n",
              "1                      1  271000.00               2.1           124    0   \n",
              "2                      0  327000.00               2.7           116    0   \n",
              "3                      1  418000.00               1.4           139    0   \n",
              "4                      1  279000.00               1.0           134    0   \n",
              "..                   ...        ...               ...           ...  ...   \n",
              "294                    0  267000.00               1.2           145    1   \n",
              "295                    1  377000.00               1.0           136    1   \n",
              "296                    1  220000.00               0.9           138    1   \n",
              "297                    1  263358.03               1.0           139    1   \n",
              "298                    1  147000.00               0.8           140    1   \n",
              "\n",
              "     smoking  time  DEATH_EVENT  \n",
              "0          0    65            1  \n",
              "1          0   100            1  \n",
              "2          0     8            1  \n",
              "3          0    43            1  \n",
              "4          0   186            0  \n",
              "..       ...   ...          ...  \n",
              "294        0   147            0  \n",
              "295        0   186            0  \n",
              "296        0   186            0  \n",
              "297        0   215            0  \n",
              "298        1   192            0  \n",
              "\n",
              "[279 rows x 13 columns]"
            ]
          },
          "execution_count": 284,
          "metadata": {},
          "output_type": "execute_result"
        }
      ],
      "source": [
        "# remove inference set from data set\n",
        "data_train_test = data.drop(data_inf.index)\n",
        "data_train_test"
      ]
    },
    {
      "cell_type": "code",
      "execution_count": 285,
      "metadata": {
        "colab": {
          "base_uri": "https://localhost:8080/",
          "height": 740
        },
        "id": "yfwbCXBaIWPL",
        "outputId": "75551195-4b38-4b7e-ad55-643edafef836"
      },
      "outputs": [
        {
          "data": {
            "text/html": [
              "\n",
              "  <div id=\"df-9f06153f-662f-4d2d-aee6-a1ffeedf28e2\">\n",
              "    <div class=\"colab-df-container\">\n",
              "      <div>\n",
              "<style scoped>\n",
              "    .dataframe tbody tr th:only-of-type {\n",
              "        vertical-align: middle;\n",
              "    }\n",
              "\n",
              "    .dataframe tbody tr th {\n",
              "        vertical-align: top;\n",
              "    }\n",
              "\n",
              "    .dataframe thead th {\n",
              "        text-align: right;\n",
              "    }\n",
              "</style>\n",
              "<table border=\"1\" class=\"dataframe\">\n",
              "  <thead>\n",
              "    <tr style=\"text-align: right;\">\n",
              "      <th></th>\n",
              "      <th>age</th>\n",
              "      <th>anaemia</th>\n",
              "      <th>creatinine_phosphokinase</th>\n",
              "      <th>diabetes</th>\n",
              "      <th>ejection_fraction</th>\n",
              "      <th>high_blood_pressure</th>\n",
              "      <th>platelets</th>\n",
              "      <th>serum_creatinine</th>\n",
              "      <th>serum_sodium</th>\n",
              "      <th>sex</th>\n",
              "      <th>smoking</th>\n",
              "      <th>time</th>\n",
              "      <th>DEATH_EVENT</th>\n",
              "    </tr>\n",
              "  </thead>\n",
              "  <tbody>\n",
              "    <tr>\n",
              "      <th>0</th>\n",
              "      <td>73.0</td>\n",
              "      <td>0</td>\n",
              "      <td>582</td>\n",
              "      <td>0</td>\n",
              "      <td>20</td>\n",
              "      <td>0</td>\n",
              "      <td>263358.03</td>\n",
              "      <td>1.83</td>\n",
              "      <td>134</td>\n",
              "      <td>1</td>\n",
              "      <td>0</td>\n",
              "      <td>198</td>\n",
              "      <td>1</td>\n",
              "    </tr>\n",
              "    <tr>\n",
              "      <th>1</th>\n",
              "      <td>65.0</td>\n",
              "      <td>1</td>\n",
              "      <td>113</td>\n",
              "      <td>1</td>\n",
              "      <td>60</td>\n",
              "      <td>1</td>\n",
              "      <td>203000.00</td>\n",
              "      <td>0.90</td>\n",
              "      <td>140</td>\n",
              "      <td>0</td>\n",
              "      <td>0</td>\n",
              "      <td>94</td>\n",
              "      <td>0</td>\n",
              "    </tr>\n",
              "    <tr>\n",
              "      <th>2</th>\n",
              "      <td>50.0</td>\n",
              "      <td>0</td>\n",
              "      <td>250</td>\n",
              "      <td>0</td>\n",
              "      <td>25</td>\n",
              "      <td>0</td>\n",
              "      <td>262000.00</td>\n",
              "      <td>1.00</td>\n",
              "      <td>136</td>\n",
              "      <td>1</td>\n",
              "      <td>1</td>\n",
              "      <td>120</td>\n",
              "      <td>0</td>\n",
              "    </tr>\n",
              "    <tr>\n",
              "      <th>3</th>\n",
              "      <td>63.0</td>\n",
              "      <td>0</td>\n",
              "      <td>193</td>\n",
              "      <td>0</td>\n",
              "      <td>60</td>\n",
              "      <td>1</td>\n",
              "      <td>295000.00</td>\n",
              "      <td>1.30</td>\n",
              "      <td>145</td>\n",
              "      <td>1</td>\n",
              "      <td>1</td>\n",
              "      <td>107</td>\n",
              "      <td>0</td>\n",
              "    </tr>\n",
              "    <tr>\n",
              "      <th>4</th>\n",
              "      <td>59.0</td>\n",
              "      <td>1</td>\n",
              "      <td>176</td>\n",
              "      <td>1</td>\n",
              "      <td>25</td>\n",
              "      <td>0</td>\n",
              "      <td>221000.00</td>\n",
              "      <td>1.00</td>\n",
              "      <td>136</td>\n",
              "      <td>1</td>\n",
              "      <td>1</td>\n",
              "      <td>150</td>\n",
              "      <td>1</td>\n",
              "    </tr>\n",
              "    <tr>\n",
              "      <th>5</th>\n",
              "      <td>72.0</td>\n",
              "      <td>0</td>\n",
              "      <td>211</td>\n",
              "      <td>0</td>\n",
              "      <td>25</td>\n",
              "      <td>0</td>\n",
              "      <td>274000.00</td>\n",
              "      <td>1.20</td>\n",
              "      <td>134</td>\n",
              "      <td>0</td>\n",
              "      <td>0</td>\n",
              "      <td>207</td>\n",
              "      <td>0</td>\n",
              "    </tr>\n",
              "    <tr>\n",
              "      <th>6</th>\n",
              "      <td>90.0</td>\n",
              "      <td>1</td>\n",
              "      <td>47</td>\n",
              "      <td>0</td>\n",
              "      <td>40</td>\n",
              "      <td>1</td>\n",
              "      <td>204000.00</td>\n",
              "      <td>2.10</td>\n",
              "      <td>132</td>\n",
              "      <td>1</td>\n",
              "      <td>1</td>\n",
              "      <td>8</td>\n",
              "      <td>1</td>\n",
              "    </tr>\n",
              "    <tr>\n",
              "      <th>7</th>\n",
              "      <td>65.0</td>\n",
              "      <td>0</td>\n",
              "      <td>582</td>\n",
              "      <td>1</td>\n",
              "      <td>30</td>\n",
              "      <td>0</td>\n",
              "      <td>249000.00</td>\n",
              "      <td>1.30</td>\n",
              "      <td>136</td>\n",
              "      <td>1</td>\n",
              "      <td>1</td>\n",
              "      <td>212</td>\n",
              "      <td>0</td>\n",
              "    </tr>\n",
              "    <tr>\n",
              "      <th>8</th>\n",
              "      <td>50.0</td>\n",
              "      <td>0</td>\n",
              "      <td>318</td>\n",
              "      <td>0</td>\n",
              "      <td>40</td>\n",
              "      <td>1</td>\n",
              "      <td>216000.00</td>\n",
              "      <td>2.30</td>\n",
              "      <td>131</td>\n",
              "      <td>0</td>\n",
              "      <td>0</td>\n",
              "      <td>60</td>\n",
              "      <td>1</td>\n",
              "    </tr>\n",
              "    <tr>\n",
              "      <th>9</th>\n",
              "      <td>55.0</td>\n",
              "      <td>0</td>\n",
              "      <td>1199</td>\n",
              "      <td>0</td>\n",
              "      <td>20</td>\n",
              "      <td>0</td>\n",
              "      <td>263358.03</td>\n",
              "      <td>1.83</td>\n",
              "      <td>134</td>\n",
              "      <td>1</td>\n",
              "      <td>1</td>\n",
              "      <td>241</td>\n",
              "      <td>1</td>\n",
              "    </tr>\n",
              "    <tr>\n",
              "      <th>10</th>\n",
              "      <td>70.0</td>\n",
              "      <td>0</td>\n",
              "      <td>66</td>\n",
              "      <td>1</td>\n",
              "      <td>45</td>\n",
              "      <td>0</td>\n",
              "      <td>249000.00</td>\n",
              "      <td>0.80</td>\n",
              "      <td>136</td>\n",
              "      <td>1</td>\n",
              "      <td>1</td>\n",
              "      <td>80</td>\n",
              "      <td>0</td>\n",
              "    </tr>\n",
              "    <tr>\n",
              "      <th>11</th>\n",
              "      <td>70.0</td>\n",
              "      <td>0</td>\n",
              "      <td>93</td>\n",
              "      <td>0</td>\n",
              "      <td>35</td>\n",
              "      <td>0</td>\n",
              "      <td>185000.00</td>\n",
              "      <td>1.10</td>\n",
              "      <td>134</td>\n",
              "      <td>1</td>\n",
              "      <td>1</td>\n",
              "      <td>208</td>\n",
              "      <td>0</td>\n",
              "    </tr>\n",
              "    <tr>\n",
              "      <th>12</th>\n",
              "      <td>64.0</td>\n",
              "      <td>0</td>\n",
              "      <td>1610</td>\n",
              "      <td>0</td>\n",
              "      <td>60</td>\n",
              "      <td>0</td>\n",
              "      <td>242000.00</td>\n",
              "      <td>1.00</td>\n",
              "      <td>137</td>\n",
              "      <td>1</td>\n",
              "      <td>0</td>\n",
              "      <td>113</td>\n",
              "      <td>0</td>\n",
              "    </tr>\n",
              "    <tr>\n",
              "      <th>13</th>\n",
              "      <td>64.0</td>\n",
              "      <td>0</td>\n",
              "      <td>143</td>\n",
              "      <td>0</td>\n",
              "      <td>25</td>\n",
              "      <td>0</td>\n",
              "      <td>246000.00</td>\n",
              "      <td>2.40</td>\n",
              "      <td>135</td>\n",
              "      <td>1</td>\n",
              "      <td>0</td>\n",
              "      <td>214</td>\n",
              "      <td>0</td>\n",
              "    </tr>\n",
              "    <tr>\n",
              "      <th>14</th>\n",
              "      <td>58.0</td>\n",
              "      <td>0</td>\n",
              "      <td>582</td>\n",
              "      <td>1</td>\n",
              "      <td>25</td>\n",
              "      <td>0</td>\n",
              "      <td>504000.00</td>\n",
              "      <td>1.00</td>\n",
              "      <td>138</td>\n",
              "      <td>1</td>\n",
              "      <td>0</td>\n",
              "      <td>205</td>\n",
              "      <td>0</td>\n",
              "    </tr>\n",
              "    <tr>\n",
              "      <th>15</th>\n",
              "      <td>60.0</td>\n",
              "      <td>0</td>\n",
              "      <td>1896</td>\n",
              "      <td>1</td>\n",
              "      <td>25</td>\n",
              "      <td>0</td>\n",
              "      <td>365000.00</td>\n",
              "      <td>2.10</td>\n",
              "      <td>144</td>\n",
              "      <td>0</td>\n",
              "      <td>0</td>\n",
              "      <td>172</td>\n",
              "      <td>1</td>\n",
              "    </tr>\n",
              "    <tr>\n",
              "      <th>16</th>\n",
              "      <td>80.0</td>\n",
              "      <td>0</td>\n",
              "      <td>898</td>\n",
              "      <td>0</td>\n",
              "      <td>25</td>\n",
              "      <td>0</td>\n",
              "      <td>149000.00</td>\n",
              "      <td>1.10</td>\n",
              "      <td>144</td>\n",
              "      <td>1</td>\n",
              "      <td>1</td>\n",
              "      <td>87</td>\n",
              "      <td>0</td>\n",
              "    </tr>\n",
              "    <tr>\n",
              "      <th>17</th>\n",
              "      <td>60.0</td>\n",
              "      <td>0</td>\n",
              "      <td>320</td>\n",
              "      <td>0</td>\n",
              "      <td>35</td>\n",
              "      <td>0</td>\n",
              "      <td>133000.00</td>\n",
              "      <td>1.40</td>\n",
              "      <td>139</td>\n",
              "      <td>1</td>\n",
              "      <td>0</td>\n",
              "      <td>258</td>\n",
              "      <td>0</td>\n",
              "    </tr>\n",
              "    <tr>\n",
              "      <th>18</th>\n",
              "      <td>80.0</td>\n",
              "      <td>1</td>\n",
              "      <td>553</td>\n",
              "      <td>0</td>\n",
              "      <td>20</td>\n",
              "      <td>1</td>\n",
              "      <td>140000.00</td>\n",
              "      <td>4.40</td>\n",
              "      <td>133</td>\n",
              "      <td>1</td>\n",
              "      <td>0</td>\n",
              "      <td>41</td>\n",
              "      <td>1</td>\n",
              "    </tr>\n",
              "    <tr>\n",
              "      <th>19</th>\n",
              "      <td>61.0</td>\n",
              "      <td>0</td>\n",
              "      <td>248</td>\n",
              "      <td>0</td>\n",
              "      <td>30</td>\n",
              "      <td>1</td>\n",
              "      <td>267000.00</td>\n",
              "      <td>0.70</td>\n",
              "      <td>136</td>\n",
              "      <td>1</td>\n",
              "      <td>1</td>\n",
              "      <td>104</td>\n",
              "      <td>0</td>\n",
              "    </tr>\n",
              "  </tbody>\n",
              "</table>\n",
              "</div>\n",
              "      <button class=\"colab-df-convert\" onclick=\"convertToInteractive('df-9f06153f-662f-4d2d-aee6-a1ffeedf28e2')\"\n",
              "              title=\"Convert this dataframe to an interactive table.\"\n",
              "              style=\"display:none;\">\n",
              "        \n",
              "  <svg xmlns=\"http://www.w3.org/2000/svg\" height=\"24px\"viewBox=\"0 0 24 24\"\n",
              "       width=\"24px\">\n",
              "    <path d=\"M0 0h24v24H0V0z\" fill=\"none\"/>\n",
              "    <path d=\"M18.56 5.44l.94 2.06.94-2.06 2.06-.94-2.06-.94-.94-2.06-.94 2.06-2.06.94zm-11 1L8.5 8.5l.94-2.06 2.06-.94-2.06-.94L8.5 2.5l-.94 2.06-2.06.94zm10 10l.94 2.06.94-2.06 2.06-.94-2.06-.94-.94-2.06-.94 2.06-2.06.94z\"/><path d=\"M17.41 7.96l-1.37-1.37c-.4-.4-.92-.59-1.43-.59-.52 0-1.04.2-1.43.59L10.3 9.45l-7.72 7.72c-.78.78-.78 2.05 0 2.83L4 21.41c.39.39.9.59 1.41.59.51 0 1.02-.2 1.41-.59l7.78-7.78 2.81-2.81c.8-.78.8-2.07 0-2.86zM5.41 20L4 18.59l7.72-7.72 1.47 1.35L5.41 20z\"/>\n",
              "  </svg>\n",
              "      </button>\n",
              "      \n",
              "  <style>\n",
              "    .colab-df-container {\n",
              "      display:flex;\n",
              "      flex-wrap:wrap;\n",
              "      gap: 12px;\n",
              "    }\n",
              "\n",
              "    .colab-df-convert {\n",
              "      background-color: #E8F0FE;\n",
              "      border: none;\n",
              "      border-radius: 50%;\n",
              "      cursor: pointer;\n",
              "      display: none;\n",
              "      fill: #1967D2;\n",
              "      height: 32px;\n",
              "      padding: 0 0 0 0;\n",
              "      width: 32px;\n",
              "    }\n",
              "\n",
              "    .colab-df-convert:hover {\n",
              "      background-color: #E2EBFA;\n",
              "      box-shadow: 0px 1px 2px rgba(60, 64, 67, 0.3), 0px 1px 3px 1px rgba(60, 64, 67, 0.15);\n",
              "      fill: #174EA6;\n",
              "    }\n",
              "\n",
              "    [theme=dark] .colab-df-convert {\n",
              "      background-color: #3B4455;\n",
              "      fill: #D2E3FC;\n",
              "    }\n",
              "\n",
              "    [theme=dark] .colab-df-convert:hover {\n",
              "      background-color: #434B5C;\n",
              "      box-shadow: 0px 1px 3px 1px rgba(0, 0, 0, 0.15);\n",
              "      filter: drop-shadow(0px 1px 2px rgba(0, 0, 0, 0.3));\n",
              "      fill: #FFFFFF;\n",
              "    }\n",
              "  </style>\n",
              "\n",
              "      <script>\n",
              "        const buttonEl =\n",
              "          document.querySelector('#df-9f06153f-662f-4d2d-aee6-a1ffeedf28e2 button.colab-df-convert');\n",
              "        buttonEl.style.display =\n",
              "          google.colab.kernel.accessAllowed ? 'block' : 'none';\n",
              "\n",
              "        async function convertToInteractive(key) {\n",
              "          const element = document.querySelector('#df-9f06153f-662f-4d2d-aee6-a1ffeedf28e2');\n",
              "          const dataTable =\n",
              "            await google.colab.kernel.invokeFunction('convertToInteractive',\n",
              "                                                     [key], {});\n",
              "          if (!dataTable) return;\n",
              "\n",
              "          const docLinkHtml = 'Like what you see? Visit the ' +\n",
              "            '<a target=\"_blank\" href=https://colab.research.google.com/notebooks/data_table.ipynb>data table notebook</a>'\n",
              "            + ' to learn more about interactive tables.';\n",
              "          element.innerHTML = '';\n",
              "          dataTable['output_type'] = 'display_data';\n",
              "          await google.colab.output.renderOutput(dataTable, element);\n",
              "          const docLink = document.createElement('div');\n",
              "          docLink.innerHTML = docLinkHtml;\n",
              "          element.appendChild(docLink);\n",
              "        }\n",
              "      </script>\n",
              "    </div>\n",
              "  </div>\n",
              "  "
            ],
            "text/plain": [
              "     age  anaemia  creatinine_phosphokinase  diabetes  ejection_fraction  \\\n",
              "0   73.0        0                       582         0                 20   \n",
              "1   65.0        1                       113         1                 60   \n",
              "2   50.0        0                       250         0                 25   \n",
              "3   63.0        0                       193         0                 60   \n",
              "4   59.0        1                       176         1                 25   \n",
              "5   72.0        0                       211         0                 25   \n",
              "6   90.0        1                        47         0                 40   \n",
              "7   65.0        0                       582         1                 30   \n",
              "8   50.0        0                       318         0                 40   \n",
              "9   55.0        0                      1199         0                 20   \n",
              "10  70.0        0                        66         1                 45   \n",
              "11  70.0        0                        93         0                 35   \n",
              "12  64.0        0                      1610         0                 60   \n",
              "13  64.0        0                       143         0                 25   \n",
              "14  58.0        0                       582         1                 25   \n",
              "15  60.0        0                      1896         1                 25   \n",
              "16  80.0        0                       898         0                 25   \n",
              "17  60.0        0                       320         0                 35   \n",
              "18  80.0        1                       553         0                 20   \n",
              "19  61.0        0                       248         0                 30   \n",
              "\n",
              "    high_blood_pressure  platelets  serum_creatinine  serum_sodium  sex  \\\n",
              "0                     0  263358.03              1.83           134    1   \n",
              "1                     1  203000.00              0.90           140    0   \n",
              "2                     0  262000.00              1.00           136    1   \n",
              "3                     1  295000.00              1.30           145    1   \n",
              "4                     0  221000.00              1.00           136    1   \n",
              "5                     0  274000.00              1.20           134    0   \n",
              "6                     1  204000.00              2.10           132    1   \n",
              "7                     0  249000.00              1.30           136    1   \n",
              "8                     1  216000.00              2.30           131    0   \n",
              "9                     0  263358.03              1.83           134    1   \n",
              "10                    0  249000.00              0.80           136    1   \n",
              "11                    0  185000.00              1.10           134    1   \n",
              "12                    0  242000.00              1.00           137    1   \n",
              "13                    0  246000.00              2.40           135    1   \n",
              "14                    0  504000.00              1.00           138    1   \n",
              "15                    0  365000.00              2.10           144    0   \n",
              "16                    0  149000.00              1.10           144    1   \n",
              "17                    0  133000.00              1.40           139    1   \n",
              "18                    1  140000.00              4.40           133    1   \n",
              "19                    1  267000.00              0.70           136    1   \n",
              "\n",
              "    smoking  time  DEATH_EVENT  \n",
              "0         0   198            1  \n",
              "1         0    94            0  \n",
              "2         1   120            0  \n",
              "3         1   107            0  \n",
              "4         1   150            1  \n",
              "5         0   207            0  \n",
              "6         1     8            1  \n",
              "7         1   212            0  \n",
              "8         0    60            1  \n",
              "9         1   241            1  \n",
              "10        1    80            0  \n",
              "11        1   208            0  \n",
              "12        0   113            0  \n",
              "13        0   214            0  \n",
              "14        0   205            0  \n",
              "15        0   172            1  \n",
              "16        1    87            0  \n",
              "17        0   258            0  \n",
              "18        0    41            1  \n",
              "19        1   104            0  "
            ]
          },
          "execution_count": 285,
          "metadata": {},
          "output_type": "execute_result"
        }
      ],
      "source": [
        "#reset index to reduce error\n",
        "data_train_test.reset_index(drop= True, inplace=True)\n",
        "data_inf.reset_index(drop=True, inplace=True)\n",
        "data_inf"
      ]
    },
    {
      "cell_type": "markdown",
      "metadata": {
        "id": "k1qLMhxTJrSW"
      },
      "source": [
        "## Splitting between `X` (Features) and `y` (Target)"
      ]
    },
    {
      "cell_type": "code",
      "execution_count": 286,
      "metadata": {
        "colab": {
          "base_uri": "https://localhost:8080/",
          "height": 487
        },
        "id": "hLnzh8l4Jtmx",
        "outputId": "9955eeb2-43f3-43ad-9836-301cc1c8e3e6"
      },
      "outputs": [
        {
          "data": {
            "text/html": [
              "\n",
              "  <div id=\"df-fedea070-ef07-4eb5-8bfa-ca8b4fdc1ce5\">\n",
              "    <div class=\"colab-df-container\">\n",
              "      <div>\n",
              "<style scoped>\n",
              "    .dataframe tbody tr th:only-of-type {\n",
              "        vertical-align: middle;\n",
              "    }\n",
              "\n",
              "    .dataframe tbody tr th {\n",
              "        vertical-align: top;\n",
              "    }\n",
              "\n",
              "    .dataframe thead th {\n",
              "        text-align: right;\n",
              "    }\n",
              "</style>\n",
              "<table border=\"1\" class=\"dataframe\">\n",
              "  <thead>\n",
              "    <tr style=\"text-align: right;\">\n",
              "      <th></th>\n",
              "      <th>age</th>\n",
              "      <th>anaemia</th>\n",
              "      <th>creatinine_phosphokinase</th>\n",
              "      <th>diabetes</th>\n",
              "      <th>ejection_fraction</th>\n",
              "      <th>high_blood_pressure</th>\n",
              "      <th>platelets</th>\n",
              "      <th>serum_creatinine</th>\n",
              "      <th>serum_sodium</th>\n",
              "      <th>sex</th>\n",
              "      <th>smoking</th>\n",
              "      <th>time</th>\n",
              "    </tr>\n",
              "  </thead>\n",
              "  <tbody>\n",
              "    <tr>\n",
              "      <th>0</th>\n",
              "      <td>42.0</td>\n",
              "      <td>1</td>\n",
              "      <td>250</td>\n",
              "      <td>1</td>\n",
              "      <td>15</td>\n",
              "      <td>0</td>\n",
              "      <td>213000.00</td>\n",
              "      <td>1.3</td>\n",
              "      <td>136</td>\n",
              "      <td>0</td>\n",
              "      <td>0</td>\n",
              "      <td>65</td>\n",
              "    </tr>\n",
              "    <tr>\n",
              "      <th>1</th>\n",
              "      <td>46.0</td>\n",
              "      <td>0</td>\n",
              "      <td>168</td>\n",
              "      <td>1</td>\n",
              "      <td>17</td>\n",
              "      <td>1</td>\n",
              "      <td>271000.00</td>\n",
              "      <td>2.1</td>\n",
              "      <td>124</td>\n",
              "      <td>0</td>\n",
              "      <td>0</td>\n",
              "      <td>100</td>\n",
              "    </tr>\n",
              "    <tr>\n",
              "      <th>2</th>\n",
              "      <td>65.0</td>\n",
              "      <td>1</td>\n",
              "      <td>160</td>\n",
              "      <td>1</td>\n",
              "      <td>20</td>\n",
              "      <td>0</td>\n",
              "      <td>327000.00</td>\n",
              "      <td>2.7</td>\n",
              "      <td>116</td>\n",
              "      <td>0</td>\n",
              "      <td>0</td>\n",
              "      <td>8</td>\n",
              "    </tr>\n",
              "    <tr>\n",
              "      <th>3</th>\n",
              "      <td>53.0</td>\n",
              "      <td>1</td>\n",
              "      <td>91</td>\n",
              "      <td>0</td>\n",
              "      <td>20</td>\n",
              "      <td>1</td>\n",
              "      <td>418000.00</td>\n",
              "      <td>1.4</td>\n",
              "      <td>139</td>\n",
              "      <td>0</td>\n",
              "      <td>0</td>\n",
              "      <td>43</td>\n",
              "    </tr>\n",
              "    <tr>\n",
              "      <th>4</th>\n",
              "      <td>50.0</td>\n",
              "      <td>1</td>\n",
              "      <td>582</td>\n",
              "      <td>1</td>\n",
              "      <td>20</td>\n",
              "      <td>1</td>\n",
              "      <td>279000.00</td>\n",
              "      <td>1.0</td>\n",
              "      <td>134</td>\n",
              "      <td>0</td>\n",
              "      <td>0</td>\n",
              "      <td>186</td>\n",
              "    </tr>\n",
              "    <tr>\n",
              "      <th>...</th>\n",
              "      <td>...</td>\n",
              "      <td>...</td>\n",
              "      <td>...</td>\n",
              "      <td>...</td>\n",
              "      <td>...</td>\n",
              "      <td>...</td>\n",
              "      <td>...</td>\n",
              "      <td>...</td>\n",
              "      <td>...</td>\n",
              "      <td>...</td>\n",
              "      <td>...</td>\n",
              "      <td>...</td>\n",
              "    </tr>\n",
              "    <tr>\n",
              "      <th>274</th>\n",
              "      <td>63.0</td>\n",
              "      <td>1</td>\n",
              "      <td>122</td>\n",
              "      <td>1</td>\n",
              "      <td>60</td>\n",
              "      <td>0</td>\n",
              "      <td>267000.00</td>\n",
              "      <td>1.2</td>\n",
              "      <td>145</td>\n",
              "      <td>1</td>\n",
              "      <td>0</td>\n",
              "      <td>147</td>\n",
              "    </tr>\n",
              "    <tr>\n",
              "      <th>275</th>\n",
              "      <td>45.0</td>\n",
              "      <td>0</td>\n",
              "      <td>308</td>\n",
              "      <td>1</td>\n",
              "      <td>60</td>\n",
              "      <td>1</td>\n",
              "      <td>377000.00</td>\n",
              "      <td>1.0</td>\n",
              "      <td>136</td>\n",
              "      <td>1</td>\n",
              "      <td>0</td>\n",
              "      <td>186</td>\n",
              "    </tr>\n",
              "    <tr>\n",
              "      <th>276</th>\n",
              "      <td>70.0</td>\n",
              "      <td>0</td>\n",
              "      <td>97</td>\n",
              "      <td>0</td>\n",
              "      <td>60</td>\n",
              "      <td>1</td>\n",
              "      <td>220000.00</td>\n",
              "      <td>0.9</td>\n",
              "      <td>138</td>\n",
              "      <td>1</td>\n",
              "      <td>0</td>\n",
              "      <td>186</td>\n",
              "    </tr>\n",
              "    <tr>\n",
              "      <th>277</th>\n",
              "      <td>53.0</td>\n",
              "      <td>1</td>\n",
              "      <td>446</td>\n",
              "      <td>0</td>\n",
              "      <td>60</td>\n",
              "      <td>1</td>\n",
              "      <td>263358.03</td>\n",
              "      <td>1.0</td>\n",
              "      <td>139</td>\n",
              "      <td>1</td>\n",
              "      <td>0</td>\n",
              "      <td>215</td>\n",
              "    </tr>\n",
              "    <tr>\n",
              "      <th>278</th>\n",
              "      <td>50.0</td>\n",
              "      <td>0</td>\n",
              "      <td>582</td>\n",
              "      <td>0</td>\n",
              "      <td>62</td>\n",
              "      <td>1</td>\n",
              "      <td>147000.00</td>\n",
              "      <td>0.8</td>\n",
              "      <td>140</td>\n",
              "      <td>1</td>\n",
              "      <td>1</td>\n",
              "      <td>192</td>\n",
              "    </tr>\n",
              "  </tbody>\n",
              "</table>\n",
              "<p>279 rows × 12 columns</p>\n",
              "</div>\n",
              "      <button class=\"colab-df-convert\" onclick=\"convertToInteractive('df-fedea070-ef07-4eb5-8bfa-ca8b4fdc1ce5')\"\n",
              "              title=\"Convert this dataframe to an interactive table.\"\n",
              "              style=\"display:none;\">\n",
              "        \n",
              "  <svg xmlns=\"http://www.w3.org/2000/svg\" height=\"24px\"viewBox=\"0 0 24 24\"\n",
              "       width=\"24px\">\n",
              "    <path d=\"M0 0h24v24H0V0z\" fill=\"none\"/>\n",
              "    <path d=\"M18.56 5.44l.94 2.06.94-2.06 2.06-.94-2.06-.94-.94-2.06-.94 2.06-2.06.94zm-11 1L8.5 8.5l.94-2.06 2.06-.94-2.06-.94L8.5 2.5l-.94 2.06-2.06.94zm10 10l.94 2.06.94-2.06 2.06-.94-2.06-.94-.94-2.06-.94 2.06-2.06.94z\"/><path d=\"M17.41 7.96l-1.37-1.37c-.4-.4-.92-.59-1.43-.59-.52 0-1.04.2-1.43.59L10.3 9.45l-7.72 7.72c-.78.78-.78 2.05 0 2.83L4 21.41c.39.39.9.59 1.41.59.51 0 1.02-.2 1.41-.59l7.78-7.78 2.81-2.81c.8-.78.8-2.07 0-2.86zM5.41 20L4 18.59l7.72-7.72 1.47 1.35L5.41 20z\"/>\n",
              "  </svg>\n",
              "      </button>\n",
              "      \n",
              "  <style>\n",
              "    .colab-df-container {\n",
              "      display:flex;\n",
              "      flex-wrap:wrap;\n",
              "      gap: 12px;\n",
              "    }\n",
              "\n",
              "    .colab-df-convert {\n",
              "      background-color: #E8F0FE;\n",
              "      border: none;\n",
              "      border-radius: 50%;\n",
              "      cursor: pointer;\n",
              "      display: none;\n",
              "      fill: #1967D2;\n",
              "      height: 32px;\n",
              "      padding: 0 0 0 0;\n",
              "      width: 32px;\n",
              "    }\n",
              "\n",
              "    .colab-df-convert:hover {\n",
              "      background-color: #E2EBFA;\n",
              "      box-shadow: 0px 1px 2px rgba(60, 64, 67, 0.3), 0px 1px 3px 1px rgba(60, 64, 67, 0.15);\n",
              "      fill: #174EA6;\n",
              "    }\n",
              "\n",
              "    [theme=dark] .colab-df-convert {\n",
              "      background-color: #3B4455;\n",
              "      fill: #D2E3FC;\n",
              "    }\n",
              "\n",
              "    [theme=dark] .colab-df-convert:hover {\n",
              "      background-color: #434B5C;\n",
              "      box-shadow: 0px 1px 3px 1px rgba(0, 0, 0, 0.15);\n",
              "      filter: drop-shadow(0px 1px 2px rgba(0, 0, 0, 0.3));\n",
              "      fill: #FFFFFF;\n",
              "    }\n",
              "  </style>\n",
              "\n",
              "      <script>\n",
              "        const buttonEl =\n",
              "          document.querySelector('#df-fedea070-ef07-4eb5-8bfa-ca8b4fdc1ce5 button.colab-df-convert');\n",
              "        buttonEl.style.display =\n",
              "          google.colab.kernel.accessAllowed ? 'block' : 'none';\n",
              "\n",
              "        async function convertToInteractive(key) {\n",
              "          const element = document.querySelector('#df-fedea070-ef07-4eb5-8bfa-ca8b4fdc1ce5');\n",
              "          const dataTable =\n",
              "            await google.colab.kernel.invokeFunction('convertToInteractive',\n",
              "                                                     [key], {});\n",
              "          if (!dataTable) return;\n",
              "\n",
              "          const docLinkHtml = 'Like what you see? Visit the ' +\n",
              "            '<a target=\"_blank\" href=https://colab.research.google.com/notebooks/data_table.ipynb>data table notebook</a>'\n",
              "            + ' to learn more about interactive tables.';\n",
              "          element.innerHTML = '';\n",
              "          dataTable['output_type'] = 'display_data';\n",
              "          await google.colab.output.renderOutput(dataTable, element);\n",
              "          const docLink = document.createElement('div');\n",
              "          docLink.innerHTML = docLinkHtml;\n",
              "          element.appendChild(docLink);\n",
              "        }\n",
              "      </script>\n",
              "    </div>\n",
              "  </div>\n",
              "  "
            ],
            "text/plain": [
              "      age  anaemia  creatinine_phosphokinase  diabetes  ejection_fraction  \\\n",
              "0    42.0        1                       250         1                 15   \n",
              "1    46.0        0                       168         1                 17   \n",
              "2    65.0        1                       160         1                 20   \n",
              "3    53.0        1                        91         0                 20   \n",
              "4    50.0        1                       582         1                 20   \n",
              "..    ...      ...                       ...       ...                ...   \n",
              "274  63.0        1                       122         1                 60   \n",
              "275  45.0        0                       308         1                 60   \n",
              "276  70.0        0                        97         0                 60   \n",
              "277  53.0        1                       446         0                 60   \n",
              "278  50.0        0                       582         0                 62   \n",
              "\n",
              "     high_blood_pressure  platelets  serum_creatinine  serum_sodium  sex  \\\n",
              "0                      0  213000.00               1.3           136    0   \n",
              "1                      1  271000.00               2.1           124    0   \n",
              "2                      0  327000.00               2.7           116    0   \n",
              "3                      1  418000.00               1.4           139    0   \n",
              "4                      1  279000.00               1.0           134    0   \n",
              "..                   ...        ...               ...           ...  ...   \n",
              "274                    0  267000.00               1.2           145    1   \n",
              "275                    1  377000.00               1.0           136    1   \n",
              "276                    1  220000.00               0.9           138    1   \n",
              "277                    1  263358.03               1.0           139    1   \n",
              "278                    1  147000.00               0.8           140    1   \n",
              "\n",
              "     smoking  time  \n",
              "0          0    65  \n",
              "1          0   100  \n",
              "2          0     8  \n",
              "3          0    43  \n",
              "4          0   186  \n",
              "..       ...   ...  \n",
              "274        0   147  \n",
              "275        0   186  \n",
              "276        0   186  \n",
              "277        0   215  \n",
              "278        1   192  \n",
              "\n",
              "[279 rows x 12 columns]"
            ]
          },
          "execution_count": 286,
          "metadata": {},
          "output_type": "execute_result"
        }
      ],
      "source": [
        "# Split between `X` (Features) and `y` (Target)\n",
        "\n",
        "X = data_train_test.drop('DEATH_EVENT', axis=1)\n",
        "y = data_train_test['DEATH_EVENT']\n",
        "X"
      ]
    },
    {
      "cell_type": "code",
      "execution_count": 287,
      "metadata": {
        "colab": {
          "base_uri": "https://localhost:8080/"
        },
        "id": "IILl3AgbJ4rQ",
        "outputId": "5513f371-2a50-4e90-fd5f-ad03bdfbd894"
      },
      "outputs": [
        {
          "name": "stdout",
          "output_type": "stream",
          "text": [
            "Train Size :  (223, 12)\n",
            "Test Size  :  (56, 12)\n"
          ]
        }
      ],
      "source": [
        "# Split between Train-Set and Test-Set 80% dan 20%\n",
        "X_train, X_test, y_train, y_test = train_test_split(X, y, test_size=0.2, random_state=17)\n",
        "\n",
        "print('Train Size : ', X_train.shape)\n",
        "print('Test Size  : ', X_test.shape)"
      ]
    },
    {
      "cell_type": "markdown",
      "metadata": {
        "id": "0glFL5BjKABx"
      },
      "source": [
        "## Handling outliers"
      ]
    },
    {
      "cell_type": "code",
      "execution_count": 288,
      "metadata": {
        "id": "0vznx-I68BMd"
      },
      "outputs": [],
      "source": [
        "#membuat fungsi IQR untuk deteksi outlier, dipakai jika data itu skew\n",
        "def find_skewed_boundaries(df, variable, distance):\n",
        "    IQR = df[variable].quantile(0.75) - df[variable].quantile(0.25)\n",
        "\n",
        "    lower_boundary = df[variable].quantile(0.25) - (IQR * distance)\n",
        "    upper_boundary = df[variable].quantile(0.75) + (IQR * distance)\n",
        "\n",
        "    return upper_boundary, lower_boundary"
      ]
    },
    {
      "cell_type": "code",
      "execution_count": 289,
      "metadata": {
        "id": "6XZSBkYeKIrb"
      },
      "outputs": [],
      "source": [
        "#membuat fungsi untuk deteksi outlier, dipakai jika data itu tidak skew atau distribusi normal\n",
        "def find_normal_boundaries(X_train, variable):\n",
        "    upper_boundary = X_train[variable].mean() + 3 * X_train[variable].std()\n",
        "    lower_boundary = X_train[variable].mean() - 3 * X_train[variable].std()\n",
        "\n",
        "    return upper_boundary, lower_boundary"
      ]
    },
    {
      "cell_type": "markdown",
      "metadata": {
        "id": "NKvnfF0g5Nr1"
      },
      "source": [
        "<b><h1>limit_balance</h1></b>"
      ]
    },
    {
      "cell_type": "code",
      "execution_count": 290,
      "metadata": {
        "colab": {
          "base_uri": "https://localhost:8080/"
        },
        "id": "hin5lw_YAHGN",
        "outputId": "fd6e750a-2046-4407-fcd7-7569c89cd029"
      },
      "outputs": [
        {
          "data": {
            "text/plain": [
              "0.4230619067286355"
            ]
          },
          "execution_count": 290,
          "metadata": {},
          "output_type": "execute_result"
        }
      ],
      "source": [
        "#Cek Skew\n",
        "data['age'].skew()"
      ]
    },
    {
      "cell_type": "markdown",
      "metadata": {
        "id": "9VJUtOK0DK5-"
      },
      "source": [
        "data <b> tidak skew</b> karena kurang dari 0,5"
      ]
    },
    {
      "cell_type": "code",
      "execution_count": 291,
      "metadata": {
        "colab": {
          "base_uri": "https://localhost:8080/"
        },
        "id": "CdrxNH5LKLv4",
        "outputId": "6dea3c71-d7c4-4d80-f07f-2b5cf2df6f8a"
      },
      "outputs": [
        {
          "data": {
            "text/plain": [
              "(95.55986674519107, 24.640438187544348)"
            ]
          },
          "execution_count": 291,
          "metadata": {},
          "output_type": "execute_result"
        }
      ],
      "source": [
        "# calculate boundaries for age\n",
        "upper_boundary_age, lower_boundary_age = find_normal_boundaries(X_train, 'age')\n",
        "upper_boundary_age, lower_boundary_age"
      ]
    },
    {
      "cell_type": "markdown",
      "metadata": {
        "id": "x-azMD3iCJdw"
      },
      "source": [
        "Karena data tidak <b>skew</b>,peneliti memakai normal bundaries untuk mencari upper dan lower"
      ]
    },
    {
      "cell_type": "code",
      "execution_count": 292,
      "metadata": {
        "colab": {
          "base_uri": "https://localhost:8080/"
        },
        "id": "PzecKMEU47e9",
        "outputId": "c461502c-4ea3-4a11-904c-61d4bb4f3314"
      },
      "outputs": [
        {
          "name": "stdout",
          "output_type": "stream",
          "text": [
            "95.55986674519107 24.640438187544348\n",
            "age : 223\n",
            "age bigger than 95  : 0\n",
            "\n",
            "limit_balance bigger than 95: 0.0\n"
          ]
        }
      ],
      "source": [
        "#melihat jumlah dan persentasi age\n",
        "print(upper_boundary_age, lower_boundary_age)\n",
        "print('age : {}'.format(len(X_train)))\n",
        "print('age bigger than 95  : {}'.format(len(X_train[X_train['age'] > upper_boundary_age])))\n",
        "print('')\n",
        "print('limit_balance bigger than 95: {}'.format(len(X_train[X_train['age'] > upper_boundary_age])/len(X_train) * 100))"
      ]
    },
    {
      "cell_type": "markdown",
      "metadata": {
        "id": "6Z8ifxpICj4p"
      },
      "source": [
        "Ada <b>223</b> data Upper, dan <b>0%</b> dari banyaknya data di column <b>age</b>"
      ]
    },
    {
      "cell_type": "markdown",
      "metadata": {
        "id": "jUahy-fU5XFJ"
      },
      "source": [
        "<b><h1>ejection_fraction</h1></b>"
      ]
    },
    {
      "cell_type": "code",
      "execution_count": 293,
      "metadata": {
        "colab": {
          "base_uri": "https://localhost:8080/"
        },
        "id": "drI4MoTUDFiw",
        "outputId": "de6f9403-9106-4eca-a852-01d717af8401"
      },
      "outputs": [
        {
          "data": {
            "text/plain": [
              "0.5553827516973213"
            ]
          },
          "execution_count": 293,
          "metadata": {},
          "output_type": "execute_result"
        }
      ],
      "source": [
        "#Cek Skew\n",
        "data['ejection_fraction'].skew()"
      ]
    },
    {
      "cell_type": "markdown",
      "metadata": {
        "id": "Gs9tBhMGDSr9"
      },
      "source": [
        "data <b>tidak skew</b> karena pas dari 0,5"
      ]
    },
    {
      "cell_type": "code",
      "execution_count": 294,
      "metadata": {
        "colab": {
          "base_uri": "https://localhost:8080/"
        },
        "id": "fh7Cgh-oKdxP",
        "outputId": "536650db-619e-4667-c556-b528b8d3a961"
      },
      "outputs": [
        {
          "data": {
            "text/plain": [
              "(72.56097136393461, 3.627369443240269)"
            ]
          },
          "execution_count": 294,
          "metadata": {},
          "output_type": "execute_result"
        }
      ],
      "source": [
        "# calculate boundaries for ejection_fraction\n",
        "upper_boundary_ejection_fraction, lower_boundary_ejection_fraction = find_normal_boundaries(X_train, 'ejection_fraction')\n",
        "upper_boundary_ejection_fraction, lower_boundary_ejection_fraction"
      ]
    },
    {
      "cell_type": "markdown",
      "metadata": {
        "id": "Yn-G4I7lDtQ_"
      },
      "source": [
        "Karena data tidak <b>skew</b>,peneliti memakai normal bundaries untuk mencari upper dan lower"
      ]
    },
    {
      "cell_type": "code",
      "execution_count": 295,
      "metadata": {
        "colab": {
          "base_uri": "https://localhost:8080/"
        },
        "id": "uRSM9Mn_DzBp",
        "outputId": "016785cb-ac19-4798-ed35-aeab0896fd8c"
      },
      "outputs": [
        {
          "name": "stdout",
          "output_type": "stream",
          "text": [
            "72.56097136393461 3.627369443240269\n",
            "ejection_fraction : 223\n",
            "ejection_fraction bigger than 72   : 1\n",
            "\n",
            "ejection_fraction bigger than 72: 0.4484304932735426\n"
          ]
        }
      ],
      "source": [
        "#melihat jumlah dan persentasi ejection_fraction\n",
        "print(upper_boundary_ejection_fraction, lower_boundary_ejection_fraction)\n",
        "print('ejection_fraction : {}'.format(len(X_train)))\n",
        "print('ejection_fraction bigger than 72   : {}'.format(len(X_train[X_train['ejection_fraction'] > upper_boundary_ejection_fraction])))\n",
        "print('')\n",
        "print('ejection_fraction bigger than 72: {}'.format(len(X_train[X_train['ejection_fraction'] > upper_boundary_ejection_fraction])/len(X_train) * 100))"
      ]
    },
    {
      "cell_type": "markdown",
      "metadata": {
        "id": "uQ_jywv0Fhbh"
      },
      "source": [
        "Ada <b>1</b> data terdeteksi <b>outlier dan sekitar 0.4%</b> dari banyaknya data"
      ]
    },
    {
      "cell_type": "markdown",
      "metadata": {
        "id": "x2236rFYGUMt"
      },
      "source": [
        "<b><h1>serum_creatinine<h1></b>"
      ]
    },
    {
      "cell_type": "code",
      "execution_count": 296,
      "metadata": {
        "colab": {
          "base_uri": "https://localhost:8080/"
        },
        "id": "3NR-NEmSGkyx",
        "outputId": "14deed65-4fdc-47f1-9fbe-d5243e5e57df"
      },
      "outputs": [
        {
          "data": {
            "text/plain": [
              "4.455995882049029"
            ]
          },
          "execution_count": 296,
          "metadata": {},
          "output_type": "execute_result"
        }
      ],
      "source": [
        "#Cek Skew\n",
        "data['serum_creatinine'].skew()"
      ]
    },
    {
      "cell_type": "markdown",
      "metadata": {
        "id": "algG30PsGtZw"
      },
      "source": [
        "data <b>tidak skew</b> karena kurang dari 0,5"
      ]
    },
    {
      "cell_type": "code",
      "execution_count": 297,
      "metadata": {
        "colab": {
          "base_uri": "https://localhost:8080/"
        },
        "id": "Mtim5SYnKjSn",
        "outputId": "1eaa9499-fc38-4816-de8f-38a2bbe5f161"
      },
      "outputs": [
        {
          "data": {
            "text/plain": [
              "(4.001049626395929, -1.3352200299833727)"
            ]
          },
          "execution_count": 297,
          "metadata": {},
          "output_type": "execute_result"
        }
      ],
      "source": [
        "# calculate boundaries for ejection_fraction\n",
        "upper_boundary_serum_creatinine, lower_boundary_serum_creatinine = find_normal_boundaries(X_train, 'serum_creatinine')\n",
        "upper_boundary_serum_creatinine, lower_boundary_serum_creatinine"
      ]
    },
    {
      "cell_type": "markdown",
      "metadata": {
        "id": "ib1AGtFHG9Dg"
      },
      "source": [
        "Karena data tidak <b>skew</b>,peneliti memakai normal bundaries untuk mencari upper dan lower"
      ]
    },
    {
      "cell_type": "code",
      "execution_count": 298,
      "metadata": {
        "colab": {
          "base_uri": "https://localhost:8080/"
        },
        "id": "oWWBAJp-HAP2",
        "outputId": "42f5fd04-df3c-4100-d29b-770f188b557e"
      },
      "outputs": [
        {
          "name": "stdout",
          "output_type": "stream",
          "text": [
            "4.001049626395929 -1.3352200299833727\n",
            "serum_creatinine : 223\n",
            "serum_creatinine bigger than 4  : 3\n",
            "\n",
            "serum_creatinine bigger than 4: 1.345291479820628\n"
          ]
        }
      ],
      "source": [
        "#melihat jumlah dan persentasi serum_creatinine\n",
        "print(upper_boundary_serum_creatinine, lower_boundary_serum_creatinine)\n",
        "print('serum_creatinine : {}'.format(len(X_train)))\n",
        "print('serum_creatinine bigger than 4  : {}'.format(len(X_train[X_train['serum_creatinine'] > upper_boundary_serum_creatinine])))\n",
        "print('')\n",
        "print('serum_creatinine bigger than 4: {}'.format(len(X_train[X_train['serum_creatinine'] > upper_boundary_serum_creatinine])/len(X_train) * 100))"
      ]
    },
    {
      "cell_type": "markdown",
      "metadata": {
        "id": "VdLtw6quHPd9"
      },
      "source": [
        "Ada <b>223</b> data, terdeteksi <b>outlier ada 3, dan sekitar 1.3%</b> dari banyaknya data"
      ]
    },
    {
      "cell_type": "markdown",
      "metadata": {
        "id": "KinCBDKOHYX9"
      },
      "source": [
        "<b><h1>serum_sodium</h1></b>"
      ]
    },
    {
      "cell_type": "code",
      "execution_count": 299,
      "metadata": {
        "colab": {
          "base_uri": "https://localhost:8080/"
        },
        "id": "0Z_Ry2VOIH7h",
        "outputId": "941eec5d-c3a9-483b-a606-01995466e748"
      },
      "outputs": [
        {
          "data": {
            "text/plain": [
              "-1.0481360160574988"
            ]
          },
          "execution_count": 299,
          "metadata": {},
          "output_type": "execute_result"
        }
      ],
      "source": [
        "#Cek Skew\n",
        "data['serum_sodium'].skew()"
      ]
    },
    {
      "cell_type": "markdown",
      "metadata": {
        "id": "_k9XN1yQIMkM"
      },
      "source": [
        "data <b>skew</b> karena lebih dari 0,5"
      ]
    },
    {
      "cell_type": "code",
      "execution_count": 300,
      "metadata": {
        "colab": {
          "base_uri": "https://localhost:8080/"
        },
        "id": "drUV81U-KrY9",
        "outputId": "38eb7328-8488-4c3d-a115-52a5cb3a5d6b"
      },
      "outputs": [
        {
          "data": {
            "text/plain": [
              "(149.0, 125.0)"
            ]
          },
          "execution_count": 300,
          "metadata": {},
          "output_type": "execute_result"
        }
      ],
      "source": [
        "# calculate boundaries for limit_balance IQR\n",
        "upper_boundary_serum_sodium, lower_boundary_serum_sodium = find_skewed_boundaries(X_train,'serum_sodium',1.5)\n",
        "upper_boundary_serum_sodium, lower_boundary_serum_sodium"
      ]
    },
    {
      "cell_type": "code",
      "execution_count": 301,
      "metadata": {
        "colab": {
          "base_uri": "https://localhost:8080/"
        },
        "id": "ZTibwE9UIaa7",
        "outputId": "95e75997-337f-4b6f-a1dd-e38dae0074c2"
      },
      "outputs": [
        {
          "name": "stdout",
          "output_type": "stream",
          "text": [
            "149.0 125.0\n",
            "serum_sodium : 223\n",
            "payserum_sodium_ bigger than 149  : 0\n",
            "\n",
            "serum_sodium bigger than 149: 0.0\n"
          ]
        }
      ],
      "source": [
        "#melihat jumlah dan persentasi serum_sodium\n",
        "print(upper_boundary_serum_sodium, lower_boundary_serum_sodium)\n",
        "print('serum_sodium : {}'.format(len(X_train)))\n",
        "print('payserum_sodium_ bigger than 149  : {}'.format(len(X_train[X_train['serum_sodium'] > upper_boundary_serum_sodium])))\n",
        "print('')\n",
        "print('serum_sodium bigger than 149: {}'.format(len(X_train[X_train['serum_sodium'] > upper_boundary_serum_sodium])/len(X_train) * 100))"
      ]
    },
    {
      "cell_type": "markdown",
      "metadata": {
        "id": "11uMlbgvIzCR"
      },
      "source": [
        "Ada <b>331</b> data, terdeteksi <b>outlier 0 dan sekitar 0%</b> dari banyaknya data"
      ]
    },
    {
      "cell_type": "markdown",
      "metadata": {
        "id": "G6vtNNnpHkEt"
      },
      "source": [
        "<b><h1>time</h1></b>"
      ]
    },
    {
      "cell_type": "code",
      "execution_count": 302,
      "metadata": {
        "colab": {
          "base_uri": "https://localhost:8080/"
        },
        "id": "ZnngMl4KJPLX",
        "outputId": "f3b41767-5bef-4a77-c3c9-a03a84aa6905"
      },
      "outputs": [
        {
          "data": {
            "text/plain": [
              "0.12780264559841178"
            ]
          },
          "execution_count": 302,
          "metadata": {},
          "output_type": "execute_result"
        }
      ],
      "source": [
        "#Cek Skew\n",
        "data['time'].skew()"
      ]
    },
    {
      "cell_type": "markdown",
      "metadata": {
        "id": "sA6g9WkyJUJx"
      },
      "source": [
        "data <b>tidak skew</b> karena pas dari 0,5"
      ]
    },
    {
      "cell_type": "code",
      "execution_count": 303,
      "metadata": {
        "colab": {
          "base_uri": "https://localhost:8080/"
        },
        "id": "67sI57HwJZSJ",
        "outputId": "486edc76-98b7-4a9a-946a-c54daa774d99"
      },
      "outputs": [
        {
          "data": {
            "text/plain": [
              "(365.3686989899161, -102.69605325000578)"
            ]
          },
          "execution_count": 303,
          "metadata": {},
          "output_type": "execute_result"
        }
      ],
      "source": [
        "# calculate boundaries for time\n",
        "upper_boundary_time, lower_boundary_time = find_normal_boundaries(X_train, 'time')\n",
        "upper_boundary_time, lower_boundary_time"
      ]
    },
    {
      "cell_type": "code",
      "execution_count": 304,
      "metadata": {
        "colab": {
          "base_uri": "https://localhost:8080/"
        },
        "id": "W6L4C86QJlnp",
        "outputId": "ab333cfb-c77d-4731-c928-2a4ca0528bd8"
      },
      "outputs": [
        {
          "name": "stdout",
          "output_type": "stream",
          "text": [
            "365.3686989899161 -102.69605325000578\n",
            "time : 223\n",
            "time bigger than 365   : 0\n",
            "\n",
            "time bigger than 365: 0.0\n"
          ]
        }
      ],
      "source": [
        "#melihat jumlah dan persentasi time\n",
        "print(upper_boundary_time, lower_boundary_time)\n",
        "print('time : {}'.format(len(X_train)))\n",
        "print('time bigger than 365   : {}'.format(len(X_train[X_train['time'] > upper_boundary_time])))\n",
        "print('')\n",
        "print('time bigger than 365: {}'.format(len(X_train[X_train['time'] > upper_boundary_time])/len(X_train) * 100))"
      ]
    },
    {
      "cell_type": "markdown",
      "metadata": {
        "id": "TwpUjJaoJ2L3"
      },
      "source": [
        "Ada <b>223</b> data terdeteksi <b>outlier 0 dan sekitar 0%</b> dari banyaknya data"
      ]
    },
    {
      "cell_type": "markdown",
      "metadata": {
        "id": "zOfdYzCiacHJ"
      },
      "source": [
        "<b><h1>Setelah peneliti lihat untuk disemua status data masih valid jadi peneliti tidak melakukan trimm atau censoring </h1></b>"
      ]
    },
    {
      "cell_type": "markdown",
      "metadata": {
        "id": "TUFcD_WEbsQc"
      },
      "source": [
        "## Handling missing Value"
      ]
    },
    {
      "cell_type": "code",
      "execution_count": 305,
      "metadata": {
        "colab": {
          "base_uri": "https://localhost:8080/"
        },
        "id": "ePN7E0TQbuOD",
        "outputId": "9e59bccb-517e-4aeb-a8e3-8cd1b9ddcc52"
      },
      "outputs": [
        {
          "data": {
            "text/plain": [
              "age                         0\n",
              "anaemia                     0\n",
              "creatinine_phosphokinase    0\n",
              "diabetes                    0\n",
              "ejection_fraction           0\n",
              "high_blood_pressure         0\n",
              "platelets                   0\n",
              "serum_creatinine            0\n",
              "serum_sodium                0\n",
              "sex                         0\n",
              "smoking                     0\n",
              "time                        0\n",
              "dtype: int64"
            ]
          },
          "execution_count": 305,
          "metadata": {},
          "output_type": "execute_result"
        }
      ],
      "source": [
        "# Check Missing Values in `X_train`\n",
        "X_train.isnull().sum()"
      ]
    },
    {
      "cell_type": "code",
      "execution_count": 306,
      "metadata": {
        "colab": {
          "base_uri": "https://localhost:8080/"
        },
        "id": "ep7jmIWSbxcU",
        "outputId": "d8798df0-699f-4bd0-ff0d-69544cde38a9"
      },
      "outputs": [
        {
          "data": {
            "text/plain": [
              "age                         0\n",
              "anaemia                     0\n",
              "creatinine_phosphokinase    0\n",
              "diabetes                    0\n",
              "ejection_fraction           0\n",
              "high_blood_pressure         0\n",
              "platelets                   0\n",
              "serum_creatinine            0\n",
              "serum_sodium                0\n",
              "sex                         0\n",
              "smoking                     0\n",
              "time                        0\n",
              "dtype: int64"
            ]
          },
          "execution_count": 306,
          "metadata": {},
          "output_type": "execute_result"
        }
      ],
      "source": [
        "# Check Missing Values in `X_test`\n",
        "\n",
        "X_test.isnull().sum()"
      ]
    },
    {
      "cell_type": "code",
      "execution_count": 307,
      "metadata": {
        "colab": {
          "base_uri": "https://localhost:8080/"
        },
        "id": "V32hv6dGb1Ry",
        "outputId": "ea8ce43b-5b2b-4cd2-c7e3-bde014f525d8"
      },
      "outputs": [
        {
          "data": {
            "text/plain": [
              "0"
            ]
          },
          "execution_count": 307,
          "metadata": {},
          "output_type": "execute_result"
        }
      ],
      "source": [
        "# Check Missing Values in `y_train`\n",
        "\n",
        "y_train.isnull().sum()"
      ]
    },
    {
      "cell_type": "code",
      "execution_count": 308,
      "metadata": {
        "colab": {
          "base_uri": "https://localhost:8080/"
        },
        "id": "5lrHN-GFb4RJ",
        "outputId": "838a4ad4-6b43-4cbd-f44b-2d00053609ef"
      },
      "outputs": [
        {
          "data": {
            "text/plain": [
              "0"
            ]
          },
          "execution_count": 308,
          "metadata": {},
          "output_type": "execute_result"
        }
      ],
      "source": [
        "# Check Missing Values in `y_test`\n",
        "\n",
        "y_test.isna().sum()"
      ]
    },
    {
      "cell_type": "markdown",
      "metadata": {
        "id": "nVHTXRPPb6Me"
      },
      "source": [
        "<b><h1>Tidak ada missing value di X ataupun y</h1></b>"
      ]
    },
    {
      "cell_type": "markdown",
      "metadata": {
        "id": "ANYfmTHBcKLy"
      },
      "source": [
        "## Feature Selection"
      ]
    },
    {
      "cell_type": "code",
      "execution_count": 309,
      "metadata": {
        "colab": {
          "base_uri": "https://localhost:8080/",
          "height": 487
        },
        "id": "aO3TG2YWdHQY",
        "outputId": "b9e647eb-7cf6-4d05-9ab7-530336a60fb7"
      },
      "outputs": [
        {
          "data": {
            "text/html": [
              "\n",
              "  <div id=\"df-2f6ec62b-81f3-47d1-9eae-46f1a5b45978\">\n",
              "    <div class=\"colab-df-container\">\n",
              "      <div>\n",
              "<style scoped>\n",
              "    .dataframe tbody tr th:only-of-type {\n",
              "        vertical-align: middle;\n",
              "    }\n",
              "\n",
              "    .dataframe tbody tr th {\n",
              "        vertical-align: top;\n",
              "    }\n",
              "\n",
              "    .dataframe thead th {\n",
              "        text-align: right;\n",
              "    }\n",
              "</style>\n",
              "<table border=\"1\" class=\"dataframe\">\n",
              "  <thead>\n",
              "    <tr style=\"text-align: right;\">\n",
              "      <th></th>\n",
              "      <th>age</th>\n",
              "      <th>anaemia</th>\n",
              "      <th>creatinine_phosphokinase</th>\n",
              "      <th>diabetes</th>\n",
              "      <th>ejection_fraction</th>\n",
              "      <th>high_blood_pressure</th>\n",
              "      <th>platelets</th>\n",
              "      <th>serum_creatinine</th>\n",
              "      <th>serum_sodium</th>\n",
              "      <th>sex</th>\n",
              "      <th>smoking</th>\n",
              "      <th>time</th>\n",
              "    </tr>\n",
              "  </thead>\n",
              "  <tbody>\n",
              "    <tr>\n",
              "      <th>124</th>\n",
              "      <td>63.0</td>\n",
              "      <td>1</td>\n",
              "      <td>514</td>\n",
              "      <td>1</td>\n",
              "      <td>25</td>\n",
              "      <td>1</td>\n",
              "      <td>254000.0</td>\n",
              "      <td>1.3</td>\n",
              "      <td>134</td>\n",
              "      <td>1</td>\n",
              "      <td>0</td>\n",
              "      <td>83</td>\n",
              "    </tr>\n",
              "    <tr>\n",
              "      <th>258</th>\n",
              "      <td>78.0</td>\n",
              "      <td>0</td>\n",
              "      <td>224</td>\n",
              "      <td>0</td>\n",
              "      <td>50</td>\n",
              "      <td>0</td>\n",
              "      <td>481000.0</td>\n",
              "      <td>1.4</td>\n",
              "      <td>138</td>\n",
              "      <td>1</td>\n",
              "      <td>1</td>\n",
              "      <td>192</td>\n",
              "    </tr>\n",
              "    <tr>\n",
              "      <th>223</th>\n",
              "      <td>52.0</td>\n",
              "      <td>0</td>\n",
              "      <td>3966</td>\n",
              "      <td>0</td>\n",
              "      <td>40</td>\n",
              "      <td>0</td>\n",
              "      <td>325000.0</td>\n",
              "      <td>0.9</td>\n",
              "      <td>140</td>\n",
              "      <td>1</td>\n",
              "      <td>1</td>\n",
              "      <td>146</td>\n",
              "    </tr>\n",
              "    <tr>\n",
              "      <th>172</th>\n",
              "      <td>45.0</td>\n",
              "      <td>1</td>\n",
              "      <td>130</td>\n",
              "      <td>0</td>\n",
              "      <td>35</td>\n",
              "      <td>0</td>\n",
              "      <td>174000.0</td>\n",
              "      <td>0.8</td>\n",
              "      <td>139</td>\n",
              "      <td>1</td>\n",
              "      <td>1</td>\n",
              "      <td>121</td>\n",
              "    </tr>\n",
              "    <tr>\n",
              "      <th>194</th>\n",
              "      <td>58.0</td>\n",
              "      <td>1</td>\n",
              "      <td>60</td>\n",
              "      <td>0</td>\n",
              "      <td>38</td>\n",
              "      <td>0</td>\n",
              "      <td>153000.0</td>\n",
              "      <td>5.8</td>\n",
              "      <td>134</td>\n",
              "      <td>1</td>\n",
              "      <td>0</td>\n",
              "      <td>26</td>\n",
              "    </tr>\n",
              "    <tr>\n",
              "      <th>...</th>\n",
              "      <td>...</td>\n",
              "      <td>...</td>\n",
              "      <td>...</td>\n",
              "      <td>...</td>\n",
              "      <td>...</td>\n",
              "      <td>...</td>\n",
              "      <td>...</td>\n",
              "      <td>...</td>\n",
              "      <td>...</td>\n",
              "      <td>...</td>\n",
              "      <td>...</td>\n",
              "      <td>...</td>\n",
              "    </tr>\n",
              "    <tr>\n",
              "      <th>31</th>\n",
              "      <td>50.0</td>\n",
              "      <td>1</td>\n",
              "      <td>2334</td>\n",
              "      <td>1</td>\n",
              "      <td>35</td>\n",
              "      <td>0</td>\n",
              "      <td>75000.0</td>\n",
              "      <td>0.9</td>\n",
              "      <td>142</td>\n",
              "      <td>0</td>\n",
              "      <td>0</td>\n",
              "      <td>126</td>\n",
              "    </tr>\n",
              "    <tr>\n",
              "      <th>240</th>\n",
              "      <td>60.0</td>\n",
              "      <td>1</td>\n",
              "      <td>1082</td>\n",
              "      <td>1</td>\n",
              "      <td>45</td>\n",
              "      <td>0</td>\n",
              "      <td>250000.0</td>\n",
              "      <td>6.1</td>\n",
              "      <td>131</td>\n",
              "      <td>1</td>\n",
              "      <td>0</td>\n",
              "      <td>107</td>\n",
              "    </tr>\n",
              "    <tr>\n",
              "      <th>143</th>\n",
              "      <td>50.0</td>\n",
              "      <td>0</td>\n",
              "      <td>1548</td>\n",
              "      <td>0</td>\n",
              "      <td>30</td>\n",
              "      <td>1</td>\n",
              "      <td>211000.0</td>\n",
              "      <td>0.8</td>\n",
              "      <td>138</td>\n",
              "      <td>1</td>\n",
              "      <td>0</td>\n",
              "      <td>108</td>\n",
              "    </tr>\n",
              "    <tr>\n",
              "      <th>241</th>\n",
              "      <td>50.0</td>\n",
              "      <td>0</td>\n",
              "      <td>115</td>\n",
              "      <td>0</td>\n",
              "      <td>45</td>\n",
              "      <td>1</td>\n",
              "      <td>184000.0</td>\n",
              "      <td>0.9</td>\n",
              "      <td>134</td>\n",
              "      <td>1</td>\n",
              "      <td>1</td>\n",
              "      <td>118</td>\n",
              "    </tr>\n",
              "    <tr>\n",
              "      <th>111</th>\n",
              "      <td>69.0</td>\n",
              "      <td>0</td>\n",
              "      <td>582</td>\n",
              "      <td>0</td>\n",
              "      <td>20</td>\n",
              "      <td>0</td>\n",
              "      <td>266000.0</td>\n",
              "      <td>1.2</td>\n",
              "      <td>134</td>\n",
              "      <td>1</td>\n",
              "      <td>1</td>\n",
              "      <td>73</td>\n",
              "    </tr>\n",
              "  </tbody>\n",
              "</table>\n",
              "<p>223 rows × 12 columns</p>\n",
              "</div>\n",
              "      <button class=\"colab-df-convert\" onclick=\"convertToInteractive('df-2f6ec62b-81f3-47d1-9eae-46f1a5b45978')\"\n",
              "              title=\"Convert this dataframe to an interactive table.\"\n",
              "              style=\"display:none;\">\n",
              "        \n",
              "  <svg xmlns=\"http://www.w3.org/2000/svg\" height=\"24px\"viewBox=\"0 0 24 24\"\n",
              "       width=\"24px\">\n",
              "    <path d=\"M0 0h24v24H0V0z\" fill=\"none\"/>\n",
              "    <path d=\"M18.56 5.44l.94 2.06.94-2.06 2.06-.94-2.06-.94-.94-2.06-.94 2.06-2.06.94zm-11 1L8.5 8.5l.94-2.06 2.06-.94-2.06-.94L8.5 2.5l-.94 2.06-2.06.94zm10 10l.94 2.06.94-2.06 2.06-.94-2.06-.94-.94-2.06-.94 2.06-2.06.94z\"/><path d=\"M17.41 7.96l-1.37-1.37c-.4-.4-.92-.59-1.43-.59-.52 0-1.04.2-1.43.59L10.3 9.45l-7.72 7.72c-.78.78-.78 2.05 0 2.83L4 21.41c.39.39.9.59 1.41.59.51 0 1.02-.2 1.41-.59l7.78-7.78 2.81-2.81c.8-.78.8-2.07 0-2.86zM5.41 20L4 18.59l7.72-7.72 1.47 1.35L5.41 20z\"/>\n",
              "  </svg>\n",
              "      </button>\n",
              "      \n",
              "  <style>\n",
              "    .colab-df-container {\n",
              "      display:flex;\n",
              "      flex-wrap:wrap;\n",
              "      gap: 12px;\n",
              "    }\n",
              "\n",
              "    .colab-df-convert {\n",
              "      background-color: #E8F0FE;\n",
              "      border: none;\n",
              "      border-radius: 50%;\n",
              "      cursor: pointer;\n",
              "      display: none;\n",
              "      fill: #1967D2;\n",
              "      height: 32px;\n",
              "      padding: 0 0 0 0;\n",
              "      width: 32px;\n",
              "    }\n",
              "\n",
              "    .colab-df-convert:hover {\n",
              "      background-color: #E2EBFA;\n",
              "      box-shadow: 0px 1px 2px rgba(60, 64, 67, 0.3), 0px 1px 3px 1px rgba(60, 64, 67, 0.15);\n",
              "      fill: #174EA6;\n",
              "    }\n",
              "\n",
              "    [theme=dark] .colab-df-convert {\n",
              "      background-color: #3B4455;\n",
              "      fill: #D2E3FC;\n",
              "    }\n",
              "\n",
              "    [theme=dark] .colab-df-convert:hover {\n",
              "      background-color: #434B5C;\n",
              "      box-shadow: 0px 1px 3px 1px rgba(0, 0, 0, 0.15);\n",
              "      filter: drop-shadow(0px 1px 2px rgba(0, 0, 0, 0.3));\n",
              "      fill: #FFFFFF;\n",
              "    }\n",
              "  </style>\n",
              "\n",
              "      <script>\n",
              "        const buttonEl =\n",
              "          document.querySelector('#df-2f6ec62b-81f3-47d1-9eae-46f1a5b45978 button.colab-df-convert');\n",
              "        buttonEl.style.display =\n",
              "          google.colab.kernel.accessAllowed ? 'block' : 'none';\n",
              "\n",
              "        async function convertToInteractive(key) {\n",
              "          const element = document.querySelector('#df-2f6ec62b-81f3-47d1-9eae-46f1a5b45978');\n",
              "          const dataTable =\n",
              "            await google.colab.kernel.invokeFunction('convertToInteractive',\n",
              "                                                     [key], {});\n",
              "          if (!dataTable) return;\n",
              "\n",
              "          const docLinkHtml = 'Like what you see? Visit the ' +\n",
              "            '<a target=\"_blank\" href=https://colab.research.google.com/notebooks/data_table.ipynb>data table notebook</a>'\n",
              "            + ' to learn more about interactive tables.';\n",
              "          element.innerHTML = '';\n",
              "          dataTable['output_type'] = 'display_data';\n",
              "          await google.colab.output.renderOutput(dataTable, element);\n",
              "          const docLink = document.createElement('div');\n",
              "          docLink.innerHTML = docLinkHtml;\n",
              "          element.appendChild(docLink);\n",
              "        }\n",
              "      </script>\n",
              "    </div>\n",
              "  </div>\n",
              "  "
            ],
            "text/plain": [
              "      age  anaemia  creatinine_phosphokinase  diabetes  ejection_fraction  \\\n",
              "124  63.0        1                       514         1                 25   \n",
              "258  78.0        0                       224         0                 50   \n",
              "223  52.0        0                      3966         0                 40   \n",
              "172  45.0        1                       130         0                 35   \n",
              "194  58.0        1                        60         0                 38   \n",
              "..    ...      ...                       ...       ...                ...   \n",
              "31   50.0        1                      2334         1                 35   \n",
              "240  60.0        1                      1082         1                 45   \n",
              "143  50.0        0                      1548         0                 30   \n",
              "241  50.0        0                       115         0                 45   \n",
              "111  69.0        0                       582         0                 20   \n",
              "\n",
              "     high_blood_pressure  platelets  serum_creatinine  serum_sodium  sex  \\\n",
              "124                    1   254000.0               1.3           134    1   \n",
              "258                    0   481000.0               1.4           138    1   \n",
              "223                    0   325000.0               0.9           140    1   \n",
              "172                    0   174000.0               0.8           139    1   \n",
              "194                    0   153000.0               5.8           134    1   \n",
              "..                   ...        ...               ...           ...  ...   \n",
              "31                     0    75000.0               0.9           142    0   \n",
              "240                    0   250000.0               6.1           131    1   \n",
              "143                    1   211000.0               0.8           138    1   \n",
              "241                    1   184000.0               0.9           134    1   \n",
              "111                    0   266000.0               1.2           134    1   \n",
              "\n",
              "     smoking  time  \n",
              "124        0    83  \n",
              "258        1   192  \n",
              "223        1   146  \n",
              "172        1   121  \n",
              "194        0    26  \n",
              "..       ...   ...  \n",
              "31         0   126  \n",
              "240        0   107  \n",
              "143        0   108  \n",
              "241        1   118  \n",
              "111        1    73  \n",
              "\n",
              "[223 rows x 12 columns]"
            ]
          },
          "execution_count": 309,
          "metadata": {},
          "output_type": "execute_result"
        }
      ],
      "source": [
        "#display Xtrain\n",
        "X_train"
      ]
    },
    {
      "cell_type": "code",
      "execution_count": 310,
      "metadata": {
        "colab": {
          "base_uri": "https://localhost:8080/",
          "height": 423
        },
        "id": "C62liA6VhRGY",
        "outputId": "4ce6968e-afa0-4f4e-cbd1-096057d52c5a"
      },
      "outputs": [
        {
          "data": {
            "text/html": [
              "\n",
              "  <div id=\"df-1c882653-df5c-4692-922c-e7cfddd1dad9\">\n",
              "    <div class=\"colab-df-container\">\n",
              "      <div>\n",
              "<style scoped>\n",
              "    .dataframe tbody tr th:only-of-type {\n",
              "        vertical-align: middle;\n",
              "    }\n",
              "\n",
              "    .dataframe tbody tr th {\n",
              "        vertical-align: top;\n",
              "    }\n",
              "\n",
              "    .dataframe thead th {\n",
              "        text-align: right;\n",
              "    }\n",
              "</style>\n",
              "<table border=\"1\" class=\"dataframe\">\n",
              "  <thead>\n",
              "    <tr style=\"text-align: right;\">\n",
              "      <th></th>\n",
              "      <th>age</th>\n",
              "      <th>ejection_fraction</th>\n",
              "      <th>high_blood_pressure</th>\n",
              "      <th>serum_creatinine</th>\n",
              "      <th>serum_sodium</th>\n",
              "      <th>time</th>\n",
              "    </tr>\n",
              "  </thead>\n",
              "  <tbody>\n",
              "    <tr>\n",
              "      <th>124</th>\n",
              "      <td>63.0</td>\n",
              "      <td>25</td>\n",
              "      <td>1</td>\n",
              "      <td>1.3</td>\n",
              "      <td>134</td>\n",
              "      <td>83</td>\n",
              "    </tr>\n",
              "    <tr>\n",
              "      <th>258</th>\n",
              "      <td>78.0</td>\n",
              "      <td>50</td>\n",
              "      <td>0</td>\n",
              "      <td>1.4</td>\n",
              "      <td>138</td>\n",
              "      <td>192</td>\n",
              "    </tr>\n",
              "    <tr>\n",
              "      <th>223</th>\n",
              "      <td>52.0</td>\n",
              "      <td>40</td>\n",
              "      <td>0</td>\n",
              "      <td>0.9</td>\n",
              "      <td>140</td>\n",
              "      <td>146</td>\n",
              "    </tr>\n",
              "    <tr>\n",
              "      <th>172</th>\n",
              "      <td>45.0</td>\n",
              "      <td>35</td>\n",
              "      <td>0</td>\n",
              "      <td>0.8</td>\n",
              "      <td>139</td>\n",
              "      <td>121</td>\n",
              "    </tr>\n",
              "    <tr>\n",
              "      <th>194</th>\n",
              "      <td>58.0</td>\n",
              "      <td>38</td>\n",
              "      <td>0</td>\n",
              "      <td>5.8</td>\n",
              "      <td>134</td>\n",
              "      <td>26</td>\n",
              "    </tr>\n",
              "    <tr>\n",
              "      <th>...</th>\n",
              "      <td>...</td>\n",
              "      <td>...</td>\n",
              "      <td>...</td>\n",
              "      <td>...</td>\n",
              "      <td>...</td>\n",
              "      <td>...</td>\n",
              "    </tr>\n",
              "    <tr>\n",
              "      <th>31</th>\n",
              "      <td>50.0</td>\n",
              "      <td>35</td>\n",
              "      <td>0</td>\n",
              "      <td>0.9</td>\n",
              "      <td>142</td>\n",
              "      <td>126</td>\n",
              "    </tr>\n",
              "    <tr>\n",
              "      <th>240</th>\n",
              "      <td>60.0</td>\n",
              "      <td>45</td>\n",
              "      <td>0</td>\n",
              "      <td>6.1</td>\n",
              "      <td>131</td>\n",
              "      <td>107</td>\n",
              "    </tr>\n",
              "    <tr>\n",
              "      <th>143</th>\n",
              "      <td>50.0</td>\n",
              "      <td>30</td>\n",
              "      <td>1</td>\n",
              "      <td>0.8</td>\n",
              "      <td>138</td>\n",
              "      <td>108</td>\n",
              "    </tr>\n",
              "    <tr>\n",
              "      <th>241</th>\n",
              "      <td>50.0</td>\n",
              "      <td>45</td>\n",
              "      <td>1</td>\n",
              "      <td>0.9</td>\n",
              "      <td>134</td>\n",
              "      <td>118</td>\n",
              "    </tr>\n",
              "    <tr>\n",
              "      <th>111</th>\n",
              "      <td>69.0</td>\n",
              "      <td>20</td>\n",
              "      <td>0</td>\n",
              "      <td>1.2</td>\n",
              "      <td>134</td>\n",
              "      <td>73</td>\n",
              "    </tr>\n",
              "  </tbody>\n",
              "</table>\n",
              "<p>223 rows × 6 columns</p>\n",
              "</div>\n",
              "      <button class=\"colab-df-convert\" onclick=\"convertToInteractive('df-1c882653-df5c-4692-922c-e7cfddd1dad9')\"\n",
              "              title=\"Convert this dataframe to an interactive table.\"\n",
              "              style=\"display:none;\">\n",
              "        \n",
              "  <svg xmlns=\"http://www.w3.org/2000/svg\" height=\"24px\"viewBox=\"0 0 24 24\"\n",
              "       width=\"24px\">\n",
              "    <path d=\"M0 0h24v24H0V0z\" fill=\"none\"/>\n",
              "    <path d=\"M18.56 5.44l.94 2.06.94-2.06 2.06-.94-2.06-.94-.94-2.06-.94 2.06-2.06.94zm-11 1L8.5 8.5l.94-2.06 2.06-.94-2.06-.94L8.5 2.5l-.94 2.06-2.06.94zm10 10l.94 2.06.94-2.06 2.06-.94-2.06-.94-.94-2.06-.94 2.06-2.06.94z\"/><path d=\"M17.41 7.96l-1.37-1.37c-.4-.4-.92-.59-1.43-.59-.52 0-1.04.2-1.43.59L10.3 9.45l-7.72 7.72c-.78.78-.78 2.05 0 2.83L4 21.41c.39.39.9.59 1.41.59.51 0 1.02-.2 1.41-.59l7.78-7.78 2.81-2.81c.8-.78.8-2.07 0-2.86zM5.41 20L4 18.59l7.72-7.72 1.47 1.35L5.41 20z\"/>\n",
              "  </svg>\n",
              "      </button>\n",
              "      \n",
              "  <style>\n",
              "    .colab-df-container {\n",
              "      display:flex;\n",
              "      flex-wrap:wrap;\n",
              "      gap: 12px;\n",
              "    }\n",
              "\n",
              "    .colab-df-convert {\n",
              "      background-color: #E8F0FE;\n",
              "      border: none;\n",
              "      border-radius: 50%;\n",
              "      cursor: pointer;\n",
              "      display: none;\n",
              "      fill: #1967D2;\n",
              "      height: 32px;\n",
              "      padding: 0 0 0 0;\n",
              "      width: 32px;\n",
              "    }\n",
              "\n",
              "    .colab-df-convert:hover {\n",
              "      background-color: #E2EBFA;\n",
              "      box-shadow: 0px 1px 2px rgba(60, 64, 67, 0.3), 0px 1px 3px 1px rgba(60, 64, 67, 0.15);\n",
              "      fill: #174EA6;\n",
              "    }\n",
              "\n",
              "    [theme=dark] .colab-df-convert {\n",
              "      background-color: #3B4455;\n",
              "      fill: #D2E3FC;\n",
              "    }\n",
              "\n",
              "    [theme=dark] .colab-df-convert:hover {\n",
              "      background-color: #434B5C;\n",
              "      box-shadow: 0px 1px 3px 1px rgba(0, 0, 0, 0.15);\n",
              "      filter: drop-shadow(0px 1px 2px rgba(0, 0, 0, 0.3));\n",
              "      fill: #FFFFFF;\n",
              "    }\n",
              "  </style>\n",
              "\n",
              "      <script>\n",
              "        const buttonEl =\n",
              "          document.querySelector('#df-1c882653-df5c-4692-922c-e7cfddd1dad9 button.colab-df-convert');\n",
              "        buttonEl.style.display =\n",
              "          google.colab.kernel.accessAllowed ? 'block' : 'none';\n",
              "\n",
              "        async function convertToInteractive(key) {\n",
              "          const element = document.querySelector('#df-1c882653-df5c-4692-922c-e7cfddd1dad9');\n",
              "          const dataTable =\n",
              "            await google.colab.kernel.invokeFunction('convertToInteractive',\n",
              "                                                     [key], {});\n",
              "          if (!dataTable) return;\n",
              "\n",
              "          const docLinkHtml = 'Like what you see? Visit the ' +\n",
              "            '<a target=\"_blank\" href=https://colab.research.google.com/notebooks/data_table.ipynb>data table notebook</a>'\n",
              "            + ' to learn more about interactive tables.';\n",
              "          element.innerHTML = '';\n",
              "          dataTable['output_type'] = 'display_data';\n",
              "          await google.colab.output.renderOutput(dataTable, element);\n",
              "          const docLink = document.createElement('div');\n",
              "          docLink.innerHTML = docLinkHtml;\n",
              "          element.appendChild(docLink);\n",
              "        }\n",
              "      </script>\n",
              "    </div>\n",
              "  </div>\n",
              "  "
            ],
            "text/plain": [
              "      age  ejection_fraction  high_blood_pressure  serum_creatinine  \\\n",
              "124  63.0                 25                    1               1.3   \n",
              "258  78.0                 50                    0               1.4   \n",
              "223  52.0                 40                    0               0.9   \n",
              "172  45.0                 35                    0               0.8   \n",
              "194  58.0                 38                    0               5.8   \n",
              "..    ...                ...                  ...               ...   \n",
              "31   50.0                 35                    0               0.9   \n",
              "240  60.0                 45                    0               6.1   \n",
              "143  50.0                 30                    1               0.8   \n",
              "241  50.0                 45                    1               0.9   \n",
              "111  69.0                 20                    0               1.2   \n",
              "\n",
              "     serum_sodium  time  \n",
              "124           134    83  \n",
              "258           138   192  \n",
              "223           140   146  \n",
              "172           139   121  \n",
              "194           134    26  \n",
              "..            ...   ...  \n",
              "31            142   126  \n",
              "240           131   107  \n",
              "143           138   108  \n",
              "241           134   118  \n",
              "111           134    73  \n",
              "\n",
              "[223 rows x 6 columns]"
            ]
          },
          "execution_count": 310,
          "metadata": {},
          "output_type": "execute_result"
        }
      ],
      "source": [
        "# membuat df bedasarkan Feature selection\n",
        "\n",
        "X_train_new=X_train[['age','ejection_fraction','high_blood_pressure','serum_creatinine','serum_sodium','time']]\n",
        "X_test_new=X_test[['age','ejection_fraction','serum_creatinine','serum_sodium','time']]\n",
        "X_train_new"
      ]
    },
    {
      "cell_type": "markdown",
      "metadata": {
        "id": "iyzGQiBThvUm"
      },
      "source": [
        "## Split between Numerical Columns and Categorical Columns"
      ]
    },
    {
      "cell_type": "code",
      "execution_count": 311,
      "metadata": {
        "colab": {
          "base_uri": "https://localhost:8080/"
        },
        "id": "CV3e8KE2usDL",
        "outputId": "4bb5ae8a-8293-462d-a5f0-822967d37712"
      },
      "outputs": [
        {
          "name": "stdout",
          "output_type": "stream",
          "text": [
            "Numerical Columns   :  ['age', 'ejection_fraction', 'serum_creatinine', 'serum_sodium', 'time']\n",
            "Categorical Columns :  ['high_blood_pressure']\n"
          ]
        }
      ],
      "source": [
        "# Get Numerical Columns and Categorical Columns\n",
        "\n",
        "num_cols = ['age','ejection_fraction','serum_creatinine','serum_sodium','time']\n",
        "cat_cols = ['high_blood_pressure']\n",
        "\n",
        "#define variable train,tes ke cat dan num\n",
        "X_train_num = X_train[num_cols]\n",
        "X_train_cat = X_train[cat_cols]\n",
        "X_test_num = X_test[num_cols]\n",
        "X_test_cat = X_test[cat_cols]\n",
        "\n",
        "print('Numerical Columns   : ', num_cols)\n",
        "print('Categorical Columns : ', cat_cols)"
      ]
    },
    {
      "cell_type": "markdown",
      "metadata": {
        "id": "W_wLjjVAvwqW"
      },
      "source": [
        "<p>Peneliti mendifind variable untuk numerik dan kategori</p>"
      ]
    },
    {
      "cell_type": "markdown",
      "metadata": {
        "id": "R3YK1POciqn0"
      },
      "source": [
        "## Feature Scaling"
      ]
    },
    {
      "cell_type": "markdown",
      "metadata": {
        "id": "ERl452wmjDfV"
      },
      "source": [
        "<p>Peneliti memakai scaling standars scaler karena feature banyak<b>tidak skew</b></p>"
      ]
    },
    {
      "cell_type": "code",
      "execution_count": 312,
      "metadata": {
        "colab": {
          "base_uri": "https://localhost:8080/"
        },
        "id": "5v047jwFi-Xr",
        "outputId": "c923c487-8483-4432-b441-c83565241f56"
      },
      "outputs": [
        {
          "data": {
            "text/plain": [
              "array([[ 0.24588789, -1.14228431, -0.03709203, -0.60785448, -0.62100467],\n",
              "       [ 1.51778864,  1.0386181 ,  0.07559902,  0.30188746,  0.77938131],\n",
              "       [-0.68683934,  0.16625713, -0.48785623,  0.75675843,  0.18839273],\n",
              "       ...,\n",
              "       [-0.85642611, -0.70610383, -0.60054728,  0.30188746, -0.29981522],\n",
              "       [-0.85642611,  0.60243762, -0.48785623, -0.60785448, -0.17133945],\n",
              "       [ 0.75464819, -1.57846479, -0.14978308, -0.60785448, -0.74948045]])"
            ]
          },
          "execution_count": 312,
          "metadata": {},
          "output_type": "execute_result"
        }
      ],
      "source": [
        "# Feature Scaling using standarscaler\n",
        "\n",
        "scaler = StandardScaler()\n",
        "scaler.fit(X_train_num)\n",
        "\n",
        "X_train_num_scaled = scaler.transform(X_train_num)\n",
        "X_test_num_scaled = scaler.transform(X_test_num)\n",
        "X_train_num_scaled"
      ]
    },
    {
      "cell_type": "markdown",
      "metadata": {
        "id": "-bOcA2Mgls3u"
      },
      "source": [
        "## Feature Encoding"
      ]
    },
    {
      "cell_type": "markdown",
      "metadata": {
        "id": "NcXTooJylw1u"
      },
      "source": [
        "Tidak Melakukan proses Encoding karena data Feature bertipe numerik semua"
      ]
    },
    {
      "cell_type": "markdown",
      "metadata": {
        "id": "TwdyMIkKl8jg"
      },
      "source": [
        "## Concate between Numerical Columns and Categorical Columns"
      ]
    },
    {
      "cell_type": "code",
      "execution_count": 313,
      "metadata": {
        "colab": {
          "base_uri": "https://localhost:8080/"
        },
        "id": "a4BWL4_NwWB-",
        "outputId": "b0d93b5d-c764-4ecf-c373-aab72edae477"
      },
      "outputs": [
        {
          "data": {
            "text/plain": [
              "array([[-1.78079034e-01, -8.21505839e-03, -7.13238334e-01,\n",
              "         1.21162940e+00, -6.21004670e-01,  1.00000000e+00],\n",
              "       [-7.71632721e-01,  1.03861810e+00, -7.13238334e-01,\n",
              "         7.56758429e-01, -6.72394981e-01,  0.00000000e+00],\n",
              "       [ 1.68737541e+00, -8.21505839e-03,  6.39054271e-01,\n",
              "         1.66650037e+00, -1.39185934e+00,  0.00000000e+00],\n",
              "       [ 4.15474653e-01, -7.06103828e-01,  3.00981119e-01,\n",
              "        -1.52983510e-01, -1.43040207e+00,  1.00000000e+00],\n",
              "       [ 4.15474653e-01, -8.21505839e-03,  4.13672170e-01,\n",
              "         5.29322945e-01,  1.13911349e+00,  0.00000000e+00],\n",
              "       [ 4.15474653e-01, -1.14228431e+00,  4.13247683e+00,\n",
              "        -1.51759642e+00,  9.72094980e-01,  0.00000000e+00],\n",
              "       [-1.36518641e+00, -7.06103828e-01,  3.00981119e-01,\n",
              "        -1.51759642e+00,  1.44745536e+00,  1.00000000e+00],\n",
              "       [ 8.39441572e-01, -2.69923347e-01, -1.49783082e-01,\n",
              "        -1.06272545e+00,  1.07487560e+00,  1.00000000e+00],\n",
              "       [ 2.87448279e+00, -8.21505839e-03,  5.60170535e-01,\n",
              "        -6.07854480e-01, -1.34046903e+00,  1.00000000e+00],\n",
              "       [ 4.15474653e-01, -1.14228431e+00, -1.49783082e-01,\n",
              "        -1.52983510e-01,  2.91173356e-01,  0.00000000e+00],\n",
              "       [-4.32459186e-01, -8.21505839e-03, -2.62474133e-01,\n",
              "        -1.52983510e-01, -1.61026816e+00,  0.00000000e+00],\n",
              "       [ 7.54648188e-01, -2.69923347e-01,  2.44211108e+00,\n",
              "        -6.07854480e-01, -1.30192629e+00,  0.00000000e+00],\n",
              "       [-9.41219489e-01, -1.57846479e+00, -2.62474133e-01,\n",
              "        -1.52983510e-01, -9.80736849e-01,  1.00000000e+00],\n",
              "       [ 1.43299526e+00,  1.03861810e+00, -2.62474133e-01,\n",
              "         7.44519749e-02,  9.97790136e-01,  1.00000000e+00],\n",
              "       [ 2.45887885e-01, -8.21505839e-03, -2.62474133e-01,\n",
              "        -8.35289965e-01, -5.56766781e-01,  0.00000000e+00],\n",
              "       [ 6.69854804e-01,  1.91097906e+00, -3.75165183e-01,\n",
              "         7.56758429e-01,  1.35752231e+00,  0.00000000e+00],\n",
              "       [-1.19559964e+00, -2.69923347e-01, -4.87856234e-01,\n",
              "         7.56758429e-01, -2.86967646e-01,  0.00000000e+00],\n",
              "       [ 1.85696218e+00, -7.06103828e-01, -1.49783082e-01,\n",
              "        -1.06272545e+00, -1.35331661e+00,  0.00000000e+00],\n",
              "       [ 1.26340849e+00,  1.91097906e+00,  7.55990186e-02,\n",
              "        -2.65477384e+00,  9.46399825e-01,  0.00000000e+00],\n",
              "       [ 1.26340849e+00, -2.01464527e+00, -1.49783082e-01,\n",
              "         7.44519749e-02, -1.55887785e+00,  0.00000000e+00],\n",
              "       [ 1.77216879e+00, -2.69923347e-01, -1.72321292e-01,\n",
              "         7.44519749e-02, -3.12662802e-01,  0.00000000e+00],\n",
              "       [ 8.39441572e-01,  1.91097906e+00, -4.87856234e-01,\n",
              "         3.01887460e-01,  7.02295846e-01,  1.00000000e+00],\n",
              "       [-1.28039302e+00, -7.06103828e-01, -2.62474133e-01,\n",
              "         7.44519749e-02, -1.54603027e+00,  0.00000000e+00],\n",
              "       [ 6.69854804e-01, -1.14228431e+00, -3.75165183e-01,\n",
              "         3.01887460e-01, -1.13490778e+00,  1.00000000e+00],\n",
              "       [-8.49226653e-03, -8.21505839e-03, -8.25929385e-01,\n",
              "         3.01887460e-01, -1.17345052e+00,  1.00000000e+00],\n",
              "       [ 1.51778864e+00,  1.66257134e-01, -7.13238334e-01,\n",
              "         7.44519749e-02,  7.15143424e-01,  0.00000000e+00],\n",
              "       [ 1.26340849e+00, -8.21505839e-03,  1.31520057e+00,\n",
              "        -6.07854480e-01,  3.93953978e-01,  1.00000000e+00],\n",
              "       [-8.56426105e-01, -2.69923347e-01, -1.72321292e-01,\n",
              "         7.44519749e-02, -1.58491868e-01,  0.00000000e+00],\n",
              "       [ 8.39441572e-01,  1.91097906e+00, -2.62474133e-01,\n",
              "         1.89393585e+00,  1.88392733e-01,  1.00000000e+00],\n",
              "       [ 4.15474653e-01,  1.03861810e+00, -3.75165183e-01,\n",
              "         7.56758429e-01, -1.31477387e+00,  1.00000000e+00],\n",
              "       [-1.53477318e+00, -7.06103828e-01,  2.78018423e+00,\n",
              "        -1.97246739e+00,  1.52454083e+00,  0.00000000e+00],\n",
              "       [-6.02045954e-01,  1.91097906e+00, -7.13238334e-01,\n",
              "         3.01887460e-01, -3.25510380e-01,  1.00000000e+00],\n",
              "       [ 4.15474653e-01, -1.14228431e+00,  7.55990186e-02,\n",
              "        -1.74503190e+00,  1.33182716e+00,  0.00000000e+00],\n",
              "       [-1.78079034e-01,  1.66257134e-01, -3.75165183e-01,\n",
              "         5.29322945e-01, -5.18224047e-01,  0.00000000e+00],\n",
              "       [ 7.54648188e-01,  1.66257134e-01, -3.75165183e-01,\n",
              "        -3.80418995e-01,  2.01240311e-01,  0.00000000e+00],\n",
              "       [-4.32459186e-01, -8.21505839e-03, -1.49783082e-01,\n",
              "         5.29322945e-01,  1.79433996e+00,  0.00000000e+00],\n",
              "       [ 4.15474653e-01,  1.91097906e+00, -6.00547284e-01,\n",
              "         7.56758429e-01, -6.72394981e-01,  1.00000000e+00],\n",
              "       [ 1.60258203e+00,  1.03861810e+00,  5.26363220e-01,\n",
              "        -8.35289965e-01, -6.85242559e-01,  1.00000000e+00],\n",
              "       [-8.56426105e-01,  1.66257134e-01, -7.13238334e-01,\n",
              "        -1.51759642e+00,  5.60972490e-01,  0.00000000e+00],\n",
              "       [-1.53477318e+00, -2.69923347e-01, -2.62474133e-01,\n",
              "         5.29322945e-01,  8.95009513e-01,  0.00000000e+00],\n",
              "       [-4.32459186e-01,  1.66257134e-01, -7.13238334e-01,\n",
              "         7.56758429e-01,  2.01240311e-01,  0.00000000e+00],\n",
              "       [-8.56426105e-01, -8.21505839e-03,  6.39054271e-01,\n",
              "        -3.80418995e-01, -1.23768841e+00,  0.00000000e+00],\n",
              "       [-8.56426105e-01, -1.57846479e+00, -6.00547284e-01,\n",
              "         5.29322945e-01,  1.88392733e-01,  0.00000000e+00],\n",
              "       [-1.11080626e+00, -1.14228431e+00, -6.00547284e-01,\n",
              "        -6.07854480e-01,  8.95009513e-01,  0.00000000e+00],\n",
              "       [-8.49226653e-03,  2.08545125e+00,  6.16091574e+00,\n",
              "         2.12137134e+00, -1.13490778e+00,  0.00000000e+00],\n",
              "       [ 8.39441572e-01,  1.03861810e+00, -4.87856234e-01,\n",
              "         9.84193914e-01,  8.30771624e-01,  1.00000000e+00],\n",
              "       [ 1.00902834e+00,  6.02437615e-01,  1.31520057e+00,\n",
              "        -3.80418995e-01, -2.09882179e-01,  1.00000000e+00],\n",
              "       [ 1.68737541e+00, -2.69923347e-01,  9.09088305e+00,\n",
              "        -8.35289965e-01, -1.55887785e+00,  1.00000000e+00],\n",
              "       [-1.02601287e+00,  1.47479858e+00,  6.39054271e-01,\n",
              "        -3.56451578e+00, -1.49463996e+00,  0.00000000e+00],\n",
              "       [ 4.15474653e-01, -2.69923347e-01, -6.00547284e-01,\n",
              "        -1.52983510e-01, -1.45644290e-01,  1.00000000e+00],\n",
              "       [-8.49226653e-03,  1.66257134e-01, -3.75165183e-01,\n",
              "         9.84193914e-01,  7.15143424e-01,  0.00000000e+00],\n",
              "       [-1.53477318e+00, -2.01464527e+00, -3.70920318e-02,\n",
              "        -1.52983510e-01, -8.52261070e-01,  0.00000000e+00],\n",
              "       [ 1.61094501e-01,  1.91097906e+00, -4.87856234e-01,\n",
              "         5.29322945e-01, -1.84187024e-01,  1.00000000e+00],\n",
              "       [-9.41219489e-01,  1.03861810e+00, -3.75165183e-01,\n",
              "         7.56758429e-01,  2.01240311e-01,  0.00000000e+00],\n",
              "       [-1.53477318e+00,  1.91097906e+00, -1.72321292e-01,\n",
              "         7.44519749e-02, -6.33852247e-01,  0.00000000e+00],\n",
              "       [ 8.39441572e-01, -2.69923347e-01, -2.62474133e-01,\n",
              "         1.21162940e+00,  1.46030294e+00,  0.00000000e+00]])"
            ]
          },
          "execution_count": 313,
          "metadata": {},
          "output_type": "execute_result"
        }
      ],
      "source": [
        "# Concate Columns\n",
        "\n",
        "X_train_final = np.concatenate([X_train_num_scaled, X_train_cat], axis=1)\n",
        "X_test_final = np.concatenate([X_test_num_scaled, X_test_cat], axis=1)\n",
        "X_test_final"
      ]
    },
    {
      "cell_type": "markdown",
      "metadata": {
        "id": "BbWOCv6ymGy9"
      },
      "source": [
        "# 6 - Model Definition"
      ]
    },
    {
      "cell_type": "markdown",
      "metadata": {
        "id": "l5Rmr34PmTsj"
      },
      "source": [
        "Disini akan melakukan dengan model\n",
        "\n",
        "<li>Random Forest\n",
        "<li>Gradient Boosting"
      ]
    },
    {
      "cell_type": "code",
      "execution_count": 314,
      "metadata": {
        "id": "42LJsgwmmIZY"
      },
      "outputs": [],
      "source": [
        "#mendefinisikan model\n",
        "\n",
        "ranfor= RandomForestClassifier()\n",
        "gb_clf = GradientBoostingClassifier()\n",
        "\n",
        "\n",
        "\n",
        "\n"
      ]
    },
    {
      "cell_type": "markdown",
      "metadata": {
        "id": "gjyyo6lCy7xi"
      },
      "source": [
        "# 7 - Model Training"
      ]
    },
    {
      "cell_type": "code",
      "execution_count": 315,
      "metadata": {
        "colab": {
          "base_uri": "https://localhost:8080/"
        },
        "id": "dopj03lw0MRS",
        "outputId": "2682215f-c358-4a50-d831-f711d5443043"
      },
      "outputs": [
        {
          "name": "stdout",
          "output_type": "stream",
          "text": [
            "138 ms ± 1.36 ms per loop (mean ± std. dev. of 7 runs, 10 loops each)\n"
          ]
        }
      ],
      "source": [
        "#Random Forest\n",
        "%timeit ranfor.fit(X_train_final, y_train)"
      ]
    },
    {
      "cell_type": "code",
      "execution_count": 316,
      "metadata": {
        "colab": {
          "base_uri": "https://localhost:8080/"
        },
        "id": "2IoVgSEzUvLw",
        "outputId": "955a7a12-e3ef-479f-e426-709cd705db4d"
      },
      "outputs": [
        {
          "name": "stdout",
          "output_type": "stream",
          "text": [
            "69.2 ms ± 1.15 ms per loop (mean ± std. dev. of 7 runs, 10 loops each)\n"
          ]
        }
      ],
      "source": [
        "#Random Forest\n",
        "%timeit gb_clf.fit(X_train_final, y_train)"
      ]
    },
    {
      "cell_type": "markdown",
      "metadata": {
        "id": "RSMiNhH01TCZ"
      },
      "source": [
        "# 8 - Model Evaluation"
      ]
    },
    {
      "cell_type": "markdown",
      "metadata": {
        "id": "b4sVzPpNVJ--"
      },
      "source": [
        "peneliti akan melakukan dengan validation score dan accuracy"
      ]
    },
    {
      "cell_type": "markdown",
      "metadata": {
        "id": "7THfqwNe-_aw"
      },
      "source": [
        "##Random Forest"
      ]
    },
    {
      "cell_type": "code",
      "execution_count": 317,
      "metadata": {
        "id": "jEiizPPX_B4c"
      },
      "outputs": [],
      "source": [
        "#Define variable untuk memakai Cross_val_score\n",
        "scores_ranfor = cross_val_score(ranfor, X_train_final, y_train,cv=5)"
      ]
    },
    {
      "cell_type": "code",
      "execution_count": 318,
      "metadata": {
        "colab": {
          "base_uri": "https://localhost:8080/"
        },
        "id": "HbxL2Snx_M-w",
        "outputId": "b351b208-e29f-4ce5-9269-29996add922c"
      },
      "outputs": [
        {
          "data": {
            "text/plain": [
              "0.8076767676767677"
            ]
          },
          "execution_count": 318,
          "metadata": {},
          "output_type": "execute_result"
        }
      ],
      "source": [
        "#memakai method mean() untuk mencari mean\n",
        "scores_ranfor.mean()"
      ]
    },
    {
      "cell_type": "code",
      "execution_count": 319,
      "metadata": {
        "colab": {
          "base_uri": "https://localhost:8080/"
        },
        "id": "-DvH1LVD_SKw",
        "outputId": "5a3368ba-ca96-4384-c6aa-68ce585989ad"
      },
      "outputs": [
        {
          "data": {
            "text/plain": [
              "0.05048322760846807"
            ]
          },
          "execution_count": 319,
          "metadata": {},
          "output_type": "execute_result"
        }
      ],
      "source": [
        "#memakai method std() untuk mencari std\n",
        "scores_ranfor.std()"
      ]
    },
    {
      "cell_type": "markdown",
      "metadata": {
        "id": "RwLWW8NKBOxS"
      },
      "source": [
        "##Gradient Boosting"
      ]
    },
    {
      "cell_type": "code",
      "execution_count": 320,
      "metadata": {
        "id": "cJ_5YdS9BRsy"
      },
      "outputs": [],
      "source": [
        "#Define variable untuk memakai Cross_val_score\n",
        "scores_gb_clf = cross_val_score(gb_clf, X_train_final, y_train,cv=5)"
      ]
    },
    {
      "cell_type": "code",
      "execution_count": 321,
      "metadata": {
        "colab": {
          "base_uri": "https://localhost:8080/"
        },
        "id": "NYoCtTKoBa1d",
        "outputId": "3858464c-b6a4-4409-c297-aa7cc55aba66"
      },
      "outputs": [
        {
          "data": {
            "text/plain": [
              "0.8388888888888889"
            ]
          },
          "execution_count": 321,
          "metadata": {},
          "output_type": "execute_result"
        }
      ],
      "source": [
        "#memakai method mean() untuk mencari mean\n",
        "scores_gb_clf.mean()"
      ]
    },
    {
      "cell_type": "code",
      "execution_count": 322,
      "metadata": {
        "colab": {
          "base_uri": "https://localhost:8080/"
        },
        "id": "IBYhzkiBBfqi",
        "outputId": "2baeaec9-c75c-47ac-98e9-64fa063d3238"
      },
      "outputs": [
        {
          "data": {
            "text/plain": [
              "0.03141397901806087"
            ]
          },
          "execution_count": 322,
          "metadata": {},
          "output_type": "execute_result"
        }
      ],
      "source": [
        "#memakai method std() untuk mencari std\n",
        "scores_gb_clf.std()"
      ]
    },
    {
      "cell_type": "markdown",
      "metadata": {
        "id": "2gqJfWAqGrsu"
      },
      "source": [
        "<h1>setelah melakukan evaluasi dengan validation score peneliti akan menampilkan rekap di hasil scoring</h1>"
      ]
    },
    {
      "cell_type": "markdown",
      "metadata": {
        "id": "WQb1K3j2GQba"
      },
      "source": [
        "##<b><h1>Hasil Scoring dan Pemilihan Algoritma</h1></b>\n"
      ]
    },
    {
      "cell_type": "code",
      "execution_count": 323,
      "metadata": {
        "id": "834GZMT_JlDs"
      },
      "outputs": [],
      "source": [
        "#define variable dan melakukan predict bagi data test dan data train\n",
        "\n",
        "\n",
        "#RandomForestClassifier()\n",
        "y_pred_train_ranfor = ranfor.predict(X_train_final)\n",
        "y_pred_test_ranfor = ranfor.predict(X_test_final)\n",
        "\n",
        "#GradientBoostingClassifier()\n",
        "y_pred_train_gb_clf = gb_clf.predict(X_train_final)\n",
        "y_pred_test_gb_clf = gb_clf.predict(X_test_final)"
      ]
    },
    {
      "cell_type": "code",
      "execution_count": 324,
      "metadata": {
        "colab": {
          "base_uri": "https://localhost:8080/"
        },
        "id": "eMXpi4VHLtkw",
        "outputId": "24b1fdd8-c545-4e69-f7da-b936544c7136"
      },
      "outputs": [
        {
          "name": "stdout",
          "output_type": "stream",
          "text": [
            "-----TRAIN-----\n",
            "accuracy score train RandomForestClassifier :  1.0\n",
            "accuracy score train GradientBoostingClassifier :  0.9865470852017937\n",
            "-----TEST-----\n",
            "accuracy score train RandomForestClassifier :  0.8392857142857143\n",
            "accuracy score train GradientBoostingClassifier :  0.8214285714285714\n"
          ]
        }
      ],
      "source": [
        "#Menampilkan acc_score di semua model algoritma yang sudah kita definisikan\n",
        "print('-----TRAIN-----')\n",
        "\n",
        "print('accuracy score train RandomForestClassifier : ',accuracy_score(y_train,y_pred_train_ranfor))\n",
        "print('accuracy score train GradientBoostingClassifier : ',accuracy_score(y_train,y_pred_train_gb_clf))\n",
        "\n",
        "print('-----TEST-----')\n",
        "\n",
        "print('accuracy score train RandomForestClassifier : ',accuracy_score(y_test,y_pred_test_ranfor))\n",
        "print('accuracy score train GradientBoostingClassifier : ',accuracy_score(y_test,y_pred_test_gb_clf))\n"
      ]
    },
    {
      "cell_type": "markdown",
      "metadata": {
        "id": "-QzY_ZMgG8Pv"
      },
      "source": [
        "dari accuracy lebih bagus random forest karena bernilai 1\n",
        "sedangkan gradian boosting 0.98 <br>\n",
        "di testing pun juga lebih bagus random forest"
      ]
    },
    {
      "cell_type": "code",
      "execution_count": 325,
      "metadata": {
        "colab": {
          "base_uri": "https://localhost:8080/"
        },
        "id": "AK8KMzKKOfV_",
        "outputId": "dac46c4a-71d4-4fca-c7a0-ebf1dd97dcd8"
      },
      "outputs": [
        {
          "name": "stdout",
          "output_type": "stream",
          "text": [
            "\n",
            "Model Random Forest Mean :0.8076767676767677\n",
            "Model Random Forest STD :0.05048322760846807\n",
            "\n",
            "Model Gradient Boosting Mean :0.8388888888888889\n",
            "Model Gradient Boosting STD :0.03141397901806087\n"
          ]
        }
      ],
      "source": [
        "#Menampilkan semua perhitungan validation score di semua model algoritma yang sudah kita definisikan \n",
        "\n",
        "print('')\n",
        "print (f'Model Random Forest Mean :{scores_ranfor.mean()}')\n",
        "print (f'Model Random Forest STD :{scores_ranfor.std()}')\n",
        "print('')\n",
        "print (f'Model Gradient Boosting Mean :{scores_gb_clf.mean()}')\n",
        "print (f'Model Gradient Boosting STD :{scores_gb_clf.std()}')\n"
      ]
    },
    {
      "cell_type": "markdown",
      "metadata": {
        "id": "CmWziqMwSXTe"
      },
      "source": [
        "Jika dilihat algoritma random forest lebih buruk dari boosting cek dengan validation score, dimana validation score disini di set cv=5 yang artinnya cek di 5 metrix"
      ]
    },
    {
      "cell_type": "code",
      "execution_count": 326,
      "metadata": {
        "colab": {
          "base_uri": "https://localhost:8080/",
          "height": 279
        },
        "id": "5Bgz1zAthp21",
        "outputId": "9eaa3143-8010-4301-e418-3c219045e8f0"
      },
      "outputs": [
        {
          "data": {
            "image/png": "[encoded data removed]",
            "text/plain": [
              "<Figure size 432x288 with 2 Axes>"
            ]
          },
          "metadata": {
            "needs_background": "light"
          },
          "output_type": "display_data"
        }
      ],
      "source": [
        "#y_train predict randfor\n",
        "cm = confusion_matrix(y_train, y_pred_train_ranfor, labels=ranfor.classes_)\n",
        "disp = ConfusionMatrixDisplay(confusion_matrix=cm,display_labels=ranfor.classes_)\n",
        "\n",
        "disp.plot()\n",
        "plt.show()"
      ]
    },
    {
      "cell_type": "markdown",
      "metadata": {
        "id": "zr7CaesEicli"
      },
      "source": [
        "- Dari analisa diatas didapat bahwa y_train meakukan sempurna prediksi dimana tidak ada kesalahan, prediksi tidak meninggal 155 dan prediksi meninggal 68"
      ]
    },
    {
      "cell_type": "code",
      "execution_count": 327,
      "metadata": {
        "colab": {
          "base_uri": "https://localhost:8080/",
          "height": 279
        },
        "id": "pPubrw7jj5mu",
        "outputId": "af997b7e-f913-4e24-ab29-04a2b9953b5f"
      },
      "outputs": [
        {
          "data": {
            "image/png": "[encoded data removed]",
            "text/plain": [
              "<Figure size 432x288 with 2 Axes>"
            ]
          },
          "metadata": {
            "needs_background": "light"
          },
          "output_type": "display_data"
        }
      ],
      "source": [
        "#y_test predict randfor\n",
        "cm = confusion_matrix(y_test, y_pred_test_ranfor, labels=ranfor.classes_)\n",
        "disp = ConfusionMatrixDisplay(confusion_matrix=cm,display_labels=ranfor.classes_)\n",
        "\n",
        "disp.plot()\n",
        "plt.show()"
      ]
    },
    {
      "cell_type": "markdown",
      "metadata": {
        "id": "VBe-dgBHkVLp"
      },
      "source": [
        "- Dari analisa diatas didapat bahwa y_test meakukan kesalahan prediksi \n",
        "- pada tabel 0 data yang diprediksi bener adalah 32 dan salah prediksi sebesar 3 dimana 3 itu seharusnya data milik prediksi pasien 1\n",
        "- pada tabel 1 data yang diprediksi bener adalah 16 dan salah prediksi sebesar 5 dimana 5 itu seharusnya prediksi di data 0"
      ]
    },
    {
      "cell_type": "code",
      "execution_count": 328,
      "metadata": {
        "colab": {
          "base_uri": "https://localhost:8080/"
        },
        "id": "RCj-klSHkkSn",
        "outputId": "38b22146-4061-4fb5-eac7-2a0bf4895efb"
      },
      "outputs": [
        {
          "name": "stdout",
          "output_type": "stream",
          "text": [
            "              precision    recall  f1-score   support\n",
            "\n",
            "           0       1.00      1.00      1.00       155\n",
            "           1       1.00      1.00      1.00        68\n",
            "\n",
            "    accuracy                           1.00       223\n",
            "   macro avg       1.00      1.00      1.00       223\n",
            "weighted avg       1.00      1.00      1.00       223\n",
            "\n"
          ]
        }
      ],
      "source": [
        "#randfor\n",
        "print(classification_report(y_train,y_pred_train_ranfor))"
      ]
    },
    {
      "cell_type": "markdown",
      "metadata": {
        "id": "LxFS-hxjlCcf"
      },
      "source": [
        "pada y train : \n",
        "- precision untuk 1 yaitu 1(100%) yg artinya  berhasil meprediksi 100% status <b>tidak meninggal</b> dan 0% di salah meprediksi status tersebut \n",
        "- precision untuk 1 yaitu 1 yg artinya  berhasil meprediksi 100% status <b>meninggal</b> dan 0% salah meprediksi status tersebut \n",
        "\n",
        "- recall untuk 0 yaitu 1(100%) yg artinya  berhasil meprediksi 100% orang yang memiliki status <b>tidak meninggal</b> dan 0%  salah meprediksi status tersebut \n",
        "- recall untuk 1 yaitu 1 yg artinya  berhasil meprediksi 100% status <b>meninggal</b> dan 0% di salah meprediksi status tersebut \n"
      ]
    },
    {
      "cell_type": "code",
      "execution_count": 329,
      "metadata": {
        "colab": {
          "base_uri": "https://localhost:8080/",
          "height": 545
        },
        "id": "xs6yTxs3Yu1q",
        "outputId": "71c41b26-9ee0-4040-a154-4b697ec509ee"
      },
      "outputs": [
        {
          "data": {
            "image/png": "[encoded data removed]",
            "text/plain": [
              "<Figure size 432x288 with 2 Axes>"
            ]
          },
          "metadata": {
            "needs_background": "light"
          },
          "output_type": "display_data"
        },
        {
          "data": {
            "image/png": "[encoded data removed]",
            "text/plain": [
              "<Figure size 432x288 with 2 Axes>"
            ]
          },
          "metadata": {
            "needs_background": "light"
          },
          "output_type": "display_data"
        }
      ],
      "source": [
        "#y_train predict gb_clf\n",
        "cm = confusion_matrix(y_train, y_pred_train_gb_clf, labels=gb_clf.classes_)\n",
        "disp = ConfusionMatrixDisplay(confusion_matrix=cm,display_labels=gb_clf.classes_)\n",
        "\n",
        "disp.plot()\n",
        "plt.show()\n",
        "\n",
        "#y_test predict gb_clf\n",
        "cm = confusion_matrix(y_test, y_pred_test_gb_clf, labels=gb_clf.classes_)\n",
        "disp = ConfusionMatrixDisplay(confusion_matrix=cm,display_labels=gb_clf.classes_)\n",
        "\n",
        "disp.plot()\n",
        "plt.show()"
      ]
    },
    {
      "cell_type": "markdown",
      "metadata": {
        "id": "JawSYXi1ZzL5"
      },
      "source": [
        "Untuk train 0 ada 154 benar prediksi dan ada 1 prediksi salah dimana 1 seharusnnya\n",
        "ada di status 1<br>\n",
        "untuk train 1 ada 66 benar prediksi dan 2 prediksi salah dimana 2 data itu seharusnya\n",
        "di data 0<br>\n",
        "Untuk tes 0 ada 30 benar prediksi dan ada 5 prediksi salah dimana 5 seharusnnya\n",
        "ada di status 1<br>\n",
        "untuk tes 1 ada 16 benar prediksi dan 5 prediksi salah dimana 5 data itu seharusnya\n",
        "di data 0"
      ]
    },
    {
      "cell_type": "code",
      "execution_count": 330,
      "metadata": {
        "colab": {
          "base_uri": "https://localhost:8080/"
        },
        "id": "5fsdTSXNaA5X",
        "outputId": "768658e2-ba84-4982-d6ee-7ce3b55ba9aa"
      },
      "outputs": [
        {
          "name": "stdout",
          "output_type": "stream",
          "text": [
            "              precision    recall  f1-score   support\n",
            "\n",
            "           0       0.99      0.99      0.99       155\n",
            "           1       0.99      0.97      0.98        68\n",
            "\n",
            "    accuracy                           0.99       223\n",
            "   macro avg       0.99      0.98      0.98       223\n",
            "weighted avg       0.99      0.99      0.99       223\n",
            "\n"
          ]
        }
      ],
      "source": [
        "#randfor\n",
        "print(classification_report(y_train,y_pred_train_gb_clf))"
      ]
    },
    {
      "cell_type": "markdown",
      "metadata": {
        "id": "tqt0N77DaJp4"
      },
      "source": [
        "pada y train : \n",
        "- precision untuk 0.99 yaitu 0.99(99%) yg artinya  berhasil meprediksi 99% status <b>tidak meninggal</b> dan 1% di salah meprediksi status tersebut \n",
        "- precision untuk 0.99 yaitu 0.99(99%) yg artinya  berhasil meprediksi 99% status <b>meninggal</b> dan 1% di salah meprediksi status tersebut \n",
        "\n",
        "- recall untuk 0 yaitu 0.99(99%) yg artinya  berhasil meprediksi 99% orang yang memiliki status <b>tidak meninggal</b> dan 1%  salah meprediksi status tersebut kita prediksi bukan sebagai tidak meninggal, padahal harusnya dia\n",
        "masuk ke kelas meninggal\n",
        "- recall untuk 1 yaitu 0.97(3%) yg artinya  berhasil meprediksi 97% orang yang memiliki status <b>meninggal</b> dan 3%  salah meprediksi status tersebut kita prediksi bukan sebagai meninggal, padahal harusnya dia\n",
        "masuk ke kelas tidak meninggal\n",
        "ada kerugian disini jika yang seharusnya masuk ke prediksi meninggal tetapi status prediksi meninggal begitu juga sebaliknnya."
      ]
    },
    {
      "cell_type": "markdown",
      "metadata": {
        "id": "9UvaG1AhTud0"
      },
      "source": [
        "##Pemberian Hyperparameter"
      ]
    },
    {
      "cell_type": "code",
      "execution_count": 331,
      "metadata": {
        "id": "zMUOU283T13m"
      },
      "outputs": [],
      "source": [
        "#define dari parameter manual\n",
        "ranfortuning= RandomForestClassifier(n_estimators=86, max_depth=18)\n",
        "gb_clftuning = GradientBoostingClassifier(n_estimators=20)\n",
        "\n"
      ]
    },
    {
      "cell_type": "code",
      "execution_count": 332,
      "metadata": {
        "colab": {
          "base_uri": "https://localhost:8080/"
        },
        "id": "BSyKyJ2xgpl2",
        "outputId": "62ab50f0-80c4-4595-e98e-18756ce16ebe"
      },
      "outputs": [
        {
          "data": {
            "text/plain": [
              "GradientBoostingClassifier(n_estimators=20)"
            ]
          },
          "execution_count": 332,
          "metadata": {},
          "output_type": "execute_result"
        }
      ],
      "source": [
        "#dibuat fit dahulu\n",
        "ranfortuning.fit(X, y)\n",
        "gb_clftuning.fit(X, y)"
      ]
    },
    {
      "cell_type": "markdown",
      "metadata": {
        "id": "HsDKwB_HcLgn"
      },
      "source": [
        "random forest setelah di tuning"
      ]
    },
    {
      "cell_type": "code",
      "execution_count": 333,
      "metadata": {
        "id": "4N_xQmBqaVES"
      },
      "outputs": [],
      "source": [
        "#validation score setelah model di tuning\n",
        "scores_ranfortuning = cross_val_score(ranfortuning, X_train_final, y_train,cv=5)"
      ]
    },
    {
      "cell_type": "code",
      "execution_count": 334,
      "metadata": {
        "colab": {
          "base_uri": "https://localhost:8080/"
        },
        "id": "R2hMduD_bAxW",
        "outputId": "0959f23d-5bf2-422f-8cc5-6521d25f80fc"
      },
      "outputs": [
        {
          "data": {
            "text/plain": [
              "0.821010101010101"
            ]
          },
          "execution_count": 334,
          "metadata": {},
          "output_type": "execute_result"
        }
      ],
      "source": [
        "#melihat mean dari hasil validation model setelah di tuning\n",
        "scores_ranfortuning.mean()"
      ]
    },
    {
      "cell_type": "code",
      "execution_count": 335,
      "metadata": {
        "colab": {
          "base_uri": "https://localhost:8080/"
        },
        "id": "9-rhlsxWbF7k",
        "outputId": "38772d84-32bf-41f4-8881-6805455ae633"
      },
      "outputs": [
        {
          "data": {
            "text/plain": [
              "0.04089300095105496"
            ]
          },
          "execution_count": 335,
          "metadata": {},
          "output_type": "execute_result"
        }
      ],
      "source": [
        "#melihat std dari hasil validation model setelah di tuning\n",
        "scores_ranfortuning.std()"
      ]
    },
    {
      "cell_type": "markdown",
      "metadata": {
        "id": "dJ7IujT-cd37"
      },
      "source": [
        "gradian booster setelah di tuning"
      ]
    },
    {
      "cell_type": "code",
      "execution_count": 336,
      "metadata": {
        "id": "-jQh9I1hcjP2"
      },
      "outputs": [],
      "source": [
        "#validation score setelah model di tuning\n",
        "scores_gb_clftuning = cross_val_score(gb_clftuning, X_train_final, y_train,cv=5)"
      ]
    },
    {
      "cell_type": "code",
      "execution_count": 337,
      "metadata": {
        "colab": {
          "base_uri": "https://localhost:8080/"
        },
        "id": "DGuFPnD4cnf2",
        "outputId": "7fc38ec5-0592-4e25-d88a-11eaf696186d"
      },
      "outputs": [
        {
          "data": {
            "text/plain": [
              "0.82989898989899"
            ]
          },
          "execution_count": 337,
          "metadata": {},
          "output_type": "execute_result"
        }
      ],
      "source": [
        "#melihat mean dari hasil validation model setelah di tuning\n",
        "scores_gb_clftuning.mean()"
      ]
    },
    {
      "cell_type": "code",
      "execution_count": 338,
      "metadata": {
        "colab": {
          "base_uri": "https://localhost:8080/"
        },
        "id": "jHWsSdLccqax",
        "outputId": "ef6371dd-d775-4283-82ed-6a5544e6abd7"
      },
      "outputs": [
        {
          "data": {
            "text/plain": [
              "0.032113270093694905"
            ]
          },
          "execution_count": 338,
          "metadata": {},
          "output_type": "execute_result"
        }
      ],
      "source": [
        "#melihat std dari hasil validation model setelah di tuning\n",
        "scores_gb_clftuning.std()"
      ]
    },
    {
      "cell_type": "code",
      "execution_count": 339,
      "metadata": {
        "colab": {
          "base_uri": "https://localhost:8080/"
        },
        "id": "iXtubz7nbN7z",
        "outputId": "c70d66ce-9124-44c4-f61e-4b991785c710"
      },
      "outputs": [
        {
          "name": "stdout",
          "output_type": "stream",
          "text": [
            "randfor\n",
            "score Mean model sebelum di tuning:0.8076767676767677\n",
            "score Mean model setelah di tuning:0.821010101010101\n",
            "gradian booster\n",
            "score Mean model sebelum di tuning:0.8388888888888889\n",
            "score Mean model setelah di tuning:0.82989898989899\n"
          ]
        }
      ],
      "source": [
        "#tampilan model dengan validation score sebelum dan setelah di tuning\n",
        "print('randfor')\n",
        "print(f'score Mean model sebelum di tuning:{scores_ranfor.mean()}')\n",
        "print(f'score Mean model setelah di tuning:{scores_ranfortuning.mean()}')\n",
        "print('gradian booster')\n",
        "print(f'score Mean model sebelum di tuning:{scores_gb_clf.mean()}')\n",
        "print(f'score Mean model setelah di tuning:{scores_gb_clftuning.mean()}')"
      ]
    },
    {
      "cell_type": "markdown",
      "metadata": {
        "id": "Cxntk7tSF8it"
      },
      "source": [
        "dari validation score setelah di kedua model diberi hyperparameter malah makin kecil"
      ]
    },
    {
      "cell_type": "markdown",
      "metadata": {
        "id": "lG7Qf0x8GLsY"
      },
      "source": [
        "note setelah diberi hyper parameter validation score makin kecil jadi peneliti memakai baseline model"
      ]
    },
    {
      "cell_type": "markdown",
      "metadata": {
        "id": "kysz-9qVfpgG"
      },
      "source": [
        "#9-Model Inference"
      ]
    },
    {
      "cell_type": "code",
      "execution_count": 340,
      "metadata": {
        "colab": {
          "base_uri": "https://localhost:8080/",
          "height": 740
        },
        "id": "KDb3RUTzhZOx",
        "outputId": "d096e351-b973-412d-91b3-cfd2abadb060"
      },
      "outputs": [
        {
          "data": {
            "text/html": [
              "\n",
              "  <div id=\"df-f67b530a-4371-4248-bead-759efa6ec42f\">\n",
              "    <div class=\"colab-df-container\">\n",
              "      <div>\n",
              "<style scoped>\n",
              "    .dataframe tbody tr th:only-of-type {\n",
              "        vertical-align: middle;\n",
              "    }\n",
              "\n",
              "    .dataframe tbody tr th {\n",
              "        vertical-align: top;\n",
              "    }\n",
              "\n",
              "    .dataframe thead th {\n",
              "        text-align: right;\n",
              "    }\n",
              "</style>\n",
              "<table border=\"1\" class=\"dataframe\">\n",
              "  <thead>\n",
              "    <tr style=\"text-align: right;\">\n",
              "      <th></th>\n",
              "      <th>age</th>\n",
              "      <th>anaemia</th>\n",
              "      <th>creatinine_phosphokinase</th>\n",
              "      <th>diabetes</th>\n",
              "      <th>ejection_fraction</th>\n",
              "      <th>high_blood_pressure</th>\n",
              "      <th>platelets</th>\n",
              "      <th>serum_creatinine</th>\n",
              "      <th>serum_sodium</th>\n",
              "      <th>sex</th>\n",
              "      <th>smoking</th>\n",
              "      <th>time</th>\n",
              "      <th>DEATH_EVENT</th>\n",
              "    </tr>\n",
              "  </thead>\n",
              "  <tbody>\n",
              "    <tr>\n",
              "      <th>0</th>\n",
              "      <td>73.0</td>\n",
              "      <td>0</td>\n",
              "      <td>582</td>\n",
              "      <td>0</td>\n",
              "      <td>20</td>\n",
              "      <td>0</td>\n",
              "      <td>263358.03</td>\n",
              "      <td>1.83</td>\n",
              "      <td>134</td>\n",
              "      <td>1</td>\n",
              "      <td>0</td>\n",
              "      <td>198</td>\n",
              "      <td>1</td>\n",
              "    </tr>\n",
              "    <tr>\n",
              "      <th>1</th>\n",
              "      <td>65.0</td>\n",
              "      <td>1</td>\n",
              "      <td>113</td>\n",
              "      <td>1</td>\n",
              "      <td>60</td>\n",
              "      <td>1</td>\n",
              "      <td>203000.00</td>\n",
              "      <td>0.90</td>\n",
              "      <td>140</td>\n",
              "      <td>0</td>\n",
              "      <td>0</td>\n",
              "      <td>94</td>\n",
              "      <td>0</td>\n",
              "    </tr>\n",
              "    <tr>\n",
              "      <th>2</th>\n",
              "      <td>50.0</td>\n",
              "      <td>0</td>\n",
              "      <td>250</td>\n",
              "      <td>0</td>\n",
              "      <td>25</td>\n",
              "      <td>0</td>\n",
              "      <td>262000.00</td>\n",
              "      <td>1.00</td>\n",
              "      <td>136</td>\n",
              "      <td>1</td>\n",
              "      <td>1</td>\n",
              "      <td>120</td>\n",
              "      <td>0</td>\n",
              "    </tr>\n",
              "    <tr>\n",
              "      <th>3</th>\n",
              "      <td>63.0</td>\n",
              "      <td>0</td>\n",
              "      <td>193</td>\n",
              "      <td>0</td>\n",
              "      <td>60</td>\n",
              "      <td>1</td>\n",
              "      <td>295000.00</td>\n",
              "      <td>1.30</td>\n",
              "      <td>145</td>\n",
              "      <td>1</td>\n",
              "      <td>1</td>\n",
              "      <td>107</td>\n",
              "      <td>0</td>\n",
              "    </tr>\n",
              "    <tr>\n",
              "      <th>4</th>\n",
              "      <td>59.0</td>\n",
              "      <td>1</td>\n",
              "      <td>176</td>\n",
              "      <td>1</td>\n",
              "      <td>25</td>\n",
              "      <td>0</td>\n",
              "      <td>221000.00</td>\n",
              "      <td>1.00</td>\n",
              "      <td>136</td>\n",
              "      <td>1</td>\n",
              "      <td>1</td>\n",
              "      <td>150</td>\n",
              "      <td>1</td>\n",
              "    </tr>\n",
              "    <tr>\n",
              "      <th>5</th>\n",
              "      <td>72.0</td>\n",
              "      <td>0</td>\n",
              "      <td>211</td>\n",
              "      <td>0</td>\n",
              "      <td>25</td>\n",
              "      <td>0</td>\n",
              "      <td>274000.00</td>\n",
              "      <td>1.20</td>\n",
              "      <td>134</td>\n",
              "      <td>0</td>\n",
              "      <td>0</td>\n",
              "      <td>207</td>\n",
              "      <td>0</td>\n",
              "    </tr>\n",
              "    <tr>\n",
              "      <th>6</th>\n",
              "      <td>90.0</td>\n",
              "      <td>1</td>\n",
              "      <td>47</td>\n",
              "      <td>0</td>\n",
              "      <td>40</td>\n",
              "      <td>1</td>\n",
              "      <td>204000.00</td>\n",
              "      <td>2.10</td>\n",
              "      <td>132</td>\n",
              "      <td>1</td>\n",
              "      <td>1</td>\n",
              "      <td>8</td>\n",
              "      <td>1</td>\n",
              "    </tr>\n",
              "    <tr>\n",
              "      <th>7</th>\n",
              "      <td>65.0</td>\n",
              "      <td>0</td>\n",
              "      <td>582</td>\n",
              "      <td>1</td>\n",
              "      <td>30</td>\n",
              "      <td>0</td>\n",
              "      <td>249000.00</td>\n",
              "      <td>1.30</td>\n",
              "      <td>136</td>\n",
              "      <td>1</td>\n",
              "      <td>1</td>\n",
              "      <td>212</td>\n",
              "      <td>0</td>\n",
              "    </tr>\n",
              "    <tr>\n",
              "      <th>8</th>\n",
              "      <td>50.0</td>\n",
              "      <td>0</td>\n",
              "      <td>318</td>\n",
              "      <td>0</td>\n",
              "      <td>40</td>\n",
              "      <td>1</td>\n",
              "      <td>216000.00</td>\n",
              "      <td>2.30</td>\n",
              "      <td>131</td>\n",
              "      <td>0</td>\n",
              "      <td>0</td>\n",
              "      <td>60</td>\n",
              "      <td>1</td>\n",
              "    </tr>\n",
              "    <tr>\n",
              "      <th>9</th>\n",
              "      <td>55.0</td>\n",
              "      <td>0</td>\n",
              "      <td>1199</td>\n",
              "      <td>0</td>\n",
              "      <td>20</td>\n",
              "      <td>0</td>\n",
              "      <td>263358.03</td>\n",
              "      <td>1.83</td>\n",
              "      <td>134</td>\n",
              "      <td>1</td>\n",
              "      <td>1</td>\n",
              "      <td>241</td>\n",
              "      <td>1</td>\n",
              "    </tr>\n",
              "    <tr>\n",
              "      <th>10</th>\n",
              "      <td>70.0</td>\n",
              "      <td>0</td>\n",
              "      <td>66</td>\n",
              "      <td>1</td>\n",
              "      <td>45</td>\n",
              "      <td>0</td>\n",
              "      <td>249000.00</td>\n",
              "      <td>0.80</td>\n",
              "      <td>136</td>\n",
              "      <td>1</td>\n",
              "      <td>1</td>\n",
              "      <td>80</td>\n",
              "      <td>0</td>\n",
              "    </tr>\n",
              "    <tr>\n",
              "      <th>11</th>\n",
              "      <td>70.0</td>\n",
              "      <td>0</td>\n",
              "      <td>93</td>\n",
              "      <td>0</td>\n",
              "      <td>35</td>\n",
              "      <td>0</td>\n",
              "      <td>185000.00</td>\n",
              "      <td>1.10</td>\n",
              "      <td>134</td>\n",
              "      <td>1</td>\n",
              "      <td>1</td>\n",
              "      <td>208</td>\n",
              "      <td>0</td>\n",
              "    </tr>\n",
              "    <tr>\n",
              "      <th>12</th>\n",
              "      <td>64.0</td>\n",
              "      <td>0</td>\n",
              "      <td>1610</td>\n",
              "      <td>0</td>\n",
              "      <td>60</td>\n",
              "      <td>0</td>\n",
              "      <td>242000.00</td>\n",
              "      <td>1.00</td>\n",
              "      <td>137</td>\n",
              "      <td>1</td>\n",
              "      <td>0</td>\n",
              "      <td>113</td>\n",
              "      <td>0</td>\n",
              "    </tr>\n",
              "    <tr>\n",
              "      <th>13</th>\n",
              "      <td>64.0</td>\n",
              "      <td>0</td>\n",
              "      <td>143</td>\n",
              "      <td>0</td>\n",
              "      <td>25</td>\n",
              "      <td>0</td>\n",
              "      <td>246000.00</td>\n",
              "      <td>2.40</td>\n",
              "      <td>135</td>\n",
              "      <td>1</td>\n",
              "      <td>0</td>\n",
              "      <td>214</td>\n",
              "      <td>0</td>\n",
              "    </tr>\n",
              "    <tr>\n",
              "      <th>14</th>\n",
              "      <td>58.0</td>\n",
              "      <td>0</td>\n",
              "      <td>582</td>\n",
              "      <td>1</td>\n",
              "      <td>25</td>\n",
              "      <td>0</td>\n",
              "      <td>504000.00</td>\n",
              "      <td>1.00</td>\n",
              "      <td>138</td>\n",
              "      <td>1</td>\n",
              "      <td>0</td>\n",
              "      <td>205</td>\n",
              "      <td>0</td>\n",
              "    </tr>\n",
              "    <tr>\n",
              "      <th>15</th>\n",
              "      <td>60.0</td>\n",
              "      <td>0</td>\n",
              "      <td>1896</td>\n",
              "      <td>1</td>\n",
              "      <td>25</td>\n",
              "      <td>0</td>\n",
              "      <td>365000.00</td>\n",
              "      <td>2.10</td>\n",
              "      <td>144</td>\n",
              "      <td>0</td>\n",
              "      <td>0</td>\n",
              "      <td>172</td>\n",
              "      <td>1</td>\n",
              "    </tr>\n",
              "    <tr>\n",
              "      <th>16</th>\n",
              "      <td>80.0</td>\n",
              "      <td>0</td>\n",
              "      <td>898</td>\n",
              "      <td>0</td>\n",
              "      <td>25</td>\n",
              "      <td>0</td>\n",
              "      <td>149000.00</td>\n",
              "      <td>1.10</td>\n",
              "      <td>144</td>\n",
              "      <td>1</td>\n",
              "      <td>1</td>\n",
              "      <td>87</td>\n",
              "      <td>0</td>\n",
              "    </tr>\n",
              "    <tr>\n",
              "      <th>17</th>\n",
              "      <td>60.0</td>\n",
              "      <td>0</td>\n",
              "      <td>320</td>\n",
              "      <td>0</td>\n",
              "      <td>35</td>\n",
              "      <td>0</td>\n",
              "      <td>133000.00</td>\n",
              "      <td>1.40</td>\n",
              "      <td>139</td>\n",
              "      <td>1</td>\n",
              "      <td>0</td>\n",
              "      <td>258</td>\n",
              "      <td>0</td>\n",
              "    </tr>\n",
              "    <tr>\n",
              "      <th>18</th>\n",
              "      <td>80.0</td>\n",
              "      <td>1</td>\n",
              "      <td>553</td>\n",
              "      <td>0</td>\n",
              "      <td>20</td>\n",
              "      <td>1</td>\n",
              "      <td>140000.00</td>\n",
              "      <td>4.40</td>\n",
              "      <td>133</td>\n",
              "      <td>1</td>\n",
              "      <td>0</td>\n",
              "      <td>41</td>\n",
              "      <td>1</td>\n",
              "    </tr>\n",
              "    <tr>\n",
              "      <th>19</th>\n",
              "      <td>61.0</td>\n",
              "      <td>0</td>\n",
              "      <td>248</td>\n",
              "      <td>0</td>\n",
              "      <td>30</td>\n",
              "      <td>1</td>\n",
              "      <td>267000.00</td>\n",
              "      <td>0.70</td>\n",
              "      <td>136</td>\n",
              "      <td>1</td>\n",
              "      <td>1</td>\n",
              "      <td>104</td>\n",
              "      <td>0</td>\n",
              "    </tr>\n",
              "  </tbody>\n",
              "</table>\n",
              "</div>\n",
              "      <button class=\"colab-df-convert\" onclick=\"convertToInteractive('df-f67b530a-4371-4248-bead-759efa6ec42f')\"\n",
              "              title=\"Convert this dataframe to an interactive table.\"\n",
              "              style=\"display:none;\">\n",
              "        \n",
              "  <svg xmlns=\"http://www.w3.org/2000/svg\" height=\"24px\"viewBox=\"0 0 24 24\"\n",
              "       width=\"24px\">\n",
              "    <path d=\"M0 0h24v24H0V0z\" fill=\"none\"/>\n",
              "    <path d=\"M18.56 5.44l.94 2.06.94-2.06 2.06-.94-2.06-.94-.94-2.06-.94 2.06-2.06.94zm-11 1L8.5 8.5l.94-2.06 2.06-.94-2.06-.94L8.5 2.5l-.94 2.06-2.06.94zm10 10l.94 2.06.94-2.06 2.06-.94-2.06-.94-.94-2.06-.94 2.06-2.06.94z\"/><path d=\"M17.41 7.96l-1.37-1.37c-.4-.4-.92-.59-1.43-.59-.52 0-1.04.2-1.43.59L10.3 9.45l-7.72 7.72c-.78.78-.78 2.05 0 2.83L4 21.41c.39.39.9.59 1.41.59.51 0 1.02-.2 1.41-.59l7.78-7.78 2.81-2.81c.8-.78.8-2.07 0-2.86zM5.41 20L4 18.59l7.72-7.72 1.47 1.35L5.41 20z\"/>\n",
              "  </svg>\n",
              "      </button>\n",
              "      \n",
              "  <style>\n",
              "    .colab-df-container {\n",
              "      display:flex;\n",
              "      flex-wrap:wrap;\n",
              "      gap: 12px;\n",
              "    }\n",
              "\n",
              "    .colab-df-convert {\n",
              "      background-color: #E8F0FE;\n",
              "      border: none;\n",
              "      border-radius: 50%;\n",
              "      cursor: pointer;\n",
              "      display: none;\n",
              "      fill: #1967D2;\n",
              "      height: 32px;\n",
              "      padding: 0 0 0 0;\n",
              "      width: 32px;\n",
              "    }\n",
              "\n",
              "    .colab-df-convert:hover {\n",
              "      background-color: #E2EBFA;\n",
              "      box-shadow: 0px 1px 2px rgba(60, 64, 67, 0.3), 0px 1px 3px 1px rgba(60, 64, 67, 0.15);\n",
              "      fill: #174EA6;\n",
              "    }\n",
              "\n",
              "    [theme=dark] .colab-df-convert {\n",
              "      background-color: #3B4455;\n",
              "      fill: #D2E3FC;\n",
              "    }\n",
              "\n",
              "    [theme=dark] .colab-df-convert:hover {\n",
              "      background-color: #434B5C;\n",
              "      box-shadow: 0px 1px 3px 1px rgba(0, 0, 0, 0.15);\n",
              "      filter: drop-shadow(0px 1px 2px rgba(0, 0, 0, 0.3));\n",
              "      fill: #FFFFFF;\n",
              "    }\n",
              "  </style>\n",
              "\n",
              "      <script>\n",
              "        const buttonEl =\n",
              "          document.querySelector('#df-f67b530a-4371-4248-bead-759efa6ec42f button.colab-df-convert');\n",
              "        buttonEl.style.display =\n",
              "          google.colab.kernel.accessAllowed ? 'block' : 'none';\n",
              "\n",
              "        async function convertToInteractive(key) {\n",
              "          const element = document.querySelector('#df-f67b530a-4371-4248-bead-759efa6ec42f');\n",
              "          const dataTable =\n",
              "            await google.colab.kernel.invokeFunction('convertToInteractive',\n",
              "                                                     [key], {});\n",
              "          if (!dataTable) return;\n",
              "\n",
              "          const docLinkHtml = 'Like what you see? Visit the ' +\n",
              "            '<a target=\"_blank\" href=https://colab.research.google.com/notebooks/data_table.ipynb>data table notebook</a>'\n",
              "            + ' to learn more about interactive tables.';\n",
              "          element.innerHTML = '';\n",
              "          dataTable['output_type'] = 'display_data';\n",
              "          await google.colab.output.renderOutput(dataTable, element);\n",
              "          const docLink = document.createElement('div');\n",
              "          docLink.innerHTML = docLinkHtml;\n",
              "          element.appendChild(docLink);\n",
              "        }\n",
              "      </script>\n",
              "    </div>\n",
              "  </div>\n",
              "  "
            ],
            "text/plain": [
              "     age  anaemia  creatinine_phosphokinase  diabetes  ejection_fraction  \\\n",
              "0   73.0        0                       582         0                 20   \n",
              "1   65.0        1                       113         1                 60   \n",
              "2   50.0        0                       250         0                 25   \n",
              "3   63.0        0                       193         0                 60   \n",
              "4   59.0        1                       176         1                 25   \n",
              "5   72.0        0                       211         0                 25   \n",
              "6   90.0        1                        47         0                 40   \n",
              "7   65.0        0                       582         1                 30   \n",
              "8   50.0        0                       318         0                 40   \n",
              "9   55.0        0                      1199         0                 20   \n",
              "10  70.0        0                        66         1                 45   \n",
              "11  70.0        0                        93         0                 35   \n",
              "12  64.0        0                      1610         0                 60   \n",
              "13  64.0        0                       143         0                 25   \n",
              "14  58.0        0                       582         1                 25   \n",
              "15  60.0        0                      1896         1                 25   \n",
              "16  80.0        0                       898         0                 25   \n",
              "17  60.0        0                       320         0                 35   \n",
              "18  80.0        1                       553         0                 20   \n",
              "19  61.0        0                       248         0                 30   \n",
              "\n",
              "    high_blood_pressure  platelets  serum_creatinine  serum_sodium  sex  \\\n",
              "0                     0  263358.03              1.83           134    1   \n",
              "1                     1  203000.00              0.90           140    0   \n",
              "2                     0  262000.00              1.00           136    1   \n",
              "3                     1  295000.00              1.30           145    1   \n",
              "4                     0  221000.00              1.00           136    1   \n",
              "5                     0  274000.00              1.20           134    0   \n",
              "6                     1  204000.00              2.10           132    1   \n",
              "7                     0  249000.00              1.30           136    1   \n",
              "8                     1  216000.00              2.30           131    0   \n",
              "9                     0  263358.03              1.83           134    1   \n",
              "10                    0  249000.00              0.80           136    1   \n",
              "11                    0  185000.00              1.10           134    1   \n",
              "12                    0  242000.00              1.00           137    1   \n",
              "13                    0  246000.00              2.40           135    1   \n",
              "14                    0  504000.00              1.00           138    1   \n",
              "15                    0  365000.00              2.10           144    0   \n",
              "16                    0  149000.00              1.10           144    1   \n",
              "17                    0  133000.00              1.40           139    1   \n",
              "18                    1  140000.00              4.40           133    1   \n",
              "19                    1  267000.00              0.70           136    1   \n",
              "\n",
              "    smoking  time  DEATH_EVENT  \n",
              "0         0   198            1  \n",
              "1         0    94            0  \n",
              "2         1   120            0  \n",
              "3         1   107            0  \n",
              "4         1   150            1  \n",
              "5         0   207            0  \n",
              "6         1     8            1  \n",
              "7         1   212            0  \n",
              "8         0    60            1  \n",
              "9         1   241            1  \n",
              "10        1    80            0  \n",
              "11        1   208            0  \n",
              "12        0   113            0  \n",
              "13        0   214            0  \n",
              "14        0   205            0  \n",
              "15        0   172            1  \n",
              "16        1    87            0  \n",
              "17        0   258            0  \n",
              "18        0    41            1  \n",
              "19        1   104            0  "
            ]
          },
          "execution_count": 340,
          "metadata": {},
          "output_type": "execute_result"
        }
      ],
      "source": [
        "#reset index data inference\n",
        "data_inf = data_inf.reset_index(drop=True)\n",
        "data_inf"
      ]
    },
    {
      "cell_type": "markdown",
      "metadata": {
        "id": "COG-zRqwhsGA"
      },
      "source": [
        "##Inference Preprocessing"
      ]
    },
    {
      "cell_type": "code",
      "execution_count": 341,
      "metadata": {
        "id": "IA4b3SMChmYd"
      },
      "outputs": [],
      "source": [
        "# Split Numerical and Categorical Features\n",
        "inference_num = data_inf[num_cols]\n",
        "inference_cat = data_inf[cat_cols]\n",
        "\n",
        "# Scale Numerical Features\n",
        "inference_num_scaled = scaler.transform(inference_num)\n",
        "\n",
        "# Concatenate Numerical and Categorical Features\n",
        "inference_final = np.concatenate([inference_num_scaled, inference_cat], axis=1)"
      ]
    },
    {
      "cell_type": "markdown",
      "metadata": {
        "id": "Wvr5HeTkjNDk"
      },
      "source": [
        "##Predicition\n"
      ]
    },
    {
      "cell_type": "code",
      "execution_count": 342,
      "metadata": {
        "id": "3k19kDAmjRTS"
      },
      "outputs": [],
      "source": [
        "y_pred_inf = ranfor.predict(inference_final)\n",
        "y_pred_inf_gb_clf = gb_clf.predict(inference_final)"
      ]
    },
    {
      "cell_type": "code",
      "execution_count": 343,
      "metadata": {
        "id": "nKrhzf1vjbOa"
      },
      "outputs": [],
      "source": [
        "#rubah ke dataframe\n",
        "y_pred_inf = pd.DataFrame(y_pred_inf, columns=['random forest'])\n",
        "y_pred_inf_gb_clf = pd.DataFrame(y_pred_inf_gb_clf, columns=['gradian_boosting'])"
      ]
    },
    {
      "cell_type": "code",
      "execution_count": 344,
      "metadata": {
        "colab": {
          "base_uri": "https://localhost:8080/",
          "height": 676
        },
        "id": "i_07NSFdkaKj",
        "outputId": "99bab287-7bf1-4aae-93ae-109664580f30"
      },
      "outputs": [
        {
          "data": {
            "text/html": [
              "\n",
              "  <div id=\"df-5d35edca-c187-4c33-8d07-2eac0b8d6937\">\n",
              "    <div class=\"colab-df-container\">\n",
              "      <div>\n",
              "<style scoped>\n",
              "    .dataframe tbody tr th:only-of-type {\n",
              "        vertical-align: middle;\n",
              "    }\n",
              "\n",
              "    .dataframe tbody tr th {\n",
              "        vertical-align: top;\n",
              "    }\n",
              "\n",
              "    .dataframe thead th {\n",
              "        text-align: right;\n",
              "    }\n",
              "</style>\n",
              "<table border=\"1\" class=\"dataframe\">\n",
              "  <thead>\n",
              "    <tr style=\"text-align: right;\">\n",
              "      <th></th>\n",
              "      <th>Actual</th>\n",
              "      <th>ranfor</th>\n",
              "      <th>gradian_boost</th>\n",
              "    </tr>\n",
              "  </thead>\n",
              "  <tbody>\n",
              "    <tr>\n",
              "      <th>0</th>\n",
              "      <td>1</td>\n",
              "      <td>1</td>\n",
              "      <td>0</td>\n",
              "    </tr>\n",
              "    <tr>\n",
              "      <th>1</th>\n",
              "      <td>0</td>\n",
              "      <td>0</td>\n",
              "      <td>0</td>\n",
              "    </tr>\n",
              "    <tr>\n",
              "      <th>2</th>\n",
              "      <td>0</td>\n",
              "      <td>0</td>\n",
              "      <td>0</td>\n",
              "    </tr>\n",
              "    <tr>\n",
              "      <th>3</th>\n",
              "      <td>0</td>\n",
              "      <td>0</td>\n",
              "      <td>0</td>\n",
              "    </tr>\n",
              "    <tr>\n",
              "      <th>4</th>\n",
              "      <td>1</td>\n",
              "      <td>0</td>\n",
              "      <td>0</td>\n",
              "    </tr>\n",
              "    <tr>\n",
              "      <th>5</th>\n",
              "      <td>0</td>\n",
              "      <td>0</td>\n",
              "      <td>0</td>\n",
              "    </tr>\n",
              "    <tr>\n",
              "      <th>6</th>\n",
              "      <td>1</td>\n",
              "      <td>1</td>\n",
              "      <td>1</td>\n",
              "    </tr>\n",
              "    <tr>\n",
              "      <th>7</th>\n",
              "      <td>0</td>\n",
              "      <td>0</td>\n",
              "      <td>0</td>\n",
              "    </tr>\n",
              "    <tr>\n",
              "      <th>8</th>\n",
              "      <td>1</td>\n",
              "      <td>1</td>\n",
              "      <td>0</td>\n",
              "    </tr>\n",
              "    <tr>\n",
              "      <th>9</th>\n",
              "      <td>1</td>\n",
              "      <td>1</td>\n",
              "      <td>0</td>\n",
              "    </tr>\n",
              "    <tr>\n",
              "      <th>10</th>\n",
              "      <td>0</td>\n",
              "      <td>0</td>\n",
              "      <td>0</td>\n",
              "    </tr>\n",
              "    <tr>\n",
              "      <th>11</th>\n",
              "      <td>0</td>\n",
              "      <td>0</td>\n",
              "      <td>0</td>\n",
              "    </tr>\n",
              "    <tr>\n",
              "      <th>12</th>\n",
              "      <td>0</td>\n",
              "      <td>0</td>\n",
              "      <td>0</td>\n",
              "    </tr>\n",
              "    <tr>\n",
              "      <th>13</th>\n",
              "      <td>0</td>\n",
              "      <td>0</td>\n",
              "      <td>1</td>\n",
              "    </tr>\n",
              "    <tr>\n",
              "      <th>14</th>\n",
              "      <td>0</td>\n",
              "      <td>0</td>\n",
              "      <td>0</td>\n",
              "    </tr>\n",
              "    <tr>\n",
              "      <th>15</th>\n",
              "      <td>1</td>\n",
              "      <td>0</td>\n",
              "      <td>1</td>\n",
              "    </tr>\n",
              "    <tr>\n",
              "      <th>16</th>\n",
              "      <td>0</td>\n",
              "      <td>0</td>\n",
              "      <td>1</td>\n",
              "    </tr>\n",
              "    <tr>\n",
              "      <th>17</th>\n",
              "      <td>0</td>\n",
              "      <td>0</td>\n",
              "      <td>0</td>\n",
              "    </tr>\n",
              "    <tr>\n",
              "      <th>18</th>\n",
              "      <td>1</td>\n",
              "      <td>1</td>\n",
              "      <td>1</td>\n",
              "    </tr>\n",
              "    <tr>\n",
              "      <th>19</th>\n",
              "      <td>0</td>\n",
              "      <td>0</td>\n",
              "      <td>0</td>\n",
              "    </tr>\n",
              "  </tbody>\n",
              "</table>\n",
              "</div>\n",
              "      <button class=\"colab-df-convert\" onclick=\"convertToInteractive('df-5d35edca-c187-4c33-8d07-2eac0b8d6937')\"\n",
              "              title=\"Convert this dataframe to an interactive table.\"\n",
              "              style=\"display:none;\">\n",
              "        \n",
              "  <svg xmlns=\"http://www.w3.org/2000/svg\" height=\"24px\"viewBox=\"0 0 24 24\"\n",
              "       width=\"24px\">\n",
              "    <path d=\"M0 0h24v24H0V0z\" fill=\"none\"/>\n",
              "    <path d=\"M18.56 5.44l.94 2.06.94-2.06 2.06-.94-2.06-.94-.94-2.06-.94 2.06-2.06.94zm-11 1L8.5 8.5l.94-2.06 2.06-.94-2.06-.94L8.5 2.5l-.94 2.06-2.06.94zm10 10l.94 2.06.94-2.06 2.06-.94-2.06-.94-.94-2.06-.94 2.06-2.06.94z\"/><path d=\"M17.41 7.96l-1.37-1.37c-.4-.4-.92-.59-1.43-.59-.52 0-1.04.2-1.43.59L10.3 9.45l-7.72 7.72c-.78.78-.78 2.05 0 2.83L4 21.41c.39.39.9.59 1.41.59.51 0 1.02-.2 1.41-.59l7.78-7.78 2.81-2.81c.8-.78.8-2.07 0-2.86zM5.41 20L4 18.59l7.72-7.72 1.47 1.35L5.41 20z\"/>\n",
              "  </svg>\n",
              "      </button>\n",
              "      \n",
              "  <style>\n",
              "    .colab-df-container {\n",
              "      display:flex;\n",
              "      flex-wrap:wrap;\n",
              "      gap: 12px;\n",
              "    }\n",
              "\n",
              "    .colab-df-convert {\n",
              "      background-color: #E8F0FE;\n",
              "      border: none;\n",
              "      border-radius: 50%;\n",
              "      cursor: pointer;\n",
              "      display: none;\n",
              "      fill: #1967D2;\n",
              "      height: 32px;\n",
              "      padding: 0 0 0 0;\n",
              "      width: 32px;\n",
              "    }\n",
              "\n",
              "    .colab-df-convert:hover {\n",
              "      background-color: #E2EBFA;\n",
              "      box-shadow: 0px 1px 2px rgba(60, 64, 67, 0.3), 0px 1px 3px 1px rgba(60, 64, 67, 0.15);\n",
              "      fill: #174EA6;\n",
              "    }\n",
              "\n",
              "    [theme=dark] .colab-df-convert {\n",
              "      background-color: #3B4455;\n",
              "      fill: #D2E3FC;\n",
              "    }\n",
              "\n",
              "    [theme=dark] .colab-df-convert:hover {\n",
              "      background-color: #434B5C;\n",
              "      box-shadow: 0px 1px 3px 1px rgba(0, 0, 0, 0.15);\n",
              "      filter: drop-shadow(0px 1px 2px rgba(0, 0, 0, 0.3));\n",
              "      fill: #FFFFFF;\n",
              "    }\n",
              "  </style>\n",
              "\n",
              "      <script>\n",
              "        const buttonEl =\n",
              "          document.querySelector('#df-5d35edca-c187-4c33-8d07-2eac0b8d6937 button.colab-df-convert');\n",
              "        buttonEl.style.display =\n",
              "          google.colab.kernel.accessAllowed ? 'block' : 'none';\n",
              "\n",
              "        async function convertToInteractive(key) {\n",
              "          const element = document.querySelector('#df-5d35edca-c187-4c33-8d07-2eac0b8d6937');\n",
              "          const dataTable =\n",
              "            await google.colab.kernel.invokeFunction('convertToInteractive',\n",
              "                                                     [key], {});\n",
              "          if (!dataTable) return;\n",
              "\n",
              "          const docLinkHtml = 'Like what you see? Visit the ' +\n",
              "            '<a target=\"_blank\" href=https://colab.research.google.com/notebooks/data_table.ipynb>data table notebook</a>'\n",
              "            + ' to learn more about interactive tables.';\n",
              "          element.innerHTML = '';\n",
              "          dataTable['output_type'] = 'display_data';\n",
              "          await google.colab.output.renderOutput(dataTable, element);\n",
              "          const docLink = document.createElement('div');\n",
              "          docLink.innerHTML = docLinkHtml;\n",
              "          element.appendChild(docLink);\n",
              "        }\n",
              "      </script>\n",
              "    </div>\n",
              "  </div>\n",
              "  "
            ],
            "text/plain": [
              "    Actual  ranfor  gradian_boost\n",
              "0        1       1              0\n",
              "1        0       0              0\n",
              "2        0       0              0\n",
              "3        0       0              0\n",
              "4        1       0              0\n",
              "5        0       0              0\n",
              "6        1       1              1\n",
              "7        0       0              0\n",
              "8        1       1              0\n",
              "9        1       1              0\n",
              "10       0       0              0\n",
              "11       0       0              0\n",
              "12       0       0              0\n",
              "13       0       0              1\n",
              "14       0       0              0\n",
              "15       1       0              1\n",
              "16       0       0              1\n",
              "17       0       0              0\n",
              "18       1       1              1\n",
              "19       0       0              0"
            ]
          },
          "execution_count": 344,
          "metadata": {},
          "output_type": "execute_result"
        }
      ],
      "source": [
        "#Buat dataframe prediction\n",
        "predictions = pd.concat([data_inf['DEATH_EVENT'], y_pred_inf, y_pred_inf_gb_clf], axis=1)\n",
        "predictions.columns = ['Actual','ranfor','gradian_boost']\n",
        "predictions"
      ]
    },
    {
      "cell_type": "markdown",
      "metadata": {
        "id": "FIfoU_DqdovX"
      },
      "source": [
        "<li>dari 20 data inference ada 3 salah prediksi untuk random forest.\n",
        "<li>dari 20 data inference ada 6 salah prediksi untuk gradian booster."
      ]
    },
    {
      "cell_type": "markdown",
      "metadata": {
        "id": "o2pxIAGoyidH"
      },
      "source": [
        "#10-Pengambilan Kesimpulan"
      ]
    },
    {
      "cell_type": "markdown",
      "metadata": {
        "id": "qOphU0hIym09"
      },
      "source": [
        "Kesimpulan:\n",
        "\n",
        "Dari proses EDA ditemukan beberapa hal:\n",
        "- Peneliti melakukan evaluasi dengan boxplot dan c-map\n",
        "- dari prediksi kematian umur makin tua makin tinggi tingkat kematiannya\n",
        "- dan makin lama dirawat, makin ada kesempatan untuk sembuh jika bertahan\n",
        "-\n",
        "\n",
        "Dari proses preprocessing didapatkan:\n",
        "1. data skew dan outlier peneliti tidak trim atau censoring, dikarenakan data masih bersivat valid\n",
        "2. peneliti tidak melakukan encode dikarenakan feature kategorikal berbentuk numerik\n",
        "3. dilakukan MinMaxScaler karena data skew\n",
        "\n",
        "Dari proses model evaluation dan analysis didapatkan:\n",
        "1. peneliti menggunakan random fores dan gradian booster\n",
        "2. Peneliti melakukan penambahan hyper parameter terhadap ke 2 model tersebut, dan ternyata hasil lebih buruk ketika diberi hyper parameter, karena keterbatasan waktu yang dimiliki peneliti, peneliti tidak mencoba banyak hal, dan memutuskan untuk memakai baseline dari kedua model tersebut.\n",
        "3. pada saat validation score, model gradian booster lebih bagus tetapi pada saat dicoba dengan data inference, ternyata random forest lebih bagus karena tingkat kesalahannya lebih sedikit.\n",
        "4. kekurangan peneliti adalah, kurangnya waktu untuk eksporisasi lebih jauh terhadap model.\n",
        "\n",
        "Insigth:\n",
        "1. dibutuhkan feature yang lebih menarik seperti status menikah ataupun status pasangangan masih ada atau tidak, karena menurut peneliti dari status tersebut mempengaruhi semangat hidup dari pasien.\n"
      ]
    },
    {
      "cell_type": "markdown",
      "metadata": {
        "id": "7YxJLLH8ynn2"
      },
      "source": [
        "#Conceptual Problems"
      ]
    },
    {
      "cell_type": "markdown",
      "metadata": {
        "id": "bZiD-vvYyo4N"
      },
      "source": [
        "<b>1.Apakah yang dimaksud dengan Bagging?</b>\n",
        "\n",
        "\n",
        "---\n",
        "\n",
        "Bootstrap aggregating, disebut juga bagging, adalah penggabungan algoritma pembelajaran mesin (machine learning) yang dirancang untuk meningkatkan stabilitas dan akurasi dari algoritma machine learning yang digunakan dalam klasifikasi statistik dan regresi."
      ]
    },
    {
      "cell_type": "markdown",
      "metadata": {
        "id": "PDFKJHhCzogj"
      },
      "source": [
        "<b>2.Jelaskan perbedaan algoritma Random Forest dengan algoritma boosting yang Anda pilih?</b>\n",
        "\n",
        "\n",
        "---\n",
        "<li>Random Forest adalah algoritma dalam machine learning yang digunakan untuk pengklasifikasian data set dalam jumlah besar. Karena fungsinya bisa digunakan untuk banyak dimensi dengan berbagai skala dan performa yang tinggi.\n",
        "<li>Gradient boosting adalah teknik supervised learning berbasis decision tree. Algoritma dimulai dari menghasilkan pohon klasifikasi awal dan terus menyesuaikan pohon baru melalui minimalisasi fungsi kerugian\n"
      ]
    }
  ],
  "metadata": {
    "colab": {
      "collapsed_sections": [],
      "provenance": [],
      "toc_visible": true
    },
    "kernelspec": {
      "display_name": "Python 3",
      "name": "python3"
    },
    "language_info": {
      "name": "python"
    }
  },
  "nbformat": 4,
  "nbformat_minor": 0
}
